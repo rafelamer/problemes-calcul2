{
 "cells": [
  {
   "cell_type": "markdown",
   "metadata": {},
   "source": [
    "# Tema 1"
   ]
  },
  {
   "cell_type": "code",
   "execution_count": 1,
   "metadata": {},
   "outputs": [],
   "source": [
    "%load_ext asymagic\n",
    "\n",
    "def simplificar_radicals(A):\n",
    "    \"\"\"\n",
    "    Simplifica les arrels quadrades en una matriu o en un vector\n",
    "    \"\"\"\n",
    "    try:\n",
    "        for i in range(A.nrows()):\n",
    "            for j in range(A.ncols()):\n",
    "                A[i,j] = A[i,j]._sympy_().simplify()._sage_()\n",
    "        return A\n",
    "    except:\n",
    "        pass\n",
    "    try:\n",
    "        for i in range(A.length()):\n",
    "            A[i] = A[i]._sympy_().simplify()._sage_()\n",
    "        return A\n",
    "    except:\n",
    "        pass\n",
    "    try:\n",
    "        return A._sympy_().simplify()._sage_()\n",
    "    except:\n",
    "        pass\n",
    "    if isinstance(A,list):\n",
    "        try:\n",
    "            return [simplificar_radicals(x) for x in A]\n",
    "        except:\n",
    "            pass\n",
    "    return None\n",
    "\n",
    "def normalize(v):\n",
    "    \"\"\"\n",
    "    Retorna el vector v dividit per la seva norma, és a dir, un vector unitari\n",
    "    amb la mateixa direcció i sentit que v\n",
    "    \"\"\"\n",
    "    return simplificar_radicals((v/v.norm()))"
   ]
  },
  {
   "cell_type": "markdown",
   "metadata": {},
   "source": [
    "## Exercici 1"
   ]
  },
  {
   "cell_type": "markdown",
   "metadata": {},
   "source": [
    "(a) $(x,y,z)=(a_1,a_2,a_3)+t(v_1,v_2,v_3)$ amb $t\\in\\mathbb{R}$.\n",
    "\n",
    "(b) $(x,y)=(R\\cos t,R\\sin t)$ amb $t\\in[0,2\\pi]$.\n",
    "\n",
    "(c) $(x,y)=(R\\cos t,R\\sin t)$ amb $t\\in[0,4\\pi]$.\n",
    "\n",
    "(d) $(x,y)=(a\\cos t,b\\sin t)$ amb $t\\in[0,2\\pi]$."
   ]
  },
  {
   "cell_type": "markdown",
   "metadata": {},
   "source": [
    "## Exercici 3"
   ]
  },
  {
   "cell_type": "markdown",
   "metadata": {},
   "source": [
    "Es tracta d'una circumferència de centre $(0,0)$ i radi $R=\\sqrt{8}=2\\sqrt{2}$. Una parametrització és\n",
    "$$\n",
    "  (x,y)=\\left(2\\sqrt{2}\\cos t,2\\sqrt{2}\\sin t\\right)\\qquad\\text{amb}\\qquad t\\in[0,2\\pi]\\,.\n",
    "$$"
   ]
  },
  {
   "cell_type": "markdown",
   "metadata": {},
   "source": [
    "## Exercici 5"
   ]
  },
  {
   "cell_type": "markdown",
   "metadata": {},
   "source": [
    "En el gràfic següent veiem la posició inicial de la roda i la seva posició al cap d'uns instants"
   ]
  },
  {
   "cell_type": "code",
   "execution_count": null,
   "metadata": {},
   "outputs": [],
   "source": [
    "%%asy --fmt svg\n",
    "import geometry;\n",
    "import coordenades;\n",
    "import graph;\n",
    "\n",
    "unitsize(1cm);\n",
    "\n",
    "real R = 6,\n",
    "     w = pi/5,\n",
    "     v = w * R,\n",
    "     t = 2;\n",
    "point p0, q0, pt, qt, C0, Ct;     \n",
    "     \n",
    "Canonica((int)(-R)-2,(int)(v*t+R+3),-2,(int)(2*R)+2);    \n",
    "C0 = (0,R);\n",
    "Ct = (v*t,R);\n",
    "draw(circle(C0,R),blue+linewidth(0.75bp));    \n",
    "draw(circle(Ct,R),blue+linewidth(2bp));       \n",
    "\n",
    "dot(\"$C_0$\",(0,R),NE,blue+5bp);\n",
    "dot(\"$C_t$\",(v*t,R),W,blue+5bp);\n",
    "\n",
    "p0 = (0,R) + (R*cos(-pi/2),R*sin(-pi/2));\n",
    "q0 = (0,R) + (R*cos(-pi/2+w*t),R*sin(-pi/2+w*t));   \n",
    "\n",
    "pt = (v*t,R) + (R*cos(-pi/2-w*t),R*sin(-pi/2-w*t));   \n",
    "qt = (v*t,R) + (R*cos(-pi/2),R*sin(-pi/2));\n",
    "\n",
    "draw((0,R)--q0,green+linetype(\"8 8 8 8\")+linewidth(0.5bp));\n",
    "\n",
    "draw(p0--qt,orange+linewidth(1.5bp));\n",
    "draw(arc((0,R),R,-90,-90+180*w*t/pi),orange+linewidth(1.5bp));\n",
    "\n",
    "dot(\"$p_0$\",p0,SE,red+5bp);\n",
    "dot(\"$q_0$\",q0,E,green+5bp);\n",
    "\n",
    "dot(\"$p_t$\",pt,SW,red+5bp);\n",
    "dot(\"$q_t$\",qt,N,green+5bp);\n",
    "\n",
    "arc C = arc(circle(C0,1),270 +180*(w*t)/pi,270,direction = CW);\n",
    "draw(C,green+linewidth(0.5bp),Arrow);\n",
    "point w0 = C0 + (cos(-pi/2+w*t/2),sin(-pi/2+w*t/2));\n",
    "label(\"$-wt$\",w0,0.1SE,green);"
   ]
  },
  {
   "cell_type": "markdown",
   "metadata": {},
   "source": [
    "Suposem que el radi de la circumferència és $R$, que la posició del seu centre a l'instant $t=0$ és $(0,R)$ i que la seva velocitat és $v$ en la direcció de l'eix de les $X$. Suposem també que la circumferència gira amb una velocitat angular $w$ en sentit antihorari.\n",
    "\n",
    "El punt $C_0$ representa el centre de la roda a l'instant $t=0$ i $C_t$ és la seva posició en un instant $t$. És evident que $C_t=(vt,R)$. \n",
    "\n",
    "El punt $p_0$ és la posició del xiclet a l'instant $t=0$ i $p_t$ és la seva posició en un instant $t$. Com que el punt $p_t$ está sobre la circumferència de centre $C_t$ i la roda gira a una velocitat angular $w$, en sentit antihorari, haurà girat un angle $\\alpha=-wt$ des de la seva posició inicial que correspon a $\\alpha_0=-\\frac{\\pi}{2}$. Per tant, la posició del punt $p_t$ ve donada per\n",
    "$$\n",
    "   p_t=(vt,R)+R\\left(\\cos\\left(-\\frac{\\pi}{2}-wt\\right),\\sin\\left(-\\frac{\\pi}{2}-wt\\right)\\right)=(vt,R)+R\\left(\\cos\\left(\\frac{\\pi}{2}+wt\\right),-\\sin\\left(\\frac{\\pi}{2}+wt\\right)\\right)\n",
    "$$\n",
    "Finalment, tenim que la roda gira sense relliscar, és a dir, la longitud de l'arc que uneix els punts $p_0$ i $q_0$ ha de ser igual a la longitud del segment que uneix els punts $p_0$ i $q_t$:\n",
    "$$\n",
    "  Rwt = vt\\,,\\qquad\\text{o bé}\\qquad v = Rw\\,.\n",
    "$$\n",
    "Tenint en compte que $\\sin\\left(\\frac{\\pi}{2}+\\alpha\\right)=\\cos\\alpha$ i $\\cos\\left(\\frac{\\pi}{2}+\\alpha\\right)=-\\sin\\alpha$, la trajectòria seguida pel xiclet (punt $p_t$) ve donada per\n",
    "$$\n",
    "  \\begin{aligned}\n",
    "    (x,y) &= (vt,R)+R\\left(\\cos\\left(\\frac{\\pi}{2}+wt\\right),-\\sin\\left(\\frac{\\pi}{2}+wt\\right)\\right)\\\\\n",
    "          &=  (Rwt,R) + R\\Big(-\\sin(wt),-\\cos(wt)\\Big)\\\\\n",
    "          &= R\\Big(wt - \\sin(wt),1-\\cos(wt)\\Big)\\,,\n",
    "  \\end{aligned}\n",
    "$$\n",
    "o, escrit d'una altra forma,\n",
    "$$\n",
    "  \\left.\\begin{aligned}\n",
    "    x &= R\\big(wt - \\sin(wt)\\big)\\\\\n",
    "    y &= R\\big(1-\\cos(wt)\\big)\n",
    "  \\end{aligned}\\,\\right\\}\n",
    "$$"
   ]
  },
  {
   "cell_type": "markdown",
   "metadata": {},
   "source": [
    "## Exercici 6"
   ]
  },
  {
   "cell_type": "markdown",
   "metadata": {},
   "source": [
    "En el gràfic següent veiem la posició inicial de la roda que gira i la seva posició al cap d'uns instants"
   ]
  },
  {
   "cell_type": "code",
   "execution_count": null,
   "metadata": {},
   "outputs": [],
   "source": [
    "%%asy --fmt svg\n",
    "import geometry;\n",
    "import coordenades;\n",
    "import graph;\n",
    "\n",
    "unitsize(1cm);\n",
    "\n",
    "real R = 4,\n",
    "     r = 1.5,\n",
    "     W = pi/3,\n",
    "     w = R*W/r, \n",
    "     t = 0.75;     \n",
    "\n",
    "pair C0 = (R+r,0),\n",
    "     Ct = ((R+r)*cos(W*t),(R+r)*sin(W*t)),\n",
    "     p0 = C0 + r*(cos(pi),sin(pi)),\n",
    "     q0 = C0 + r*(cos(pi-w*t),sin(pi-w*t)),\n",
    "     pt = Ct + r*(cos(pi+W*t+w*t),sin(pi+W*t+w*t)),\n",
    "     qt = Ct + r*(cos(pi+W*t),sin(pi+W*t));\n",
    "\n",
    "Canonica((int)(-R-2*r-2),(int)(R+2*r+2),(int)(-R-2*r-2),(int)(R+2*r+2));    \n",
    "draw(circle((0,0),R),blue+linewidth(1.5bp));\n",
    "draw(arc((0,0),R,0,180*W*t/pi),orange+linewidth(1.5bp));\n",
    "dot((0,0),blue+5bp);\n",
    "\n",
    "draw(circle(C0,r),green+linewidth(0.75bp));\n",
    "draw(arc(C0,r,180-180*w*t/pi,180),orange+linewidth(1.5bp));\n",
    "dot(\"$C_0$\",C0,S,green+5bp);\n",
    "dot(\"$p_0$\",p0,SE,red+5bp);\n",
    "dot(\"$q_0$\",q0,NE,blue+5bp);\n",
    "\n",
    "draw(circle(Ct,r),green+linewidth(1.5bp));\n",
    "dot(\"$C_t$\",Ct,SE,green+5bp);\n",
    "dot(\"$p_t$\",pt,SE,red+5bp);\n",
    "dot(\"$q_t$\",qt,SW,blue+5bp);"
   ]
  },
  {
   "cell_type": "markdown",
   "metadata": {},
   "source": [
    "Suposem ara que la circumferència fixa té radi $R$ i la que es mou $r$ i, a més, que el centre d'aquesta d'aquesta gira amb velocitat angular $W$ en sentit antihorari. Suposem també que la circumferència exterior gira amb velocitat angular $w$ al voltant del seu centre.\n",
    "\n",
    "És evident que la trajectòria del centre de la circumferència exterior ve donada per\n",
    "$$\n",
    "  C_t = (R+r)\\big(\\cos(Wt),\\sin(Wt)\\big)\\,.\n",
    "$$\n",
    "D'altra banda, el punt de contacte de les dues circumferències a l'instant $t$ és el punt $q_t=C_t+r\\big(\\cos(\\pi+Wt),\\sin(pi+Wt)\\big)$ i el punt $p_t$ haurà girat un angle $wt$ respecte del $q_t$,\n",
    "per tant, les seves coordenades seran\n",
    "$$\n",
    "  \\begin{aligned}\n",
    "    p_t &= C_t + r\\big(\\cos(\\pi+Wt+wt),\\sin(pi+Wt+wt)\\big) \\\\\n",
    "        &= (R+r)\\big(\\cos(Wt),\\sin(Wt)\\big) + r\\big(\\cos(\\pi+Wt+wt),\\sin(\\pi+Wt+wt)\\big)\\\\\n",
    "        &= (R+r)\\big(\\cos(Wt),\\sin(Wt)\\big) - r\\big(\\cos(Wt+wt),\\sin(Wt+wt)\\big) \\\\\n",
    "        &= \\Big((R+r)\\cos(Wt)- r\\cos(Wt+wt),(R+r)\\sin(Wt) - r\\sin(Wt+wt)\\Big)\n",
    "  \\end{aligned}\n",
    "$$\n",
    "Finalmet, hem de veure quina relació hi ha d'haver entre $W$ i $w$ per tal que la roda exterior no rellisqui sobre la fixa. De et, la condició és que les longituds dels segments d'arc que uneixen els punt $p_0$ i $q_t$, d'una banda, i $p_0$ i $q_0$ de l'altra, coincideixin. La longitud del primer és $RWt$ i la del segon $rwt$, per tant, s'haurà de complir que\n",
    "$$\n",
    "  RW = rw\\qquad\\text{o bé}\\qquad w = \\frac{RW}{r}\\,.\n",
    "$$\n",
    "Així doncs, la parametrització d'aquesta corba es pot escriure\n",
    "$$\n",
    "  \\left.\\begin{aligned}\n",
    "    x &= (R+r)\\cos(Wt)- r\\cos(Wt+wt)\\\\\n",
    "    y &= (R+r)\\sin(Wt) - r\\sin(Wt+wt)\n",
    "  \\end{aligned}\\,\\right\\}\\qquad\\text{o}\\qquad\n",
    "  \\left.\\begin{aligned}\n",
    "    x &= (R+r)\\cos(Wt)- r\\cos\\left(\\left(1+\\frac{R}{r}\\right)Wt\\right)\\\\\n",
    "    y &= (R+r)\\sin(Wt) - r\\sin\\left(\\left(1+\\frac{R}{r}\\right)Wt\\right)\n",
    "  \\end{aligned}\\,\\right\\}\n",
    "$$"
   ]
  },
  {
   "cell_type": "markdown",
   "metadata": {},
   "source": [
    "## Exercici 7"
   ]
  },
  {
   "cell_type": "markdown",
   "metadata": {},
   "source": [
    "En el gràfic següent veiem la posició inicial de la roda i la seva posició al cap d'uns instants"
   ]
  },
  {
   "cell_type": "code",
   "execution_count": null,
   "metadata": {},
   "outputs": [],
   "source": [
    "%%asy --fmt svg\n",
    "import geometry;\n",
    "import coordenades;\n",
    "import graph;\n",
    "\n",
    "unitsize(1cm);\n",
    "\n",
    "real R = 6,\n",
    "     b = 3.5,\n",
    "     w = pi/5,\n",
    "     v = w * R,\n",
    "     t = 2;\n",
    "pair p0, q0, pt, qt, b0, bt;     \n",
    "     \n",
    "Canonica((int)(-R)-2,(int)(v*t+R+3),-2,(int)(2*R)+2);    \n",
    "draw(circle((0,R),R),blue+linewidth(0.75bp));    \n",
    "draw(circle((v*t,R),R),blue+linewidth(2bp));       \n",
    "\n",
    "dot(\"$C_0$\",(0,R),E,blue+5bp);\n",
    "dot(\"$C_t$\",(v*t,R),W,blue+5bp);\n",
    "\n",
    "p0 = (0,R) + (R*cos(-pi/2),R*sin(-pi/2));\n",
    "q0 = (0,R) + (R*cos(-pi/2+w*t),R*sin(-pi/2+w*t));   \n",
    "\n",
    "pt = (v*t,R) + (R*cos(-pi/2-w*t),R*sin(-pi/2-w*t));   \n",
    "qt = (v*t,R) + (R*cos(-pi/2),R*sin(-pi/2));  \n",
    "\n",
    "draw(p0--qt,orange+linewidth(1.5bp));\n",
    "draw(arc((0,R),R,-90,-90+180*w*t/pi),orange+linewidth(1.5bp));\n",
    "\n",
    "dot(\"$p_0$\",p0,SE,red+5bp);\n",
    "dot(\"$q_0$\",q0,E,green+5bp);\n",
    "\n",
    "dot(\"$p_t$\",pt,SW,red+5bp);\n",
    "dot(\"$q_t$\",qt,N,green+5bp);\n",
    "\n",
    "b0 = (0,R) + (b*cos(-pi/2),b*sin(-pi/2));\n",
    "bt = (v*t,R) + (b*cos(-pi/2-w*t),b*sin(-pi/2-w*t));   \n",
    "dot(\"$b_0$\",b0,E,black+5bp);\n",
    "dot(\"$b_t$\",bt,E,black+5bp);"
   ]
  },
  {
   "cell_type": "markdown",
   "metadata": {},
   "source": [
    "És evident que la parametrització és\n",
    "$$\n",
    "  \\begin{aligned}\n",
    "    (x,y) &= (vt,R)+b\\left(\\cos\\left(\\frac{\\pi}{2}+wt\\right),-\\sin\\left(\\frac{\\pi}{2}+wt\\right)\\right)\\\\\n",
    "          &=  (Rwt,R) + b\\Big(-\\sin(wt),-\\cos(wt)\\Big)\\\\\n",
    "          &= \\Big(Rwt - b\\sin(wt),R-b\\cos(wt)\\Big)\\,,\n",
    "  \\end{aligned}\n",
    "$$\n",
    "o, escrit d'una altra forma,\n",
    "$$\n",
    "  \\left.\\begin{aligned}\n",
    "    x &= Rwt - b\\sin(wt) \\\\\n",
    "    y &= R-b\\cos(wt)\n",
    "  \\end{aligned}\\,\\right\\}\n",
    "$$"
   ]
  },
  {
   "cell_type": "markdown",
   "metadata": {},
   "source": [
    "Sí. És una parametrització regular."
   ]
  },
  {
   "cell_type": "markdown",
   "metadata": {},
   "source": [
    "## Exercici 9"
   ]
  },
  {
   "cell_type": "markdown",
   "metadata": {},
   "source": [
    "Recordem que en la pla $XY$, la paràbola amb vèrtex en el punt $(x_0,y_0)$ i eix de simetria paral·lel al de les $Y$, té equació $y-y_0=a(x-x_0)^2$.\n",
    "\n",
    "\n",
    "Si la paràbola és paral·lela al pla $YZ$, està contingula en un pla d'equació $x=k$ i com que passa pel punts $(3,-1,0)$ i $(3,-5,-2)$, el pla haurà de ser $x=3$. Aleshores, una equació de la paràbola podria ser\n",
    "$$\n",
    "  \\left.\\begin{aligned}\n",
    "    x &= 3 \\\\\n",
    "    z + 2 &= a(y+5)^2\n",
    "  \\end{aligned}\\,\\right\\}\n",
    "$$\n",
    "Com que la paràbola ha de passar pel punt $(3,-1,0)$, de la segona equació tindrem que $0=-2+16a$, és a dir, $a=\\frac{1}{8}$. Per tant, si fem servir $t=y+5$ com a paràmetre tindrem que\n",
    "$$\n",
    "  \\left.\\begin{aligned}\n",
    "    x &= 3 \\\\\n",
    "    y &= t - 5 \\\\\n",
    "    z &= -2 + \\frac{t^2}{8}\n",
    "  \\end{aligned}\\,\\right\\}\\qquad\\text{o bé}\\qquad\n",
    "  \\left.\\begin{aligned}\n",
    "    x &= 3 \\\\\n",
    "    y &= t - 5 \\\\\n",
    "    z &= \\frac{t^2-16}{8}\n",
    "  \\end{aligned}\\,\\right\\}\\,.\n",
    "$$\n",
    "Així, el vèrtes es correspon amb $t=0$ i el punt $(3,-1,0)$ amb $t=4$."
   ]
  },
  {
   "cell_type": "markdown",
   "metadata": {},
   "source": [
    "## Exercici 11"
   ]
  },
  {
   "cell_type": "markdown",
   "metadata": {},
   "source": [
    "És evident que la parametrització\n",
    "$$\n",
    "   \\left.\\begin{aligned}\n",
    "    x &= \\cos t \\\\\n",
    "    y &= \\sin t \\\\\n",
    "    z &= 0\n",
    "  \\end{aligned}\\,\\right\\}\n",
    "$$\n",
    "correspon a la circumferència de centre $(0,0,0)$, radi 1 i continguda en la pla $z=0$. Escollim una referencia euclidiana de manera que els dos primers vectors estiguin sobre el pla $x+y+z=0$, per exemple\n",
    "$$\n",
    "   \\mathcal{R}'=\\left\\{(0,0,0);\\frac{1}{\\sqrt{2}}(1,-1,0),\\frac{1}{\\sqrt{6}}(1,1,-2),\\frac{1}{\\sqrt{3}}(1,1,1)\\right\\}\\,.\n",
    "$$\n",
    "L'equació de la circumferència en aquesta referència és $x'^2+y'^2=1$ i una possible \n",
    "paramètrització és\n",
    "$$\n",
    "\\left.\\begin{aligned}\n",
    "    x' &= \\cos t \\\\\n",
    "    y' &= \\sin t \\\\\n",
    "    z' &= 0\n",
    "  \\end{aligned}\\,\\right\\}\n",
    "$$\n",
    "que està continguda en el pla $z'=0$, que és el mateix que $x+y+z=0$."
   ]
  },
  {
   "cell_type": "markdown",
   "metadata": {},
   "source": [
    "L'equació del canvi de coordenades de la referència $\\mathcal{R}'$ a la canònica és\n",
    "$$\n",
    "  \\left(\\begin{array}{c} x \\\\ y \\\\ z\\end{array}\\right) \n",
    "  = \\frac{1}{\\sqrt{6}}\\left(\\begin{array}{crc}\n",
    "   \\sqrt{3}  &  1 & \\sqrt{2} \\\\\n",
    "  -\\sqrt{3}  &  1 & \\sqrt{2} \\\\\n",
    "      0      & -2 & \\sqrt{2}\n",
    "  \\end{array}\\right) \n",
    "  \\left(\\begin{array}{c} x' \\\\ y' \\\\ z' \\end{array}\\right)\n",
    "$$"
   ]
  },
  {
   "cell_type": "markdown",
   "metadata": {},
   "source": [
    "Si substituim $x'=\\cos t$, $y'=\\sin t$ i $z'=0$, obtenim la parametrització\n",
    "$$\n",
    "  \\left.\\begin{aligned}\n",
    "    x &= \\frac{1}{\\sqrt{6}}\\Big(\\sqrt{3}\\cos t + \\sin t\\Big) \\\\\n",
    "    y &= \\frac{1}{\\sqrt{6}}\\Big(-\\sqrt{3}\\cos t + \\sin t\\Big) \\\\\n",
    "    z &= -\\frac{2\\sin t}{\\sqrt{6}}\n",
    "  \\end{aligned}\\,\\right\\}\n",
    "$$"
   ]
  },
  {
   "cell_type": "markdown",
   "metadata": {},
   "source": [
    "Si fem els calculs amb el Sagemath, ens dona un resultat equivalent"
   ]
  },
  {
   "cell_type": "code",
   "execution_count": null,
   "metadata": {},
   "outputs": [],
   "source": [
    "u1 = 1/sqrt(2)*vector([1,-1,0])\n",
    "u2 = 1/sqrt(6)*vector([1,1,-2])\n",
    "u3 = 1/sqrt(3)*vector([1,1,1])\n",
    "C = matrix([u1,u2,u3]).T\n",
    "show(C)"
   ]
  },
  {
   "cell_type": "code",
   "execution_count": null,
   "metadata": {},
   "outputs": [],
   "source": [
    "t = var('t')\n",
    "X1 = vector([cos(t),sin(t),0])\n",
    "X = C*X1\n",
    "show(simplificar_radicals(X))"
   ]
  },
  {
   "cell_type": "markdown",
   "metadata": {},
   "source": [
    "és a dir,\n",
    "$$\n",
    "  \\left.\\begin{aligned}\n",
    "    x &= \\frac{\\sqrt{6}}{3} \\sin\\left(\\frac{\\pi}{3}+t\\right) \\\\\n",
    "    y &= -\\frac{\\sqrt{6}}{3} \\cos\\left(\\frac{\\pi}{6}+t\\right) \\\\\n",
    "    z &= -\\frac{\\sqrt{6}}{3}\\sin t\n",
    "  \\end{aligned}\\,\\right\\}\n",
    "$$"
   ]
  },
  {
   "cell_type": "markdown",
   "metadata": {},
   "source": [
    "## Exercici 12"
   ]
  },
  {
   "cell_type": "markdown",
   "metadata": {},
   "source": [
    "La intersecció del cilindre amb el pla $XY$ és la circumferència de centre $(1,0)$ i radi 1. La parametrització més senzilla és\n",
    "$$\n",
    "  (x,y)=(1+\\cos t,\\sin t)\\qquad\\text{amb}\\qquad t\\in[0,2\\pi]\\,.\n",
    "$$\n",
    "D'altra banda, de l'equació de l'esfera, tenim que $z=\\pm\\sqrt{4-x^2-y^2}$, per tant la parametrització de la part superior de la corba intersecció del cilindre i l'esfera és\n",
    "$$\n",
    "  \\mathbf{r}(t) = \\big(1+\\cos t,\\sin t,\\sqrt{4-(1+\\cos t)^2-\\sin^2t}\\big)\\qquad\\text{amb}\\qquad t\\in[0,2\\pi]\\,.\n",
    "$$"
   ]
  },
  {
   "cell_type": "code",
   "execution_count": null,
   "metadata": {},
   "outputs": [],
   "source": [
    "Tenint en compte que"
   ]
  },
  {
   "cell_type": "code",
   "execution_count": null,
   "metadata": {},
   "outputs": [],
   "source": [
    "t = var('t')\n",
    "a = 4-(1+cos(t))^2-sin(t)^2\n",
    "show(a.simplify_trig())"
   ]
  },
  {
   "cell_type": "markdown",
   "metadata": {},
   "source": [
    "obtenim la parametrització\n",
    "$$\n",
    "  \\mathbf{r}(t) = \\big(1+\\cos t,\\sin t,\\sqrt{2-2\\cos t}\\big)\\qquad\\text{amb}\\qquad t\\in[0,2\\pi]\\,.\n",
    "$$"
   ]
  },
  {
   "cell_type": "markdown",
   "metadata": {},
   "source": [
    "Si també volem que la parametrització recorri la part superior i la part inferior de la corba, hem de prendre\n",
    "$$\n",
    "  \\mathbf{r}(t) = \n",
    "  \\begin{cases}\n",
    "    \\big(1+\\cos t,\\sin t,\\sqrt{2-2\\cos t}\\big) & t\\in[0,2\\pi] \\\\\n",
    "    \\big(1+\\cos t,\\sin t,-\\sqrt{2-2\\cos t}\\big) & t\\in(2\\pi,4\\pi]\n",
    "  \\end{cases}\n",
    "$$"
   ]
  },
  {
   "cell_type": "markdown",
   "metadata": {},
   "source": [
    "Finalment, tenint en compte que\n",
    "$$\n",
    "  2\\sin\\left(\\frac{t}{2}\\right)=\\pm\\sqrt{2-2\\cos t}\n",
    "$$\n",
    "i que el signe és positiu si $t\\in[0,2\\pi]$ i negatiu si $t\\in[2\\pi,4\\pi]$, podem escriure la parametrització\n",
    "$$\n",
    "  \\mathbf{r}(t) = \\left( 1+\\cos t, \\sin t, 2\\sin\\left(\\frac{t}{2}\\right) \\right)\\qquad\\text{amb}\\qquad t\\in[0,4\\pi]\n",
    "$$"
   ]
  },
  {
   "cell_type": "markdown",
   "metadata": {},
   "source": [
    "## Exercici 13"
   ]
  },
  {
   "cell_type": "markdown",
   "metadata": {},
   "source": [
    "La parametrització d'una circumferència de radi $a$ recorreguda en sentit antihorari i velocitat angular constant és\n",
    "$$\n",
    "  \\mathbf{r}(t) = \\big(a\\cos(\\theta_0+wt),a\\sin(\\theta_0+wt)\\big)\\,,\n",
    "$$\n",
    "on $\\theta_0$ ens dona la posició inicial. La seva derivada és\n",
    "$$\n",
    "  \\mathbf{r}'(t) = \\big(-aw\\sin(\\theta_0+wt),aw\\cos(\\theta_0+wt)\\big)\n",
    "$$\n",
    "i la celeritat $|| \\mathbf{r}'(t) ||=\\sqrt{a^2w^2\\sin^2(\\theta_0+wt)+a^2w^2\\cos^2(\\theta_0+wt)}=aw$ (suposant que $a>0$ i $w>0$). Com que volem que $aw=v$, tenim que\n",
    "$$\n",
    "   w = \\frac{v}{a}\\,.\n",
    "$$\n",
    "Una possible parametrització és\n",
    "$$\n",
    "  \\mathbf{r}(t) = \\left(a\\cos\\left(\\theta_0+\\frac{vt}{a}\\right),a\\sin\\left(\\theta_0+\\frac{vt}{a}\\right)\\right)\\,,\n",
    "$$"
   ]
  },
  {
   "cell_type": "markdown",
   "metadata": {},
   "source": [
    "## Exercici 15"
   ]
  },
  {
   "cell_type": "markdown",
   "metadata": {},
   "source": [
    "La parametrització més senzilla d'aquesta paràbola s'obté prenent la $x$ com a paràmetre:\n",
    "$$\n",
    "  \\mathbf{r}(t) = \\big(t,4t^2+t+1\\big)\n",
    "$$\n",
    "i, si volem l'arc que va del punt $(1,6)$ al $(2,19)$, és evient que la $t$ ha de variar entre 1 i 2, és a dir, $t\\in [1,2]$.\n",
    "\n",
    "La velocitat és $\\mathbf{r}'(t) = \\big(1,8t+1\\big)$.\n",
    "\n",
    "L'accelarió és $\\mathbf{r}''(t) = \\big(0,8\\big)$, que és constant.\n",
    "\n",
    "Per a obtenir una altra parametrització hem de trobar, per exemple, una funció bijectiva $\\phi:[0,1]\\longrightarrow [1,2]$ (podríem canviar l'interval $[0,1]$ per quaselvol altre). Volem que amb la nova parametrització, l'acceleració no sigui constant."
   ]
  },
  {
   "cell_type": "markdown",
   "metadata": {},
   "source": [
    "Si escollim $t=\\phi(s)=s^3+1$, tindrem que"
   ]
  },
  {
   "cell_type": "code",
   "execution_count": null,
   "metadata": {},
   "outputs": [],
   "source": [
    "s, t = var('s t')\n",
    "p1 = vector((t,4*t^2+t+1))\n",
    "p2 = vector([expand(u) for u in p1.subs(t=s^3+1)])\n",
    "show(p2)"
   ]
  },
  {
   "cell_type": "markdown",
   "metadata": {},
   "source": [
    "Aquesta nova parametrització vé donada per\n",
    "$$\n",
    "  \\mathbf{p}(s) = \\big(s^3+1,4s^6+9s^3+6\\big)\\qquad\\text{amb}\\qquad s\\in[0,1]\n",
    "$$\n",
    "i la seva acceleració és"
   ]
  },
  {
   "cell_type": "code",
   "execution_count": null,
   "metadata": {},
   "outputs": [],
   "source": [
    "show(p2.diff(s,2))"
   ]
  },
  {
   "cell_type": "markdown",
   "metadata": {},
   "source": [
    "és a dir, $\\mathbf{p}''(s) = \\big(6s,120s^4+54s\\big)$, que no és constant."
   ]
  },
  {
   "cell_type": "markdown",
   "metadata": {},
   "source": [
    "## Exercici 17"
   ]
  },
  {
   "cell_type": "markdown",
   "metadata": {},
   "source": [
    "Tenint en compte que $\\mathbf{r}'(t)=(1,2t,3t^2)$, resulta que la l'instant $t=1$ la partícula està situada en el punt $\\mathbf{r}(1)=(1,1,1)$ amb una velocitat $\\mathbf{r}'(1)=(1,2,3)$. A partir d'aquesta moment segueix la trajectòria\n",
    "$$\n",
    "   \\mathbf{r}(t)=(1,1,1) + (t-1)(1,2,3)\\qquad t\\in[1,2]\\,.\n",
    "$$\n",
    "Per tant, la seva posició al cap d'un segon és\n",
    "$$\n",
    "   \\mathbf{r}(2)=(1,1,1) + (1,2,3) = (2,3,4)\\,.\n",
    "$$"
   ]
  },
  {
   "cell_type": "markdown",
   "metadata": {},
   "source": [
    "## Exercici 19"
   ]
  },
  {
   "cell_type": "markdown",
   "metadata": {},
   "source": [
    "La velocitat s'obté integrant l'accelaració:"
   ]
  },
  {
   "cell_type": "code",
   "execution_count": null,
   "metadata": {},
   "outputs": [],
   "source": [
    "t = var('t')\n",
    "c1, c2, c3 = var('c1 c2 c3')\n",
    "C = vector([c1,c2,c3])\n",
    "a = vector([2*e^t*cos(t),24*t^2,0])\n",
    "show(a)"
   ]
  },
  {
   "cell_type": "code",
   "execution_count": null,
   "metadata": {},
   "outputs": [],
   "source": [
    "v = a.integrate(t) + C\n",
    "show(v)"
   ]
  },
  {
   "cell_type": "markdown",
   "metadata": {},
   "source": [
    "Hem de trobar les constants $c_1$, $c_2$ i $c_3$ tenint en compte que a l'instant $t=0$, la velocitat és $(1,1,0)$."
   ]
  },
  {
   "cell_type": "code",
   "execution_count": null,
   "metadata": {},
   "outputs": [],
   "source": [
    "v0 = v.subs(t=0)\n",
    "w0 = vector([1,1,0])\n",
    "show(v0)"
   ]
  },
  {
   "cell_type": "code",
   "execution_count": null,
   "metadata": {},
   "outputs": [],
   "source": [
    "show(solve([v0[i] == w0[i] for i in range(3)],[c1,c2,c3]))"
   ]
  },
  {
   "cell_type": "markdown",
   "metadata": {},
   "source": [
    "Per tant, la velocitat ve donada per"
   ]
  },
  {
   "cell_type": "code",
   "execution_count": null,
   "metadata": {},
   "outputs": [],
   "source": [
    "v = v.subs(c1 = 0,c2 = 1,c3 = 0)\n",
    "show(v)"
   ]
  },
  {
   "cell_type": "markdown",
   "metadata": {},
   "source": [
    "Finalment, per a obtenir la posició, hem d'integrar la velocitat"
   ]
  },
  {
   "cell_type": "code",
   "execution_count": null,
   "metadata": {},
   "outputs": [],
   "source": [
    "r = vector([u.expand() for u in v.integrate(t) + C])\n",
    "show(r)"
   ]
  },
  {
   "cell_type": "markdown",
   "metadata": {},
   "source": [
    "Hem de trobar les noves constants $c_1$, $c_2$ i $c_3$ tenint en compte que a l'instant $t=0$, la posició és $(0,0,3)$."
   ]
  },
  {
   "cell_type": "code",
   "execution_count": null,
   "metadata": {},
   "outputs": [],
   "source": [
    "r0 = r.subs(t=0)\n",
    "p0 = vector([0,0,3])\n",
    "show(r0)"
   ]
  },
  {
   "cell_type": "code",
   "execution_count": null,
   "metadata": {},
   "outputs": [],
   "source": [
    "show(solve([r0[i] == p0[i] for i in range(3)],[c1,c2,c3]))"
   ]
  },
  {
   "cell_type": "markdown",
   "metadata": {},
   "source": [
    "Per tant, la posició ve donada per"
   ]
  },
  {
   "cell_type": "code",
   "execution_count": null,
   "metadata": {},
   "outputs": [],
   "source": [
    "r = r.subs(c1 = 0,c2 = 0,c3 = 3)\n",
    "show(r)"
   ]
  },
  {
   "cell_type": "markdown",
   "metadata": {},
   "source": [
    "Així doncs, la trajectòria de la partícula és\n",
    "$$\n",
    "  \\mathbf{r}(t) = \\left( e^t\\sin(t), 2t^4+t, 3 \\right)\\qquad\\text{amb}\\qquad t\\in[0,10]\\,.\n",
    "$$"
   ]
  },
  {
   "cell_type": "markdown",
   "metadata": {},
   "source": [
    "## Exercici 21"
   ]
  },
  {
   "cell_type": "markdown",
   "metadata": {},
   "source": [
    "Escrivim la parametrització de les dues corbes"
   ]
  },
  {
   "cell_type": "code",
   "execution_count": null,
   "metadata": {},
   "outputs": [],
   "source": [
    "t = var('t')\n",
    "c1 = vector([4*cos(t),2*sin(t)])\n",
    "c2 = vector([2*sin(2*t),3*cos(2*t)])\n",
    "show(c1)"
   ]
  },
  {
   "cell_type": "code",
   "execution_count": null,
   "metadata": {},
   "outputs": [],
   "source": [
    "show(c2)"
   ]
  },
  {
   "cell_type": "markdown",
   "metadata": {},
   "source": [
    "La distància entre els cossos és la longitud del vector que els uneix. Treballem amb la distància al quadrat, és a dir, utilitzem les funcions\n",
    "\n",
    "$d(t)$: distàcia entre les dues partícules a l'instant $t$.\n",
    "\n",
    "$D(t)$: distàcia entre les dues partícules al quadrat a l'instant $t$.\n",
    "\n",
    "Hem de calcular $d'(\\pi)$."
   ]
  },
  {
   "cell_type": "code",
   "execution_count": null,
   "metadata": {},
   "outputs": [],
   "source": [
    "v = (c2 - c1).simplify_full()\n",
    "D = (v[0]^2 + v[1]^2).simplify_full()\n",
    "show(D)"
   ]
  },
  {
   "cell_type": "markdown",
   "metadata": {},
   "source": [
    "La derivada de la distància al quadrat $D(t)=d(t)^2$ és $D'(t) = 2d(t)d'(t)$m per tant,\n",
    "$$\n",
    "  d'(t)=\\frac{D'(t)}{2d(t)}\\,.\n",
    "$$\n",
    "En particular,\n",
    "$$\n",
    "  d'(\\pi)=\\frac{D'(\\pi)}{2d(\\pi)}\\,.\n",
    "$$\n",
    "Aleshores, el resultat que busquem és (hem de tenir en compte que $d(t)=||v(t)||$."
   ]
  },
  {
   "cell_type": "code",
   "execution_count": null,
   "metadata": {},
   "outputs": [],
   "source": [
    "r = D.diff(t).subs(t=pi)/(2*v.subs(t=pi).norm())\n",
    "show(r)"
   ]
  },
  {
   "cell_type": "markdown",
   "metadata": {},
   "source": [
    "La raó és \n",
    "$$\n",
    "  r = \\frac{22}{5}\\,.\n",
    "$$"
   ]
  },
  {
   "cell_type": "markdown",
   "metadata": {},
   "source": [
    "## Exercici 23"
   ]
  },
  {
   "cell_type": "markdown",
   "metadata": {},
   "source": [
    "El gràfic d'aquesta corba és"
   ]
  },
  {
   "cell_type": "code",
   "execution_count": null,
   "metadata": {},
   "outputs": [],
   "source": [
    "%%asy --fmt svg\n",
    "import geometry;\n",
    "import coordenades;\n",
    "import graph;\n",
    "\n",
    "unitsize(1cm);\n",
    "\n",
    "real a = 5;\n",
    "\n",
    "pair ast(real t) {\n",
    "  return (a*cos(t)^3,a*sin(t)^3);   \n",
    "}\n",
    "\n",
    "Canonica((int)(-a-2),(int)(a+2),(int)(-a-2),(int)(a+2));    \n",
    "path g = graph(ast,0,2*pi);\n",
    "draw(g,red+linewidth(1.5bp));"
   ]
  },
  {
   "cell_type": "markdown",
   "metadata": {},
   "source": [
    "Recordem que la longitud d'una corba ve donada per\n",
    "$$\n",
    "   L = \\int_a^b || \\mathbf{r}'(t) ||\\,dt\\,.\n",
    "$$\n",
    "En aquest cas $\\mathbf{r}(t) = \\big(a\\cos^3 t,a\\sin^3 t\\big)$ amb $t\\in[0,2\\pi]$."
   ]
  },
  {
   "cell_type": "code",
   "execution_count": null,
   "metadata": {},
   "outputs": [],
   "source": [
    "a, t = var('a t')\n",
    "assume(a > 0)\n",
    "r = vector([a*cos(t)^3,a*sin(t)^3])\n",
    "show(r)"
   ]
  },
  {
   "cell_type": "markdown",
   "metadata": {},
   "source": [
    "La velocitat ve donada per"
   ]
  },
  {
   "cell_type": "code",
   "execution_count": null,
   "metadata": {},
   "outputs": [],
   "source": [
    "v = r.diff(t)\n",
    "V = sqrt((v[0]^2 + v[1]^2).simplify_full())\n",
    "show(V)"
   ]
  },
  {
   "cell_type": "markdown",
   "metadata": {},
   "source": [
    "I la longitud de la corba situada en el primer quadrant és"
   ]
  },
  {
   "cell_type": "code",
   "execution_count": null,
   "metadata": {},
   "outputs": [],
   "source": [
    "L1 = V.integrate(t,0,pi/2)\n",
    "show(L1)"
   ]
  },
  {
   "cell_type": "markdown",
   "metadata": {},
   "source": [
    "Per tant, la longitud total és"
   ]
  },
  {
   "cell_type": "code",
   "execution_count": null,
   "metadata": {},
   "outputs": [],
   "source": [
    "L = 4*L1\n",
    "show(L)"
   ]
  },
  {
   "cell_type": "markdown",
   "metadata": {},
   "source": [
    "La longitud és $L=6a$."
   ]
  },
  {
   "cell_type": "markdown",
   "metadata": {},
   "source": [
    "## Exercici 24"
   ]
  },
  {
   "cell_type": "code",
   "execution_count": null,
   "metadata": {},
   "outputs": [],
   "source": [
    "La gràfica de la cardioide és"
   ]
  },
  {
   "cell_type": "code",
   "execution_count": 6,
   "metadata": {},
   "outputs": [
    {
     "data": {
      "image/svg+xml": [
       "<svg xmlns=\"http://www.w3.org/2000/svg\" xmlns:xlink=\"http://www.w3.org/1999/xlink\" version=\"1.1\" width=\"454.252pt\" height=\"397.559pt\" viewBox=\"198.496 252.638 454.252 397.559\">\n",
       "<defs>\n",
       "<path id=\"g1-48\" d=\"M5.355915-3.825654C5.355915-4.817933 5.296139-5.786301 4.865753-6.694894C4.375592-7.687173 3.514819-7.950187 2.929016-7.950187C2.235616-7.950187 1.3868-7.603487 .944458-6.611208C.609714-5.858032 .490162-5.116812 .490162-3.825654C.490162-2.666002 .573848-1.793275 1.004234-.944458C1.470486-.035866 2.295392 .251059 2.917061 .251059C3.957161 .251059 4.554919-.37061 4.901619-1.06401C5.332005-1.960648 5.355915-3.132254 5.355915-3.825654ZM2.917061 .011955C2.534496 .011955 1.75741-.203238 1.530262-1.506351C1.398755-2.223661 1.398755-3.132254 1.398755-3.969116C1.398755-4.94944 1.398755-5.834122 1.590037-6.539477C1.793275-7.340473 2.402989-7.711083 2.917061-7.711083C3.371357-7.711083 4.064757-7.436115 4.291905-6.40797C4.447323-5.726526 4.447323-4.782067 4.447323-3.969116C4.447323-3.16812 4.447323-2.259527 4.315816-1.530262C4.088667-.215193 3.335492 .011955 2.917061 .011955Z\"/>\n",
       "<path id=\"g1-49\" d=\"M3.443088-7.663263C3.443088-7.938232 3.443088-7.950187 3.203985-7.950187C2.917061-7.627397 2.319303-7.185056 1.08792-7.185056V-6.838356C1.362889-6.838356 1.960648-6.838356 2.618182-7.149191V-.920548C2.618182-.490162 2.582316-.3467 1.530262-.3467H1.159651V0C1.482441-.02391 2.642092-.02391 3.036613-.02391S4.578829-.02391 4.901619 0V-.3467H4.531009C3.478954-.3467 3.443088-.490162 3.443088-.920548V-7.663263Z\"/>\n",
       "<path id=\"g1-50\" d=\"M5.260274-2.008468H4.99726C4.961395-1.80523 4.865753-1.147696 4.746202-.956413C4.662516-.848817 3.981071-.848817 3.622416-.848817H1.41071C1.733499-1.123786 2.462765-1.888917 2.773599-2.175841C4.590785-3.849564 5.260274-4.471233 5.260274-5.654795C5.260274-7.029639 4.172354-7.950187 2.785554-7.950187S.585803-6.766625 .585803-5.738481C.585803-5.128767 1.111831-5.128767 1.147696-5.128767C1.398755-5.128767 1.709589-5.308095 1.709589-5.69066C1.709589-6.025405 1.482441-6.252553 1.147696-6.252553C1.0401-6.252553 1.016189-6.252553 .980324-6.240598C1.207472-7.053549 1.853051-7.603487 2.630137-7.603487C3.646326-7.603487 4.267995-6.75467 4.267995-5.654795C4.267995-4.638605 3.682192-3.753923 3.000747-2.988792L.585803-.286924V0H4.94944L5.260274-2.008468Z\"/>\n",
       "<path id=\"g1-51\" d=\"M2.199751-4.291905C1.996513-4.27995 1.948692-4.267995 1.948692-4.160399C1.948692-4.040847 2.008468-4.040847 2.223661-4.040847H2.773599C3.789788-4.040847 4.244085-3.203985 4.244085-2.056289C4.244085-.490162 3.431133-.071731 2.84533-.071731C2.271482-.071731 1.291158-.3467 .944458-1.135741C1.327024-1.075965 1.673724-1.291158 1.673724-1.721544C1.673724-2.068244 1.422665-2.307347 1.08792-2.307347C.800996-2.307347 .490162-2.139975 .490162-1.685679C.490162-.621669 1.554172 .251059 2.881196 .251059C4.303861 .251059 5.355915-.836862 5.355915-2.044334C5.355915-3.144209 4.471233-4.004981 3.323537-4.208219C4.363636-4.507098 5.033126-5.379826 5.033126-6.312329C5.033126-7.256787 4.052802-7.950187 2.893151-7.950187C1.697634-7.950187 .812951-7.220922 .812951-6.348194C.812951-5.869988 1.183562-5.774346 1.362889-5.774346C1.613948-5.774346 1.900872-5.953674 1.900872-6.312329C1.900872-6.694894 1.613948-6.862267 1.350934-6.862267C1.279203-6.862267 1.255293-6.862267 1.219427-6.850311C1.673724-7.663263 2.797509-7.663263 2.857285-7.663263C3.251806-7.663263 4.028892-7.483935 4.028892-6.312329C4.028892-6.085181 3.993026-5.415691 3.646326-4.901619C3.287671-4.375592 2.881196-4.339726 2.558406-4.327771L2.199751-4.291905Z\"/>\n",
       "<path id=\"g1-52\" d=\"M4.315816-7.782814C4.315816-8.009963 4.315816-8.069738 4.148443-8.069738C4.052802-8.069738 4.016936-8.069738 3.921295-7.926276L.32279-2.343213V-1.996513H3.466999V-.908593C3.466999-.466252 3.443088-.3467 2.570361-.3467H2.331258V0C2.606227-.02391 3.550685-.02391 3.88543-.02391S5.176588-.02391 5.451557 0V-.3467H5.212453C4.351681-.3467 4.315816-.466252 4.315816-.908593V-1.996513H5.523288V-2.343213H4.315816V-7.782814ZM3.526775-6.850311V-2.343213H.621669L3.526775-6.850311Z\"/>\n",
       "<path id=\"g1-53\" d=\"M1.530262-6.850311C2.044334-6.682939 2.462765-6.670984 2.594271-6.670984C3.945205-6.670984 4.805978-7.663263 4.805978-7.830635C4.805978-7.878456 4.782067-7.938232 4.710336-7.938232C4.686426-7.938232 4.662516-7.938232 4.554919-7.890411C3.88543-7.603487 3.311582-7.567621 3.000747-7.567621C2.211706-7.567621 1.649813-7.806725 1.422665-7.902366C1.338979-7.938232 1.315068-7.938232 1.303113-7.938232C1.207472-7.938232 1.207472-7.866501 1.207472-7.675218V-4.124533C1.207472-3.90934 1.207472-3.837609 1.350934-3.837609C1.41071-3.837609 1.422665-3.849564 1.542217-3.993026C1.876961-4.483188 2.438854-4.770112 3.036613-4.770112C3.670237-4.770112 3.981071-4.184309 4.076712-3.981071C4.27995-3.514819 4.291905-2.929016 4.291905-2.47472S4.291905-1.338979 3.957161-.800996C3.694147-.37061 3.227895-.071731 2.701868-.071731C1.912827-.071731 1.135741-.609714 .920548-1.482441C.980324-1.458531 1.052055-1.446575 1.111831-1.446575C1.315068-1.446575 1.637858-1.566127 1.637858-1.972603C1.637858-2.307347 1.41071-2.49863 1.111831-2.49863C.896638-2.49863 .585803-2.391034 .585803-1.924782C.585803-.908593 1.398755 .251059 2.725778 .251059C4.076712 .251059 5.260274-.884682 5.260274-2.402989C5.260274-3.825654 4.303861-5.009215 3.048568-5.009215C2.367123-5.009215 1.841096-4.710336 1.530262-4.375592V-6.850311Z\"/>\n",
       "<path id=\"g1-54\" d=\"M1.470486-4.160399C1.470486-7.185056 2.940971-7.663263 3.58655-7.663263C4.016936-7.663263 4.447323-7.531756 4.674471-7.173101C4.531009-7.173101 4.076712-7.173101 4.076712-6.682939C4.076712-6.419925 4.25604-6.192777 4.566874-6.192777C4.865753-6.192777 5.068991-6.372105 5.068991-6.718804C5.068991-7.340473 4.614695-7.950187 3.574595-7.950187C2.068244-7.950187 .490162-6.40797 .490162-3.777833C.490162-.490162 1.924782 .251059 2.940971 .251059C4.244085 .251059 5.355915-.884682 5.355915-2.438854C5.355915-4.028892 4.244085-5.092902 3.048568-5.092902C1.984558-5.092902 1.590037-4.172354 1.470486-3.837609V-4.160399ZM2.940971-.071731C2.187796-.071731 1.829141-.74122 1.721544-.992279C1.613948-1.303113 1.494396-1.888917 1.494396-2.725778C1.494396-3.670237 1.924782-4.853798 3.000747-4.853798C3.658281-4.853798 4.004981-4.411457 4.184309-4.004981C4.375592-3.56264 4.375592-2.964882 4.375592-2.450809C4.375592-1.841096 4.375592-1.303113 4.148443-.848817C3.849564-.274969 3.419178-.071731 2.940971-.071731Z\"/>\n",
       "<path id=\"g1-55\" d=\"M5.678705-7.424159V-7.699128H2.797509C1.350934-7.699128 1.327024-7.854545 1.279203-8.081694H1.016189L.645579-5.69066H.908593C.944458-5.905853 1.052055-6.647073 1.207472-6.77858C1.303113-6.850311 2.199751-6.850311 2.367123-6.850311H4.901619L3.634371-5.033126C3.311582-4.566874 2.10411-2.606227 2.10411-.358655C2.10411-.227148 2.10411 .251059 2.594271 .251059C3.096389 .251059 3.096389-.215193 3.096389-.37061V-.968369C3.096389-2.749689 3.383313-4.136488 3.945205-4.937484L5.678705-7.424159Z\"/>\n",
       "<path id=\"g1-56\" d=\"M3.56264-4.315816C4.160399-4.638605 5.033126-5.188543 5.033126-6.192777C5.033126-7.232877 4.028892-7.950187 2.929016-7.950187C1.745455-7.950187 .812951-7.07746 .812951-5.989539C.812951-5.583064 .932503-5.176588 1.267248-4.770112C1.398755-4.614695 1.41071-4.60274 2.247572-4.016936C1.08792-3.478954 .490162-2.677958 .490162-1.80523C.490162-.537983 1.697634 .251059 2.917061 .251059C4.244085 .251059 5.355915-.729265 5.355915-1.984558C5.355915-3.203985 4.495143-3.741968 3.56264-4.315816ZM1.936737-5.391781C1.78132-5.499377 1.303113-5.810212 1.303113-6.396015C1.303113-7.173101 2.116065-7.663263 2.917061-7.663263C3.777833-7.663263 4.542964-7.041594 4.542964-6.180822C4.542964-5.451557 4.016936-4.865753 3.323537-4.483188L1.936737-5.391781ZM2.49863-3.849564L3.945205-2.905106C4.25604-2.701868 4.805978-2.331258 4.805978-1.601993C4.805978-.6934 3.88543-.071731 2.929016-.071731C1.912827-.071731 1.0401-.812951 1.0401-1.80523C1.0401-2.737733 1.721544-3.490909 2.49863-3.849564Z\"/>\n",
       "<path id=\"g1-57\" d=\"M4.375592-3.478954C4.375592-.657534 3.120299-.071731 2.402989-.071731C2.116065-.071731 1.482441-.107597 1.183562-.526027H1.255293C1.338979-.502117 1.769365-.573848 1.769365-1.016189C1.769365-1.279203 1.590037-1.506351 1.279203-1.506351S.777086-1.303113 .777086-.992279C.777086-.251059 1.374844 .251059 2.414944 .251059C3.90934 .251059 5.355915-1.338979 5.355915-3.93325C5.355915-7.149191 4.016936-7.950187 2.964882-7.950187C1.649813-7.950187 .490162-6.850311 .490162-5.272229S1.601993-2.618182 2.797509-2.618182C3.682192-2.618182 4.136488-3.263761 4.375592-3.873474V-3.478954ZM2.84533-2.857285C2.092154-2.857285 1.769365-3.466999 1.661768-3.694147C1.470486-4.148443 1.470486-4.722291 1.470486-5.260274C1.470486-5.929763 1.470486-6.503611 1.78132-6.993773C1.996513-7.316563 2.319303-7.663263 2.964882-7.663263C3.646326-7.663263 3.993026-7.065504 4.112578-6.790535C4.351681-6.204732 4.351681-5.188543 4.351681-5.009215C4.351681-4.004981 3.897385-2.857285 2.84533-2.857285Z\"/>\n",
       "<path id=\"g0-0\" d=\"M7.878456-2.749689C8.081694-2.749689 8.296887-2.749689 8.296887-2.988792S8.081694-3.227895 7.878456-3.227895H1.41071C1.207472-3.227895 .992279-3.227895 .992279-2.988792S1.207472-2.749689 1.41071-2.749689H7.878456Z\"/>\n",
       "</defs>\n",
       "<g id=\"page1\">\n",
       "<g transform=\"matrix(0.996264 0 0 0.996264 198.496 252.638)\">\n",
       "<path d=\"M 0.355659 398.694L 0.355659 0.355659\" fill=\"none\" stroke=\"#cccccc\" stroke-linecap=\"round\" stroke-linejoin=\"round\" stroke-miterlimit=\"10.0375\" stroke-width=\"0.426791\"/>\n",
       "</g>\n",
       "<g transform=\"matrix(0.996264 0 0 0.996264 198.496 252.638)\">\n",
       "<path d=\"M 7.46885 398.694L 7.46885 0.355659\" fill=\"none\" stroke=\"#cccccc\" stroke-dasharray=\"0,0.683086\" stroke-linecap=\"round\" stroke-linejoin=\"round\" stroke-miterlimit=\"10.0375\" stroke-width=\"0.170717\"/>\n",
       "</g>\n",
       "<g transform=\"matrix(0.996264 0 0 0.996264 198.496 252.638)\">\n",
       "<path d=\"M 14.582 398.694L 14.582 0.355659\" fill=\"none\" stroke=\"#cccccc\" stroke-dasharray=\"0,0.683086\" stroke-linecap=\"round\" stroke-linejoin=\"round\" stroke-miterlimit=\"10.0375\" stroke-width=\"0.170717\"/>\n",
       "</g>\n",
       "<g transform=\"matrix(0.996264 0 0 0.996264 198.496 252.638)\">\n",
       "<path d=\"M 21.6952 398.694L 21.6952 0.355659\" fill=\"none\" stroke=\"#cccccc\" stroke-dasharray=\"0,0.683086\" stroke-linecap=\"round\" stroke-linejoin=\"round\" stroke-miterlimit=\"10.0375\" stroke-width=\"0.170717\"/>\n",
       "</g>\n",
       "<g transform=\"matrix(0.996264 0 0 0.996264 198.496 252.638)\">\n",
       "<path d=\"M 28.8084 398.694L 28.8084 0.355659\" fill=\"none\" stroke=\"#cccccc\" stroke-linecap=\"round\" stroke-linejoin=\"round\" stroke-miterlimit=\"10.0375\" stroke-width=\"0.426791\"/>\n",
       "</g>\n",
       "<g transform=\"matrix(0.996264 0 0 0.996264 198.496 252.638)\">\n",
       "<path d=\"M 35.9216 398.694L 35.9216 0.355659\" fill=\"none\" stroke=\"#cccccc\" stroke-dasharray=\"0,0.683086\" stroke-linecap=\"round\" stroke-linejoin=\"round\" stroke-miterlimit=\"10.0375\" stroke-width=\"0.170717\"/>\n",
       "</g>\n",
       "<g transform=\"matrix(0.996264 0 0 0.996264 198.496 252.638)\">\n",
       "<path d=\"M 43.0348 398.694L 43.0348 0.355659\" fill=\"none\" stroke=\"#cccccc\" stroke-dasharray=\"0,0.683086\" stroke-linecap=\"round\" stroke-linejoin=\"round\" stroke-miterlimit=\"10.0375\" stroke-width=\"0.170717\"/>\n",
       "</g>\n",
       "<g transform=\"matrix(0.996264 0 0 0.996264 198.496 252.638)\">\n",
       "<path d=\"M 50.148 398.694L 50.148 0.355659\" fill=\"none\" stroke=\"#cccccc\" stroke-dasharray=\"0,0.683086\" stroke-linecap=\"round\" stroke-linejoin=\"round\" stroke-miterlimit=\"10.0375\" stroke-width=\"0.170717\"/>\n",
       "</g>\n",
       "<g transform=\"matrix(0.996264 0 0 0.996264 198.496 252.638)\">\n",
       "<path d=\"M 57.2612 398.694L 57.2612 0.355659\" fill=\"none\" stroke=\"#cccccc\" stroke-linecap=\"round\" stroke-linejoin=\"round\" stroke-miterlimit=\"10.0375\" stroke-width=\"0.426791\"/>\n",
       "</g>\n",
       "<g transform=\"matrix(0.996264 0 0 0.996264 198.496 252.638)\">\n",
       "<path d=\"M 64.3744 398.694L 64.3744 0.355659\" fill=\"none\" stroke=\"#cccccc\" stroke-dasharray=\"0,0.683086\" stroke-linecap=\"round\" stroke-linejoin=\"round\" stroke-miterlimit=\"10.0375\" stroke-width=\"0.170717\"/>\n",
       "</g>\n",
       "<g transform=\"matrix(0.996264 0 0 0.996264 198.496 252.638)\">\n",
       "<path d=\"M 71.4875 398.694L 71.4875 0.355659\" fill=\"none\" stroke=\"#cccccc\" stroke-dasharray=\"0,0.683086\" stroke-linecap=\"round\" stroke-linejoin=\"round\" stroke-miterlimit=\"10.0375\" stroke-width=\"0.170717\"/>\n",
       "</g>\n",
       "<g transform=\"matrix(0.996264 0 0 0.996264 198.496 252.638)\">\n",
       "<path d=\"M 78.6007 398.694L 78.6007 0.355659\" fill=\"none\" stroke=\"#cccccc\" stroke-dasharray=\"0,0.683086\" stroke-linecap=\"round\" stroke-linejoin=\"round\" stroke-miterlimit=\"10.0375\" stroke-width=\"0.170717\"/>\n",
       "</g>\n",
       "<g transform=\"matrix(0.996264 0 0 0.996264 198.496 252.638)\">\n",
       "<path d=\"M 85.7139 398.694L 85.7139 0.355659\" fill=\"none\" stroke=\"#cccccc\" stroke-linecap=\"round\" stroke-linejoin=\"round\" stroke-miterlimit=\"10.0375\" stroke-width=\"0.426791\"/>\n",
       "</g>\n",
       "<g transform=\"matrix(0.996264 0 0 0.996264 198.496 252.638)\">\n",
       "<path d=\"M 92.8271 398.694L 92.8271 0.355659\" fill=\"none\" stroke=\"#cccccc\" stroke-dasharray=\"0,0.683086\" stroke-linecap=\"round\" stroke-linejoin=\"round\" stroke-miterlimit=\"10.0375\" stroke-width=\"0.170717\"/>\n",
       "</g>\n",
       "<g transform=\"matrix(0.996264 0 0 0.996264 198.496 252.638)\">\n",
       "<path d=\"M 99.9403 398.694L 99.9403 0.355659\" fill=\"none\" stroke=\"#cccccc\" stroke-dasharray=\"0,0.683086\" stroke-linecap=\"round\" stroke-linejoin=\"round\" stroke-miterlimit=\"10.0375\" stroke-width=\"0.170717\"/>\n",
       "</g>\n",
       "<g transform=\"matrix(0.996264 0 0 0.996264 198.496 252.638)\">\n",
       "<path d=\"M 107.053 398.694L 107.053 0.355659\" fill=\"none\" stroke=\"#cccccc\" stroke-dasharray=\"0,0.683086\" stroke-linecap=\"round\" stroke-linejoin=\"round\" stroke-miterlimit=\"10.0375\" stroke-width=\"0.170717\"/>\n",
       "</g>\n",
       "<g transform=\"matrix(0.996264 0 0 0.996264 198.496 252.638)\">\n",
       "<path d=\"M 114.167 398.694L 114.167 0.355659\" fill=\"none\" stroke=\"#cccccc\" stroke-linecap=\"round\" stroke-linejoin=\"round\" stroke-miterlimit=\"10.0375\" stroke-width=\"0.426791\"/>\n",
       "</g>\n",
       "<g transform=\"matrix(0.996264 0 0 0.996264 198.496 252.638)\">\n",
       "<path d=\"M 121.28 398.694L 121.28 0.355659\" fill=\"none\" stroke=\"#cccccc\" stroke-dasharray=\"0,0.683086\" stroke-linecap=\"round\" stroke-linejoin=\"round\" stroke-miterlimit=\"10.0375\" stroke-width=\"0.170717\"/>\n",
       "</g>\n",
       "<g transform=\"matrix(0.996264 0 0 0.996264 198.496 252.638)\">\n",
       "<path d=\"M 128.393 398.694L 128.393 0.355659\" fill=\"none\" stroke=\"#cccccc\" stroke-dasharray=\"0,0.683086\" stroke-linecap=\"round\" stroke-linejoin=\"round\" stroke-miterlimit=\"10.0375\" stroke-width=\"0.170717\"/>\n",
       "</g>\n",
       "<g transform=\"matrix(0.996264 0 0 0.996264 198.496 252.638)\">\n",
       "<path d=\"M 135.506 398.694L 135.506 0.355659\" fill=\"none\" stroke=\"#cccccc\" stroke-dasharray=\"0,0.683086\" stroke-linecap=\"round\" stroke-linejoin=\"round\" stroke-miterlimit=\"10.0375\" stroke-width=\"0.170717\"/>\n",
       "</g>\n",
       "<g transform=\"matrix(0.996264 0 0 0.996264 198.496 252.638)\">\n",
       "<path d=\"M 142.619 398.694L 142.619 0.355659\" fill=\"none\" stroke=\"#cccccc\" stroke-linecap=\"round\" stroke-linejoin=\"round\" stroke-miterlimit=\"10.0375\" stroke-width=\"0.426791\"/>\n",
       "</g>\n",
       "<g transform=\"matrix(0.996264 0 0 0.996264 198.496 252.638)\">\n",
       "<path d=\"M 149.733 398.694L 149.733 0.355659\" fill=\"none\" stroke=\"#cccccc\" stroke-dasharray=\"0,0.683086\" stroke-linecap=\"round\" stroke-linejoin=\"round\" stroke-miterlimit=\"10.0375\" stroke-width=\"0.170717\"/>\n",
       "</g>\n",
       "<g transform=\"matrix(0.996264 0 0 0.996264 198.496 252.638)\">\n",
       "<path d=\"M 156.846 398.694L 156.846 0.355659\" fill=\"none\" stroke=\"#cccccc\" stroke-dasharray=\"0,0.683086\" stroke-linecap=\"round\" stroke-linejoin=\"round\" stroke-miterlimit=\"10.0375\" stroke-width=\"0.170717\"/>\n",
       "</g>\n",
       "<g transform=\"matrix(0.996264 0 0 0.996264 198.496 252.638)\">\n",
       "<path d=\"M 163.959 398.694L 163.959 0.355659\" fill=\"none\" stroke=\"#cccccc\" stroke-dasharray=\"0,0.683086\" stroke-linecap=\"round\" stroke-linejoin=\"round\" stroke-miterlimit=\"10.0375\" stroke-width=\"0.170717\"/>\n",
       "</g>\n",
       "<g transform=\"matrix(0.996264 0 0 0.996264 198.496 252.638)\">\n",
       "<path d=\"M 171.072 398.694L 171.072 0.355659\" fill=\"none\" stroke=\"#cccccc\" stroke-linecap=\"round\" stroke-linejoin=\"round\" stroke-miterlimit=\"10.0375\" stroke-width=\"0.426791\"/>\n",
       "</g>\n",
       "<g transform=\"matrix(0.996264 0 0 0.996264 198.496 252.638)\">\n",
       "<path d=\"M 178.185 398.694L 178.185 0.355659\" fill=\"none\" stroke=\"#cccccc\" stroke-dasharray=\"0,0.683086\" stroke-linecap=\"round\" stroke-linejoin=\"round\" stroke-miterlimit=\"10.0375\" stroke-width=\"0.170717\"/>\n",
       "</g>\n",
       "<g transform=\"matrix(0.996264 0 0 0.996264 198.496 252.638)\">\n",
       "<path d=\"M 185.299 398.694L 185.299 0.355659\" fill=\"none\" stroke=\"#cccccc\" stroke-dasharray=\"0,0.683086\" stroke-linecap=\"round\" stroke-linejoin=\"round\" stroke-miterlimit=\"10.0375\" stroke-width=\"0.170717\"/>\n",
       "</g>\n",
       "<g transform=\"matrix(0.996264 0 0 0.996264 198.496 252.638)\">\n",
       "<path d=\"M 192.412 398.694L 192.412 0.355659\" fill=\"none\" stroke=\"#cccccc\" stroke-dasharray=\"0,0.683086\" stroke-linecap=\"round\" stroke-linejoin=\"round\" stroke-miterlimit=\"10.0375\" stroke-width=\"0.170717\"/>\n",
       "</g>\n",
       "<g transform=\"matrix(0.996264 0 0 0.996264 198.496 252.638)\">\n",
       "<path d=\"M 199.525 398.694L 199.525 0.355659\" fill=\"none\" stroke=\"#cccccc\" stroke-linecap=\"round\" stroke-linejoin=\"round\" stroke-miterlimit=\"10.0375\" stroke-width=\"0.426791\"/>\n",
       "</g>\n",
       "<g transform=\"matrix(0.996264 0 0 0.996264 198.496 252.638)\">\n",
       "<path d=\"M 206.638 398.694L 206.638 0.355659\" fill=\"none\" stroke=\"#cccccc\" stroke-dasharray=\"0,0.683086\" stroke-linecap=\"round\" stroke-linejoin=\"round\" stroke-miterlimit=\"10.0375\" stroke-width=\"0.170717\"/>\n",
       "</g>\n",
       "<g transform=\"matrix(0.996264 0 0 0.996264 198.496 252.638)\">\n",
       "<path d=\"M 213.751 398.694L 213.751 0.355659\" fill=\"none\" stroke=\"#cccccc\" stroke-dasharray=\"0,0.683086\" stroke-linecap=\"round\" stroke-linejoin=\"round\" stroke-miterlimit=\"10.0375\" stroke-width=\"0.170717\"/>\n",
       "</g>\n",
       "<g transform=\"matrix(0.996264 0 0 0.996264 198.496 252.638)\">\n",
       "<path d=\"M 220.865 398.694L 220.865 0.355659\" fill=\"none\" stroke=\"#cccccc\" stroke-dasharray=\"0,0.683086\" stroke-linecap=\"round\" stroke-linejoin=\"round\" stroke-miterlimit=\"10.0375\" stroke-width=\"0.170717\"/>\n",
       "</g>\n",
       "<g transform=\"matrix(0.996264 0 0 0.996264 198.496 252.638)\">\n",
       "<path d=\"M 227.978 398.694L 227.978 0.355659\" fill=\"none\" stroke=\"#cccccc\" stroke-linecap=\"round\" stroke-linejoin=\"round\" stroke-miterlimit=\"10.0375\" stroke-width=\"0.426791\"/>\n",
       "</g>\n",
       "<g transform=\"matrix(0.996264 0 0 0.996264 198.496 252.638)\">\n",
       "<path d=\"M 235.091 398.694L 235.091 0.355659\" fill=\"none\" stroke=\"#cccccc\" stroke-dasharray=\"0,0.683086\" stroke-linecap=\"round\" stroke-linejoin=\"round\" stroke-miterlimit=\"10.0375\" stroke-width=\"0.170717\"/>\n",
       "</g>\n",
       "<g transform=\"matrix(0.996264 0 0 0.996264 198.496 252.638)\">\n",
       "<path d=\"M 242.204 398.694L 242.204 0.355659\" fill=\"none\" stroke=\"#cccccc\" stroke-dasharray=\"0,0.683086\" stroke-linecap=\"round\" stroke-linejoin=\"round\" stroke-miterlimit=\"10.0375\" stroke-width=\"0.170717\"/>\n",
       "</g>\n",
       "<g transform=\"matrix(0.996264 0 0 0.996264 198.496 252.638)\">\n",
       "<path d=\"M 249.317 398.694L 249.317 0.355659\" fill=\"none\" stroke=\"#cccccc\" stroke-dasharray=\"0,0.683086\" stroke-linecap=\"round\" stroke-linejoin=\"round\" stroke-miterlimit=\"10.0375\" stroke-width=\"0.170717\"/>\n",
       "</g>\n",
       "<g transform=\"matrix(0.996264 0 0 0.996264 198.496 252.638)\">\n",
       "<path d=\"M 256.43 398.694L 256.43 0.355659\" fill=\"none\" stroke=\"#cccccc\" stroke-linecap=\"round\" stroke-linejoin=\"round\" stroke-miterlimit=\"10.0375\" stroke-width=\"0.426791\"/>\n",
       "</g>\n",
       "<g transform=\"matrix(0.996264 0 0 0.996264 198.496 252.638)\">\n",
       "<path d=\"M 263.544 398.694L 263.544 0.355659\" fill=\"none\" stroke=\"#cccccc\" stroke-dasharray=\"0,0.683086\" stroke-linecap=\"round\" stroke-linejoin=\"round\" stroke-miterlimit=\"10.0375\" stroke-width=\"0.170717\"/>\n",
       "</g>\n",
       "<g transform=\"matrix(0.996264 0 0 0.996264 198.496 252.638)\">\n",
       "<path d=\"M 270.657 398.694L 270.657 0.355659\" fill=\"none\" stroke=\"#cccccc\" stroke-dasharray=\"0,0.683086\" stroke-linecap=\"round\" stroke-linejoin=\"round\" stroke-miterlimit=\"10.0375\" stroke-width=\"0.170717\"/>\n",
       "</g>\n",
       "<g transform=\"matrix(0.996264 0 0 0.996264 198.496 252.638)\">\n",
       "<path d=\"M 277.77 398.694L 277.77 0.355659\" fill=\"none\" stroke=\"#cccccc\" stroke-dasharray=\"0,0.683086\" stroke-linecap=\"round\" stroke-linejoin=\"round\" stroke-miterlimit=\"10.0375\" stroke-width=\"0.170717\"/>\n",
       "</g>\n",
       "<g transform=\"matrix(0.996264 0 0 0.996264 198.496 252.638)\">\n",
       "<path d=\"M 284.883 398.694L 284.883 0.355659\" fill=\"none\" stroke=\"#cccccc\" stroke-linecap=\"round\" stroke-linejoin=\"round\" stroke-miterlimit=\"10.0375\" stroke-width=\"0.426791\"/>\n",
       "</g>\n",
       "<g transform=\"matrix(0.996264 0 0 0.996264 198.496 252.638)\">\n",
       "<path d=\"M 291.996 398.694L 291.996 0.355659\" fill=\"none\" stroke=\"#cccccc\" stroke-dasharray=\"0,0.683086\" stroke-linecap=\"round\" stroke-linejoin=\"round\" stroke-miterlimit=\"10.0375\" stroke-width=\"0.170717\"/>\n",
       "</g>\n",
       "<g transform=\"matrix(0.996264 0 0 0.996264 198.496 252.638)\">\n",
       "<path d=\"M 299.11 398.694L 299.11 0.355659\" fill=\"none\" stroke=\"#cccccc\" stroke-dasharray=\"0,0.683086\" stroke-linecap=\"round\" stroke-linejoin=\"round\" stroke-miterlimit=\"10.0375\" stroke-width=\"0.170717\"/>\n",
       "</g>\n",
       "<g transform=\"matrix(0.996264 0 0 0.996264 198.496 252.638)\">\n",
       "<path d=\"M 306.223 398.694L 306.223 0.355659\" fill=\"none\" stroke=\"#cccccc\" stroke-dasharray=\"0,0.683086\" stroke-linecap=\"round\" stroke-linejoin=\"round\" stroke-miterlimit=\"10.0375\" stroke-width=\"0.170717\"/>\n",
       "</g>\n",
       "<g transform=\"matrix(0.996264 0 0 0.996264 198.496 252.638)\">\n",
       "<path d=\"M 313.336 398.694L 313.336 0.355659\" fill=\"none\" stroke=\"#cccccc\" stroke-linecap=\"round\" stroke-linejoin=\"round\" stroke-miterlimit=\"10.0375\" stroke-width=\"0.426791\"/>\n",
       "</g>\n",
       "<g transform=\"matrix(0.996264 0 0 0.996264 198.496 252.638)\">\n",
       "<path d=\"M 320.449 398.694L 320.449 0.355659\" fill=\"none\" stroke=\"#cccccc\" stroke-dasharray=\"0,0.683086\" stroke-linecap=\"round\" stroke-linejoin=\"round\" stroke-miterlimit=\"10.0375\" stroke-width=\"0.170717\"/>\n",
       "</g>\n",
       "<g transform=\"matrix(0.996264 0 0 0.996264 198.496 252.638)\">\n",
       "<path d=\"M 327.562 398.694L 327.562 0.355659\" fill=\"none\" stroke=\"#cccccc\" stroke-dasharray=\"0,0.683086\" stroke-linecap=\"round\" stroke-linejoin=\"round\" stroke-miterlimit=\"10.0375\" stroke-width=\"0.170717\"/>\n",
       "</g>\n",
       "<g transform=\"matrix(0.996264 0 0 0.996264 198.496 252.638)\">\n",
       "<path d=\"M 334.676 398.694L 334.676 0.355659\" fill=\"none\" stroke=\"#cccccc\" stroke-dasharray=\"0,0.683086\" stroke-linecap=\"round\" stroke-linejoin=\"round\" stroke-miterlimit=\"10.0375\" stroke-width=\"0.170717\"/>\n",
       "</g>\n",
       "<g transform=\"matrix(0.996264 0 0 0.996264 198.496 252.638)\">\n",
       "<path d=\"M 341.789 398.694L 341.789 0.355659\" fill=\"none\" stroke=\"#cccccc\" stroke-linecap=\"round\" stroke-linejoin=\"round\" stroke-miterlimit=\"10.0375\" stroke-width=\"0.426791\"/>\n",
       "</g>\n",
       "<g transform=\"matrix(0.996264 0 0 0.996264 198.496 252.638)\">\n",
       "<path d=\"M 348.902 398.694L 348.902 0.355659\" fill=\"none\" stroke=\"#cccccc\" stroke-dasharray=\"0,0.683086\" stroke-linecap=\"round\" stroke-linejoin=\"round\" stroke-miterlimit=\"10.0375\" stroke-width=\"0.170717\"/>\n",
       "</g>\n",
       "<g transform=\"matrix(0.996264 0 0 0.996264 198.496 252.638)\">\n",
       "<path d=\"M 356.015 398.694L 356.015 0.355659\" fill=\"none\" stroke=\"#cccccc\" stroke-dasharray=\"0,0.683086\" stroke-linecap=\"round\" stroke-linejoin=\"round\" stroke-miterlimit=\"10.0375\" stroke-width=\"0.170717\"/>\n",
       "</g>\n",
       "<g transform=\"matrix(0.996264 0 0 0.996264 198.496 252.638)\">\n",
       "<path d=\"M 363.128 398.694L 363.128 0.355659\" fill=\"none\" stroke=\"#cccccc\" stroke-dasharray=\"0,0.683086\" stroke-linecap=\"round\" stroke-linejoin=\"round\" stroke-miterlimit=\"10.0375\" stroke-width=\"0.170717\"/>\n",
       "</g>\n",
       "<g transform=\"matrix(0.996264 0 0 0.996264 198.496 252.638)\">\n",
       "<path d=\"M 370.241 398.694L 370.241 0.355659\" fill=\"none\" stroke=\"#cccccc\" stroke-linecap=\"round\" stroke-linejoin=\"round\" stroke-miterlimit=\"10.0375\" stroke-width=\"0.426791\"/>\n",
       "</g>\n",
       "<g transform=\"matrix(0.996264 0 0 0.996264 198.496 252.638)\">\n",
       "<path d=\"M 377.355 398.694L 377.355 0.355659\" fill=\"none\" stroke=\"#cccccc\" stroke-dasharray=\"0,0.683086\" stroke-linecap=\"round\" stroke-linejoin=\"round\" stroke-miterlimit=\"10.0375\" stroke-width=\"0.170717\"/>\n",
       "</g>\n",
       "<g transform=\"matrix(0.996264 0 0 0.996264 198.496 252.638)\">\n",
       "<path d=\"M 384.468 398.694L 384.468 0.355659\" fill=\"none\" stroke=\"#cccccc\" stroke-dasharray=\"0,0.683086\" stroke-linecap=\"round\" stroke-linejoin=\"round\" stroke-miterlimit=\"10.0375\" stroke-width=\"0.170717\"/>\n",
       "</g>\n",
       "<g transform=\"matrix(0.996264 0 0 0.996264 198.496 252.638)\">\n",
       "<path d=\"M 391.581 398.694L 391.581 0.355659\" fill=\"none\" stroke=\"#cccccc\" stroke-dasharray=\"0,0.683086\" stroke-linecap=\"round\" stroke-linejoin=\"round\" stroke-miterlimit=\"10.0375\" stroke-width=\"0.170717\"/>\n",
       "</g>\n",
       "<g transform=\"matrix(0.996264 0 0 0.996264 198.496 252.638)\">\n",
       "<path d=\"M 398.694 398.694L 398.694 0.355659\" fill=\"none\" stroke=\"#cccccc\" stroke-linecap=\"round\" stroke-linejoin=\"round\" stroke-miterlimit=\"10.0375\" stroke-width=\"0.426791\"/>\n",
       "</g>\n",
       "<g transform=\"matrix(0.996264 0 0 0.996264 198.496 252.638)\">\n",
       "<path d=\"M 405.807 398.694L 405.807 0.355659\" fill=\"none\" stroke=\"#cccccc\" stroke-dasharray=\"0,0.683086\" stroke-linecap=\"round\" stroke-linejoin=\"round\" stroke-miterlimit=\"10.0375\" stroke-width=\"0.170717\"/>\n",
       "</g>\n",
       "<g transform=\"matrix(0.996264 0 0 0.996264 198.496 252.638)\">\n",
       "<path d=\"M 412.921 398.694L 412.921 0.355659\" fill=\"none\" stroke=\"#cccccc\" stroke-dasharray=\"0,0.683086\" stroke-linecap=\"round\" stroke-linejoin=\"round\" stroke-miterlimit=\"10.0375\" stroke-width=\"0.170717\"/>\n",
       "</g>\n",
       "<g transform=\"matrix(0.996264 0 0 0.996264 198.496 252.638)\">\n",
       "<path d=\"M 420.034 398.694L 420.034 0.355659\" fill=\"none\" stroke=\"#cccccc\" stroke-dasharray=\"0,0.683086\" stroke-linecap=\"round\" stroke-linejoin=\"round\" stroke-miterlimit=\"10.0375\" stroke-width=\"0.170717\"/>\n",
       "</g>\n",
       "<g transform=\"matrix(0.996264 0 0 0.996264 198.496 252.638)\">\n",
       "<path d=\"M 427.147 398.694L 427.147 0.355659\" fill=\"none\" stroke=\"#cccccc\" stroke-linecap=\"round\" stroke-linejoin=\"round\" stroke-miterlimit=\"10.0375\" stroke-width=\"0.426791\"/>\n",
       "</g>\n",
       "<g transform=\"matrix(0.996264 0 0 0.996264 198.496 252.638)\">\n",
       "<path d=\"M 434.26 398.694L 434.26 0.355659\" fill=\"none\" stroke=\"#cccccc\" stroke-dasharray=\"0,0.683086\" stroke-linecap=\"round\" stroke-linejoin=\"round\" stroke-miterlimit=\"10.0375\" stroke-width=\"0.170717\"/>\n",
       "</g>\n",
       "<g transform=\"matrix(0.996264 0 0 0.996264 198.496 252.638)\">\n",
       "<path d=\"M 441.373 398.694L 441.373 0.355659\" fill=\"none\" stroke=\"#cccccc\" stroke-dasharray=\"0,0.683086\" stroke-linecap=\"round\" stroke-linejoin=\"round\" stroke-miterlimit=\"10.0375\" stroke-width=\"0.170717\"/>\n",
       "</g>\n",
       "<g transform=\"matrix(0.996264 0 0 0.996264 198.496 252.638)\">\n",
       "<path d=\"M 448.487 398.694L 448.487 0.355659\" fill=\"none\" stroke=\"#cccccc\" stroke-dasharray=\"0,0.683086\" stroke-linecap=\"round\" stroke-linejoin=\"round\" stroke-miterlimit=\"10.0375\" stroke-width=\"0.170717\"/>\n",
       "</g>\n",
       "<g transform=\"matrix(0.996264 0 0 0.996264 198.496 252.638)\">\n",
       "<path d=\"M 455.6 398.694L 455.6 0.355659\" fill=\"none\" stroke=\"#cccccc\" stroke-linecap=\"round\" stroke-linejoin=\"round\" stroke-miterlimit=\"10.0375\" stroke-width=\"0.426791\"/>\n",
       "</g>\n",
       "<g transform=\"matrix(0.996264 0 0 0.996264 198.496 252.638)\">\n",
       "<path d=\"M 0.355659 398.694L 455.6 398.694\" fill=\"none\" stroke=\"#cccccc\" stroke-linecap=\"round\" stroke-linejoin=\"round\" stroke-miterlimit=\"10.0375\" stroke-width=\"0.426791\"/>\n",
       "</g>\n",
       "<g transform=\"matrix(0.996264 0 0 0.996264 198.496 252.638)\">\n",
       "<path d=\"M 0.355659 391.581L 455.6 391.581\" fill=\"none\" stroke=\"#cccccc\" stroke-dasharray=\"0,0.682354\" stroke-linecap=\"round\" stroke-linejoin=\"round\" stroke-miterlimit=\"10.0375\" stroke-width=\"0.170717\"/>\n",
       "</g>\n",
       "<g transform=\"matrix(0.996264 0 0 0.996264 198.496 252.638)\">\n",
       "<path d=\"M 0.355659 384.468L 455.6 384.468\" fill=\"none\" stroke=\"#cccccc\" stroke-dasharray=\"0,0.682354\" stroke-linecap=\"round\" stroke-linejoin=\"round\" stroke-miterlimit=\"10.0375\" stroke-width=\"0.170717\"/>\n",
       "</g>\n",
       "<g transform=\"matrix(0.996264 0 0 0.996264 198.496 252.638)\">\n",
       "<path d=\"M 0.355659 377.355L 455.6 377.355\" fill=\"none\" stroke=\"#cccccc\" stroke-dasharray=\"0,0.682354\" stroke-linecap=\"round\" stroke-linejoin=\"round\" stroke-miterlimit=\"10.0375\" stroke-width=\"0.170717\"/>\n",
       "</g>\n",
       "<g transform=\"matrix(0.996264 0 0 0.996264 198.496 252.638)\">\n",
       "<path d=\"M 0.355659 370.241L 455.6 370.241\" fill=\"none\" stroke=\"#cccccc\" stroke-dasharray=\"0,0.682354\" stroke-linecap=\"round\" stroke-linejoin=\"round\" stroke-miterlimit=\"10.0375\" stroke-width=\"0.170717\"/>\n",
       "</g>\n",
       "<g transform=\"matrix(0.996264 0 0 0.996264 198.496 252.638)\">\n",
       "<path d=\"M 0.355659 370.241L 455.6 370.241\" fill=\"none\" stroke=\"#cccccc\" stroke-linecap=\"round\" stroke-linejoin=\"round\" stroke-miterlimit=\"10.0375\" stroke-width=\"0.426791\"/>\n",
       "</g>\n",
       "<g transform=\"matrix(0.996264 0 0 0.996264 198.496 252.638)\">\n",
       "<path d=\"M 0.355659 363.128L 455.6 363.128\" fill=\"none\" stroke=\"#cccccc\" stroke-dasharray=\"0,0.682354\" stroke-linecap=\"round\" stroke-linejoin=\"round\" stroke-miterlimit=\"10.0375\" stroke-width=\"0.170717\"/>\n",
       "</g>\n",
       "<g transform=\"matrix(0.996264 0 0 0.996264 198.496 252.638)\">\n",
       "<path d=\"M 0.355659 356.015L 455.6 356.015\" fill=\"none\" stroke=\"#cccccc\" stroke-dasharray=\"0,0.682354\" stroke-linecap=\"round\" stroke-linejoin=\"round\" stroke-miterlimit=\"10.0375\" stroke-width=\"0.170717\"/>\n",
       "</g>\n",
       "<g transform=\"matrix(0.996264 0 0 0.996264 198.496 252.638)\">\n",
       "<path d=\"M 0.355659 348.902L 455.6 348.902\" fill=\"none\" stroke=\"#cccccc\" stroke-dasharray=\"0,0.682354\" stroke-linecap=\"round\" stroke-linejoin=\"round\" stroke-miterlimit=\"10.0375\" stroke-width=\"0.170717\"/>\n",
       "</g>\n",
       "<g transform=\"matrix(0.996264 0 0 0.996264 198.496 252.638)\">\n",
       "<path d=\"M 0.355659 341.789L 455.6 341.789\" fill=\"none\" stroke=\"#cccccc\" stroke-dasharray=\"0,0.682354\" stroke-linecap=\"round\" stroke-linejoin=\"round\" stroke-miterlimit=\"10.0375\" stroke-width=\"0.170717\"/>\n",
       "</g>\n",
       "<g transform=\"matrix(0.996264 0 0 0.996264 198.496 252.638)\">\n",
       "<path d=\"M 0.355659 341.789L 455.6 341.789\" fill=\"none\" stroke=\"#cccccc\" stroke-linecap=\"round\" stroke-linejoin=\"round\" stroke-miterlimit=\"10.0375\" stroke-width=\"0.426791\"/>\n",
       "</g>\n",
       "<g transform=\"matrix(0.996264 0 0 0.996264 198.496 252.638)\">\n",
       "<path d=\"M 0.355659 334.676L 455.6 334.676\" fill=\"none\" stroke=\"#cccccc\" stroke-dasharray=\"0,0.682354\" stroke-linecap=\"round\" stroke-linejoin=\"round\" stroke-miterlimit=\"10.0375\" stroke-width=\"0.170717\"/>\n",
       "</g>\n",
       "<g transform=\"matrix(0.996264 0 0 0.996264 198.496 252.638)\">\n",
       "<path d=\"M 0.355659 327.562L 455.6 327.562\" fill=\"none\" stroke=\"#cccccc\" stroke-dasharray=\"0,0.682354\" stroke-linecap=\"round\" stroke-linejoin=\"round\" stroke-miterlimit=\"10.0375\" stroke-width=\"0.170717\"/>\n",
       "</g>\n",
       "<g transform=\"matrix(0.996264 0 0 0.996264 198.496 252.638)\">\n",
       "<path d=\"M 0.355659 320.449L 455.6 320.449\" fill=\"none\" stroke=\"#cccccc\" stroke-dasharray=\"0,0.682354\" stroke-linecap=\"round\" stroke-linejoin=\"round\" stroke-miterlimit=\"10.0375\" stroke-width=\"0.170717\"/>\n",
       "</g>\n",
       "<g transform=\"matrix(0.996264 0 0 0.996264 198.496 252.638)\">\n",
       "<path d=\"M 0.355659 313.336L 455.6 313.336\" fill=\"none\" stroke=\"#cccccc\" stroke-dasharray=\"0,0.682354\" stroke-linecap=\"round\" stroke-linejoin=\"round\" stroke-miterlimit=\"10.0375\" stroke-width=\"0.170717\"/>\n",
       "</g>\n",
       "<g transform=\"matrix(0.996264 0 0 0.996264 198.496 252.638)\">\n",
       "<path d=\"M 0.355659 313.336L 455.6 313.336\" fill=\"none\" stroke=\"#cccccc\" stroke-linecap=\"round\" stroke-linejoin=\"round\" stroke-miterlimit=\"10.0375\" stroke-width=\"0.426791\"/>\n",
       "</g>\n",
       "<g transform=\"matrix(0.996264 0 0 0.996264 198.496 252.638)\">\n",
       "<path d=\"M 0.355659 306.223L 455.6 306.223\" fill=\"none\" stroke=\"#cccccc\" stroke-dasharray=\"0,0.682354\" stroke-linecap=\"round\" stroke-linejoin=\"round\" stroke-miterlimit=\"10.0375\" stroke-width=\"0.170717\"/>\n",
       "</g>\n",
       "<g transform=\"matrix(0.996264 0 0 0.996264 198.496 252.638)\">\n",
       "<path d=\"M 0.355659 299.11L 455.6 299.11\" fill=\"none\" stroke=\"#cccccc\" stroke-dasharray=\"0,0.682354\" stroke-linecap=\"round\" stroke-linejoin=\"round\" stroke-miterlimit=\"10.0375\" stroke-width=\"0.170717\"/>\n",
       "</g>\n",
       "<g transform=\"matrix(0.996264 0 0 0.996264 198.496 252.638)\">\n",
       "<path d=\"M 0.355659 291.996L 455.6 291.996\" fill=\"none\" stroke=\"#cccccc\" stroke-dasharray=\"0,0.682354\" stroke-linecap=\"round\" stroke-linejoin=\"round\" stroke-miterlimit=\"10.0375\" stroke-width=\"0.170717\"/>\n",
       "</g>\n",
       "<g transform=\"matrix(0.996264 0 0 0.996264 198.496 252.638)\">\n",
       "<path d=\"M 0.355659 284.883L 455.6 284.883\" fill=\"none\" stroke=\"#cccccc\" stroke-dasharray=\"0,0.682354\" stroke-linecap=\"round\" stroke-linejoin=\"round\" stroke-miterlimit=\"10.0375\" stroke-width=\"0.170717\"/>\n",
       "</g>\n",
       "<g transform=\"matrix(0.996264 0 0 0.996264 198.496 252.638)\">\n",
       "<path d=\"M 0.355659 284.883L 455.6 284.883\" fill=\"none\" stroke=\"#cccccc\" stroke-linecap=\"round\" stroke-linejoin=\"round\" stroke-miterlimit=\"10.0375\" stroke-width=\"0.426791\"/>\n",
       "</g>\n",
       "<g transform=\"matrix(0.996264 0 0 0.996264 198.496 252.638)\">\n",
       "<path d=\"M 0.355659 277.77L 455.6 277.77\" fill=\"none\" stroke=\"#cccccc\" stroke-dasharray=\"0,0.682354\" stroke-linecap=\"round\" stroke-linejoin=\"round\" stroke-miterlimit=\"10.0375\" stroke-width=\"0.170717\"/>\n",
       "</g>\n",
       "<g transform=\"matrix(0.996264 0 0 0.996264 198.496 252.638)\">\n",
       "<path d=\"M 0.355659 270.657L 455.6 270.657\" fill=\"none\" stroke=\"#cccccc\" stroke-dasharray=\"0,0.682354\" stroke-linecap=\"round\" stroke-linejoin=\"round\" stroke-miterlimit=\"10.0375\" stroke-width=\"0.170717\"/>\n",
       "</g>\n",
       "<g transform=\"matrix(0.996264 0 0 0.996264 198.496 252.638)\">\n",
       "<path d=\"M 0.355659 263.544L 455.6 263.544\" fill=\"none\" stroke=\"#cccccc\" stroke-dasharray=\"0,0.682354\" stroke-linecap=\"round\" stroke-linejoin=\"round\" stroke-miterlimit=\"10.0375\" stroke-width=\"0.170717\"/>\n",
       "</g>\n",
       "<g transform=\"matrix(0.996264 0 0 0.996264 198.496 252.638)\">\n",
       "<path d=\"M 0.355659 256.43L 455.6 256.43\" fill=\"none\" stroke=\"#cccccc\" stroke-dasharray=\"0,0.682354\" stroke-linecap=\"round\" stroke-linejoin=\"round\" stroke-miterlimit=\"10.0375\" stroke-width=\"0.170717\"/>\n",
       "</g>\n",
       "<g transform=\"matrix(0.996264 0 0 0.996264 198.496 252.638)\">\n",
       "<path d=\"M 0.355659 256.43L 455.6 256.43\" fill=\"none\" stroke=\"#cccccc\" stroke-linecap=\"round\" stroke-linejoin=\"round\" stroke-miterlimit=\"10.0375\" stroke-width=\"0.426791\"/>\n",
       "</g>\n",
       "<g transform=\"matrix(0.996264 0 0 0.996264 198.496 252.638)\">\n",
       "<path d=\"M 0.355659 249.317L 455.6 249.317\" fill=\"none\" stroke=\"#cccccc\" stroke-dasharray=\"0,0.682354\" stroke-linecap=\"round\" stroke-linejoin=\"round\" stroke-miterlimit=\"10.0375\" stroke-width=\"0.170717\"/>\n",
       "</g>\n",
       "<g transform=\"matrix(0.996264 0 0 0.996264 198.496 252.638)\">\n",
       "<path d=\"M 0.355659 242.204L 455.6 242.204\" fill=\"none\" stroke=\"#cccccc\" stroke-dasharray=\"0,0.682354\" stroke-linecap=\"round\" stroke-linejoin=\"round\" stroke-miterlimit=\"10.0375\" stroke-width=\"0.170717\"/>\n",
       "</g>\n",
       "<g transform=\"matrix(0.996264 0 0 0.996264 198.496 252.638)\">\n",
       "<path d=\"M 0.355659 235.091L 455.6 235.091\" fill=\"none\" stroke=\"#cccccc\" stroke-dasharray=\"0,0.682354\" stroke-linecap=\"round\" stroke-linejoin=\"round\" stroke-miterlimit=\"10.0375\" stroke-width=\"0.170717\"/>\n",
       "</g>\n",
       "<g transform=\"matrix(0.996264 0 0 0.996264 198.496 252.638)\">\n",
       "<path d=\"M 0.355659 227.978L 455.6 227.978\" fill=\"none\" stroke=\"#cccccc\" stroke-dasharray=\"0,0.682354\" stroke-linecap=\"round\" stroke-linejoin=\"round\" stroke-miterlimit=\"10.0375\" stroke-width=\"0.170717\"/>\n",
       "</g>\n",
       "<g transform=\"matrix(0.996264 0 0 0.996264 198.496 252.638)\">\n",
       "<path d=\"M 0.355659 227.978L 455.6 227.978\" fill=\"none\" stroke=\"#cccccc\" stroke-linecap=\"round\" stroke-linejoin=\"round\" stroke-miterlimit=\"10.0375\" stroke-width=\"0.426791\"/>\n",
       "</g>\n",
       "<g transform=\"matrix(0.996264 0 0 0.996264 198.496 252.638)\">\n",
       "<path d=\"M 0.355659 220.865L 455.6 220.865\" fill=\"none\" stroke=\"#cccccc\" stroke-dasharray=\"0,0.682354\" stroke-linecap=\"round\" stroke-linejoin=\"round\" stroke-miterlimit=\"10.0375\" stroke-width=\"0.170717\"/>\n",
       "</g>\n",
       "<g transform=\"matrix(0.996264 0 0 0.996264 198.496 252.638)\">\n",
       "<path d=\"M 0.355659 213.751L 455.6 213.751\" fill=\"none\" stroke=\"#cccccc\" stroke-dasharray=\"0,0.682354\" stroke-linecap=\"round\" stroke-linejoin=\"round\" stroke-miterlimit=\"10.0375\" stroke-width=\"0.170717\"/>\n",
       "</g>\n",
       "<g transform=\"matrix(0.996264 0 0 0.996264 198.496 252.638)\">\n",
       "<path d=\"M 0.355659 206.638L 455.6 206.638\" fill=\"none\" stroke=\"#cccccc\" stroke-dasharray=\"0,0.682354\" stroke-linecap=\"round\" stroke-linejoin=\"round\" stroke-miterlimit=\"10.0375\" stroke-width=\"0.170717\"/>\n",
       "</g>\n",
       "<g transform=\"matrix(0.996264 0 0 0.996264 198.496 252.638)\">\n",
       "<path d=\"M 0.355659 199.525L 455.6 199.525\" fill=\"none\" stroke=\"#cccccc\" stroke-dasharray=\"0,0.682354\" stroke-linecap=\"round\" stroke-linejoin=\"round\" stroke-miterlimit=\"10.0375\" stroke-width=\"0.170717\"/>\n",
       "</g>\n",
       "<g transform=\"matrix(0.996264 0 0 0.996264 198.496 252.638)\">\n",
       "<path d=\"M 0.355659 199.525L 455.6 199.525\" fill=\"none\" stroke=\"#cccccc\" stroke-linecap=\"round\" stroke-linejoin=\"round\" stroke-miterlimit=\"10.0375\" stroke-width=\"0.426791\"/>\n",
       "</g>\n",
       "<g transform=\"matrix(0.996264 0 0 0.996264 198.496 252.638)\">\n",
       "<path d=\"M 0.355659 192.412L 455.6 192.412\" fill=\"none\" stroke=\"#cccccc\" stroke-dasharray=\"0,0.682354\" stroke-linecap=\"round\" stroke-linejoin=\"round\" stroke-miterlimit=\"10.0375\" stroke-width=\"0.170717\"/>\n",
       "</g>\n",
       "<g transform=\"matrix(0.996264 0 0 0.996264 198.496 252.638)\">\n",
       "<path d=\"M 0.355659 185.299L 455.6 185.299\" fill=\"none\" stroke=\"#cccccc\" stroke-dasharray=\"0,0.682354\" stroke-linecap=\"round\" stroke-linejoin=\"round\" stroke-miterlimit=\"10.0375\" stroke-width=\"0.170717\"/>\n",
       "</g>\n",
       "<g transform=\"matrix(0.996264 0 0 0.996264 198.496 252.638)\">\n",
       "<path d=\"M 0.355659 178.185L 455.6 178.185\" fill=\"none\" stroke=\"#cccccc\" stroke-dasharray=\"0,0.682354\" stroke-linecap=\"round\" stroke-linejoin=\"round\" stroke-miterlimit=\"10.0375\" stroke-width=\"0.170717\"/>\n",
       "</g>\n",
       "<g transform=\"matrix(0.996264 0 0 0.996264 198.496 252.638)\">\n",
       "<path d=\"M 0.355659 171.072L 455.6 171.072\" fill=\"none\" stroke=\"#cccccc\" stroke-dasharray=\"0,0.682354\" stroke-linecap=\"round\" stroke-linejoin=\"round\" stroke-miterlimit=\"10.0375\" stroke-width=\"0.170717\"/>\n",
       "</g>\n",
       "<g transform=\"matrix(0.996264 0 0 0.996264 198.496 252.638)\">\n",
       "<path d=\"M 0.355659 171.072L 455.6 171.072\" fill=\"none\" stroke=\"#cccccc\" stroke-linecap=\"round\" stroke-linejoin=\"round\" stroke-miterlimit=\"10.0375\" stroke-width=\"0.426791\"/>\n",
       "</g>\n",
       "<g transform=\"matrix(0.996264 0 0 0.996264 198.496 252.638)\">\n",
       "<path d=\"M 0.355659 163.959L 455.6 163.959\" fill=\"none\" stroke=\"#cccccc\" stroke-dasharray=\"0,0.682354\" stroke-linecap=\"round\" stroke-linejoin=\"round\" stroke-miterlimit=\"10.0375\" stroke-width=\"0.170717\"/>\n",
       "</g>\n",
       "<g transform=\"matrix(0.996264 0 0 0.996264 198.496 252.638)\">\n",
       "<path d=\"M 0.355659 156.846L 455.6 156.846\" fill=\"none\" stroke=\"#cccccc\" stroke-dasharray=\"0,0.682354\" stroke-linecap=\"round\" stroke-linejoin=\"round\" stroke-miterlimit=\"10.0375\" stroke-width=\"0.170717\"/>\n",
       "</g>\n",
       "<g transform=\"matrix(0.996264 0 0 0.996264 198.496 252.638)\">\n",
       "<path d=\"M 0.355659 149.733L 455.6 149.733\" fill=\"none\" stroke=\"#cccccc\" stroke-dasharray=\"0,0.682354\" stroke-linecap=\"round\" stroke-linejoin=\"round\" stroke-miterlimit=\"10.0375\" stroke-width=\"0.170717\"/>\n",
       "</g>\n",
       "<g transform=\"matrix(0.996264 0 0 0.996264 198.496 252.638)\">\n",
       "<path d=\"M 0.355659 142.619L 455.6 142.619\" fill=\"none\" stroke=\"#cccccc\" stroke-dasharray=\"0,0.682354\" stroke-linecap=\"round\" stroke-linejoin=\"round\" stroke-miterlimit=\"10.0375\" stroke-width=\"0.170717\"/>\n",
       "</g>\n",
       "<g transform=\"matrix(0.996264 0 0 0.996264 198.496 252.638)\">\n",
       "<path d=\"M 0.355659 142.619L 455.6 142.619\" fill=\"none\" stroke=\"#cccccc\" stroke-linecap=\"round\" stroke-linejoin=\"round\" stroke-miterlimit=\"10.0375\" stroke-width=\"0.426791\"/>\n",
       "</g>\n",
       "<g transform=\"matrix(0.996264 0 0 0.996264 198.496 252.638)\">\n",
       "<path d=\"M 0.355659 135.506L 455.6 135.506\" fill=\"none\" stroke=\"#cccccc\" stroke-dasharray=\"0,0.682354\" stroke-linecap=\"round\" stroke-linejoin=\"round\" stroke-miterlimit=\"10.0375\" stroke-width=\"0.170717\"/>\n",
       "</g>\n",
       "<g transform=\"matrix(0.996264 0 0 0.996264 198.496 252.638)\">\n",
       "<path d=\"M 0.355659 128.393L 455.6 128.393\" fill=\"none\" stroke=\"#cccccc\" stroke-dasharray=\"0,0.682354\" stroke-linecap=\"round\" stroke-linejoin=\"round\" stroke-miterlimit=\"10.0375\" stroke-width=\"0.170717\"/>\n",
       "</g>\n",
       "<g transform=\"matrix(0.996264 0 0 0.996264 198.496 252.638)\">\n",
       "<path d=\"M 0.355659 121.28L 455.6 121.28\" fill=\"none\" stroke=\"#cccccc\" stroke-dasharray=\"0,0.682354\" stroke-linecap=\"round\" stroke-linejoin=\"round\" stroke-miterlimit=\"10.0375\" stroke-width=\"0.170717\"/>\n",
       "</g>\n",
       "<g transform=\"matrix(0.996264 0 0 0.996264 198.496 252.638)\">\n",
       "<path d=\"M 0.355659 114.167L 455.6 114.167\" fill=\"none\" stroke=\"#cccccc\" stroke-dasharray=\"0,0.682354\" stroke-linecap=\"round\" stroke-linejoin=\"round\" stroke-miterlimit=\"10.0375\" stroke-width=\"0.170717\"/>\n",
       "</g>\n",
       "<g transform=\"matrix(0.996264 0 0 0.996264 198.496 252.638)\">\n",
       "<path d=\"M 0.355659 114.167L 455.6 114.167\" fill=\"none\" stroke=\"#cccccc\" stroke-linecap=\"round\" stroke-linejoin=\"round\" stroke-miterlimit=\"10.0375\" stroke-width=\"0.426791\"/>\n",
       "</g>\n",
       "<g transform=\"matrix(0.996264 0 0 0.996264 198.496 252.638)\">\n",
       "<path d=\"M 0.355659 107.053L 455.6 107.053\" fill=\"none\" stroke=\"#cccccc\" stroke-dasharray=\"0,0.682354\" stroke-linecap=\"round\" stroke-linejoin=\"round\" stroke-miterlimit=\"10.0375\" stroke-width=\"0.170717\"/>\n",
       "</g>\n",
       "<g transform=\"matrix(0.996264 0 0 0.996264 198.496 252.638)\">\n",
       "<path d=\"M 0.355659 99.9403L 455.6 99.9403\" fill=\"none\" stroke=\"#cccccc\" stroke-dasharray=\"0,0.682354\" stroke-linecap=\"round\" stroke-linejoin=\"round\" stroke-miterlimit=\"10.0375\" stroke-width=\"0.170717\"/>\n",
       "</g>\n",
       "<g transform=\"matrix(0.996264 0 0 0.996264 198.496 252.638)\">\n",
       "<path d=\"M 0.355659 92.8271L 455.6 92.8271\" fill=\"none\" stroke=\"#cccccc\" stroke-dasharray=\"0,0.682354\" stroke-linecap=\"round\" stroke-linejoin=\"round\" stroke-miterlimit=\"10.0375\" stroke-width=\"0.170717\"/>\n",
       "</g>\n",
       "<g transform=\"matrix(0.996264 0 0 0.996264 198.496 252.638)\">\n",
       "<path d=\"M 0.355659 85.7139L 455.6 85.7139\" fill=\"none\" stroke=\"#cccccc\" stroke-dasharray=\"0,0.682354\" stroke-linecap=\"round\" stroke-linejoin=\"round\" stroke-miterlimit=\"10.0375\" stroke-width=\"0.170717\"/>\n",
       "</g>\n",
       "<g transform=\"matrix(0.996264 0 0 0.996264 198.496 252.638)\">\n",
       "<path d=\"M 0.355659 85.7139L 455.6 85.7139\" fill=\"none\" stroke=\"#cccccc\" stroke-linecap=\"round\" stroke-linejoin=\"round\" stroke-miterlimit=\"10.0375\" stroke-width=\"0.426791\"/>\n",
       "</g>\n",
       "<g transform=\"matrix(0.996264 0 0 0.996264 198.496 252.638)\">\n",
       "<path d=\"M 0.355659 78.6007L 455.6 78.6007\" fill=\"none\" stroke=\"#cccccc\" stroke-dasharray=\"0,0.682354\" stroke-linecap=\"round\" stroke-linejoin=\"round\" stroke-miterlimit=\"10.0375\" stroke-width=\"0.170717\"/>\n",
       "</g>\n",
       "<g transform=\"matrix(0.996264 0 0 0.996264 198.496 252.638)\">\n",
       "<path d=\"M 0.355659 71.4875L 455.6 71.4875\" fill=\"none\" stroke=\"#cccccc\" stroke-dasharray=\"0,0.682354\" stroke-linecap=\"round\" stroke-linejoin=\"round\" stroke-miterlimit=\"10.0375\" stroke-width=\"0.170717\"/>\n",
       "</g>\n",
       "<g transform=\"matrix(0.996264 0 0 0.996264 198.496 252.638)\">\n",
       "<path d=\"M 0.355659 64.3744L 455.6 64.3744\" fill=\"none\" stroke=\"#cccccc\" stroke-dasharray=\"0,0.682354\" stroke-linecap=\"round\" stroke-linejoin=\"round\" stroke-miterlimit=\"10.0375\" stroke-width=\"0.170717\"/>\n",
       "</g>\n",
       "<g transform=\"matrix(0.996264 0 0 0.996264 198.496 252.638)\">\n",
       "<path d=\"M 0.355659 57.2612L 455.6 57.2612\" fill=\"none\" stroke=\"#cccccc\" stroke-dasharray=\"0,0.682354\" stroke-linecap=\"round\" stroke-linejoin=\"round\" stroke-miterlimit=\"10.0375\" stroke-width=\"0.170717\"/>\n",
       "</g>\n",
       "<g transform=\"matrix(0.996264 0 0 0.996264 198.496 252.638)\">\n",
       "<path d=\"M 0.355659 57.2612L 455.6 57.2612\" fill=\"none\" stroke=\"#cccccc\" stroke-linecap=\"round\" stroke-linejoin=\"round\" stroke-miterlimit=\"10.0375\" stroke-width=\"0.426791\"/>\n",
       "</g>\n",
       "<g transform=\"matrix(0.996264 0 0 0.996264 198.496 252.638)\">\n",
       "<path d=\"M 0.355659 50.148L 455.6 50.148\" fill=\"none\" stroke=\"#cccccc\" stroke-dasharray=\"0,0.682354\" stroke-linecap=\"round\" stroke-linejoin=\"round\" stroke-miterlimit=\"10.0375\" stroke-width=\"0.170717\"/>\n",
       "</g>\n",
       "<g transform=\"matrix(0.996264 0 0 0.996264 198.496 252.638)\">\n",
       "<path d=\"M 0.355659 43.0348L 455.6 43.0348\" fill=\"none\" stroke=\"#cccccc\" stroke-dasharray=\"0,0.682354\" stroke-linecap=\"round\" stroke-linejoin=\"round\" stroke-miterlimit=\"10.0375\" stroke-width=\"0.170717\"/>\n",
       "</g>\n",
       "<g transform=\"matrix(0.996264 0 0 0.996264 198.496 252.638)\">\n",
       "<path d=\"M 0.355659 35.9216L 455.6 35.9216\" fill=\"none\" stroke=\"#cccccc\" stroke-dasharray=\"0,0.682354\" stroke-linecap=\"round\" stroke-linejoin=\"round\" stroke-miterlimit=\"10.0375\" stroke-width=\"0.170717\"/>\n",
       "</g>\n",
       "<g transform=\"matrix(0.996264 0 0 0.996264 198.496 252.638)\">\n",
       "<path d=\"M 0.355659 28.8084L 455.6 28.8084\" fill=\"none\" stroke=\"#cccccc\" stroke-dasharray=\"0,0.682354\" stroke-linecap=\"round\" stroke-linejoin=\"round\" stroke-miterlimit=\"10.0375\" stroke-width=\"0.170717\"/>\n",
       "</g>\n",
       "<g transform=\"matrix(0.996264 0 0 0.996264 198.496 252.638)\">\n",
       "<path d=\"M 0.355659 28.8084L 455.6 28.8084\" fill=\"none\" stroke=\"#cccccc\" stroke-linecap=\"round\" stroke-linejoin=\"round\" stroke-miterlimit=\"10.0375\" stroke-width=\"0.426791\"/>\n",
       "</g>\n",
       "<g transform=\"matrix(0.996264 0 0 0.996264 198.496 252.638)\">\n",
       "<path d=\"M 0.355659 21.6952L 455.6 21.6952\" fill=\"none\" stroke=\"#cccccc\" stroke-dasharray=\"0,0.682354\" stroke-linecap=\"round\" stroke-linejoin=\"round\" stroke-miterlimit=\"10.0375\" stroke-width=\"0.170717\"/>\n",
       "</g>\n",
       "<g transform=\"matrix(0.996264 0 0 0.996264 198.496 252.638)\">\n",
       "<path d=\"M 0.355659 14.582L 455.6 14.582\" fill=\"none\" stroke=\"#cccccc\" stroke-dasharray=\"0,0.682354\" stroke-linecap=\"round\" stroke-linejoin=\"round\" stroke-miterlimit=\"10.0375\" stroke-width=\"0.170717\"/>\n",
       "</g>\n",
       "<g transform=\"matrix(0.996264 0 0 0.996264 198.496 252.638)\">\n",
       "<path d=\"M 0.355659 7.46885L 455.6 7.46885\" fill=\"none\" stroke=\"#cccccc\" stroke-dasharray=\"0,0.682354\" stroke-linecap=\"round\" stroke-linejoin=\"round\" stroke-miterlimit=\"10.0375\" stroke-width=\"0.170717\"/>\n",
       "</g>\n",
       "<g transform=\"matrix(0.996264 0 0 0.996264 198.496 252.638)\">\n",
       "<path d=\"M 0.355659 0.355659L 455.6 0.355659\" fill=\"none\" stroke=\"#cccccc\" stroke-dasharray=\"0,0.682354\" stroke-linecap=\"round\" stroke-linejoin=\"round\" stroke-miterlimit=\"10.0375\" stroke-width=\"0.170717\"/>\n",
       "</g>\n",
       "<g transform=\"matrix(0.996264 0 0 0.996264 198.496 252.638)\">\n",
       "<path d=\"M 0.355659 0.355659L 455.6 0.355659\" fill=\"none\" stroke=\"#cccccc\" stroke-linecap=\"round\" stroke-linejoin=\"round\" stroke-miterlimit=\"10.0375\" stroke-width=\"0.426791\"/>\n",
       "</g>\n",
       "<g transform=\"matrix(0.996264 0 0 0.996264 198.496 252.638)\">\n",
       "<path d=\"M 0.355659 199.525L 455.6 199.525\" fill=\"none\" stroke=\"#000000\" stroke-linecap=\"round\" stroke-linejoin=\"round\" stroke-miterlimit=\"10.0375\" stroke-width=\"0.711319\"/>\n",
       "</g>\n",
       "<g transform=\"matrix(0.996264 0 0 0.996264 198.496 252.638)\">\n",
       "<path d=\"M 142.619 398.694L 142.619 0.355659\" fill=\"none\" stroke=\"#000000\" stroke-linecap=\"round\" stroke-linejoin=\"round\" stroke-miterlimit=\"10.0375\" stroke-width=\"0.711319\"/>\n",
       "</g>\n",
       "<g transform=\"matrix(0.996264 0 0 0.996264 198.496 252.638)\">\n",
       "<path d=\"M 28.8084 199.525L 28.8084 203.793\" fill=\"none\" stroke=\"#000000\" stroke-linecap=\"round\" stroke-linejoin=\"round\" stroke-miterlimit=\"10.0375\" stroke-width=\"0.711319\"/>\n",
       "</g>\n",
       "<use x=\"219.624939\" y=\"466.900278\" xlink:href=\"#g0-0\"/>\n",
       "<use x=\"228.923436\" y=\"466.900278\" xlink:href=\"#g1-52\"/>\n",
       "<g transform=\"matrix(0.996264 0 0 0.996264 198.496 252.638)\">\n",
       "<path d=\"M 35.9216 199.525L 35.9216 201.659\" fill=\"none\" stroke=\"#000000\" stroke-linecap=\"round\" stroke-linejoin=\"round\" stroke-miterlimit=\"10.0375\" stroke-width=\"0.426791\"/>\n",
       "</g>\n",
       "<g transform=\"matrix(0.996264 0 0 0.996264 198.496 252.638)\">\n",
       "<path d=\"M 43.0348 199.525L 43.0348 201.659\" fill=\"none\" stroke=\"#000000\" stroke-linecap=\"round\" stroke-linejoin=\"round\" stroke-miterlimit=\"10.0375\" stroke-width=\"0.426791\"/>\n",
       "</g>\n",
       "<g transform=\"matrix(0.996264 0 0 0.996264 198.496 252.638)\">\n",
       "<path d=\"M 50.148 199.525L 50.148 201.659\" fill=\"none\" stroke=\"#000000\" stroke-linecap=\"round\" stroke-linejoin=\"round\" stroke-miterlimit=\"10.0375\" stroke-width=\"0.426791\"/>\n",
       "</g>\n",
       "<g transform=\"matrix(0.996264 0 0 0.996264 198.496 252.638)\">\n",
       "<path d=\"M 57.2612 199.525L 57.2612 203.793\" fill=\"none\" stroke=\"#000000\" stroke-linecap=\"round\" stroke-linejoin=\"round\" stroke-miterlimit=\"10.0375\" stroke-width=\"0.711319\"/>\n",
       "</g>\n",
       "<use x=\"247.971398\" y=\"466.900278\" xlink:href=\"#g0-0\"/>\n",
       "<use x=\"257.269895\" y=\"466.900278\" xlink:href=\"#g1-51\"/>\n",
       "<g transform=\"matrix(0.996264 0 0 0.996264 198.496 252.638)\">\n",
       "<path d=\"M 64.3744 199.525L 64.3744 201.659\" fill=\"none\" stroke=\"#000000\" stroke-linecap=\"round\" stroke-linejoin=\"round\" stroke-miterlimit=\"10.0375\" stroke-width=\"0.426791\"/>\n",
       "</g>\n",
       "<g transform=\"matrix(0.996264 0 0 0.996264 198.496 252.638)\">\n",
       "<path d=\"M 71.4875 199.525L 71.4875 201.659\" fill=\"none\" stroke=\"#000000\" stroke-linecap=\"round\" stroke-linejoin=\"round\" stroke-miterlimit=\"10.0375\" stroke-width=\"0.426791\"/>\n",
       "</g>\n",
       "<g transform=\"matrix(0.996264 0 0 0.996264 198.496 252.638)\">\n",
       "<path d=\"M 78.6007 199.525L 78.6007 201.659\" fill=\"none\" stroke=\"#000000\" stroke-linecap=\"round\" stroke-linejoin=\"round\" stroke-miterlimit=\"10.0375\" stroke-width=\"0.426791\"/>\n",
       "</g>\n",
       "<g transform=\"matrix(0.996264 0 0 0.996264 198.496 252.638)\">\n",
       "<path d=\"M 85.7139 199.525L 85.7139 203.793\" fill=\"none\" stroke=\"#000000\" stroke-linecap=\"round\" stroke-linejoin=\"round\" stroke-miterlimit=\"10.0375\" stroke-width=\"0.711319\"/>\n",
       "</g>\n",
       "<use x=\"276.317843\" y=\"466.900278\" xlink:href=\"#g0-0\"/>\n",
       "<use x=\"285.61634\" y=\"466.900278\" xlink:href=\"#g1-50\"/>\n",
       "<g transform=\"matrix(0.996264 0 0 0.996264 198.496 252.638)\">\n",
       "<path d=\"M 92.8271 199.525L 92.8271 201.659\" fill=\"none\" stroke=\"#000000\" stroke-linecap=\"round\" stroke-linejoin=\"round\" stroke-miterlimit=\"10.0375\" stroke-width=\"0.426791\"/>\n",
       "</g>\n",
       "<g transform=\"matrix(0.996264 0 0 0.996264 198.496 252.638)\">\n",
       "<path d=\"M 99.9403 199.525L 99.9403 201.659\" fill=\"none\" stroke=\"#000000\" stroke-linecap=\"round\" stroke-linejoin=\"round\" stroke-miterlimit=\"10.0375\" stroke-width=\"0.426791\"/>\n",
       "</g>\n",
       "<g transform=\"matrix(0.996264 0 0 0.996264 198.496 252.638)\">\n",
       "<path d=\"M 107.053 199.525L 107.053 201.659\" fill=\"none\" stroke=\"#000000\" stroke-linecap=\"round\" stroke-linejoin=\"round\" stroke-miterlimit=\"10.0375\" stroke-width=\"0.426791\"/>\n",
       "</g>\n",
       "<g transform=\"matrix(0.996264 0 0 0.996264 198.496 252.638)\">\n",
       "<path d=\"M 114.167 199.525L 114.167 203.793\" fill=\"none\" stroke=\"#000000\" stroke-linecap=\"round\" stroke-linejoin=\"round\" stroke-miterlimit=\"10.0375\" stroke-width=\"0.711319\"/>\n",
       "</g>\n",
       "<use x=\"304.664302\" y=\"466.900278\" xlink:href=\"#g0-0\"/>\n",
       "<use x=\"313.962799\" y=\"466.900278\" xlink:href=\"#g1-49\"/>\n",
       "<g transform=\"matrix(0.996264 0 0 0.996264 198.496 252.638)\">\n",
       "<path d=\"M 121.28 199.525L 121.28 201.659\" fill=\"none\" stroke=\"#000000\" stroke-linecap=\"round\" stroke-linejoin=\"round\" stroke-miterlimit=\"10.0375\" stroke-width=\"0.426791\"/>\n",
       "</g>\n",
       "<g transform=\"matrix(0.996264 0 0 0.996264 198.496 252.638)\">\n",
       "<path d=\"M 128.393 199.525L 128.393 201.659\" fill=\"none\" stroke=\"#000000\" stroke-linecap=\"round\" stroke-linejoin=\"round\" stroke-miterlimit=\"10.0375\" stroke-width=\"0.426791\"/>\n",
       "</g>\n",
       "<g transform=\"matrix(0.996264 0 0 0.996264 198.496 252.638)\">\n",
       "<path d=\"M 135.506 199.525L 135.506 201.659\" fill=\"none\" stroke=\"#000000\" stroke-linecap=\"round\" stroke-linejoin=\"round\" stroke-miterlimit=\"10.0375\" stroke-width=\"0.426791\"/>\n",
       "</g>\n",
       "<g transform=\"matrix(0.996264 0 0 0.996264 198.496 252.638)\">\n",
       "<path d=\"M 171.072 199.525L 171.072 203.793\" fill=\"none\" stroke=\"#000000\" stroke-linecap=\"round\" stroke-linejoin=\"round\" stroke-miterlimit=\"10.0375\" stroke-width=\"0.711319\"/>\n",
       "</g>\n",
       "<use x=\"366.006458\" y=\"466.900262\" xlink:href=\"#g1-49\"/>\n",
       "<g transform=\"matrix(0.996264 0 0 0.996264 198.496 252.638)\">\n",
       "<path d=\"M 163.959 199.525L 163.959 201.659\" fill=\"none\" stroke=\"#000000\" stroke-linecap=\"round\" stroke-linejoin=\"round\" stroke-miterlimit=\"10.0375\" stroke-width=\"0.426791\"/>\n",
       "</g>\n",
       "<g transform=\"matrix(0.996264 0 0 0.996264 198.496 252.638)\">\n",
       "<path d=\"M 156.846 199.525L 156.846 201.659\" fill=\"none\" stroke=\"#000000\" stroke-linecap=\"round\" stroke-linejoin=\"round\" stroke-miterlimit=\"10.0375\" stroke-width=\"0.426791\"/>\n",
       "</g>\n",
       "<g transform=\"matrix(0.996264 0 0 0.996264 198.496 252.638)\">\n",
       "<path d=\"M 149.733 199.525L 149.733 201.659\" fill=\"none\" stroke=\"#000000\" stroke-linecap=\"round\" stroke-linejoin=\"round\" stroke-miterlimit=\"10.0375\" stroke-width=\"0.426791\"/>\n",
       "</g>\n",
       "<g transform=\"matrix(0.996264 0 0 0.996264 198.496 252.638)\">\n",
       "<path d=\"M 199.525 199.525L 199.525 203.793\" fill=\"none\" stroke=\"#000000\" stroke-linecap=\"round\" stroke-linejoin=\"round\" stroke-miterlimit=\"10.0375\" stroke-width=\"0.711319\"/>\n",
       "</g>\n",
       "<use x=\"394.352918\" y=\"466.900262\" xlink:href=\"#g1-50\"/>\n",
       "<g transform=\"matrix(0.996264 0 0 0.996264 198.496 252.638)\">\n",
       "<path d=\"M 192.412 199.525L 192.412 201.659\" fill=\"none\" stroke=\"#000000\" stroke-linecap=\"round\" stroke-linejoin=\"round\" stroke-miterlimit=\"10.0375\" stroke-width=\"0.426791\"/>\n",
       "</g>\n",
       "<g transform=\"matrix(0.996264 0 0 0.996264 198.496 252.638)\">\n",
       "<path d=\"M 185.299 199.525L 185.299 201.659\" fill=\"none\" stroke=\"#000000\" stroke-linecap=\"round\" stroke-linejoin=\"round\" stroke-miterlimit=\"10.0375\" stroke-width=\"0.426791\"/>\n",
       "</g>\n",
       "<g transform=\"matrix(0.996264 0 0 0.996264 198.496 252.638)\">\n",
       "<path d=\"M 178.185 199.525L 178.185 201.659\" fill=\"none\" stroke=\"#000000\" stroke-linecap=\"round\" stroke-linejoin=\"round\" stroke-miterlimit=\"10.0375\" stroke-width=\"0.426791\"/>\n",
       "</g>\n",
       "<g transform=\"matrix(0.996264 0 0 0.996264 198.496 252.638)\">\n",
       "<path d=\"M 227.978 199.525L 227.978 203.793\" fill=\"none\" stroke=\"#000000\" stroke-linecap=\"round\" stroke-linejoin=\"round\" stroke-miterlimit=\"10.0375\" stroke-width=\"0.711319\"/>\n",
       "</g>\n",
       "<use x=\"422.699377\" y=\"466.900262\" xlink:href=\"#g1-51\"/>\n",
       "<g transform=\"matrix(0.996264 0 0 0.996264 198.496 252.638)\">\n",
       "<path d=\"M 220.865 199.525L 220.865 201.659\" fill=\"none\" stroke=\"#000000\" stroke-linecap=\"round\" stroke-linejoin=\"round\" stroke-miterlimit=\"10.0375\" stroke-width=\"0.426791\"/>\n",
       "</g>\n",
       "<g transform=\"matrix(0.996264 0 0 0.996264 198.496 252.638)\">\n",
       "<path d=\"M 213.751 199.525L 213.751 201.659\" fill=\"none\" stroke=\"#000000\" stroke-linecap=\"round\" stroke-linejoin=\"round\" stroke-miterlimit=\"10.0375\" stroke-width=\"0.426791\"/>\n",
       "</g>\n",
       "<g transform=\"matrix(0.996264 0 0 0.996264 198.496 252.638)\">\n",
       "<path d=\"M 206.638 199.525L 206.638 201.659\" fill=\"none\" stroke=\"#000000\" stroke-linecap=\"round\" stroke-linejoin=\"round\" stroke-miterlimit=\"10.0375\" stroke-width=\"0.426791\"/>\n",
       "</g>\n",
       "<g transform=\"matrix(0.996264 0 0 0.996264 198.496 252.638)\">\n",
       "<path d=\"M 256.43 199.525L 256.43 203.793\" fill=\"none\" stroke=\"#000000\" stroke-linecap=\"round\" stroke-linejoin=\"round\" stroke-miterlimit=\"10.0375\" stroke-width=\"0.711319\"/>\n",
       "</g>\n",
       "<use x=\"451.045822\" y=\"466.900262\" xlink:href=\"#g1-52\"/>\n",
       "<g transform=\"matrix(0.996264 0 0 0.996264 198.496 252.638)\">\n",
       "<path d=\"M 249.317 199.525L 249.317 201.659\" fill=\"none\" stroke=\"#000000\" stroke-linecap=\"round\" stroke-linejoin=\"round\" stroke-miterlimit=\"10.0375\" stroke-width=\"0.426791\"/>\n",
       "</g>\n",
       "<g transform=\"matrix(0.996264 0 0 0.996264 198.496 252.638)\">\n",
       "<path d=\"M 242.204 199.525L 242.204 201.659\" fill=\"none\" stroke=\"#000000\" stroke-linecap=\"round\" stroke-linejoin=\"round\" stroke-miterlimit=\"10.0375\" stroke-width=\"0.426791\"/>\n",
       "</g>\n",
       "<g transform=\"matrix(0.996264 0 0 0.996264 198.496 252.638)\">\n",
       "<path d=\"M 235.091 199.525L 235.091 201.659\" fill=\"none\" stroke=\"#000000\" stroke-linecap=\"round\" stroke-linejoin=\"round\" stroke-miterlimit=\"10.0375\" stroke-width=\"0.426791\"/>\n",
       "</g>\n",
       "<g transform=\"matrix(0.996264 0 0 0.996264 198.496 252.638)\">\n",
       "<path d=\"M 284.883 199.525L 284.883 203.793\" fill=\"none\" stroke=\"#000000\" stroke-linecap=\"round\" stroke-linejoin=\"round\" stroke-miterlimit=\"10.0375\" stroke-width=\"0.711319\"/>\n",
       "</g>\n",
       "<use x=\"479.392281\" y=\"466.900262\" xlink:href=\"#g1-53\"/>\n",
       "<g transform=\"matrix(0.996264 0 0 0.996264 198.496 252.638)\">\n",
       "<path d=\"M 277.77 199.525L 277.77 201.659\" fill=\"none\" stroke=\"#000000\" stroke-linecap=\"round\" stroke-linejoin=\"round\" stroke-miterlimit=\"10.0375\" stroke-width=\"0.426791\"/>\n",
       "</g>\n",
       "<g transform=\"matrix(0.996264 0 0 0.996264 198.496 252.638)\">\n",
       "<path d=\"M 270.657 199.525L 270.657 201.659\" fill=\"none\" stroke=\"#000000\" stroke-linecap=\"round\" stroke-linejoin=\"round\" stroke-miterlimit=\"10.0375\" stroke-width=\"0.426791\"/>\n",
       "</g>\n",
       "<g transform=\"matrix(0.996264 0 0 0.996264 198.496 252.638)\">\n",
       "<path d=\"M 263.544 199.525L 263.544 201.659\" fill=\"none\" stroke=\"#000000\" stroke-linecap=\"round\" stroke-linejoin=\"round\" stroke-miterlimit=\"10.0375\" stroke-width=\"0.426791\"/>\n",
       "</g>\n",
       "<g transform=\"matrix(0.996264 0 0 0.996264 198.496 252.638)\">\n",
       "<path d=\"M 313.336 199.525L 313.336 203.793\" fill=\"none\" stroke=\"#000000\" stroke-linecap=\"round\" stroke-linejoin=\"round\" stroke-miterlimit=\"10.0375\" stroke-width=\"0.711319\"/>\n",
       "</g>\n",
       "<use x=\"507.738741\" y=\"466.900262\" xlink:href=\"#g1-54\"/>\n",
       "<g transform=\"matrix(0.996264 0 0 0.996264 198.496 252.638)\">\n",
       "<path d=\"M 306.223 199.525L 306.223 201.659\" fill=\"none\" stroke=\"#000000\" stroke-linecap=\"round\" stroke-linejoin=\"round\" stroke-miterlimit=\"10.0375\" stroke-width=\"0.426791\"/>\n",
       "</g>\n",
       "<g transform=\"matrix(0.996264 0 0 0.996264 198.496 252.638)\">\n",
       "<path d=\"M 299.11 199.525L 299.11 201.659\" fill=\"none\" stroke=\"#000000\" stroke-linecap=\"round\" stroke-linejoin=\"round\" stroke-miterlimit=\"10.0375\" stroke-width=\"0.426791\"/>\n",
       "</g>\n",
       "<g transform=\"matrix(0.996264 0 0 0.996264 198.496 252.638)\">\n",
       "<path d=\"M 291.996 199.525L 291.996 201.659\" fill=\"none\" stroke=\"#000000\" stroke-linecap=\"round\" stroke-linejoin=\"round\" stroke-miterlimit=\"10.0375\" stroke-width=\"0.426791\"/>\n",
       "</g>\n",
       "<g transform=\"matrix(0.996264 0 0 0.996264 198.496 252.638)\">\n",
       "<path d=\"M 341.789 199.525L 341.789 203.793\" fill=\"none\" stroke=\"#000000\" stroke-linecap=\"round\" stroke-linejoin=\"round\" stroke-miterlimit=\"10.0375\" stroke-width=\"0.711319\"/>\n",
       "</g>\n",
       "<use x=\"536.085201\" y=\"466.900262\" xlink:href=\"#g1-55\"/>\n",
       "<g transform=\"matrix(0.996264 0 0 0.996264 198.496 252.638)\">\n",
       "<path d=\"M 334.676 199.525L 334.676 201.659\" fill=\"none\" stroke=\"#000000\" stroke-linecap=\"round\" stroke-linejoin=\"round\" stroke-miterlimit=\"10.0375\" stroke-width=\"0.426791\"/>\n",
       "</g>\n",
       "<g transform=\"matrix(0.996264 0 0 0.996264 198.496 252.638)\">\n",
       "<path d=\"M 327.562 199.525L 327.562 201.659\" fill=\"none\" stroke=\"#000000\" stroke-linecap=\"round\" stroke-linejoin=\"round\" stroke-miterlimit=\"10.0375\" stroke-width=\"0.426791\"/>\n",
       "</g>\n",
       "<g transform=\"matrix(0.996264 0 0 0.996264 198.496 252.638)\">\n",
       "<path d=\"M 320.449 199.525L 320.449 201.659\" fill=\"none\" stroke=\"#000000\" stroke-linecap=\"round\" stroke-linejoin=\"round\" stroke-miterlimit=\"10.0375\" stroke-width=\"0.426791\"/>\n",
       "</g>\n",
       "<g transform=\"matrix(0.996264 0 0 0.996264 198.496 252.638)\">\n",
       "<path d=\"M 370.241 199.525L 370.241 203.793\" fill=\"none\" stroke=\"#000000\" stroke-linecap=\"round\" stroke-linejoin=\"round\" stroke-miterlimit=\"10.0375\" stroke-width=\"0.711319\"/>\n",
       "</g>\n",
       "<use x=\"564.43166\" y=\"466.900262\" xlink:href=\"#g1-56\"/>\n",
       "<g transform=\"matrix(0.996264 0 0 0.996264 198.496 252.638)\">\n",
       "<path d=\"M 363.128 199.525L 363.128 201.659\" fill=\"none\" stroke=\"#000000\" stroke-linecap=\"round\" stroke-linejoin=\"round\" stroke-miterlimit=\"10.0375\" stroke-width=\"0.426791\"/>\n",
       "</g>\n",
       "<g transform=\"matrix(0.996264 0 0 0.996264 198.496 252.638)\">\n",
       "<path d=\"M 356.015 199.525L 356.015 201.659\" fill=\"none\" stroke=\"#000000\" stroke-linecap=\"round\" stroke-linejoin=\"round\" stroke-miterlimit=\"10.0375\" stroke-width=\"0.426791\"/>\n",
       "</g>\n",
       "<g transform=\"matrix(0.996264 0 0 0.996264 198.496 252.638)\">\n",
       "<path d=\"M 348.902 199.525L 348.902 201.659\" fill=\"none\" stroke=\"#000000\" stroke-linecap=\"round\" stroke-linejoin=\"round\" stroke-miterlimit=\"10.0375\" stroke-width=\"0.426791\"/>\n",
       "</g>\n",
       "<g transform=\"matrix(0.996264 0 0 0.996264 198.496 252.638)\">\n",
       "<path d=\"M 398.694 199.525L 398.694 203.793\" fill=\"none\" stroke=\"#000000\" stroke-linecap=\"round\" stroke-linejoin=\"round\" stroke-miterlimit=\"10.0375\" stroke-width=\"0.711319\"/>\n",
       "</g>\n",
       "<use x=\"592.778104\" y=\"466.900262\" xlink:href=\"#g1-57\"/>\n",
       "<g transform=\"matrix(0.996264 0 0 0.996264 198.496 252.638)\">\n",
       "<path d=\"M 391.581 199.525L 391.581 201.659\" fill=\"none\" stroke=\"#000000\" stroke-linecap=\"round\" stroke-linejoin=\"round\" stroke-miterlimit=\"10.0375\" stroke-width=\"0.426791\"/>\n",
       "</g>\n",
       "<g transform=\"matrix(0.996264 0 0 0.996264 198.496 252.638)\">\n",
       "<path d=\"M 384.468 199.525L 384.468 201.659\" fill=\"none\" stroke=\"#000000\" stroke-linecap=\"round\" stroke-linejoin=\"round\" stroke-miterlimit=\"10.0375\" stroke-width=\"0.426791\"/>\n",
       "</g>\n",
       "<g transform=\"matrix(0.996264 0 0 0.996264 198.496 252.638)\">\n",
       "<path d=\"M 377.355 199.525L 377.355 201.659\" fill=\"none\" stroke=\"#000000\" stroke-linecap=\"round\" stroke-linejoin=\"round\" stroke-miterlimit=\"10.0375\" stroke-width=\"0.426791\"/>\n",
       "</g>\n",
       "<g transform=\"matrix(0.996264 0 0 0.996264 198.496 252.638)\">\n",
       "<path d=\"M 427.147 199.525L 427.147 203.793\" fill=\"none\" stroke=\"#000000\" stroke-linecap=\"round\" stroke-linejoin=\"round\" stroke-miterlimit=\"10.0375\" stroke-width=\"0.711319\"/>\n",
       "</g>\n",
       "<use x=\"618.198069\" y=\"466.900262\" xlink:href=\"#g1-49\"/>\n",
       "<use x=\"624.051059\" y=\"466.900262\" xlink:href=\"#g1-48\"/>\n",
       "<g transform=\"matrix(0.996264 0 0 0.996264 198.496 252.638)\">\n",
       "<path d=\"M 420.034 199.525L 420.034 201.659\" fill=\"none\" stroke=\"#000000\" stroke-linecap=\"round\" stroke-linejoin=\"round\" stroke-miterlimit=\"10.0375\" stroke-width=\"0.426791\"/>\n",
       "</g>\n",
       "<g transform=\"matrix(0.996264 0 0 0.996264 198.496 252.638)\">\n",
       "<path d=\"M 412.921 199.525L 412.921 201.659\" fill=\"none\" stroke=\"#000000\" stroke-linecap=\"round\" stroke-linejoin=\"round\" stroke-miterlimit=\"10.0375\" stroke-width=\"0.426791\"/>\n",
       "</g>\n",
       "<g transform=\"matrix(0.996264 0 0 0.996264 198.496 252.638)\">\n",
       "<path d=\"M 405.807 199.525L 405.807 201.659\" fill=\"none\" stroke=\"#000000\" stroke-linecap=\"round\" stroke-linejoin=\"round\" stroke-miterlimit=\"10.0375\" stroke-width=\"0.426791\"/>\n",
       "</g>\n",
       "<g transform=\"matrix(0.996264 0 0 0.996264 198.496 252.638)\">\n",
       "<path d=\"M 142.619 370.241L 138.352 370.241\" fill=\"none\" stroke=\"#000000\" stroke-linecap=\"round\" stroke-linejoin=\"round\" stroke-miterlimit=\"10.0375\" stroke-width=\"0.711319\"/>\n",
       "</g>\n",
       "<use x=\"317.596504\" y=\"624.790139\" xlink:href=\"#g0-0\"/>\n",
       "<use x=\"326.895001\" y=\"624.790139\" xlink:href=\"#g1-54\"/>\n",
       "<g transform=\"matrix(0.996264 0 0 0.996264 198.496 252.638)\">\n",
       "<path d=\"M 142.619 363.128L 140.485 363.128\" fill=\"none\" stroke=\"#000000\" stroke-linecap=\"round\" stroke-linejoin=\"round\" stroke-miterlimit=\"10.0375\" stroke-width=\"0.426791\"/>\n",
       "</g>\n",
       "<g transform=\"matrix(0.996264 0 0 0.996264 198.496 252.638)\">\n",
       "<path d=\"M 142.619 356.015L 140.485 356.015\" fill=\"none\" stroke=\"#000000\" stroke-linecap=\"round\" stroke-linejoin=\"round\" stroke-miterlimit=\"10.0375\" stroke-width=\"0.426791\"/>\n",
       "</g>\n",
       "<g transform=\"matrix(0.996264 0 0 0.996264 198.496 252.638)\">\n",
       "<path d=\"M 142.619 348.902L 140.485 348.902\" fill=\"none\" stroke=\"#000000\" stroke-linecap=\"round\" stroke-linejoin=\"round\" stroke-miterlimit=\"10.0375\" stroke-width=\"0.426791\"/>\n",
       "</g>\n",
       "<g transform=\"matrix(0.996264 0 0 0.996264 198.496 252.638)\">\n",
       "<path d=\"M 142.619 341.789L 138.352 341.789\" fill=\"none\" stroke=\"#000000\" stroke-linecap=\"round\" stroke-linejoin=\"round\" stroke-miterlimit=\"10.0375\" stroke-width=\"0.711319\"/>\n",
       "</g>\n",
       "<use x=\"317.596504\" y=\"596.44368\" xlink:href=\"#g0-0\"/>\n",
       "<use x=\"326.895001\" y=\"596.44368\" xlink:href=\"#g1-53\"/>\n",
       "<g transform=\"matrix(0.996264 0 0 0.996264 198.496 252.638)\">\n",
       "<path d=\"M 142.619 334.676L 140.485 334.676\" fill=\"none\" stroke=\"#000000\" stroke-linecap=\"round\" stroke-linejoin=\"round\" stroke-miterlimit=\"10.0375\" stroke-width=\"0.426791\"/>\n",
       "</g>\n",
       "<g transform=\"matrix(0.996264 0 0 0.996264 198.496 252.638)\">\n",
       "<path d=\"M 142.619 327.562L 140.485 327.562\" fill=\"none\" stroke=\"#000000\" stroke-linecap=\"round\" stroke-linejoin=\"round\" stroke-miterlimit=\"10.0375\" stroke-width=\"0.426791\"/>\n",
       "</g>\n",
       "<g transform=\"matrix(0.996264 0 0 0.996264 198.496 252.638)\">\n",
       "<path d=\"M 142.619 320.449L 140.485 320.449\" fill=\"none\" stroke=\"#000000\" stroke-linecap=\"round\" stroke-linejoin=\"round\" stroke-miterlimit=\"10.0375\" stroke-width=\"0.426791\"/>\n",
       "</g>\n",
       "<g transform=\"matrix(0.996264 0 0 0.996264 198.496 252.638)\">\n",
       "<path d=\"M 142.619 313.336L 138.352 313.336\" fill=\"none\" stroke=\"#000000\" stroke-linecap=\"round\" stroke-linejoin=\"round\" stroke-miterlimit=\"10.0375\" stroke-width=\"0.711319\"/>\n",
       "</g>\n",
       "<use x=\"317.596504\" y=\"568.09722\" xlink:href=\"#g0-0\"/>\n",
       "<use x=\"326.895001\" y=\"568.09722\" xlink:href=\"#g1-52\"/>\n",
       "<g transform=\"matrix(0.996264 0 0 0.996264 198.496 252.638)\">\n",
       "<path d=\"M 142.619 306.223L 140.485 306.223\" fill=\"none\" stroke=\"#000000\" stroke-linecap=\"round\" stroke-linejoin=\"round\" stroke-miterlimit=\"10.0375\" stroke-width=\"0.426791\"/>\n",
       "</g>\n",
       "<g transform=\"matrix(0.996264 0 0 0.996264 198.496 252.638)\">\n",
       "<path d=\"M 142.619 299.11L 140.485 299.11\" fill=\"none\" stroke=\"#000000\" stroke-linecap=\"round\" stroke-linejoin=\"round\" stroke-miterlimit=\"10.0375\" stroke-width=\"0.426791\"/>\n",
       "</g>\n",
       "<g transform=\"matrix(0.996264 0 0 0.996264 198.496 252.638)\">\n",
       "<path d=\"M 142.619 291.996L 140.485 291.996\" fill=\"none\" stroke=\"#000000\" stroke-linecap=\"round\" stroke-linejoin=\"round\" stroke-miterlimit=\"10.0375\" stroke-width=\"0.426791\"/>\n",
       "</g>\n",
       "<g transform=\"matrix(0.996264 0 0 0.996264 198.496 252.638)\">\n",
       "<path d=\"M 142.619 284.883L 138.352 284.883\" fill=\"none\" stroke=\"#000000\" stroke-linecap=\"round\" stroke-linejoin=\"round\" stroke-miterlimit=\"10.0375\" stroke-width=\"0.711319\"/>\n",
       "</g>\n",
       "<use x=\"317.596504\" y=\"539.750761\" xlink:href=\"#g0-0\"/>\n",
       "<use x=\"326.895001\" y=\"539.750761\" xlink:href=\"#g1-51\"/>\n",
       "<g transform=\"matrix(0.996264 0 0 0.996264 198.496 252.638)\">\n",
       "<path d=\"M 142.619 277.77L 140.485 277.77\" fill=\"none\" stroke=\"#000000\" stroke-linecap=\"round\" stroke-linejoin=\"round\" stroke-miterlimit=\"10.0375\" stroke-width=\"0.426791\"/>\n",
       "</g>\n",
       "<g transform=\"matrix(0.996264 0 0 0.996264 198.496 252.638)\">\n",
       "<path d=\"M 142.619 270.657L 140.485 270.657\" fill=\"none\" stroke=\"#000000\" stroke-linecap=\"round\" stroke-linejoin=\"round\" stroke-miterlimit=\"10.0375\" stroke-width=\"0.426791\"/>\n",
       "</g>\n",
       "<g transform=\"matrix(0.996264 0 0 0.996264 198.496 252.638)\">\n",
       "<path d=\"M 142.619 263.544L 140.485 263.544\" fill=\"none\" stroke=\"#000000\" stroke-linecap=\"round\" stroke-linejoin=\"round\" stroke-miterlimit=\"10.0375\" stroke-width=\"0.426791\"/>\n",
       "</g>\n",
       "<g transform=\"matrix(0.996264 0 0 0.996264 198.496 252.638)\">\n",
       "<path d=\"M 142.619 256.43L 138.352 256.43\" fill=\"none\" stroke=\"#000000\" stroke-linecap=\"round\" stroke-linejoin=\"round\" stroke-miterlimit=\"10.0375\" stroke-width=\"0.711319\"/>\n",
       "</g>\n",
       "<use x=\"317.596504\" y=\"511.404316\" xlink:href=\"#g0-0\"/>\n",
       "<use x=\"326.895001\" y=\"511.404316\" xlink:href=\"#g1-50\"/>\n",
       "<g transform=\"matrix(0.996264 0 0 0.996264 198.496 252.638)\">\n",
       "<path d=\"M 142.619 249.317L 140.485 249.317\" fill=\"none\" stroke=\"#000000\" stroke-linecap=\"round\" stroke-linejoin=\"round\" stroke-miterlimit=\"10.0375\" stroke-width=\"0.426791\"/>\n",
       "</g>\n",
       "<g transform=\"matrix(0.996264 0 0 0.996264 198.496 252.638)\">\n",
       "<path d=\"M 142.619 242.204L 140.485 242.204\" fill=\"none\" stroke=\"#000000\" stroke-linecap=\"round\" stroke-linejoin=\"round\" stroke-miterlimit=\"10.0375\" stroke-width=\"0.426791\"/>\n",
       "</g>\n",
       "<g transform=\"matrix(0.996264 0 0 0.996264 198.496 252.638)\">\n",
       "<path d=\"M 142.619 235.091L 140.485 235.091\" fill=\"none\" stroke=\"#000000\" stroke-linecap=\"round\" stroke-linejoin=\"round\" stroke-miterlimit=\"10.0375\" stroke-width=\"0.426791\"/>\n",
       "</g>\n",
       "<g transform=\"matrix(0.996264 0 0 0.996264 198.496 252.638)\">\n",
       "<path d=\"M 142.619 227.978L 138.352 227.978\" fill=\"none\" stroke=\"#000000\" stroke-linecap=\"round\" stroke-linejoin=\"round\" stroke-miterlimit=\"10.0375\" stroke-width=\"0.711319\"/>\n",
       "</g>\n",
       "<use x=\"317.596504\" y=\"483.057857\" xlink:href=\"#g0-0\"/>\n",
       "<use x=\"326.895001\" y=\"483.057857\" xlink:href=\"#g1-49\"/>\n",
       "<g transform=\"matrix(0.996264 0 0 0.996264 198.496 252.638)\">\n",
       "<path d=\"M 142.619 220.865L 140.485 220.865\" fill=\"none\" stroke=\"#000000\" stroke-linecap=\"round\" stroke-linejoin=\"round\" stroke-miterlimit=\"10.0375\" stroke-width=\"0.426791\"/>\n",
       "</g>\n",
       "<g transform=\"matrix(0.996264 0 0 0.996264 198.496 252.638)\">\n",
       "<path d=\"M 142.619 213.751L 140.485 213.751\" fill=\"none\" stroke=\"#000000\" stroke-linecap=\"round\" stroke-linejoin=\"round\" stroke-miterlimit=\"10.0375\" stroke-width=\"0.426791\"/>\n",
       "</g>\n",
       "<g transform=\"matrix(0.996264 0 0 0.996264 198.496 252.638)\">\n",
       "<path d=\"M 142.619 206.638L 140.485 206.638\" fill=\"none\" stroke=\"#000000\" stroke-linecap=\"round\" stroke-linejoin=\"round\" stroke-miterlimit=\"10.0375\" stroke-width=\"0.426791\"/>\n",
       "</g>\n",
       "<g transform=\"matrix(0.996264 0 0 0.996264 198.496 252.638)\">\n",
       "<path d=\"M 142.619 171.072L 138.352 171.072\" fill=\"none\" stroke=\"#000000\" stroke-linecap=\"round\" stroke-linejoin=\"round\" stroke-miterlimit=\"10.0375\" stroke-width=\"0.711319\"/>\n",
       "</g>\n",
       "<use x=\"326.894993\" y=\"426.863054\" xlink:href=\"#g1-49\"/>\n",
       "<g transform=\"matrix(0.996264 0 0 0.996264 198.496 252.638)\">\n",
       "<path d=\"M 142.619 178.185L 140.485 178.185\" fill=\"none\" stroke=\"#000000\" stroke-linecap=\"round\" stroke-linejoin=\"round\" stroke-miterlimit=\"10.0375\" stroke-width=\"0.426791\"/>\n",
       "</g>\n",
       "<g transform=\"matrix(0.996264 0 0 0.996264 198.496 252.638)\">\n",
       "<path d=\"M 142.619 185.299L 140.485 185.299\" fill=\"none\" stroke=\"#000000\" stroke-linecap=\"round\" stroke-linejoin=\"round\" stroke-miterlimit=\"10.0375\" stroke-width=\"0.426791\"/>\n",
       "</g>\n",
       "<g transform=\"matrix(0.996264 0 0 0.996264 198.496 252.638)\">\n",
       "<path d=\"M 142.619 192.412L 140.485 192.412\" fill=\"none\" stroke=\"#000000\" stroke-linecap=\"round\" stroke-linejoin=\"round\" stroke-miterlimit=\"10.0375\" stroke-width=\"0.426791\"/>\n",
       "</g>\n",
       "<g transform=\"matrix(0.996264 0 0 0.996264 198.496 252.638)\">\n",
       "<path d=\"M 142.619 142.619L 138.352 142.619\" fill=\"none\" stroke=\"#000000\" stroke-linecap=\"round\" stroke-linejoin=\"round\" stroke-miterlimit=\"10.0375\" stroke-width=\"0.711319\"/>\n",
       "</g>\n",
       "<use x=\"326.894993\" y=\"398.516595\" xlink:href=\"#g1-50\"/>\n",
       "<g transform=\"matrix(0.996264 0 0 0.996264 198.496 252.638)\">\n",
       "<path d=\"M 142.619 149.733L 140.485 149.733\" fill=\"none\" stroke=\"#000000\" stroke-linecap=\"round\" stroke-linejoin=\"round\" stroke-miterlimit=\"10.0375\" stroke-width=\"0.426791\"/>\n",
       "</g>\n",
       "<g transform=\"matrix(0.996264 0 0 0.996264 198.496 252.638)\">\n",
       "<path d=\"M 142.619 156.846L 140.485 156.846\" fill=\"none\" stroke=\"#000000\" stroke-linecap=\"round\" stroke-linejoin=\"round\" stroke-miterlimit=\"10.0375\" stroke-width=\"0.426791\"/>\n",
       "</g>\n",
       "<g transform=\"matrix(0.996264 0 0 0.996264 198.496 252.638)\">\n",
       "<path d=\"M 142.619 163.959L 140.485 163.959\" fill=\"none\" stroke=\"#000000\" stroke-linecap=\"round\" stroke-linejoin=\"round\" stroke-miterlimit=\"10.0375\" stroke-width=\"0.426791\"/>\n",
       "</g>\n",
       "<g transform=\"matrix(0.996264 0 0 0.996264 198.496 252.638)\">\n",
       "<path d=\"M 142.619 114.167L 138.352 114.167\" fill=\"none\" stroke=\"#000000\" stroke-linecap=\"round\" stroke-linejoin=\"round\" stroke-miterlimit=\"10.0375\" stroke-width=\"0.711319\"/>\n",
       "</g>\n",
       "<use x=\"326.894993\" y=\"370.170151\" xlink:href=\"#g1-51\"/>\n",
       "<g transform=\"matrix(0.996264 0 0 0.996264 198.496 252.638)\">\n",
       "<path d=\"M 142.619 121.28L 140.485 121.28\" fill=\"none\" stroke=\"#000000\" stroke-linecap=\"round\" stroke-linejoin=\"round\" stroke-miterlimit=\"10.0375\" stroke-width=\"0.426791\"/>\n",
       "</g>\n",
       "<g transform=\"matrix(0.996264 0 0 0.996264 198.496 252.638)\">\n",
       "<path d=\"M 142.619 128.393L 140.485 128.393\" fill=\"none\" stroke=\"#000000\" stroke-linecap=\"round\" stroke-linejoin=\"round\" stroke-miterlimit=\"10.0375\" stroke-width=\"0.426791\"/>\n",
       "</g>\n",
       "<g transform=\"matrix(0.996264 0 0 0.996264 198.496 252.638)\">\n",
       "<path d=\"M 142.619 135.506L 140.485 135.506\" fill=\"none\" stroke=\"#000000\" stroke-linecap=\"round\" stroke-linejoin=\"round\" stroke-miterlimit=\"10.0375\" stroke-width=\"0.426791\"/>\n",
       "</g>\n",
       "<g transform=\"matrix(0.996264 0 0 0.996264 198.496 252.638)\">\n",
       "<path d=\"M 142.619 85.7139L 138.352 85.7139\" fill=\"none\" stroke=\"#000000\" stroke-linecap=\"round\" stroke-linejoin=\"round\" stroke-miterlimit=\"10.0375\" stroke-width=\"0.711319\"/>\n",
       "</g>\n",
       "<use x=\"326.894993\" y=\"341.823691\" xlink:href=\"#g1-52\"/>\n",
       "<g transform=\"matrix(0.996264 0 0 0.996264 198.496 252.638)\">\n",
       "<path d=\"M 142.619 92.8271L 140.485 92.8271\" fill=\"none\" stroke=\"#000000\" stroke-linecap=\"round\" stroke-linejoin=\"round\" stroke-miterlimit=\"10.0375\" stroke-width=\"0.426791\"/>\n",
       "</g>\n",
       "<g transform=\"matrix(0.996264 0 0 0.996264 198.496 252.638)\">\n",
       "<path d=\"M 142.619 99.9403L 140.485 99.9403\" fill=\"none\" stroke=\"#000000\" stroke-linecap=\"round\" stroke-linejoin=\"round\" stroke-miterlimit=\"10.0375\" stroke-width=\"0.426791\"/>\n",
       "</g>\n",
       "<g transform=\"matrix(0.996264 0 0 0.996264 198.496 252.638)\">\n",
       "<path d=\"M 142.619 107.053L 140.485 107.053\" fill=\"none\" stroke=\"#000000\" stroke-linecap=\"round\" stroke-linejoin=\"round\" stroke-miterlimit=\"10.0375\" stroke-width=\"0.426791\"/>\n",
       "</g>\n",
       "<g transform=\"matrix(0.996264 0 0 0.996264 198.496 252.638)\">\n",
       "<path d=\"M 142.619 57.2612L 138.352 57.2612\" fill=\"none\" stroke=\"#000000\" stroke-linecap=\"round\" stroke-linejoin=\"round\" stroke-miterlimit=\"10.0375\" stroke-width=\"0.711319\"/>\n",
       "</g>\n",
       "<use x=\"326.894993\" y=\"313.477231\" xlink:href=\"#g1-53\"/>\n",
       "<g transform=\"matrix(0.996264 0 0 0.996264 198.496 252.638)\">\n",
       "<path d=\"M 142.619 64.3744L 140.485 64.3744\" fill=\"none\" stroke=\"#000000\" stroke-linecap=\"round\" stroke-linejoin=\"round\" stroke-miterlimit=\"10.0375\" stroke-width=\"0.426791\"/>\n",
       "</g>\n",
       "<g transform=\"matrix(0.996264 0 0 0.996264 198.496 252.638)\">\n",
       "<path d=\"M 142.619 71.4875L 140.485 71.4875\" fill=\"none\" stroke=\"#000000\" stroke-linecap=\"round\" stroke-linejoin=\"round\" stroke-miterlimit=\"10.0375\" stroke-width=\"0.426791\"/>\n",
       "</g>\n",
       "<g transform=\"matrix(0.996264 0 0 0.996264 198.496 252.638)\">\n",
       "<path d=\"M 142.619 78.6007L 140.485 78.6007\" fill=\"none\" stroke=\"#000000\" stroke-linecap=\"round\" stroke-linejoin=\"round\" stroke-miterlimit=\"10.0375\" stroke-width=\"0.426791\"/>\n",
       "</g>\n",
       "<g transform=\"matrix(0.996264 0 0 0.996264 198.496 252.638)\">\n",
       "<path d=\"M 142.619 28.8084L 138.352 28.8084\" fill=\"none\" stroke=\"#000000\" stroke-linecap=\"round\" stroke-linejoin=\"round\" stroke-miterlimit=\"10.0375\" stroke-width=\"0.711319\"/>\n",
       "</g>\n",
       "<use x=\"326.894993\" y=\"285.130772\" xlink:href=\"#g1-54\"/>\n",
       "<g transform=\"matrix(0.996264 0 0 0.996264 198.496 252.638)\">\n",
       "<path d=\"M 142.619 35.9216L 140.485 35.9216\" fill=\"none\" stroke=\"#000000\" stroke-linecap=\"round\" stroke-linejoin=\"round\" stroke-miterlimit=\"10.0375\" stroke-width=\"0.426791\"/>\n",
       "</g>\n",
       "<g transform=\"matrix(0.996264 0 0 0.996264 198.496 252.638)\">\n",
       "<path d=\"M 142.619 43.0348L 140.485 43.0348\" fill=\"none\" stroke=\"#000000\" stroke-linecap=\"round\" stroke-linejoin=\"round\" stroke-miterlimit=\"10.0375\" stroke-width=\"0.426791\"/>\n",
       "</g>\n",
       "<g transform=\"matrix(0.996264 0 0 0.996264 198.496 252.638)\">\n",
       "<path d=\"M 142.619 50.148L 140.485 50.148\" fill=\"none\" stroke=\"#000000\" stroke-linecap=\"round\" stroke-linejoin=\"round\" stroke-miterlimit=\"10.0375\" stroke-width=\"0.426791\"/>\n",
       "</g>\n",
       "<g transform=\"matrix(0.996264 0 0 0.996264 198.496 252.638)\">\n",
       "<path d=\"M 427.147 199.525L 426.305 181.677L 423.79 164.005L 419.632 146.682L 413.879 129.877L 406.599 113.753L 397.878 98.461L 387.817 84.1439L 376.532 70.9302L 364.155 58.9341L 350.826 48.254L 336.696 38.9707L 321.924 31.1472L 306.671 24.8276L 291.105 20.0369L 275.391 16.7807L 259.694 15.0456L 244.173 14.7996L 228.983 15.9928L 214.269 18.5583L 200.166 22.4138L 186.798 27.4626L 174.272 33.5957L 162.685 40.6932L 152.113 48.6267L 142.619 57.2612L 134.248 66.4571L 127.024 76.0727L 120.957 85.9664L 116.038 95.9987L 112.242 106.034L 109.528 115.945L 107.837 125.609L 107.101 134.917L 107.236 143.77L 108.15 152.082L 109.74 159.781L 111.899 166.811L 114.512 173.13L 117.464 178.715L 120.638 183.555L 123.921 187.658L 127.199 191.047L 130.368 193.76L 133.331 195.847L 135.997 197.373L 138.29 198.413L 140.144 199.053L 141.506 199.384L 142.339 199.507L 142.619 199.525L 142.339 199.543L 141.506 199.666L 140.144 199.997L 138.29 200.636L 135.997 201.677L 133.331 203.203L 130.368 205.29L 127.199 208.002L 123.921 211.392L 120.638 215.495L 117.464 220.335L 114.512 225.92L 111.899 232.239L 109.74 239.269L 108.15 246.968L 107.236 255.28L 107.101 264.133L 107.837 273.441L 109.528 283.105L 112.242 293.016L 116.038 303.051L 120.957 313.083L 127.024 322.977L 134.248 332.593L 142.619 341.789L 152.113 350.423L 162.685 358.357L 174.272 365.454L 186.798 371.587L 200.166 376.636L 214.269 380.492L 228.983 383.057L 244.173 384.25L 259.694 384.004L 275.391 382.269L 291.105 379.013L 306.671 374.222L 321.924 367.903L 336.696 360.079L 350.826 350.796L 364.155 340.116L 376.532 328.12L 387.817 314.906L 397.878 300.589L 406.599 285.297L 413.879 269.173L 419.632 252.368L 423.79 235.045L 426.305 217.373L 427.147 199.525\" fill=\"none\" stroke=\"#ff0000\" stroke-linecap=\"round\" stroke-linejoin=\"round\" stroke-miterlimit=\"10.0375\" stroke-width=\"1.50562\"/>\n",
       "</g>\n",
       "</g>\n",
       "</svg>"
      ],
      "text/plain": [
       "<IPython.core.display.SVG object>"
      ]
     },
     "execution_count": 6,
     "metadata": {},
     "output_type": "execute_result"
    }
   ],
   "source": [
    "%%asy --fmt svg\n",
    "import geometry;\n",
    "import coordenades;\n",
    "import graph;\n",
    "\n",
    "unitsize(1cm);\n",
    "\n",
    "real a = 5;\n",
    "\n",
    "pair cardioide(real t) {\n",
    "  return (a*(1+cos(t))*cos(t),a*(1+cos(t))*sin(t));   \n",
    "}\n",
    "\n",
    "Canonica((int)(-a),(int)(2*a+1),(int)(-a-2),(int)(a+2));    \n",
    "path g = graph(cardioide,0,2*pi);\n",
    "draw(g,red+linewidth(1.5bp));"
   ]
  },
  {
   "cell_type": "markdown",
   "metadata": {},
   "source": [
    "La longitud d'una corba en coordenades polars és\n",
    "$$\n",
    "  L = \\int_{\\alpha_0}^{\\alpha_1} \\sqrt{r(\\alpha)^2+r'(\\alpha)^2}\\,d\\alpha\n",
    "$$"
   ]
  },
  {
   "cell_type": "code",
   "execution_count": 2,
   "metadata": {},
   "outputs": [
    {
     "data": {
      "text/html": [
       "<html>\\[\\newcommand{\\Bold}[1]{\\mathbf{#1}}a {\\left(\\cos\\left(\\alpha\\right) + 1\\right)}\\]</html>"
      ],
      "text/latex": [
       "$$\\newcommand{\\Bold}[1]{\\mathbf{#1}}a {\\left(\\cos\\left(\\alpha\\right) + 1\\right)}$$"
      ],
      "text/plain": [
       "a*(cos(alpha) + 1)"
      ]
     },
     "metadata": {},
     "output_type": "display_data"
    }
   ],
   "source": [
    "alpha = var('alpha')\n",
    "a = var('a')\n",
    "r = a*(1+cos(alpha))\n",
    "show(r)"
   ]
  },
  {
   "cell_type": "code",
   "execution_count": 8,
   "metadata": {},
   "outputs": [
    {
     "data": {
      "text/html": [
       "<html>\\[\\newcommand{\\Bold}[1]{\\mathbf{#1}}2 \\, a^{2} \\cos\\left(\\alpha\\right) + 2 \\, a^{2}\\]</html>"
      ],
      "text/latex": [
       "$$\\newcommand{\\Bold}[1]{\\mathbf{#1}}2 \\, a^{2} \\cos\\left(\\alpha\\right) + 2 \\, a^{2}$$"
      ],
      "text/plain": [
       "2*a^2*cos(alpha) + 2*a^2"
      ]
     },
     "metadata": {},
     "output_type": "display_data"
    }
   ],
   "source": [
    "f = r^2 + r.diff(alpha)^2\n",
    "show(f.simplify_full())"
   ]
  },
  {
   "cell_type": "code",
   "execution_count": 9,
   "metadata": {},
   "outputs": [
    {
     "data": {
      "text/html": [
       "<html>\\[\\newcommand{\\Bold}[1]{\\mathbf{#1}}\\sqrt{a^{2} {\\left(\\cos\\left(\\alpha\\right) + 1\\right)}^{2} + a^{2} \\sin\\left(\\alpha\\right)^{2}}\\]</html>"
      ],
      "text/latex": [
       "$$\\newcommand{\\Bold}[1]{\\mathbf{#1}}\\sqrt{a^{2} {\\left(\\cos\\left(\\alpha\\right) + 1\\right)}^{2} + a^{2} \\sin\\left(\\alpha\\right)^{2}}$$"
      ],
      "text/plain": [
       "sqrt(a^2*(cos(alpha) + 1)^2 + a^2*sin(alpha)^2)"
      ]
     },
     "metadata": {},
     "output_type": "display_data"
    }
   ],
   "source": [
    "g = sqrt(f)\n",
    "show(g)"
   ]
  },
  {
   "cell_type": "code",
   "execution_count": 12,
   "metadata": {},
   "outputs": [
    {
     "data": {
      "text/html": [
       "<html>\\[\\newcommand{\\Bold}[1]{\\mathbf{#1}}4 \\, a\\]</html>"
      ],
      "text/latex": [
       "$$\\newcommand{\\Bold}[1]{\\mathbf{#1}}4 \\, a$$"
      ],
      "text/plain": [
       "4*a"
      ]
     },
     "metadata": {},
     "output_type": "display_data"
    }
   ],
   "source": [
    "show(g.integrate(alpha,0,pi))"
   ]
  },
  {
   "cell_type": "markdown",
   "metadata": {},
   "source": [
    "La longitud de la cardioide és $L=8a$."
   ]
  },
  {
   "cell_type": "markdown",
   "metadata": {},
   "source": [
    "## Exercici 25"
   ]
  },
  {
   "cell_type": "markdown",
   "metadata": {},
   "source": [
    "És molt semblant a l'exercici 23, per tant repetim el procediment"
   ]
  },
  {
   "cell_type": "code",
   "execution_count": null,
   "metadata": {},
   "outputs": [],
   "source": [
    "t = var('t')\n",
    "assume(t >= 0)\n",
    "r = vector([t^2/2 - t,4/3*t^(3/2)])\n",
    "show(r)"
   ]
  },
  {
   "cell_type": "code",
   "execution_count": null,
   "metadata": {},
   "outputs": [],
   "source": [
    "v = r.diff(t)\n",
    "V = (v[0]^2 + v[1]^2).simplify_full()\n",
    "V = sqrt(V)\n",
    "show(V)"
   ]
  },
  {
   "cell_type": "code",
   "execution_count": null,
   "metadata": {},
   "outputs": [],
   "source": [
    "d = V.integrate(t,0,2)\n",
    "show(d)"
   ]
  },
  {
   "cell_type": "markdown",
   "metadata": {},
   "source": [
    "La distància recorreguda és $d=4$."
   ]
  },
  {
   "cell_type": "markdown",
   "metadata": {},
   "source": [
    "## Exercici 27"
   ]
  },
  {
   "cell_type": "markdown",
   "metadata": {},
   "source": [
    "La parametrització d'aquesta corba es pot escriure com a\n",
    "$$\n",
    "  \\mathbf{r}(t)=\\big(bt\\cos t,bt\\sin t\\big)\\qquad\\text{amb}\\qquad t\\in[0,2\\pi]\\,.\n",
    "$$\n",
    "La seva representació gràfica és"
   ]
  },
  {
   "cell_type": "code",
   "execution_count": null,
   "metadata": {},
   "outputs": [],
   "source": [
    "%%asy --fmt svg\n",
    "import geometry;\n",
    "import coordenades;\n",
    "import graph;\n",
    "\n",
    "unitsize(1cm);\n",
    "\n",
    "real b = 1.5;\n",
    "\n",
    "pair ast(real t) {\n",
    "  return (b*t*cos(t),b*t*sin(t));   \n",
    "}\n",
    "\n",
    "Canonica(-10,10,-10,10);    \n",
    "path g = graph(ast,0,2*pi);\n",
    "draw(g,red+linewidth(1.5bp));"
   ]
  },
  {
   "cell_type": "markdown",
   "metadata": {},
   "source": [
    "Per calcular la longitud procedim com en exercicis anteriors"
   ]
  },
  {
   "cell_type": "code",
   "execution_count": null,
   "metadata": {},
   "outputs": [],
   "source": [
    "b, t = var('b t')\n",
    "assume(t >= 0)\n",
    "assume(b > 0)\n",
    "r = vector([b*t*cos(t),b*t*sin(t)])\n",
    "show(r)"
   ]
  },
  {
   "cell_type": "code",
   "execution_count": null,
   "metadata": {},
   "outputs": [],
   "source": [
    "v = r.diff(t)\n",
    "V = (v[0]^2 + v[1]^2).simplify_full()\n",
    "V = sqrt(V)\n",
    "show(V)"
   ]
  },
  {
   "cell_type": "code",
   "execution_count": null,
   "metadata": {},
   "outputs": [],
   "source": [
    "d = V.integrate(t,0,2*pi)\n",
    "show(d)"
   ]
  },
  {
   "cell_type": "markdown",
   "metadata": {},
   "source": [
    "La longitud és\n",
    "$$\n",
    "  L = b\\pi\\sqrt{1+4\\pi^2} + \\frac{b}{2}\\mathop{\\mathrm{arcsinh}}(2\\pi)\\,.\n",
    "$$"
   ]
  },
  {
   "cell_type": "markdown",
   "metadata": {},
   "source": [
    "## Exercici 29"
   ]
  },
  {
   "cell_type": "markdown",
   "metadata": {},
   "source": [
    "Escrivim en primer lloc la parametrització de la corba"
   ]
  },
  {
   "cell_type": "code",
   "execution_count": null,
   "metadata": {},
   "outputs": [],
   "source": [
    "t = var('t')\n",
    "assume(t >= 0)\n",
    "r = vector([e^t*cos(t),e^t*sin(t),e^t])\n",
    "show(r)"
   ]
  },
  {
   "cell_type": "markdown",
   "metadata": {},
   "source": [
    "El vector tangent en cada punt és"
   ]
  },
  {
   "cell_type": "code",
   "execution_count": null,
   "metadata": {},
   "outputs": [],
   "source": [
    "v = r.diff(t)\n",
    "show(v)"
   ]
  },
  {
   "cell_type": "code",
   "execution_count": null,
   "metadata": {},
   "outputs": [],
   "source": [
    "i la longitud del vector tangent"
   ]
  },
  {
   "cell_type": "code",
   "execution_count": null,
   "metadata": {},
   "outputs": [],
   "source": [
    "V = sqrt((v[0]^2+v[1]^2+v[2]^2).simplify_full())\n",
    "show(V)"
   ]
  },
  {
   "cell_type": "markdown",
   "metadata": {},
   "source": [
    "Com que la longitud del vector tangent no és constant i igual a 1, la corba no està parametritzada pel paràmetre arc."
   ]
  },
  {
   "cell_type": "markdown",
   "metadata": {},
   "source": [
    "El paràmetre arc $s$ vindrà donat per la la longitud de la corba des de l'inici fins a l'instant $s$: \n",
    "$$\n",
    "  s = \\int_0^t || \\mathbf{r}'(u) ||\\,du\n",
    "$$"
   ]
  },
  {
   "cell_type": "code",
   "execution_count": null,
   "metadata": {},
   "outputs": [],
   "source": [
    "s = var('s')\n",
    "S = V.integrate(t,0,t)\n",
    "show(S)"
   ]
  },
  {
   "cell_type": "markdown",
   "metadata": {},
   "source": [
    "Ara hem d'aillar $t$ en funció de $s$"
   ]
  },
  {
   "cell_type": "code",
   "execution_count": null,
   "metadata": {},
   "outputs": [],
   "source": [
    "sol = solve(S == s,t)\n",
    "show(sol)"
   ]
  },
  {
   "cell_type": "markdown",
   "metadata": {},
   "source": [
    "La parametrització mitjançant el paràmetre arc és"
   ]
  },
  {
   "cell_type": "code",
   "execution_count": null,
   "metadata": {},
   "outputs": [],
   "source": [
    "rs = r.subs(t=sol[0].rhs()).simplify_full()\n",
    "show(rs)"
   ]
  },
  {
   "cell_type": "markdown",
   "metadata": {},
   "source": [
    "o, escrit d'una altra manera, \n",
    "$$\n",
    "  \\left.\\begin{aligned}\n",
    "   x &= \\frac{s+\\sqrt{3}}{\\sqrt{3}}\\cos\\left(\\log\\left( \\frac{s+\\sqrt{3}}{\\sqrt{3}} \\right)\\right) \\\\[2mm]\n",
    "   y &= \\frac{s+\\sqrt{3}}{\\sqrt{3}}\\sin\\left(\\log\\left( \\frac{s+\\sqrt{3}}{\\sqrt{3}} \\right)\\right) \\\\[2mm]\n",
    "   z &= \\frac{s+\\sqrt{3}}{\\sqrt{3}}\n",
    "  \\end{aligned}\\,\\right\\}\\qquad\\text{amb}\\qquad s \\geq 0\\,.\n",
    "$$"
   ]
  },
  {
   "cell_type": "markdown",
   "metadata": {},
   "source": [
    "## Exercici 31"
   ]
  },
  {
   "cell_type": "markdown",
   "metadata": {},
   "source": [
    "Recordem qie la curvatura d'una corba $\\mathbf{r}(t)$  ve donada per\n",
    "$$\n",
    "   \\mathbf{\\kappa}(t) = \\frac{|| \\mathbf{r}'(t) \\times \\mathbf{r}''(t) ||}{|| \\mathbf{r}'(t) ||^3}\n",
    "$$"
   ]
  },
  {
   "cell_type": "markdown",
   "metadata": {},
   "source": [
    "En el primer apartat tenim que"
   ]
  },
  {
   "cell_type": "code",
   "execution_count": null,
   "metadata": {},
   "outputs": [],
   "source": [
    "t = var('t')\n",
    "r = vector([cos(3*t),sin(3*t),4*t])\n",
    "show(r)"
   ]
  },
  {
   "cell_type": "code",
   "execution_count": null,
   "metadata": {
    "tags": []
   },
   "outputs": [],
   "source": [
    "r1 = r.diff(t)\n",
    "show(r1)"
   ]
  },
  {
   "cell_type": "code",
   "execution_count": null,
   "metadata": {},
   "outputs": [],
   "source": [
    "r2 = r.diff(t,2)\n",
    "show(r2)"
   ]
  },
  {
   "cell_type": "code",
   "execution_count": null,
   "metadata": {},
   "outputs": [],
   "source": [
    "n = r1.cross_product(r2).simplify_full()\n",
    "show(n)"
   ]
  },
  {
   "cell_type": "code",
   "execution_count": null,
   "metadata": {},
   "outputs": [],
   "source": [
    "A = sqrt(sum([n[i]^2 for i in range(3)]).simplify_full())\n",
    "show(A)"
   ]
  },
  {
   "cell_type": "code",
   "execution_count": null,
   "metadata": {},
   "outputs": [],
   "source": [
    "B = sqrt(sum([r1[i]^2 for i in range(3)]).simplify_full())^3\n",
    "show(B)"
   ]
  },
  {
   "cell_type": "code",
   "execution_count": null,
   "metadata": {},
   "outputs": [],
   "source": [
    "kappa = A/B\n",
    "show(kappa)"
   ]
  },
  {
   "cell_type": "markdown",
   "metadata": {},
   "source": [
    "La curvatura és constant i és\n",
    "$$\n",
    "   \\mathbf{\\kappa}(t) =\\frac{9}{25}\\,.\n",
    "$$"
   ]
  },
  {
   "cell_type": "markdown",
   "metadata": {},
   "source": [
    "En el segon apartat tenim que"
   ]
  },
  {
   "cell_type": "code",
   "execution_count": null,
   "metadata": {},
   "outputs": [],
   "source": [
    "t = var('t')\n",
    "r = vector([1-cos(t),sin(t),0])\n",
    "show(r)"
   ]
  },
  {
   "cell_type": "code",
   "execution_count": null,
   "metadata": {},
   "outputs": [],
   "source": [
    "r1 = r.diff(t)\n",
    "show(r1)"
   ]
  },
  {
   "cell_type": "code",
   "execution_count": null,
   "metadata": {},
   "outputs": [],
   "source": [
    "r2 = r.diff(t,2)\n",
    "show(r2)"
   ]
  },
  {
   "cell_type": "code",
   "execution_count": null,
   "metadata": {},
   "outputs": [],
   "source": [
    "n = r1.cross_product(r2).simplify_full()\n",
    "show(n)"
   ]
  },
  {
   "cell_type": "code",
   "execution_count": null,
   "metadata": {},
   "outputs": [],
   "source": [
    "A = sqrt(sum([n[i]^2 for i in range(3)]).simplify_full())\n",
    "show(A)"
   ]
  },
  {
   "cell_type": "code",
   "execution_count": null,
   "metadata": {},
   "outputs": [],
   "source": [
    "B = sqrt(sum([r1[i]^2 for i in range(3)]).simplify_full())^3\n",
    "show(B)"
   ]
  },
  {
   "cell_type": "markdown",
   "metadata": {},
   "source": [
    "La curvatura és constant i és\n",
    "$$\n",
    "   \\mathbf{\\kappa}(t) = 1\\,.\n",
    "$$"
   ]
  },
  {
   "cell_type": "markdown",
   "metadata": {},
   "source": [
    "En el tercer apartat, podem utilitzar la parametrització\n",
    "$$\n",
    "  \\mathbf{r}(t)=  \\big( a\\cos t,b\\sin t, 0 \\big)\\,.\n",
    "$$"
   ]
  },
  {
   "cell_type": "code",
   "execution_count": null,
   "metadata": {},
   "outputs": [],
   "source": [
    "a, b, t = var('a b t')\n",
    "assume(a > 0)\n",
    "assume(b > 0)\n",
    "r = vector([a*cos(t),b*sin(t),0])\n",
    "show(r)"
   ]
  },
  {
   "cell_type": "code",
   "execution_count": null,
   "metadata": {},
   "outputs": [],
   "source": [
    "r1 = r.diff(t)\n",
    "show(r1)"
   ]
  },
  {
   "cell_type": "code",
   "execution_count": null,
   "metadata": {},
   "outputs": [],
   "source": [
    "r2 = r.diff(t,2)\n",
    "show(r2)"
   ]
  },
  {
   "cell_type": "code",
   "execution_count": null,
   "metadata": {},
   "outputs": [],
   "source": [
    "n = r1.cross_product(r2).simplify_full()\n",
    "show(n)"
   ]
  },
  {
   "cell_type": "code",
   "execution_count": null,
   "metadata": {},
   "outputs": [],
   "source": [
    "A = sqrt(sum([n[i]^2 for i in range(3)]).simplify_full())\n",
    "show(A)"
   ]
  },
  {
   "cell_type": "code",
   "execution_count": null,
   "metadata": {},
   "outputs": [],
   "source": [
    "B = sqrt(sum([r1[i]^2 for i in range(3)]).simplify_full())^3\n",
    "show(B)"
   ]
  },
  {
   "cell_type": "code",
   "execution_count": null,
   "metadata": {},
   "outputs": [],
   "source": [
    "kappa = A/B\n",
    "show(kappa)"
   ]
  },
  {
   "cell_type": "markdown",
   "metadata": {},
   "source": [
    "La curvatura en funció del paràmetre $t$ és\n",
    "$$\n",
    "   \\mathbf{\\kappa}(t) = \\frac{ab}{\\left(b^2\\cos^2 t+a^2\\sin^2 t \\right)^\\frac{3}{2}}\n",
    "$$"
   ]
  },
  {
   "cell_type": "markdown",
   "metadata": {},
   "source": [
    "Si volem expressar la curvatura en termes de les coordenades $x$ i $y$, hem de multiplicar i dividir per $a^3b^3$:\n",
    "$$\n",
    "   \\mathbf{\\kappa}(t) = \\frac{a^4b^2}{\\left(a^2b^2\\big(b^2\\cos^2 t+a^2\\sin^2 t\\big) \\right)^\\frac{3}{2}} =\n",
    "    \\frac{a^4b^2}{\\left(b^4a^2\\cos^2 t+a^4b^2\\sin^2 t \\right)^\\frac{3}{2}} \n",
    "$$"
   ]
  },
  {
   "cell_type": "markdown",
   "metadata": {},
   "source": [
    "i, en substituir $a\\cos t$ per $x$ i $b\\sin t$ per $y$, ens queda\n",
    "$$\n",
    "   \\mathbf{\\kappa}(x,y) = \\frac{a^4b^2}{\\left(b^4x^2+a^4y^2\\right)^\\frac{3}{2}} \n",
    "$$"
   ]
  },
  {
   "cell_type": "markdown",
   "metadata": {},
   "source": [
    "## Exercici 33"
   ]
  },
  {
   "cell_type": "markdown",
   "metadata": {},
   "source": [
    "La curvatura d'una corba pla expressada en coordenades cartesianes $y=f(x)$ ve donada per\n",
    "$$\n",
    " \\mathbf{\\kappa}(x) = \\left| \\frac{y''(x)}{\\big(1+y'(x)^2\\big)^\\frac{3}{2}} \\right|\\,.\n",
    "$$"
   ]
  },
  {
   "cell_type": "markdown",
   "metadata": {},
   "source": [
    "Per a la corba $y=e^x$, tenim que"
   ]
  },
  {
   "cell_type": "code",
   "execution_count": null,
   "metadata": {},
   "outputs": [],
   "source": [
    "x = var('x')\n",
    "y = e^(2*x)\n",
    "y1 = y.diff(x)\n",
    "y2 = y.diff(x,2)"
   ]
  },
  {
   "cell_type": "code",
   "execution_count": null,
   "metadata": {},
   "outputs": [],
   "source": [
    "expr = y2/((1+y1^2)^(3/2))\n",
    "show(expr)"
   ]
  },
  {
   "cell_type": "markdown",
   "metadata": {},
   "source": [
    "Tenint en compte que tant el numerador com el denominador són positius, tindrem que\n",
    "$$\n",
    "  \\mathbf{\\kappa}(x)=\\frac{4e^{2x}}{\\big( 1+4e^{4x}\\big)^\\frac{3}{2}}\n",
    "$$"
   ]
  },
  {
   "cell_type": "markdown",
   "metadata": {},
   "source": [
    "Per trobar el punt en que la curvatura és màxima, hem d'igualar a zero la seva derivada"
   ]
  },
  {
   "cell_type": "code",
   "execution_count": null,
   "metadata": {},
   "outputs": [],
   "source": [
    "k1 = expr.diff(x).simplify_full()\n",
    "show(k1)"
   ]
  },
  {
   "cell_type": "markdown",
   "metadata": {},
   "source": [
    "Com que denominador és sempre positiu i el factor $\\sqrt{4e^{4x}+1}$ també, les solucions de $\\mathbf{\\kappa}'(x)=0$ són les mateixes que les de l'equació\n",
    "$$\n",
    "  8e^{6x}-e^{2x}=0\n",
    "$$"
   ]
  },
  {
   "cell_type": "code",
   "execution_count": null,
   "metadata": {},
   "outputs": [],
   "source": [
    "assume(x,'real')\n",
    "show(solve(8*e^(6*x)-e^(2*x) == 0,x))"
   ]
  },
  {
   "cell_type": "markdown",
   "metadata": {},
   "source": [
    "L'única solució real és\n",
    "$$\n",
    "  x = -\\frac{3\\log(2)}{4}\\,.\n",
    "$$"
   ]
  },
  {
   "cell_type": "markdown",
   "metadata": {},
   "source": [
    "Per saber si es tracta d'un maxim o un mínim, substituim a la segona derivada:"
   ]
  },
  {
   "cell_type": "code",
   "execution_count": null,
   "metadata": {},
   "outputs": [],
   "source": [
    "k2 = expr.diff(x,2)\n",
    "show(simplificar_radicals(k2.subs(x = -3/4*log(2))))"
   ]
  },
  {
   "cell_type": "markdown",
   "metadata": {},
   "source": [
    "Com que és negatiu, el punt de la corba $y=e^{2x}$ en el que la curvatura és màxima és en el punt d'abscissa\n",
    "$$\n",
    "  x = -\\frac{3\\log(2)}{4}\\,.\n",
    "$$"
   ]
  },
  {
   "cell_type": "markdown",
   "metadata": {},
   "source": [
    "## Exercici 35"
   ]
  },
  {
   "cell_type": "markdown",
   "metadata": {},
   "source": [
    "Per calcular la curvatura, fem el mateix que a l'exercici 31"
   ]
  },
  {
   "cell_type": "code",
   "execution_count": null,
   "metadata": {},
   "outputs": [],
   "source": [
    "t = var('t')\n",
    "r = vector([cos(t),sin(t),sin(t)+cos(t)])\n",
    "show(r)"
   ]
  },
  {
   "cell_type": "code",
   "execution_count": null,
   "metadata": {
    "tags": []
   },
   "outputs": [],
   "source": [
    "r1 = r.diff(t)\n",
    "show(r1)"
   ]
  },
  {
   "cell_type": "code",
   "execution_count": null,
   "metadata": {},
   "outputs": [],
   "source": [
    "r2 = r.diff(t,2)\n",
    "show(r2)"
   ]
  },
  {
   "cell_type": "code",
   "execution_count": null,
   "metadata": {},
   "outputs": [],
   "source": [
    "n = r1.cross_product(r2).simplify_full()\n",
    "show(n)"
   ]
  },
  {
   "cell_type": "code",
   "execution_count": null,
   "metadata": {},
   "outputs": [],
   "source": [
    "A = sqrt(sum([n[i]^2 for i in range(3)]).simplify_full())\n",
    "show(A)"
   ]
  },
  {
   "cell_type": "code",
   "execution_count": null,
   "metadata": {
    "tags": []
   },
   "outputs": [],
   "source": [
    "B = sqrt(sum([r1[i]^2 for i in range(3)]).simplify_full())^3\n",
    "show(B)"
   ]
  },
  {
   "cell_type": "code",
   "execution_count": null,
   "metadata": {},
   "outputs": [],
   "source": [
    "kappa = A/B\n",
    "show(kappa)"
   ]
  },
  {
   "cell_type": "markdown",
   "metadata": {},
   "source": [
    "La curvatura és \n",
    "$$\n",
    "  \\mathbf{\\kappa}(t) = \\frac{\\sqrt{3}}{\\big( 2 - 2\\sin(t)\\cos(t)\\big)^\\frac{3}{2}}=\\frac{\\sqrt{3}}{\\big( 2 - \\sin(2t) \\big)^\\frac{3}{2}} \\,.\n",
    "$$"
   ]
  },
  {
   "cell_type": "markdown",
   "metadata": {},
   "source": [
    "La torsió d'una corba en cada punt és\n",
    "$$\n",
    "  \\mathbf{\\tau}(x) = \\frac{\\det\\big(\\mathbf{r}'(t), \\mathbf{r}''(t), \\mathbf{r}'''(t) \\big)}{|| \\mathbf{r}'(t) \\times \\mathbf{r}''(t) ||^2}\\,.\n",
    "$$\n",
    "Aleshores,"
   ]
  },
  {
   "cell_type": "code",
   "execution_count": null,
   "metadata": {},
   "outputs": [],
   "source": [
    "r3 = r.diff(t,3)\n",
    "show(r3)"
   ]
  },
  {
   "cell_type": "code",
   "execution_count": null,
   "metadata": {},
   "outputs": [],
   "source": [
    "A = matrix([r1,r2,r3]).T.det().simplify_full()\n",
    "show(A)"
   ]
  },
  {
   "cell_type": "markdown",
   "metadata": {},
   "source": [
    "Com que el numerador és zero, podem assegurar que $\\mathbf{\\tau}(x)=0$, és a dir, la corba està continguda en un pla."
   ]
  },
  {
   "cell_type": "markdown",
   "metadata": {},
   "source": [
    "La partícula descriu una circumferència, per tant, la força ha de ser central."
   ]
  },
  {
   "cell_type": "markdown",
   "metadata": {},
   "source": [
    "## Exercici 37"
   ]
  },
  {
   "cell_type": "markdown",
   "metadata": {},
   "source": [
    "Calculem en primer lloc la curvatura"
   ]
  },
  {
   "cell_type": "code",
   "execution_count": null,
   "metadata": {},
   "outputs": [],
   "source": [
    "t = var('t')\n",
    "r = vector([cos(t),2*sin(t),1])\n",
    "show(r)"
   ]
  },
  {
   "cell_type": "code",
   "execution_count": null,
   "metadata": {
    "tags": []
   },
   "outputs": [],
   "source": [
    "r1 = r.diff(t)\n",
    "show(r1)"
   ]
  },
  {
   "cell_type": "code",
   "execution_count": null,
   "metadata": {},
   "outputs": [],
   "source": [
    "r2 = r.diff(t,2)\n",
    "show(r2)"
   ]
  },
  {
   "cell_type": "code",
   "execution_count": null,
   "metadata": {},
   "outputs": [],
   "source": [
    "b = r1.cross_product(r2).simplify_full()\n",
    "show(b)"
   ]
  },
  {
   "cell_type": "code",
   "execution_count": null,
   "metadata": {},
   "outputs": [],
   "source": [
    "A = sqrt(sum([b[i]^2 for i in range(3)]).simplify_full())\n",
    "show(A)"
   ]
  },
  {
   "cell_type": "code",
   "execution_count": null,
   "metadata": {
    "tags": []
   },
   "outputs": [],
   "source": [
    "B = sqrt(sum([r1[i]^2 for i in range(3)]).simplify_full())^3\n",
    "show(B)"
   ]
  },
  {
   "cell_type": "code",
   "execution_count": null,
   "metadata": {},
   "outputs": [],
   "source": [
    "kappa = A/B\n",
    "show(kappa)"
   ]
  },
  {
   "cell_type": "markdown",
   "metadata": {},
   "source": [
    "La curvatura és\n",
    "$$\n",
    "  \\mathbf{\\kappa}(t) = \\frac{2}{\\big( 1+3\\cos^2 t \\big)^\\frac{3}{2}} \\,.\n",
    "$$"
   ]
  },
  {
   "cell_type": "markdown",
   "metadata": {},
   "source": [
    "És sempre positiva i serà màxima quan el denominador és mínim, ja que el numerador és constant. Això passa quan $\\cos t = 0$, és a dir, $t=\\frac{\\pi}{2}$ i $t=\\frac{3\\pi}{2}$."
   ]
  },
  {
   "cell_type": "code",
   "execution_count": null,
   "metadata": {},
   "outputs": [],
   "source": [
    "show(kappa.subs(t = pi/2))"
   ]
  },
  {
   "cell_type": "markdown",
   "metadata": {},
   "source": [
    "La curvatura serà mínima quan $\\cos^2 t=1$, és a dir, $t=0$, $t=\\pi$ i $t=2\\pi$."
   ]
  },
  {
   "cell_type": "code",
   "execution_count": null,
   "metadata": {},
   "outputs": [],
   "source": [
    "show(kappa.subs(t = pi))"
   ]
  },
  {
   "cell_type": "markdown",
   "metadata": {},
   "source": [
    "Les components tangencial i normal de l'accelaració són\n",
    "$$\n",
    "  \\begin{aligned}\n",
    "  a_{T} &= \\frac{\\mathbf{r}''(t)\\cdot\\mathbf{r}'(t)}{|| \\mathbf{r}'(t) ||}     \\\\\n",
    "  a_{N} &=  \\frac{||\\mathbf{r}''(t)\\times\\mathbf{r}'(t)||}{|| \\mathbf{r}'(t) ||} \n",
    "  \\end{aligned}\n",
    "$$"
   ]
  },
  {
   "cell_type": "code",
   "execution_count": null,
   "metadata": {},
   "outputs": [],
   "source": [
    "aT = (r2.dot_product(r1)/r1.norm()).simplify_full()\n",
    "show(aT)"
   ]
  },
  {
   "cell_type": "markdown",
   "metadata": {},
   "source": [
    "És a dir,\n",
    "$$\n",
    "  aT(t)=-\\frac{3\\sin t\\cos t}{\\sqrt{1+3\\cos^2 t}} = -\\frac{3\\sin(2t)}{2\\sqrt{1+3\\cos^2 t}}\n",
    "$$"
   ]
  },
  {
   "cell_type": "markdown",
   "metadata": {},
   "source": [
    "La component normal és"
   ]
  },
  {
   "cell_type": "code",
   "execution_count": null,
   "metadata": {},
   "outputs": [],
   "source": [
    "aN = (r2.cross_product(r1).norm()/r1.norm()).simplify_full()\n",
    "show(aN)"
   ]
  },
  {
   "cell_type": "markdown",
   "metadata": {},
   "source": [
    "Per tant,\n",
    "$$\n",
    "  aN(t) = \\frac{2}{\\sqrt{1+3\\cos^2 t}}\n",
    "$$"
   ]
  },
  {
   "cell_type": "markdown",
   "metadata": {},
   "source": [
    "Com que la corba està continguda en el pla $z=1$, la torsió és nul·la, $\\mathbf{\\tau}(t)=0$."
   ]
  },
  {
   "cell_type": "markdown",
   "metadata": {},
   "source": [
    "## Exercici 39"
   ]
  },
  {
   "cell_type": "code",
   "execution_count": null,
   "metadata": {},
   "outputs": [],
   "source": [
    "t = var('t')\n",
    "r = vector([3*cos(t/5),3*sin(t/5),4*t/5])\n",
    "show(r)"
   ]
  },
  {
   "cell_type": "markdown",
   "metadata": {},
   "source": [
    "La longitud del vector tangent és"
   ]
  },
  {
   "cell_type": "code",
   "execution_count": null,
   "metadata": {},
   "outputs": [],
   "source": [
    "r1 = r.diff(t).simplify_full()\n",
    "show(r1)"
   ]
  },
  {
   "cell_type": "code",
   "execution_count": null,
   "metadata": {},
   "outputs": [],
   "source": [
    "show(r1.norm().simplify_full())"
   ]
  },
  {
   "cell_type": "markdown",
   "metadata": {},
   "source": [
    "Com que la norma del vector tangent sempre és 1, aquesta és la parametrització arc. Aleshores, podem calcular la curvatura de la forma següent:\n",
    "$$\n",
    "  \\mathbf{\\kappa}(t)=||\\mathbf{r}''(t)||\n",
    "$$"
   ]
  },
  {
   "cell_type": "code",
   "execution_count": null,
   "metadata": {},
   "outputs": [],
   "source": [
    "kappa = r1.diff(t).norm().simplify_full()\n",
    "show(kappa)"
   ]
  },
  {
   "cell_type": "markdown",
   "metadata": {},
   "source": [
    "La curvarura és constant\n",
    "$$\n",
    "  \\mathbf{\\kappa}(t) = \\frac{3}{25}\\,.\n",
    "$$"
   ]
  },
  {
   "cell_type": "markdown",
   "metadata": {},
   "source": [
    "Per trobar el vector normal, tenim que\n",
    "$$\n",
    "  \\begin{aligned}\n",
    "    T(t) &= \\frac{\\mathbf{r}'(t)}{||\\mathbf{r}'(t)||} = \\mathbf{r}'(t) \\\\[2mm]\n",
    "    N(t) &= \\frac{T'(t)}{||T'(t)||}\n",
    "  \\end{aligned}\n",
    "$$"
   ]
  },
  {
   "cell_type": "code",
   "execution_count": null,
   "metadata": {},
   "outputs": [],
   "source": [
    "T1 = r1.diff(t).simplify_full()\n",
    "N = (T1/T1.norm()).simplify_full()\n",
    "show(N)"
   ]
  },
  {
   "cell_type": "markdown",
   "metadata": {},
   "source": [
    "El vector normal és\n",
    "$$\n",
    "  N(t) = \\left(-\\cos\\Big(\\frac{t}{5}\\Big), -\\sin\\Big(\\frac{t}{5}\\Big),0\\right)\\,.\n",
    "$$"
   ]
  },
  {
   "cell_type": "markdown",
   "metadata": {},
   "source": [
    "El vector binormal és el producte vectorial del vector tangent unitari pel normal:"
   ]
  },
  {
   "cell_type": "code",
   "execution_count": null,
   "metadata": {},
   "outputs": [],
   "source": [
    "B = r1.cross_product(N).simplify_full()\n",
    "show(B)"
   ]
  },
  {
   "cell_type": "markdown",
   "metadata": {},
   "source": [
    "Per tant, el vector binormal és\n",
    "$$\n",
    "  B(t) =  \\left(\\frac{4}{5}\\sin\\Big(\\frac{t}{5}\\Big), -\\frac{4}{5}\\cos\\Big(\\frac{t}{5}\\Big),\\frac{3}{5}\\right)\\,.\n",
    "$$"
   ]
  },
  {
   "cell_type": "markdown",
   "metadata": {},
   "source": [
    "La torsió és $\\mathbf{\\tau}(t)=B'(t)\\cdot N(t)$, ja que $t$ és el paràmetre arc:"
   ]
  },
  {
   "cell_type": "code",
   "execution_count": null,
   "metadata": {},
   "outputs": [],
   "source": [
    "tau = - B.diff(t).dot_product(N).simplify_full()\n",
    "show(tau)"
   ]
  },
  {
   "cell_type": "markdown",
   "metadata": {},
   "source": [
    "És a dir,\n",
    "$$\n",
    "  \\mathbf{\\tau}(t) = \\frac{4}{25}\\,.\n",
    "$$"
   ]
  },
  {
   "cell_type": "markdown",
   "metadata": {},
   "source": [
    "El pla osculador en cada punt del la corba és el pla que passa pel punt $\\mathbf{r}(t)$ i té vector associat $B(t)$. Per calcular la seva equació, fem"
   ]
  },
  {
   "cell_type": "code",
   "execution_count": null,
   "metadata": {},
   "outputs": [],
   "source": [
    "x, y, z = var('x y z')\n",
    "X = vector([x,y,z])\n",
    "eq = (B*X == B*r).simplify_full()\n",
    "show(25*eq)"
   ]
  },
  {
   "cell_type": "markdown",
   "metadata": {},
   "source": [
    "L'equació del pla osculador és\n",
    "$$\n",
    "  20\\cos\\Big(\\frac{t}{5}\\Big)\\,x - 20\\sin\\Big(\\frac{t}{5}\\Big)\\,y + 15t\\,z = 12t\\,.\n",
    "$$"
   ]
  },
  {
   "cell_type": "markdown",
   "metadata": {},
   "source": [
    "Les equacions paràmetriques de la recta són $(x,y,z)=\\mathbf{r}(t) + \\lambda N(t)$:"
   ]
  },
  {
   "cell_type": "code",
   "execution_count": null,
   "metadata": {},
   "outputs": [],
   "source": [
    "l = var('l',latex_name='\\\\lambda')\n",
    "X = r + l * N\n",
    "show(X)"
   ]
  },
  {
   "cell_type": "markdown",
   "metadata": {},
   "source": [
    "Ara hem de comprovar que talla l'eix de les $z$:"
   ]
  },
  {
   "cell_type": "code",
   "execution_count": null,
   "metadata": {},
   "outputs": [],
   "source": [
    "show(solve([X[i] == 0 for i in range(2)],l))"
   ]
  },
  {
   "cell_type": "markdown",
   "metadata": {},
   "source": [
    "Com que aquest sistema té solució, podem assegurar que la recta talla l'eix de les $z$ en el punt $\\left(0,0,\\frac{4t}{5}\\right)$."
   ]
  },
  {
   "cell_type": "markdown",
   "metadata": {},
   "source": [
    "L'angle amb que es tallen és l'angle que formen els vectors $N(t)$ i $(0,0,1)$. El producte escalar d'aquests dos vectors és"
   ]
  },
  {
   "cell_type": "code",
   "execution_count": null,
   "metadata": {},
   "outputs": [],
   "source": [
    "e3 = vector([0,0,1])\n",
    "show(e3.dot_product(N))"
   ]
  },
  {
   "cell_type": "markdown",
   "metadata": {},
   "source": [
    "Per tant, l'angle és sempre de $90^\\circ$."
   ]
  },
  {
   "cell_type": "markdown",
   "metadata": {},
   "source": [
    "## Exercici 41"
   ]
  },
  {
   "cell_type": "markdown",
   "metadata": {},
   "source": [
    "La parametrització de la corba és"
   ]
  },
  {
   "cell_type": "code",
   "execution_count": null,
   "metadata": {},
   "outputs": [],
   "source": [
    "t = var('t')\n",
    "r = vector([1/sqrt(2)*cos(t)+1/sqrt(6)*sin(t),-1/sqrt(2)*cos(t)+1/sqrt(6)*sin(t),-2/sqrt(6)*sin(t)])\n",
    "show(r)"
   ]
  },
  {
   "cell_type": "markdown",
   "metadata": {},
   "source": [
    "Calculem el vector tangent en cada punt i la seva norma"
   ]
  },
  {
   "cell_type": "code",
   "execution_count": null,
   "metadata": {},
   "outputs": [],
   "source": [
    "r1 = simplificar_radicals(r.diff(t).simplify_full())\n",
    "show(r1)"
   ]
  },
  {
   "cell_type": "code",
   "execution_count": null,
   "metadata": {},
   "outputs": [],
   "source": [
    "show(r1.norm().simplify_full())"
   ]
  },
  {
   "cell_type": "markdown",
   "metadata": {},
   "source": [
    "Sí. Està parametritzada per l'arc. La curvatura és"
   ]
  },
  {
   "cell_type": "code",
   "execution_count": null,
   "metadata": {},
   "outputs": [],
   "source": [
    "kappa = r1.diff(t).norm().simplify_full()\n",
    "show(kappa)"
   ]
  },
  {
   "cell_type": "markdown",
   "metadata": {},
   "source": [
    "és a dir, $\\mathbf{\\kappa}(t)=1$."
   ]
  },
  {
   "cell_type": "markdown",
   "metadata": {},
   "source": [
    "El vector normal i el binormal són"
   ]
  },
  {
   "cell_type": "code",
   "execution_count": null,
   "metadata": {},
   "outputs": [],
   "source": [
    "T1 = r1.diff(t).simplify_full()\n",
    "N = simplificar_radicals((T1/T1.norm()).simplify_full())\n",
    "show(N)"
   ]
  },
  {
   "cell_type": "code",
   "execution_count": null,
   "metadata": {},
   "outputs": [],
   "source": [
    "B = r1.cross_product(N).simplify_full()\n",
    "show(B)"
   ]
  },
  {
   "cell_type": "markdown",
   "metadata": {},
   "source": [
    "La torsió és"
   ]
  },
  {
   "cell_type": "code",
   "execution_count": null,
   "metadata": {},
   "outputs": [],
   "source": [
    "tau = - B.diff(t).dot_product(N).simplify_full()\n",
    "show(tau)"
   ]
  },
  {
   "cell_type": "markdown",
   "metadata": {},
   "source": [
    "La torsió és sempre nul·la, $\\mathbf{\\tau}(t)=0$."
   ]
  },
  {
   "cell_type": "markdown",
   "metadata": {},
   "source": [
    "Com que la torsió és nul·la, la corba està continguda en un pla i, com que la curvatura és constant i igual a 1, es tracta d'una circumferència de radi 1."
   ]
  },
  {
   "cell_type": "markdown",
   "metadata": {},
   "source": [
    "Observem també que podem escriure la parametrització de la corba com a\n",
    "$$\n",
    "  \\frac{1}{\\sqrt{6}}\\left(\\begin{array}{rrr}\n",
    "    \\sqrt{3} &  1 & \\sqrt{2} \\\\\n",
    "   -\\sqrt{3} &  1 & \\sqrt{2} \\\\\n",
    "       0     & -2 & \\sqrt{2} \\\\\n",
    "  \\end{array}\\right)\n",
    "  \\left(\\begin{array}{c} \\cos t \\\\ \\sin t \\\\ 0 \\end{array}\\right)\\,,\n",
    "$$"
   ]
  },
  {
   "cell_type": "markdown",
   "metadata": {},
   "source": [
    "és a dir, es tracta de la corba que en la referència\n",
    "$$\n",
    "   \\mathcal{R}'=\\left\\{(0,0,0);\\frac{1}{\\sqrt{2}}(1,-1,0),\\frac{1}{\\sqrt{6}}(1,1,-2),\\frac{1}{\\sqrt{3}}(1,1,1)\\right\\}\n",
    "$$\n",
    "té parametrització\n",
    "$$\n",
    "\\left.\\begin{aligned}\n",
    "    x' &= \\cos t \\\\\n",
    "    y' &= \\sin t \\\\\n",
    "    z' &= 0\n",
    "  \\end{aligned}\\,\\right\\}\\,.\n",
    "$$\n",
    "És la circumferència de centre $(0,0,0)$ i radi 1 continguda en el pla $x+y+z=0$"
   ]
  },
  {
   "cell_type": "markdown",
   "metadata": {},
   "source": [
    "## Exercici 43"
   ]
  },
  {
   "cell_type": "markdown",
   "metadata": {},
   "source": [
    "La parametrització\n",
    "$$\n",
    "  \\mathbf{r}(t) = \\left(\\frac{t^2}{200}, t\\right)\n",
    "$$\n",
    "és regular ja que el vector tangent $\\mathbf{r}(t) = \\left(\\frac{t}{100}, 1\\right)$ mail s'anul·la."
   ]
  },
  {
   "cell_type": "markdown",
   "metadata": {},
   "source": [
    "Calculem en primer lloc la curvatura:"
   ]
  },
  {
   "cell_type": "code",
   "execution_count": null,
   "metadata": {},
   "outputs": [],
   "source": [
    "t = var('t')\n",
    "r = vector([t^2/200,t,0])\n",
    "show(r)"
   ]
  },
  {
   "cell_type": "markdown",
   "metadata": {},
   "source": [
    "Calculem ara la velocitat i l'acceleració de la partícula, $\\mathbf{r}'(t)$ i $\\mathbf{r}''(t)$:"
   ]
  },
  {
   "cell_type": "code",
   "execution_count": null,
   "metadata": {
    "tags": []
   },
   "outputs": [],
   "source": [
    "r1 = r.diff(t)\n",
    "show(r1)"
   ]
  },
  {
   "cell_type": "code",
   "execution_count": null,
   "metadata": {},
   "outputs": [],
   "source": [
    "r2 = r.diff(t,2)\n",
    "show(r2)"
   ]
  },
  {
   "cell_type": "markdown",
   "metadata": {},
   "source": [
    "El vector binormal $B(t)$ és el vector unitari en la direcció i sentit de $\\mathbf{r}'(t)\\times\\mathbf{r}''(t)$:"
   ]
  },
  {
   "cell_type": "code",
   "execution_count": null,
   "metadata": {},
   "outputs": [],
   "source": [
    "b = r1.cross_product(r2).simplify_full()\n",
    "show(b)"
   ]
  },
  {
   "cell_type": "code",
   "execution_count": null,
   "metadata": {},
   "outputs": [],
   "source": [
    "B = (b/b.norm()).simplify_full()\n",
    "show(B)"
   ]
  },
  {
   "cell_type": "code",
   "execution_count": null,
   "metadata": {},
   "outputs": [],
   "source": [
    "kappa = (sqrt(sum([b[i]^2 for i in range(3)]))/sqrt(sum([r1[i]^2 for i in range(3)]))^3).simplify_full()\n",
    "show(kappa)"
   ]
  },
  {
   "cell_type": "markdown",
   "metadata": {},
   "source": [
    "La curvatura és\n",
    "$$\n",
    "  \\mathbf{\\kappa}(t) = \\frac{10000}{\\left( t^2+10000 \\right)^\\frac{3}{2}}\n",
    "$$"
   ]
  },
  {
   "cell_type": "markdown",
   "metadata": {},
   "source": [
    "i és màxima quan $t=0$. El valor màxim s'assoleix en el punt $(0,0)$ i és"
   ]
  },
  {
   "cell_type": "code",
   "execution_count": null,
   "metadata": {},
   "outputs": [],
   "source": [
    "show(kappa.subs(t = 0))"
   ]
  },
  {
   "cell_type": "markdown",
   "metadata": {},
   "source": [
    "El numerdor de la torsió és"
   ]
  },
  {
   "cell_type": "code",
   "execution_count": null,
   "metadata": {},
   "outputs": [],
   "source": [
    "r3 = r.diff(t,3)\n",
    "A = matrix([r1,r2,r3]).T.det().simplify_full()\n",
    "show(A)"
   ]
  },
  {
   "cell_type": "markdown",
   "metadata": {},
   "source": [
    "La torsió es nul·la en tots els punts (és immediat ja que la corba és plana)."
   ]
  },
  {
   "cell_type": "markdown",
   "metadata": {},
   "source": [
    "Suposem ara que la corba es recorre de manera que la seva velocitat en la direcció $y$ sigui $a>0$; aleshores la nova parametrització és\n",
    "$$\n",
    "  \\mathbf{r}(t) = \\left(\\frac{a^2t^2}{200}, at\\right)\\,.\n",
    "$$"
   ]
  },
  {
   "cell_type": "code",
   "execution_count": null,
   "metadata": {},
   "outputs": [],
   "source": [
    "a, t = var('a t')\n",
    "assume(a > 0)\n",
    "r = vector([a^2*t^2/200,a*t,0])\n",
    "show(r)"
   ]
  },
  {
   "cell_type": "markdown",
   "metadata": {},
   "source": [
    "Calculem la component normal de la seva acceleració. Tenint en compte que\n",
    "$$\n",
    "  aN(t)= || \\mathbf{r}'(t) ||^2 \\mathbf{\\kappa}(t) = || \\mathbf{r}'(t) ||^2 \\frac{|| \\mathbf{r}'(t) \\times \\mathbf{r}''(t) ||}{|| \\mathbf{r}'(t) ||^3}\\,,\n",
    "$$\n",
    "resulta que \n",
    "$$\n",
    "  aN(t) = \\frac{|| \\mathbf{r}'(t) \\times \\mathbf{r}''(t) ||}{|| \\mathbf{r}'(t) ||}\\,,\n",
    "$$"
   ]
  },
  {
   "cell_type": "code",
   "execution_count": null,
   "metadata": {},
   "outputs": [],
   "source": [
    "r1 = r.diff(t).simplify_full()\n",
    "show(r1)"
   ]
  },
  {
   "cell_type": "code",
   "execution_count": null,
   "metadata": {},
   "outputs": [],
   "source": [
    "r2 = r.diff(t,2)\n",
    "show(r2)"
   ]
  },
  {
   "cell_type": "code",
   "execution_count": null,
   "metadata": {},
   "outputs": [],
   "source": [
    "b = r1.cross_product(r2)\n",
    "aN = (b.norm()/r1.norm()).simplify_full()\n",
    "show(aN)"
   ]
  },
  {
   "cell_type": "markdown",
   "metadata": {},
   "source": [
    "La component normal de l'acceleració en el punt $(0,0)$ (que es correspon amb $t=0$) és "
   ]
  },
  {
   "cell_type": "code",
   "execution_count": null,
   "metadata": {},
   "outputs": [],
   "source": [
    "aN0 = aN.subs(t=0)\n",
    "show(aN0)"
   ]
  },
  {
   "cell_type": "markdown",
   "metadata": {},
   "source": [
    "Si aquest valor ha de ser igual a 25, tenim que $a=50$. Aleshores, la celeritat en el punt $(0,0)$ és"
   ]
  },
  {
   "cell_type": "code",
   "execution_count": null,
   "metadata": {},
   "outputs": [],
   "source": [
    "show(r1.norm().subs(a=50,t=0))"
   ]
  },
  {
   "cell_type": "markdown",
   "metadata": {},
   "source": [
    "La celeritat màxima és $50$m/s."
   ]
  },
  {
   "cell_type": "markdown",
   "metadata": {},
   "source": [
    "## Exercici 45"
   ]
  },
  {
   "cell_type": "markdown",
   "metadata": {},
   "source": [
    "La parametrització de la corba és"
   ]
  },
  {
   "cell_type": "code",
   "execution_count": null,
   "metadata": {},
   "outputs": [],
   "source": [
    "t = var('t')\n",
    "r = vector([2/t,log(t),-t^2])\n",
    "show(r)"
   ]
  },
  {
   "cell_type": "markdown",
   "metadata": {},
   "source": [
    "Recordem que la direcció del vector binormal en cada punt és la mateixa que la del vector $\\mathbf{r}'(t)\\times\\mathbf{r}''(t)$:"
   ]
  },
  {
   "cell_type": "code",
   "execution_count": null,
   "metadata": {},
   "outputs": [],
   "source": [
    "r1 = r.diff(t).simplify_full()\n",
    "r2 = r.diff(t,2).simplify_full()\n",
    "b = r1.cross_product(r2).simplify_full()\n",
    "show(b)"
   ]
  },
  {
   "cell_type": "markdown",
   "metadata": {},
   "source": [
    "Si volem que el vector binormal sigui paral·lel al pla $x-y+8z+2=0$, s'ha de complei que el producte escalar del vector $b(t)$ pel vector $(1,-1,8)$ ha de donar zero."
   ]
  },
  {
   "cell_type": "code",
   "execution_count": null,
   "metadata": {},
   "outputs": [],
   "source": [
    "w = vector([1,-1,8])\n",
    "p = w.dot_product(b)\n",
    "show(p)"
   ]
  },
  {
   "cell_type": "code",
   "execution_count": null,
   "metadata": {},
   "outputs": [],
   "source": [
    "show(solve(p==0,t))"
   ]
  },
  {
   "cell_type": "markdown",
   "metadata": {},
   "source": [
    "Com que la corba està definida per $t>0$, tindrem un únic punt, el corresponent a $t=2$:"
   ]
  },
  {
   "cell_type": "code",
   "execution_count": null,
   "metadata": {},
   "outputs": [],
   "source": [
    "show(r.subs(t=2))"
   ]
  },
  {
   "cell_type": "markdown",
   "metadata": {},
   "source": [
    "Per tant, el punt és $\\big(1,\\log(2),-4\\big)$."
   ]
  },
  {
   "cell_type": "markdown",
   "metadata": {},
   "source": [
    "## Exercici 47"
   ]
  },
  {
   "cell_type": "markdown",
   "metadata": {},
   "source": [
    "El vector associat al pla osculador en cada punt és $\\mathbf{r}'(t)\\times\\mathbf{r}''(t)$. Anem a calcular-lo:"
   ]
  },
  {
   "cell_type": "code",
   "execution_count": null,
   "metadata": {},
   "outputs": [],
   "source": [
    "t = var('t')\n",
    "r = vector([e^t*cos(t),e^t*sin(t),e^t])\n",
    "show(r)"
   ]
  },
  {
   "cell_type": "code",
   "execution_count": null,
   "metadata": {},
   "outputs": [],
   "source": [
    "r1 = r.diff(t).simplify_full()\n",
    "show(r1)"
   ]
  },
  {
   "cell_type": "code",
   "execution_count": null,
   "metadata": {},
   "outputs": [],
   "source": [
    "r2 = r.diff(t,2).simplify_full()\n",
    "show(r2)"
   ]
  },
  {
   "cell_type": "code",
   "execution_count": null,
   "metadata": {},
   "outputs": [],
   "source": [
    "b = r1.cross_product(r2).simplify_full()\n",
    "show(b)"
   ]
  },
  {
   "cell_type": "markdown",
   "metadata": {},
   "source": [
    "Aleshores, el vector associat al pla oscular en el punt $t=\\frac{\\pi}{4}$ és"
   ]
  },
  {
   "cell_type": "code",
   "execution_count": null,
   "metadata": {},
   "outputs": [],
   "source": [
    "b1 = b.subs(t=pi/4)\n",
    "show(b1)"
   ]
  },
  {
   "cell_type": "markdown",
   "metadata": {},
   "source": [
    "L'eix $OX$ té vector director $\\vec e_1=(1,0,0)$, per tant, només cal comprovar que $\\vec e_1\\cdot\\vec b_1=0$. I aixó és evident:"
   ]
  },
  {
   "cell_type": "code",
   "execution_count": null,
   "metadata": {},
   "outputs": [],
   "source": [
    "e1 = vector([1,0,0])\n",
    "show(e1.dot_product(b1))"
   ]
  },
  {
   "cell_type": "markdown",
   "metadata": {},
   "source": [
    "El mateix passa amb el punt $t=\\frac{5\\pi}{4}$:"
   ]
  },
  {
   "cell_type": "code",
   "execution_count": null,
   "metadata": {},
   "outputs": [],
   "source": [
    "b2 = b.subs(t=5*pi/4)\n",
    "show(b2)"
   ]
  },
  {
   "cell_type": "code",
   "execution_count": null,
   "metadata": {},
   "outputs": [],
   "source": [
    "show(e1.dot_product(b2))"
   ]
  },
  {
   "cell_type": "markdown",
   "metadata": {},
   "source": [
    "Anem a trobar els tres vectors del tríedre de Frenet en el punt $t=\\frac{\\pi}{4}$."
   ]
  },
  {
   "cell_type": "code",
   "execution_count": null,
   "metadata": {},
   "outputs": [],
   "source": [
    "T = normalize(r1.subs(t=pi/4))\n",
    "show(T)"
   ]
  },
  {
   "cell_type": "code",
   "execution_count": null,
   "metadata": {},
   "outputs": [],
   "source": [
    "B = normalize(b1)\n",
    "show(B)"
   ]
  },
  {
   "cell_type": "code",
   "execution_count": null,
   "metadata": {},
   "outputs": [],
   "source": [
    "N = B.cross_product(T)\n",
    "show(N)"
   ]
  },
  {
   "cell_type": "markdown",
   "metadata": {},
   "source": [
    "Hem de trobar les equacions dels plans que tenen com a vectors associats $T\\simeq \\big(0,\\sqrt{2},1\\big)$, $N\\simeq (1,0,0)$ i $B\\simeq \\big(0,-1,\\sqrt{2}\\big)$ i passen pel punt"
   ]
  },
  {
   "cell_type": "code",
   "execution_count": null,
   "metadata": {},
   "outputs": [],
   "source": [
    "p1 = r.subs(t=pi/4).simplify_full()\n",
    "show(p1)"
   ]
  },
  {
   "cell_type": "markdown",
   "metadata": {},
   "source": [
    "Pla determinat per $T$ i $N$, és a dir, amb vector associat $B$"
   ]
  },
  {
   "cell_type": "code",
   "execution_count": null,
   "metadata": {},
   "outputs": [],
   "source": [
    "x, y, z = var('x y z')\n",
    "X = vector([x,y,z])\n",
    "b = vector([0,-1,sqrt(2)])\n",
    "eq1 = b*X == b*p1\n",
    "show(simplificar_radicals(-sqrt(2)*eq1))"
   ]
  },
  {
   "cell_type": "markdown",
   "metadata": {},
   "source": [
    "L'equació del pla és \n",
    "$$\n",
    "  \\sqrt{2}\\,y-2z=-e^{\\frac{\\pi}{4}}\n",
    "$$"
   ]
  },
  {
   "cell_type": "markdown",
   "metadata": {},
   "source": [
    "Pla determinat per $T$ i $B$, és a dir, amb vector associat $N$"
   ]
  },
  {
   "cell_type": "code",
   "execution_count": null,
   "metadata": {},
   "outputs": [],
   "source": [
    "n = vector([1,0,0])\n",
    "eq2 = n*X == n*p1\n",
    "show(simplificar_radicals(eq2))"
   ]
  },
  {
   "cell_type": "markdown",
   "metadata": {},
   "source": [
    "L'equació del pla és \n",
    "$$\n",
    "  2x=\\sqrt{2}\\,e^{\\frac{\\pi}{4}}\n",
    "$$"
   ]
  },
  {
   "cell_type": "markdown",
   "metadata": {},
   "source": [
    "Pla determinat per $N$ i $B$, és a dir, amb vector associat $T$"
   ]
  },
  {
   "cell_type": "code",
   "execution_count": null,
   "metadata": {},
   "outputs": [],
   "source": [
    "te = vector([0,sqrt(2),1])\n",
    "eq3 = te*X == te*p1\n",
    "show(simplificar_radicals(eq3))"
   ]
  },
  {
   "cell_type": "markdown",
   "metadata": {},
   "source": [
    "L'equació del pla és \n",
    "$$\n",
    "  \\sqrt{2}\\,y+z=2e^{\\frac{\\pi}{4}}\n",
    "$$"
   ]
  },
  {
   "cell_type": "markdown",
   "metadata": {},
   "source": [
    "La longitud de la corba entre els punt $t=\\frac{\\pi}{4}$ i $t=\\frac{5\\pi}{4}$ és\n",
    "$$\n",
    "  L = \\int_{\\frac{\\pi}{4}}^{\\frac{5\\pi}{4}} || \\mathbf{r}'(t) ||\\,dt\\,.\n",
    "$$"
   ]
  },
  {
   "cell_type": "code",
   "execution_count": null,
   "metadata": {},
   "outputs": [],
   "source": [
    "L = integrate(r1.norm(),t,pi/4,5*pi/4)\n",
    "show(L)"
   ]
  },
  {
   "cell_type": "markdown",
   "metadata": {},
   "source": [
    "La longitud és\n",
    "$$\n",
    "   L = \\sqrt{3}e^\\frac{\\pi}{4}\\big( e^\\pi - 1\\big)\n",
    "$$"
   ]
  },
  {
   "cell_type": "markdown",
   "metadata": {},
   "source": [
    "## Exercici 49"
   ]
  },
  {
   "cell_type": "markdown",
   "metadata": {},
   "source": [
    "Representem la gràfica de la corba per a $a=5$:"
   ]
  },
  {
   "cell_type": "code",
   "execution_count": null,
   "metadata": {},
   "outputs": [],
   "source": [
    "%%asy --fmt svg\n",
    "import geometry;\n",
    "import coordenades;\n",
    "import graph;\n",
    "\n",
    "unitsize(1cm);\n",
    "\n",
    "real a = 5;\n",
    "\n",
    "pair corba(real t) {\n",
    "  return (a*t/(1+t^2),a*t^2/(1+t^2));   \n",
    "}\n",
    "\n",
    "Canonica(-7,7,-7,7);    \n",
    "path g = graph(corba,-10,10,200);\n",
    "draw(g,red+linewidth(1.5bp));\n",
    "dot(corba(2),blue+5bp);"
   ]
  },
  {
   "cell_type": "markdown",
   "metadata": {},
   "source": [
    "Escrivim la parametrització"
   ]
  },
  {
   "cell_type": "code",
   "execution_count": null,
   "metadata": {},
   "outputs": [],
   "source": [
    "a, t = var('a t')\n",
    "assume(a > 0)\n",
    "r = vector([a*t/(1+t^2),a*t^2/(1+t^2)])\n",
    "show(r)"
   ]
  },
  {
   "cell_type": "markdown",
   "metadata": {},
   "source": [
    "El vector tangent en cada punt és"
   ]
  },
  {
   "cell_type": "code",
   "execution_count": null,
   "metadata": {},
   "outputs": [],
   "source": [
    "r1 = r.diff(t).simplify_full()\n",
    "show(r1)"
   ]
  },
  {
   "cell_type": "code",
   "execution_count": null,
   "metadata": {},
   "outputs": [],
   "source": [
    "show(r1.norm().simplify_full())"
   ]
  },
  {
   "cell_type": "markdown",
   "metadata": {},
   "source": [
    "La longitud serà"
   ]
  },
  {
   "cell_type": "code",
   "execution_count": null,
   "metadata": {},
   "outputs": [],
   "source": [
    "L = integrate(r1.norm(),t,0,1)\n",
    "show(L)"
   ]
  },
  {
   "cell_type": "markdown",
   "metadata": {},
   "source": [
    "Per tant, la longitud de la corba entre $t=0$ i $t=1$ és\n",
    "$$\n",
    "  L = \\frac{a\\pi}{4}\n",
    "$$"
   ]
  },
  {
   "cell_type": "markdown",
   "metadata": {},
   "source": [
    "Calculem en primer lloc la recta tangent en el punt $t=2$. És evident que passa pel punt"
   ]
  },
  {
   "cell_type": "code",
   "execution_count": null,
   "metadata": {},
   "outputs": [],
   "source": [
    "p2 = r.subs(t=2)\n",
    "show(p2)"
   ]
  },
  {
   "cell_type": "markdown",
   "metadata": {},
   "source": [
    "i té vector director"
   ]
  },
  {
   "cell_type": "code",
   "execution_count": null,
   "metadata": {},
   "outputs": [],
   "source": [
    "v2 = r1.subs(t=2)\n",
    "show(v2)"
   ]
  },
  {
   "cell_type": "code",
   "execution_count": null,
   "metadata": {},
   "outputs": [],
   "source": [
    "v2 = 25*v2/a\n",
    "show(v2)"
   ]
  },
  {
   "cell_type": "markdown",
   "metadata": {},
   "source": [
    "Per tant, l'equació dela recta serà"
   ]
  },
  {
   "cell_type": "code",
   "execution_count": null,
   "metadata": {},
   "outputs": [],
   "source": [
    "x,y = var('x y')\n",
    "X = vector([x,y])\n",
    "A = matrix([v2,X-p2])\n",
    "eq = A.det() == 0\n",
    "show(eq)"
   ]
  },
  {
   "cell_type": "markdown",
   "metadata": {},
   "source": [
    "La intersecció d'aquesta recta amb l'eix de les $x$ és"
   ]
  },
  {
   "cell_type": "code",
   "execution_count": null,
   "metadata": {},
   "outputs": [],
   "source": [
    "show(solve(eq.subs(y = 0),x))"
   ]
  },
  {
   "cell_type": "markdown",
   "metadata": {},
   "source": [
    "i la intersecció am l'eix de les $y$"
   ]
  },
  {
   "cell_type": "code",
   "execution_count": null,
   "metadata": {},
   "outputs": [],
   "source": [
    "show(solve(eq.subs(x = 0),y))"
   ]
  },
  {
   "cell_type": "markdown",
   "metadata": {},
   "source": [
    "Per tant, l'àrea del triangle és"
   ]
  },
  {
   "cell_type": "code",
   "execution_count": null,
   "metadata": {},
   "outputs": [],
   "source": [
    "A = 1/2 * a * 4/3*a\n",
    "show(A)"
   ]
  },
  {
   "cell_type": "markdown",
   "metadata": {},
   "source": [
    "És a dir,\n",
    "$$\n",
    "  A = \\frac{2a^2}{3}\n",
    "$$"
   ]
  },
  {
   "cell_type": "markdown",
   "metadata": {},
   "source": [
    "Per trobar l'equació de la corba en coordenades cartesianes, tenim les quacions paràmetriques\n",
    "$$\n",
    "  \\left.\\begin{aligned}\n",
    "    x &= \\frac{at}{1+t^2} \\\\[2mm]\n",
    "    y &= \\frac{at^2}{1+t^2} \n",
    "  \\end{aligned}\\,\\right\\}\n",
    "$$\n",
    "Hem d'aïllar $t$ de la segona equació i hem de substituir a la primera"
   ]
  },
  {
   "cell_type": "code",
   "execution_count": null,
   "metadata": {},
   "outputs": [],
   "source": [
    "p1 = x==a*t/(1+t^2)\n",
    "p2 = y==a*t^2/(1+t^2)\n",
    "sol = solve(p2,t^2)\n",
    "show(sol)"
   ]
  },
  {
   "cell_type": "code",
   "execution_count": null,
   "metadata": {},
   "outputs": [],
   "source": [
    "eqc = p1.subs(t=sqrt(y/(a-y))).simplify_full()\n",
    "show(eqc^2)"
   ]
  },
  {
   "cell_type": "markdown",
   "metadata": {},
   "source": [
    "Per tant l'equació és $x^2=(a-y)y$, o bé $x^2+y^2-ay=0$. Agrupant quadrats podem escriure aquesta equació com a\n",
    "$$\n",
    "  x^2+\\left(y-\\frac{a}{2}\\right)^2=\\frac{a^2}{4}\\,.\n",
    "$$\n",
    "Per tant es tracta de la circumferència de centre $\\left(0,\\frac{a}{2}\\right)$ i radi $r=\\frac{a}{2}$."
   ]
  }
 ],
 "metadata": {
  "kernelspec": {
   "display_name": "SageMath 9.4",
   "language": "sage",
   "name": "sagemath"
  },
  "language_info": {
   "codemirror_mode": {
    "name": "ipython",
    "version": 3
   },
   "file_extension": ".py",
   "mimetype": "text/x-python",
   "name": "python",
   "nbconvert_exporter": "python",
   "pygments_lexer": "ipython3",
   "version": "3.10.4"
  }
 },
 "nbformat": 4,
 "nbformat_minor": 4
}
