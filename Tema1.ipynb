{
 "cells": [
  {
   "cell_type": "markdown",
   "metadata": {},
   "source": [
    "# Tema 1"
   ]
  },
  {
   "cell_type": "code",
   "execution_count": null,
   "metadata": {},
   "outputs": [],
   "source": [
    "%load_ext asymagic\n",
    "def simplificar_radicals(A):\n",
    "    \"\"\"\n",
    "    Simplifica les arrels quadrades en una matriu o en un vector\n",
    "    \"\"\"\n",
    "    try:\n",
    "        for i in range(A.nrows()):\n",
    "            for j in range(A.ncols()):\n",
    "                A[i,j] = A[i,j]._sympy_().simplify()._sage_()\n",
    "        return A\n",
    "    except:\n",
    "        pass\n",
    "    try:\n",
    "        for i in range(A.length()):\n",
    "            A[i] = A[i]._sympy_().simplify()._sage_()\n",
    "        return A\n",
    "    except:\n",
    "        pass\n",
    "    try:\n",
    "        return A._sympy_().simplify()._sage_()\n",
    "    except:\n",
    "        pass\n",
    "    if isinstance(A,list):\n",
    "        try:\n",
    "            return [simplificar_radicals(x) for x in A]\n",
    "        except:\n",
    "            pass\n",
    "    return None"
   ]
  },
  {
   "cell_type": "markdown",
   "metadata": {},
   "source": [
    "## Exercici 1"
   ]
  },
  {
   "cell_type": "markdown",
   "metadata": {},
   "source": [
    "(a) $(x,y,z)=(a_1,a_2,a_3)+t(v_1,v_2,v_3)$ amb $t\\in\\mathbb{R}$.\n",
    "\n",
    "(b) $(x,y)=(R\\cos t,R\\sin t)$ amb $t\\in[0,2\\pi]$.\n",
    "\n",
    "(c) $(x,y)=(R\\cos t,R\\sin t)$ amb $t\\in[0,4\\pi]$.\n",
    "\n",
    "(d) $(x,y)=(a\\cos t,b\\sin t)$ amb $t\\in[0,2\\pi]$."
   ]
  },
  {
   "cell_type": "markdown",
   "metadata": {},
   "source": [
    "## Exercici 3"
   ]
  },
  {
   "cell_type": "markdown",
   "metadata": {},
   "source": [
    "Es tracta d'una circumferència de centre $(0,0)$ i radi $R=\\sqrt{8}=2\\sqrt{2}$. Una parametrització és\n",
    "$$\n",
    "  (x,y)=\\left(2\\sqrt{2}\\cos t,2\\sqrt{2}\\sin t\\right)\\qquad\\text{amb}\\qquad t\\in[0,2\\pi]\\,.\n",
    "$$"
   ]
  },
  {
   "cell_type": "markdown",
   "metadata": {},
   "source": [
    "## Exercici 5"
   ]
  },
  {
   "cell_type": "markdown",
   "metadata": {},
   "source": [
    "En el gràfic següent veiem la posició inicial de la roda i la seva posició al cap d'uns instants"
   ]
  },
  {
   "cell_type": "code",
   "execution_count": null,
   "metadata": {},
   "outputs": [],
   "source": [
    "%%asy --fmt svg\n",
    "import geometry;\n",
    "import coordenades;\n",
    "import graph;\n",
    "\n",
    "unitsize(1cm);\n",
    "\n",
    "real R = 6,\n",
    "     w = pi/5,\n",
    "     v = w * R,\n",
    "     t = 2;\n",
    "pair p0, q0, pt, qt;     \n",
    "     \n",
    "Canonica((int)(-R)-2,(int)(v*t+R+3),-2,(int)(2*R)+2);    \n",
    "draw(circle((0,R),R),blue+linewidth(0.75bp));    \n",
    "draw(circle((v*t,R),R),blue+linewidth(2bp));       \n",
    "\n",
    "dot(\"$C_0$\",(0,R),E,blue+5bp);\n",
    "dot(\"$C_t$\",(v*t,R),W,blue+5bp);\n",
    "\n",
    "p0 = (0,R) + (R*cos(-pi/2),R*sin(-pi/2));\n",
    "q0 = (0,R) + (R*cos(-pi/2+w*t),R*sin(-pi/2+w*t));   \n",
    "\n",
    "pt = (v*t,R) + (R*cos(-pi/2-w*t),R*sin(-pi/2-w*t));   \n",
    "qt = (v*t,R) + (R*cos(-pi/2),R*sin(-pi/2));  \n",
    "\n",
    "draw(p0--qt,orange+linewidth(1.5bp));\n",
    "draw(arc((0,R),R,-90,-90+180*w*t/pi),orange+linewidth(1.5bp));\n",
    "\n",
    "dot(\"$p_0$\",p0,SE,red+5bp);\n",
    "dot(\"$q_0$\",q0,E,green+5bp);\n",
    "\n",
    "dot(\"$p_t$\",pt,SW,red+5bp);\n",
    "dot(\"$q_t$\",qt,N,green+5bp);"
   ]
  },
  {
   "cell_type": "markdown",
   "metadata": {},
   "source": [
    "Suposem que el radi de la circumferència és $R$, que la posició del seu centre a l'instant $t=0$ és $(0,R)$ i que la seva velocitat és $v$ en la direcció de l'eix de les $X$. Suposem també que la circumferència gira amb una velocitat angular $w$ en sentit antihorari.\n",
    "\n",
    "El punt $C_0$ representa el centre de la roda a l'instant $t=0$ i $C_t$ és la seva posició en un instant $t$. És evident que $C_t=(vt,R)$. \n",
    "\n",
    "El punt $p_0$ és la posició del xiclet a l'instant $t=0$ i $p_t$ és la seva posició en un instant $t$. Com que el punt $p_t$ está sobre la circumferència de centre $C_t$ i la roda gira a una velocitat angular $w$, en sentit antihorari, haurà girat un angle $\\alpha=-wt$ des de la seva posició inicial que correspon a $\\alpha_0=-\\frac{\\pi}{2}$. Per tant, la posició del punt $p_t$ ve donada per\n",
    "$$\n",
    "   p_t=(vt,R)+R\\left(\\cos\\left(-\\frac{\\pi}{2}-wt\\right),\\sin\\left(-\\frac{\\pi}{2}-wt\\right)\\right)=(vt,R)+R\\left(\\cos\\left(\\frac{\\pi}{2}+wt\\right),-\\sin\\left(\\frac{\\pi}{2}+wt\\right)\\right)\n",
    "$$\n",
    "Finalment, tenim que la roda gira sense relliscar, és a dir, la longitud de l'arc que uneix els punts $p_0$ i $q_0$ ha de ser igual a la longitud del segment que uneix els punts $p_0$ i $q_t$:\n",
    "$$\n",
    "  Rwt = vt\\,,\\qquad\\text{o bé}\\qquad v = Rw\\,.\n",
    "$$\n",
    "Tenint en compte que $\\sin\\left(\\frac{\\pi}{2}+\\alpha\\right)=\\cos\\alpha$ i $\\cos\\left(\\frac{\\pi}{2}+\\alpha\\right)=-\\sin\\alpha$, la trajectòria seguida pel xiclet (punt $p_t$) ve donada per\n",
    "$$\n",
    "  \\begin{aligned}\n",
    "    (x,y) &= (vt,R)+R\\left(\\cos\\left(\\frac{\\pi}{2}+wt\\right),-\\sin\\left(\\frac{\\pi}{2}+wt\\right)\\right)\\\\\n",
    "          &=  (Rwt,R) + R\\Big(-\\sin(wt),-\\cos(wt)\\Big)\\\\\n",
    "          &= R\\Big(wt - \\sin(wt),1-\\cos(wt)\\Big)\\,,\n",
    "  \\end{aligned}\n",
    "$$\n",
    "o, escrit d'una altra forma,\n",
    "$$\n",
    "  \\left.\\begin{aligned}\n",
    "    x &= R\\big(wt - \\sin(wt)\\big)\\\\\n",
    "    y &= R\\big(1-\\cos(wt)\\big)\n",
    "  \\end{aligned}\\,\\right\\}\n",
    "$$"
   ]
  },
  {
   "cell_type": "markdown",
   "metadata": {},
   "source": [
    "## Exercici 6"
   ]
  },
  {
   "cell_type": "markdown",
   "metadata": {},
   "source": [
    "En el gràfic següent veiem la posició inicial de la roda que gira i la seva posició al cap d'uns instants"
   ]
  },
  {
   "cell_type": "code",
   "execution_count": null,
   "metadata": {},
   "outputs": [],
   "source": [
    "%%asy --fmt svg\n",
    "import geometry;\n",
    "import coordenades;\n",
    "import graph;\n",
    "\n",
    "unitsize(1cm);\n",
    "\n",
    "real R = 4,\n",
    "     r = 1.5,\n",
    "     W = pi/3,\n",
    "     w = R*W/r, \n",
    "     t = 0.75;     \n",
    "\n",
    "pair C0 = (R+r,0),\n",
    "     Ct = ((R+r)*cos(W*t),(R+r)*sin(W*t)),\n",
    "     p0 = C0 + r*(cos(pi),sin(pi)),\n",
    "     q0 = C0 + r*(cos(pi-w*t),sin(pi-w*t)),\n",
    "     pt = Ct + r*(cos(pi+W*t+w*t),sin(pi+W*t+w*t)),\n",
    "     qt = Ct + r*(cos(pi+W*t),sin(pi+W*t));\n",
    "\n",
    "Canonica((int)(-R-2*r-2),(int)(R+2*r+2),(int)(-R-2*r-2),(int)(R+2*r+2));    \n",
    "draw(circle((0,0),R),blue+linewidth(1.5bp));\n",
    "draw(arc((0,0),R,0,180*W*t/pi),orange+linewidth(1.5bp));\n",
    "dot((0,0),blue+5bp);\n",
    "\n",
    "draw(circle(C0,r),green+linewidth(0.75bp));\n",
    "draw(arc(C0,r,180-180*w*t/pi,180),orange+linewidth(1.5bp));\n",
    "dot(\"$C_0$\",C0,S,green+5bp);\n",
    "dot(\"$p_0$\",p0,SE,red+5bp);\n",
    "dot(\"$q_0$\",q0,NE,blue+5bp);\n",
    "\n",
    "draw(circle(Ct,r),green+linewidth(1.5bp));\n",
    "dot(\"$C_t$\",Ct,SE,green+5bp);\n",
    "dot(\"$p_t$\",pt,SE,red+5bp);\n",
    "dot(\"$q_t$\",qt,SW,blue+5bp);"
   ]
  },
  {
   "cell_type": "markdown",
   "metadata": {},
   "source": [
    "Suposem ara que la circumferència fixa té radi $R$ i la que es mou $r$ i, a més, que el centre d'aquesta d'aquesta gira amb velocitat angular $W$ en sentit antihorari. Suposem també que la circumferència exterior gira amb velocitat angular $w$ al voltant del seu centre.\n",
    "\n",
    "És evident que la trajectòria del centre de la circumferència exterior ve donada per\n",
    "$$\n",
    "  C_t = (R+r)\\big(\\cos(Wt),\\sin(Wt)\\big)\\,.\n",
    "$$\n",
    "D'altra banda, el punt de contacte de les dues circumferències a l'instant $t$ és el punt $q_t=C_t+r\\big(\\cos(\\pi+Wt),\\sin(pi+Wt)\\big)$ i el punt $p_t$ haurà girat un angle $wt$ respecte del $q_t$,\n",
    "per tant, les seves coordenades seran\n",
    "$$\n",
    "  \\begin{aligned}\n",
    "    p_t &= C_t + r\\big(\\cos(\\pi+Wt+wt),\\sin(pi+Wt+wt)\\big) \\\\\n",
    "        &= (R+r)\\big(\\cos(Wt),\\sin(Wt)\\big) + r\\big(\\cos(\\pi+Wt+wt),\\sin(\\pi+Wt+wt)\\big)\\\\\n",
    "        &= (R+r)\\big(\\cos(Wt),\\sin(Wt)\\big) - r\\big(\\cos(Wt+wt),\\sin(Wt+wt)\\big) \\\\\n",
    "        &= \\Big((R+r)\\cos(Wt)- r\\cos(Wt+wt),(R+r)\\sin(Wt) - r\\sin(Wt+wt)\\Big)\n",
    "  \\end{aligned}\n",
    "$$\n",
    "Finalmet, hem de veure quina relació hi ha d'haver entre $W$ i $w$ per tal que la roda exterior no rellisqui sobre la fixa. De et, la condició és que les longituds dels segments d'arc que uneixen els punt $p_0$ i $q_t$, d'una banda, i $p_0$ i $q_0$ de l'altra, coincideixin. La longitud del primer és $RWt$ i la del segon $rwt$, per tant, s'haurà de complir que\n",
    "$$\n",
    "  RW = rw\\qquad\\text{o bé}\\qquad w = \\frac{RW}{r}\\,.\n",
    "$$\n",
    "Així doncs, la parametrització d'aquesta corba es pot escriure\n",
    "$$\n",
    "  \\left.\\begin{aligned}\n",
    "    x &= (R+r)\\cos(Wt)- r\\cos(Wt+wt)\\\\\n",
    "    y &= (R+r)\\sin(Wt) - r\\sin(Wt+wt)\n",
    "  \\end{aligned}\\,\\right\\}\\qquad\\text{o}\\qquad\n",
    "  \\left.\\begin{aligned}\n",
    "    x &= (R+r)\\cos(Wt)- r\\cos\\left(\\left(1+\\frac{R}{r}\\right)Wt\\right)\\\\\n",
    "    y &= (R+r)\\sin(Wt) - r\\sin\\left(\\left(1+\\frac{R}{r}\\right)Wt\\right)\n",
    "  \\end{aligned}\\,\\right\\}\n",
    "$$"
   ]
  },
  {
   "cell_type": "markdown",
   "metadata": {},
   "source": [
    "## Exercici 7"
   ]
  },
  {
   "cell_type": "markdown",
   "metadata": {},
   "source": [
    "En el gràfic següent veiem la posició inicial de la roda i la seva posició al cap d'uns instants"
   ]
  },
  {
   "cell_type": "code",
   "execution_count": null,
   "metadata": {},
   "outputs": [],
   "source": [
    "%%asy --fmt svg\n",
    "import geometry;\n",
    "import coordenades;\n",
    "import graph;\n",
    "\n",
    "unitsize(1cm);\n",
    "\n",
    "real R = 6,\n",
    "     b = 3.5,\n",
    "     w = pi/5,\n",
    "     v = w * R,\n",
    "     t = 2;\n",
    "pair p0, q0, pt, qt, b0, bt;     \n",
    "     \n",
    "Canonica((int)(-R)-2,(int)(v*t+R+3),-2,(int)(2*R)+2);    \n",
    "draw(circle((0,R),R),blue+linewidth(0.75bp));    \n",
    "draw(circle((v*t,R),R),blue+linewidth(2bp));       \n",
    "\n",
    "dot(\"$C_0$\",(0,R),E,blue+5bp);\n",
    "dot(\"$C_t$\",(v*t,R),W,blue+5bp);\n",
    "\n",
    "p0 = (0,R) + (R*cos(-pi/2),R*sin(-pi/2));\n",
    "q0 = (0,R) + (R*cos(-pi/2+w*t),R*sin(-pi/2+w*t));   \n",
    "\n",
    "pt = (v*t,R) + (R*cos(-pi/2-w*t),R*sin(-pi/2-w*t));   \n",
    "qt = (v*t,R) + (R*cos(-pi/2),R*sin(-pi/2));  \n",
    "\n",
    "draw(p0--qt,orange+linewidth(1.5bp));\n",
    "draw(arc((0,R),R,-90,-90+180*w*t/pi),orange+linewidth(1.5bp));\n",
    "\n",
    "dot(\"$p_0$\",p0,SE,red+5bp);\n",
    "dot(\"$q_0$\",q0,E,green+5bp);\n",
    "\n",
    "dot(\"$p_t$\",pt,SW,red+5bp);\n",
    "dot(\"$q_t$\",qt,N,green+5bp);\n",
    "\n",
    "b0 = (0,R) + (b*cos(-pi/2),b*sin(-pi/2));\n",
    "bt = (v*t,R) + (b*cos(-pi/2-w*t),b*sin(-pi/2-w*t));   \n",
    "dot(\"$b_0$\",b0,E,black+5bp);\n",
    "dot(\"$b_t$\",bt,E,black+5bp);"
   ]
  },
  {
   "cell_type": "markdown",
   "metadata": {},
   "source": [
    "És evident que la parametrització és\n",
    "$$\n",
    "  \\begin{aligned}\n",
    "    (x,y) &= (vt,R)+b\\left(\\cos\\left(\\frac{\\pi}{2}+wt\\right),-\\sin\\left(\\frac{\\pi}{2}+wt\\right)\\right)\\\\\n",
    "          &=  (Rwt,R) + b\\Big(-\\sin(wt),-\\cos(wt)\\Big)\\\\\n",
    "          &= \\Big(Rwt - b\\sin(wt),R-b\\cos(wt)\\Big)\\,,\n",
    "  \\end{aligned}\n",
    "$$\n",
    "o, escrit d'una altra forma,\n",
    "$$\n",
    "  \\left.\\begin{aligned}\n",
    "    x &= Rwt - b\\sin(wt) \\\\\n",
    "    y &= R-b\\cos(wt)\n",
    "  \\end{aligned}\\,\\right\\}\n",
    "$$"
   ]
  },
  {
   "cell_type": "markdown",
   "metadata": {},
   "source": [
    "Sí. És una parametrització regular."
   ]
  },
  {
   "cell_type": "markdown",
   "metadata": {},
   "source": [
    "## Exercici 9"
   ]
  },
  {
   "cell_type": "markdown",
   "metadata": {},
   "source": [
    "Recordem que en la pla $XY$, la paràbola amb vèrtex en el punt $(x_0,y_0)$ i eix de simetria paral·lel al de les $Y$, té equació $y-y_0=k(x-x_0)^2$.\n",
    "\n",
    "\n",
    "Si la paràbola és paral·lela al pla $YZ$, està contingula en un pla d'equació $x=k$ i com que passa pel punts $(3,-1,0)$ i $(3,-5,-2)$, el pla haurà de ser $x=3$. Aleshores, una equació de la paràbola podria ser\n",
    "$$\n",
    "  \\left.\\begin{aligned}\n",
    "    x &= 3 \\\\\n",
    "    z &= -2 + k(y+5)^2\n",
    "  \\end{aligned}\\,\\right\\}\n",
    "$$\n",
    "Com que la paràbola ha de passar pel punt $(3,-1,0)$, de la segona equació tindrem que $0=-2+16k$, és a dir, $k=\\frac{1}{8}$. Per tant, si fem servir $t=y+5$ com a paràmetre tindrem que\n",
    "$$\n",
    "  \\left.\\begin{aligned}\n",
    "    x &= 3 \\\\\n",
    "    y &= t - 5 \\\\\n",
    "    z &= -2 + \\frac{t^2}{8}\n",
    "  \\end{aligned}\\,\\right\\}\\qquad\\text{o bé}\\qquad\n",
    "  \\left.\\begin{aligned}\n",
    "    x &= 3 \\\\\n",
    "    y &= t - 5 \\\\\n",
    "    z &= \\frac{t^2-16}{8}\n",
    "  \\end{aligned}\\,\\right\\}\\,.\n",
    "$$\n",
    "Així, el vèrtes es correspon amb $t=0$ i el punt $(3,-1,0)$ amb $t=4$."
   ]
  },
  {
   "cell_type": "markdown",
   "metadata": {},
   "source": [
    "## Exercici 11"
   ]
  },
  {
   "cell_type": "markdown",
   "metadata": {},
   "source": [
    "És evident que la parametrització\n",
    "$$\n",
    "   \\left.\\begin{aligned}\n",
    "    x &= \\cos t \\\\\n",
    "    y &= \\sin t \\\\\n",
    "    z &= 0\n",
    "  \\end{aligned}\\,\\right\\}\n",
    "$$\n",
    "correspon a la circumferència de centre $(0,0,0)$, radi 1 i continguda en la pla $z=0$. Escollim una referencia euclidiana de manera que els dos primers vectors estiguin sobre el pla $x+y+z=0$, per exemple\n",
    "$$\n",
    "   \\mathcal{R}'=\\left\\{(0,0,0);\\frac{1}{\\sqrt{2}}(1,-1,0),\\frac{1}{\\sqrt{6}}(1,1,-2),\\frac{1}{\\sqrt{6}}(1,1,1)\\right\\}\\,.\n",
    "$$\n",
    "Considerem la circumferència que en aquesta referència té equacions paramètriques\n",
    "$$\n",
    "\\left.\\begin{aligned}\n",
    "    x' &= \\cos t \\\\\n",
    "    y' &= \\sin t \\\\\n",
    "    z' &= 0\n",
    "  \\end{aligned}\\,\\right\\}\n",
    "$$\n",
    "que està continguda en el pla $z'=0$, que és el mateix que $x+y+z=0$."
   ]
  },
  {
   "cell_type": "markdown",
   "metadata": {},
   "source": [
    "L'equació del canvi de coordenades de la referència $\\mathcal{R}'$ a la canònica és\n",
    "$$\n",
    "  \\left(\\begin{array}{c} x \\\\ y \\\\ z\\end{array}\\right) \n",
    "  = \\frac{1}{\\sqrt{6}}\\left(\\begin{array}{crc}\n",
    "   \\sqrt{3}  &  1 & \\sqrt{2} \\\\\n",
    "  -\\sqrt{3}  &  1 & \\sqrt{2} \\\\\n",
    "      0      & -2 & \\sqrt{2}\n",
    "  \\end{array}\\right) \n",
    "  \\left(\\begin{array}{c} x' \\\\ y' \\\\ z' \\end{array}\\right)\n",
    "$$"
   ]
  },
  {
   "cell_type": "markdown",
   "metadata": {},
   "source": [
    "Si substituim $x'=\\cos t$, $y'=\\sin t$ i $z'=0$, obtenim la parametrització\n",
    "$$\n",
    "  \\left.\\begin{aligned}\n",
    "    x &= \\frac{1}{\\sqrt{6}}\\Big(\\sqrt{3}\\cos t + \\sin t\\Big) \\\\\n",
    "    y &= \\frac{1}{\\sqrt{6}}\\Big(-\\sqrt{3}\\cos t + \\sin t\\Big) \\\\\n",
    "    z &= -\\frac{\\sin t}{\\sqrt{6}}\n",
    "  \\end{aligned}\\,\\right\\}\n",
    "$$"
   ]
  },
  {
   "cell_type": "markdown",
   "metadata": {},
   "source": [
    "Si fem els calculs amb el Sagemath, ens dona un resultat equivalent"
   ]
  },
  {
   "cell_type": "code",
   "execution_count": null,
   "metadata": {},
   "outputs": [],
   "source": [
    "u1 = 1/sqrt(2)*vector([1,-1,0])\n",
    "u2 = 1/sqrt(6)*vector([1,1,-2])\n",
    "u3 = 1/sqrt(3)*vector([1,1,1])\n",
    "C = matrix([u1,u2,u3]).T\n",
    "show(C)"
   ]
  },
  {
   "cell_type": "code",
   "execution_count": null,
   "metadata": {},
   "outputs": [],
   "source": [
    "t = var('t')\n",
    "X1 = vector([cos(t),sin(t),0])\n",
    "X = C*X1\n",
    "show(simplificar_radicals(X))"
   ]
  },
  {
   "cell_type": "markdown",
   "metadata": {},
   "source": [
    "és a dir,\n",
    "$$\n",
    "  \\left.\\begin{aligned}\n",
    "    x &= \\frac{\\sqrt{6}}{3} \\sin\\left(\\frac{\\pi}{3}+t\\right) \\\\\n",
    "    y &= -\\frac{\\sqrt{6}}{3} \\cos\\left(\\frac{\\pi}{3}+t\\right) \\\\\n",
    "    z &= -\\frac{\\sqrt{6}}{3}\\sin t\n",
    "  \\end{aligned}\\,\\right\\}\n",
    "$$"
   ]
  },
  {
   "cell_type": "code",
   "execution_count": null,
   "metadata": {},
   "outputs": [],
   "source": []
  }
 ],
 "metadata": {
  "kernelspec": {
   "display_name": "SageMath 9.4",
   "language": "sage",
   "name": "sagemath"
  },
  "language_info": {
   "codemirror_mode": {
    "name": "ipython",
    "version": 3
   },
   "file_extension": ".py",
   "mimetype": "text/x-python",
   "name": "python",
   "nbconvert_exporter": "python",
   "pygments_lexer": "ipython3",
   "version": "3.10.2"
  }
 },
 "nbformat": 4,
 "nbformat_minor": 4
}
