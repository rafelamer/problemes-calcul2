{
 "cells": [
  {
   "cell_type": "markdown",
   "metadata": {},
   "source": [
    "# Tema 1"
   ]
  },
  {
   "cell_type": "code",
   "execution_count": null,
   "metadata": {},
   "outputs": [],
   "source": [
    "%load_ext asymagic\n",
    "\n",
    "def simplificar_radicals(A):\n",
    "    \"\"\"\n",
    "    Simplifica les arrels quadrades en una matriu o en un vector\n",
    "    \"\"\"\n",
    "    try:\n",
    "        for i in range(A.nrows()):\n",
    "            for j in range(A.ncols()):\n",
    "                A[i,j] = A[i,j]._sympy_().simplify()._sage_()\n",
    "        return A\n",
    "    except:\n",
    "        pass\n",
    "    try:\n",
    "        for i in range(A.length()):\n",
    "            A[i] = A[i]._sympy_().simplify()._sage_()\n",
    "        return A\n",
    "    except:\n",
    "        pass\n",
    "    try:\n",
    "        return A._sympy_().simplify()._sage_()\n",
    "    except:\n",
    "        pass\n",
    "    if isinstance(A,list):\n",
    "        try:\n",
    "            return [simplificar_radicals(x) for x in A]\n",
    "        except:\n",
    "            pass\n",
    "    return None"
   ]
  },
  {
   "cell_type": "markdown",
   "metadata": {},
   "source": [
    "## Exercici 1"
   ]
  },
  {
   "cell_type": "markdown",
   "metadata": {},
   "source": [
    "(a) $(x,y,z)=(a_1,a_2,a_3)+t(v_1,v_2,v_3)$ amb $t\\in\\mathbb{R}$.\n",
    "\n",
    "(b) $(x,y)=(R\\cos t,R\\sin t)$ amb $t\\in[0,2\\pi]$.\n",
    "\n",
    "(c) $(x,y)=(R\\cos t,R\\sin t)$ amb $t\\in[0,4\\pi]$.\n",
    "\n",
    "(d) $(x,y)=(a\\cos t,b\\sin t)$ amb $t\\in[0,2\\pi]$."
   ]
  },
  {
   "cell_type": "markdown",
   "metadata": {},
   "source": [
    "## Exercici 3"
   ]
  },
  {
   "cell_type": "markdown",
   "metadata": {},
   "source": [
    "Es tracta d'una circumferència de centre $(0,0)$ i radi $R=\\sqrt{8}=2\\sqrt{2}$. Una parametrització és\n",
    "$$\n",
    "  (x,y)=\\left(2\\sqrt{2}\\cos t,2\\sqrt{2}\\sin t\\right)\\qquad\\text{amb}\\qquad t\\in[0,2\\pi]\\,.\n",
    "$$"
   ]
  },
  {
   "cell_type": "markdown",
   "metadata": {},
   "source": [
    "## Exercici 5"
   ]
  },
  {
   "cell_type": "markdown",
   "metadata": {},
   "source": [
    "En el gràfic següent veiem la posició inicial de la roda i la seva posició al cap d'uns instants"
   ]
  },
  {
   "cell_type": "code",
   "execution_count": null,
   "metadata": {},
   "outputs": [],
   "source": [
    "%%asy --fmt svg\n",
    "import geometry;\n",
    "import coordenades;\n",
    "import graph;\n",
    "\n",
    "unitsize(1cm);\n",
    "\n",
    "real R = 6,\n",
    "     w = pi/5,\n",
    "     v = w * R,\n",
    "     t = 2;\n",
    "pair p0, q0, pt, qt;     \n",
    "     \n",
    "Canonica((int)(-R)-2,(int)(v*t+R+3),-2,(int)(2*R)+2);    \n",
    "draw(circle((0,R),R),blue+linewidth(0.75bp));    \n",
    "draw(circle((v*t,R),R),blue+linewidth(2bp));       \n",
    "\n",
    "dot(\"$C_0$\",(0,R),E,blue+5bp);\n",
    "dot(\"$C_t$\",(v*t,R),W,blue+5bp);\n",
    "\n",
    "p0 = (0,R) + (R*cos(-pi/2),R*sin(-pi/2));\n",
    "q0 = (0,R) + (R*cos(-pi/2+w*t),R*sin(-pi/2+w*t));   \n",
    "\n",
    "pt = (v*t,R) + (R*cos(-pi/2-w*t),R*sin(-pi/2-w*t));   \n",
    "qt = (v*t,R) + (R*cos(-pi/2),R*sin(-pi/2));  \n",
    "\n",
    "draw(p0--qt,orange+linewidth(1.5bp));\n",
    "draw(arc((0,R),R,-90,-90+180*w*t/pi),orange+linewidth(1.5bp));\n",
    "\n",
    "dot(\"$p_0$\",p0,SE,red+5bp);\n",
    "dot(\"$q_0$\",q0,E,green+5bp);\n",
    "\n",
    "dot(\"$p_t$\",pt,SW,red+5bp);\n",
    "dot(\"$q_t$\",qt,N,green+5bp);"
   ]
  },
  {
   "cell_type": "markdown",
   "metadata": {},
   "source": [
    "Suposem que el radi de la circumferència és $R$, que la posició del seu centre a l'instant $t=0$ és $(0,R)$ i que la seva velocitat és $v$ en la direcció de l'eix de les $X$. Suposem també que la circumferència gira amb una velocitat angular $w$ en sentit antihorari.\n",
    "\n",
    "El punt $C_0$ representa el centre de la roda a l'instant $t=0$ i $C_t$ és la seva posició en un instant $t$. És evident que $C_t=(vt,R)$. \n",
    "\n",
    "El punt $p_0$ és la posició del xiclet a l'instant $t=0$ i $p_t$ és la seva posició en un instant $t$. Com que el punt $p_t$ está sobre la circumferència de centre $C_t$ i la roda gira a una velocitat angular $w$, en sentit antihorari, haurà girat un angle $\\alpha=-wt$ des de la seva posició inicial que correspon a $\\alpha_0=-\\frac{\\pi}{2}$. Per tant, la posició del punt $p_t$ ve donada per\n",
    "$$\n",
    "   p_t=(vt,R)+R\\left(\\cos\\left(-\\frac{\\pi}{2}-wt\\right),\\sin\\left(-\\frac{\\pi}{2}-wt\\right)\\right)=(vt,R)+R\\left(\\cos\\left(\\frac{\\pi}{2}+wt\\right),-\\sin\\left(\\frac{\\pi}{2}+wt\\right)\\right)\n",
    "$$\n",
    "Finalment, tenim que la roda gira sense relliscar, és a dir, la longitud de l'arc que uneix els punts $p_0$ i $q_0$ ha de ser igual a la longitud del segment que uneix els punts $p_0$ i $q_t$:\n",
    "$$\n",
    "  Rwt = vt\\,,\\qquad\\text{o bé}\\qquad v = Rw\\,.\n",
    "$$\n",
    "Tenint en compte que $\\sin\\left(\\frac{\\pi}{2}+\\alpha\\right)=\\cos\\alpha$ i $\\cos\\left(\\frac{\\pi}{2}+\\alpha\\right)=-\\sin\\alpha$, la trajectòria seguida pel xiclet (punt $p_t$) ve donada per\n",
    "$$\n",
    "  \\begin{aligned}\n",
    "    (x,y) &= (vt,R)+R\\left(\\cos\\left(\\frac{\\pi}{2}+wt\\right),-\\sin\\left(\\frac{\\pi}{2}+wt\\right)\\right)\\\\\n",
    "          &=  (Rwt,R) + R\\Big(-\\sin(wt),-\\cos(wt)\\Big)\\\\\n",
    "          &= R\\Big(wt - \\sin(wt),1-\\cos(wt)\\Big)\\,,\n",
    "  \\end{aligned}\n",
    "$$\n",
    "o, escrit d'una altra forma,\n",
    "$$\n",
    "  \\left.\\begin{aligned}\n",
    "    x &= R\\big(wt - \\sin(wt)\\big)\\\\\n",
    "    y &= R\\big(1-\\cos(wt)\\big)\n",
    "  \\end{aligned}\\,\\right\\}\n",
    "$$"
   ]
  },
  {
   "cell_type": "markdown",
   "metadata": {},
   "source": [
    "## Exercici 6"
   ]
  },
  {
   "cell_type": "markdown",
   "metadata": {},
   "source": [
    "En el gràfic següent veiem la posició inicial de la roda que gira i la seva posició al cap d'uns instants"
   ]
  },
  {
   "cell_type": "code",
   "execution_count": null,
   "metadata": {},
   "outputs": [],
   "source": [
    "%%asy --fmt svg\n",
    "import geometry;\n",
    "import coordenades;\n",
    "import graph;\n",
    "\n",
    "unitsize(1cm);\n",
    "\n",
    "real R = 4,\n",
    "     r = 1.5,\n",
    "     W = pi/3,\n",
    "     w = R*W/r, \n",
    "     t = 0.75;     \n",
    "\n",
    "pair C0 = (R+r,0),\n",
    "     Ct = ((R+r)*cos(W*t),(R+r)*sin(W*t)),\n",
    "     p0 = C0 + r*(cos(pi),sin(pi)),\n",
    "     q0 = C0 + r*(cos(pi-w*t),sin(pi-w*t)),\n",
    "     pt = Ct + r*(cos(pi+W*t+w*t),sin(pi+W*t+w*t)),\n",
    "     qt = Ct + r*(cos(pi+W*t),sin(pi+W*t));\n",
    "\n",
    "Canonica((int)(-R-2*r-2),(int)(R+2*r+2),(int)(-R-2*r-2),(int)(R+2*r+2));    \n",
    "draw(circle((0,0),R),blue+linewidth(1.5bp));\n",
    "draw(arc((0,0),R,0,180*W*t/pi),orange+linewidth(1.5bp));\n",
    "dot((0,0),blue+5bp);\n",
    "\n",
    "draw(circle(C0,r),green+linewidth(0.75bp));\n",
    "draw(arc(C0,r,180-180*w*t/pi,180),orange+linewidth(1.5bp));\n",
    "dot(\"$C_0$\",C0,S,green+5bp);\n",
    "dot(\"$p_0$\",p0,SE,red+5bp);\n",
    "dot(\"$q_0$\",q0,NE,blue+5bp);\n",
    "\n",
    "draw(circle(Ct,r),green+linewidth(1.5bp));\n",
    "dot(\"$C_t$\",Ct,SE,green+5bp);\n",
    "dot(\"$p_t$\",pt,SE,red+5bp);\n",
    "dot(\"$q_t$\",qt,SW,blue+5bp);"
   ]
  },
  {
   "cell_type": "markdown",
   "metadata": {},
   "source": [
    "Suposem ara que la circumferència fixa té radi $R$ i la que es mou $r$ i, a més, que el centre d'aquesta d'aquesta gira amb velocitat angular $W$ en sentit antihorari. Suposem també que la circumferència exterior gira amb velocitat angular $w$ al voltant del seu centre.\n",
    "\n",
    "És evident que la trajectòria del centre de la circumferència exterior ve donada per\n",
    "$$\n",
    "  C_t = (R+r)\\big(\\cos(Wt),\\sin(Wt)\\big)\\,.\n",
    "$$\n",
    "D'altra banda, el punt de contacte de les dues circumferències a l'instant $t$ és el punt $q_t=C_t+r\\big(\\cos(\\pi+Wt),\\sin(pi+Wt)\\big)$ i el punt $p_t$ haurà girat un angle $wt$ respecte del $q_t$,\n",
    "per tant, les seves coordenades seran\n",
    "$$\n",
    "  \\begin{aligned}\n",
    "    p_t &= C_t + r\\big(\\cos(\\pi+Wt+wt),\\sin(pi+Wt+wt)\\big) \\\\\n",
    "        &= (R+r)\\big(\\cos(Wt),\\sin(Wt)\\big) + r\\big(\\cos(\\pi+Wt+wt),\\sin(\\pi+Wt+wt)\\big)\\\\\n",
    "        &= (R+r)\\big(\\cos(Wt),\\sin(Wt)\\big) - r\\big(\\cos(Wt+wt),\\sin(Wt+wt)\\big) \\\\\n",
    "        &= \\Big((R+r)\\cos(Wt)- r\\cos(Wt+wt),(R+r)\\sin(Wt) - r\\sin(Wt+wt)\\Big)\n",
    "  \\end{aligned}\n",
    "$$\n",
    "Finalmet, hem de veure quina relació hi ha d'haver entre $W$ i $w$ per tal que la roda exterior no rellisqui sobre la fixa. De et, la condició és que les longituds dels segments d'arc que uneixen els punt $p_0$ i $q_t$, d'una banda, i $p_0$ i $q_0$ de l'altra, coincideixin. La longitud del primer és $RWt$ i la del segon $rwt$, per tant, s'haurà de complir que\n",
    "$$\n",
    "  RW = rw\\qquad\\text{o bé}\\qquad w = \\frac{RW}{r}\\,.\n",
    "$$\n",
    "Així doncs, la parametrització d'aquesta corba es pot escriure\n",
    "$$\n",
    "  \\left.\\begin{aligned}\n",
    "    x &= (R+r)\\cos(Wt)- r\\cos(Wt+wt)\\\\\n",
    "    y &= (R+r)\\sin(Wt) - r\\sin(Wt+wt)\n",
    "  \\end{aligned}\\,\\right\\}\\qquad\\text{o}\\qquad\n",
    "  \\left.\\begin{aligned}\n",
    "    x &= (R+r)\\cos(Wt)- r\\cos\\left(\\left(1+\\frac{R}{r}\\right)Wt\\right)\\\\\n",
    "    y &= (R+r)\\sin(Wt) - r\\sin\\left(\\left(1+\\frac{R}{r}\\right)Wt\\right)\n",
    "  \\end{aligned}\\,\\right\\}\n",
    "$$"
   ]
  },
  {
   "cell_type": "markdown",
   "metadata": {},
   "source": [
    "## Exercici 7"
   ]
  },
  {
   "cell_type": "markdown",
   "metadata": {},
   "source": [
    "En el gràfic següent veiem la posició inicial de la roda i la seva posició al cap d'uns instants"
   ]
  },
  {
   "cell_type": "code",
   "execution_count": null,
   "metadata": {},
   "outputs": [],
   "source": [
    "%%asy --fmt svg\n",
    "import geometry;\n",
    "import coordenades;\n",
    "import graph;\n",
    "\n",
    "unitsize(1cm);\n",
    "\n",
    "real R = 6,\n",
    "     b = 3.5,\n",
    "     w = pi/5,\n",
    "     v = w * R,\n",
    "     t = 2;\n",
    "pair p0, q0, pt, qt, b0, bt;     \n",
    "     \n",
    "Canonica((int)(-R)-2,(int)(v*t+R+3),-2,(int)(2*R)+2);    \n",
    "draw(circle((0,R),R),blue+linewidth(0.75bp));    \n",
    "draw(circle((v*t,R),R),blue+linewidth(2bp));       \n",
    "\n",
    "dot(\"$C_0$\",(0,R),E,blue+5bp);\n",
    "dot(\"$C_t$\",(v*t,R),W,blue+5bp);\n",
    "\n",
    "p0 = (0,R) + (R*cos(-pi/2),R*sin(-pi/2));\n",
    "q0 = (0,R) + (R*cos(-pi/2+w*t),R*sin(-pi/2+w*t));   \n",
    "\n",
    "pt = (v*t,R) + (R*cos(-pi/2-w*t),R*sin(-pi/2-w*t));   \n",
    "qt = (v*t,R) + (R*cos(-pi/2),R*sin(-pi/2));  \n",
    "\n",
    "draw(p0--qt,orange+linewidth(1.5bp));\n",
    "draw(arc((0,R),R,-90,-90+180*w*t/pi),orange+linewidth(1.5bp));\n",
    "\n",
    "dot(\"$p_0$\",p0,SE,red+5bp);\n",
    "dot(\"$q_0$\",q0,E,green+5bp);\n",
    "\n",
    "dot(\"$p_t$\",pt,SW,red+5bp);\n",
    "dot(\"$q_t$\",qt,N,green+5bp);\n",
    "\n",
    "b0 = (0,R) + (b*cos(-pi/2),b*sin(-pi/2));\n",
    "bt = (v*t,R) + (b*cos(-pi/2-w*t),b*sin(-pi/2-w*t));   \n",
    "dot(\"$b_0$\",b0,E,black+5bp);\n",
    "dot(\"$b_t$\",bt,E,black+5bp);"
   ]
  },
  {
   "cell_type": "markdown",
   "metadata": {},
   "source": [
    "És evident que la parametrització és\n",
    "$$\n",
    "  \\begin{aligned}\n",
    "    (x,y) &= (vt,R)+b\\left(\\cos\\left(\\frac{\\pi}{2}+wt\\right),-\\sin\\left(\\frac{\\pi}{2}+wt\\right)\\right)\\\\\n",
    "          &=  (Rwt,R) + b\\Big(-\\sin(wt),-\\cos(wt)\\Big)\\\\\n",
    "          &= \\Big(Rwt - b\\sin(wt),R-b\\cos(wt)\\Big)\\,,\n",
    "  \\end{aligned}\n",
    "$$\n",
    "o, escrit d'una altra forma,\n",
    "$$\n",
    "  \\left.\\begin{aligned}\n",
    "    x &= Rwt - b\\sin(wt) \\\\\n",
    "    y &= R-b\\cos(wt)\n",
    "  \\end{aligned}\\,\\right\\}\n",
    "$$"
   ]
  },
  {
   "cell_type": "markdown",
   "metadata": {},
   "source": [
    "Sí. És una parametrització regular."
   ]
  },
  {
   "cell_type": "markdown",
   "metadata": {},
   "source": [
    "## Exercici 9"
   ]
  },
  {
   "cell_type": "markdown",
   "metadata": {},
   "source": [
    "Recordem que en la pla $XY$, la paràbola amb vèrtex en el punt $(x_0,y_0)$ i eix de simetria paral·lel al de les $Y$, té equació $y-y_0=k(x-x_0)^2$.\n",
    "\n",
    "\n",
    "Si la paràbola és paral·lela al pla $YZ$, està contingula en un pla d'equació $x=k$ i com que passa pel punts $(3,-1,0)$ i $(3,-5,-2)$, el pla haurà de ser $x=3$. Aleshores, una equació de la paràbola podria ser\n",
    "$$\n",
    "  \\left.\\begin{aligned}\n",
    "    x &= 3 \\\\\n",
    "    z &= -2 + k(y+5)^2\n",
    "  \\end{aligned}\\,\\right\\}\n",
    "$$\n",
    "Com que la paràbola ha de passar pel punt $(3,-1,0)$, de la segona equació tindrem que $0=-2+16k$, és a dir, $k=\\frac{1}{8}$. Per tant, si fem servir $t=y+5$ com a paràmetre tindrem que\n",
    "$$\n",
    "  \\left.\\begin{aligned}\n",
    "    x &= 3 \\\\\n",
    "    y &= t - 5 \\\\\n",
    "    z &= -2 + \\frac{t^2}{8}\n",
    "  \\end{aligned}\\,\\right\\}\\qquad\\text{o bé}\\qquad\n",
    "  \\left.\\begin{aligned}\n",
    "    x &= 3 \\\\\n",
    "    y &= t - 5 \\\\\n",
    "    z &= \\frac{t^2-16}{8}\n",
    "  \\end{aligned}\\,\\right\\}\\,.\n",
    "$$\n",
    "Així, el vèrtes es correspon amb $t=0$ i el punt $(3,-1,0)$ amb $t=4$."
   ]
  },
  {
   "cell_type": "markdown",
   "metadata": {},
   "source": [
    "## Exercici 11"
   ]
  },
  {
   "cell_type": "markdown",
   "metadata": {},
   "source": [
    "És evident que la parametrització\n",
    "$$\n",
    "   \\left.\\begin{aligned}\n",
    "    x &= \\cos t \\\\\n",
    "    y &= \\sin t \\\\\n",
    "    z &= 0\n",
    "  \\end{aligned}\\,\\right\\}\n",
    "$$\n",
    "correspon a la circumferència de centre $(0,0,0)$, radi 1 i continguda en la pla $z=0$. Escollim una referencia euclidiana de manera que els dos primers vectors estiguin sobre el pla $x+y+z=0$, per exemple\n",
    "$$\n",
    "   \\mathcal{R}'=\\left\\{(0,0,0);\\frac{1}{\\sqrt{2}}(1,-1,0),\\frac{1}{\\sqrt{6}}(1,1,-2),\\frac{1}{\\sqrt{6}}(1,1,1)\\right\\}\\,.\n",
    "$$\n",
    "Considerem la circumferència que en aquesta referència té equacions paramètriques\n",
    "$$\n",
    "\\left.\\begin{aligned}\n",
    "    x' &= \\cos t \\\\\n",
    "    y' &= \\sin t \\\\\n",
    "    z' &= 0\n",
    "  \\end{aligned}\\,\\right\\}\n",
    "$$\n",
    "que està continguda en el pla $z'=0$, que és el mateix que $x+y+z=0$."
   ]
  },
  {
   "cell_type": "markdown",
   "metadata": {},
   "source": [
    "L'equació del canvi de coordenades de la referència $\\mathcal{R}'$ a la canònica és\n",
    "$$\n",
    "  \\left(\\begin{array}{c} x \\\\ y \\\\ z\\end{array}\\right) \n",
    "  = \\frac{1}{\\sqrt{6}}\\left(\\begin{array}{crc}\n",
    "   \\sqrt{3}  &  1 & \\sqrt{2} \\\\\n",
    "  -\\sqrt{3}  &  1 & \\sqrt{2} \\\\\n",
    "      0      & -2 & \\sqrt{2}\n",
    "  \\end{array}\\right) \n",
    "  \\left(\\begin{array}{c} x' \\\\ y' \\\\ z' \\end{array}\\right)\n",
    "$$"
   ]
  },
  {
   "cell_type": "markdown",
   "metadata": {},
   "source": [
    "Si substituim $x'=\\cos t$, $y'=\\sin t$ i $z'=0$, obtenim la parametrització\n",
    "$$\n",
    "  \\left.\\begin{aligned}\n",
    "    x &= \\frac{1}{\\sqrt{6}}\\Big(\\sqrt{3}\\cos t + \\sin t\\Big) \\\\\n",
    "    y &= \\frac{1}{\\sqrt{6}}\\Big(-\\sqrt{3}\\cos t + \\sin t\\Big) \\\\\n",
    "    z &= -\\frac{\\sin t}{\\sqrt{6}}\n",
    "  \\end{aligned}\\,\\right\\}\n",
    "$$"
   ]
  },
  {
   "cell_type": "markdown",
   "metadata": {},
   "source": [
    "Si fem els calculs amb el Sagemath, ens dona un resultat equivalent"
   ]
  },
  {
   "cell_type": "code",
   "execution_count": null,
   "metadata": {},
   "outputs": [],
   "source": [
    "u1 = 1/sqrt(2)*vector([1,-1,0])\n",
    "u2 = 1/sqrt(6)*vector([1,1,-2])\n",
    "u3 = 1/sqrt(3)*vector([1,1,1])\n",
    "C = matrix([u1,u2,u3]).T\n",
    "show(C)"
   ]
  },
  {
   "cell_type": "code",
   "execution_count": null,
   "metadata": {},
   "outputs": [],
   "source": [
    "t = var('t')\n",
    "X1 = vector([cos(t),sin(t),0])\n",
    "X = C*X1\n",
    "show(simplificar_radicals(X))"
   ]
  },
  {
   "cell_type": "markdown",
   "metadata": {},
   "source": [
    "és a dir,\n",
    "$$\n",
    "  \\left.\\begin{aligned}\n",
    "    x &= \\frac{\\sqrt{6}}{3} \\sin\\left(\\frac{\\pi}{3}+t\\right) \\\\\n",
    "    y &= -\\frac{\\sqrt{6}}{3} \\cos\\left(\\frac{\\pi}{6}+t\\right) \\\\\n",
    "    z &= -\\frac{\\sqrt{6}}{3}\\sin t\n",
    "  \\end{aligned}\\,\\right\\}\n",
    "$$"
   ]
  },
  {
   "cell_type": "markdown",
   "metadata": {},
   "source": [
    "## Exercici 12"
   ]
  },
  {
   "cell_type": "markdown",
   "metadata": {},
   "source": [
    "La intersecció del cilindre amb el pla $XY$ és la circumferència de centre $(1,0)$ i radi 1. La parametrització més senzilla és\n",
    "$$\n",
    "  (x,y)=(1+\\cos t,\\sin t)\\qquad\\text{amb}\\qquad t\\in[0,2\\pi]\\,.\n",
    "$$\n",
    "D'altra banda, de l'equació de l'esfera, tenim que $z=\\pm\\sqrt{4-x^2-y^2}$, per tant la parametrització de la part superior de la corba intersecció del cilindre i l'esfera és\n",
    "$$\n",
    "  \\mathbf{r}(t) = \\big(1+\\cos t,\\sin t,\\sqrt{4-(1+\\cos t)^2-\\sin^2t}\\big)\\qquad\\text{amb}\\qquad t\\in[0,2\\pi]\\,.\n",
    "$$"
   ]
  },
  {
   "cell_type": "code",
   "execution_count": null,
   "metadata": {},
   "outputs": [],
   "source": [
    "Tenint en compte que"
   ]
  },
  {
   "cell_type": "code",
   "execution_count": null,
   "metadata": {},
   "outputs": [],
   "source": [
    "t = var('t')\n",
    "a = 4-(1+cos(t))^2-sin(t)^2\n",
    "show(a.simplify_trig())"
   ]
  },
  {
   "cell_type": "markdown",
   "metadata": {},
   "source": [
    "obtenim la parametrització\n",
    "$$\n",
    "  \\mathbf{r}(t) = \\big(1+\\cos t,\\sin t,\\sqrt{2-2\\cos t}\\big)\\qquad\\text{amb}\\qquad t\\in[0,2\\pi]\\,.\n",
    "$$"
   ]
  },
  {
   "cell_type": "markdown",
   "metadata": {},
   "source": [
    "Si també volem que la parametrització recorri la part superior i la part inferior de la corba, hem de prendre\n",
    "$$\n",
    "  \\mathbf{r}(t) = \n",
    "  \\begin{cases}\n",
    "    \\big(1+\\cos t,\\sin t,\\sqrt{2-2\\cos t}\\big) & t\\in[0,2\\pi] \\\\\n",
    "    \\big(1+\\cos t,\\sin t,-\\sqrt{2-2\\cos t}\\big) & t\\in(2\\pi,4\\pi]\n",
    "  \\end{cases}\n",
    "$$"
   ]
  },
  {
   "cell_type": "markdown",
   "metadata": {},
   "source": [
    "Finalment, tenint en compte que\n",
    "$$\n",
    "  2\\sin\\left(\\frac{t}{2}\\right)=\\pm\\sqrt{2-2\\cos t}\n",
    "$$\n",
    "i que el signe és positiu si $t\\in[0,2\\pi]$ i negatiu si $t\\in[2\\pi,4\\pi]$, podem escriure la parametrització\n",
    "$$\n",
    "  \\mathbf{r}(t) = \\left( 1+\\cos t, \\sin t, 2\\sin\\left(\\frac{t}{2}\\right) \\right)\\qquad\\text{amb}\\qquad t\\in[0,4\\pi]\n",
    "$$"
   ]
  },
  {
   "cell_type": "markdown",
   "metadata": {},
   "source": [
    "## Exercici 13"
   ]
  },
  {
   "cell_type": "markdown",
   "metadata": {},
   "source": [
    "La parametrització d'una circumferència de radi $a$ recorreguda en sentit antihorari i velocitat angular constant és\n",
    "$$\n",
    "  \\mathbf{r}(t) = \\big(a\\cos(\\theta_0+wt),a\\sin(\\theta_0+wt)\\big)\\,,\n",
    "$$\n",
    "on $\\theta_0$ ens dona la posició inicial. La seva derivada és\n",
    "$$\n",
    "  \\mathbf{r}'(t) = \\big(-aw\\sin(\\theta_0+wt),aw\\cos(\\theta_0+wt)\\big)\n",
    "$$\n",
    "i la celeritat $|| \\mathbf{r}'(t) ||=aw$ (suposant que $a>0$ i $w>0$). Com que volem que $aw=v$, tenim que\n",
    "$$\n",
    "   w = \\frac{v}{a}\\,.\n",
    "$$\n",
    "Una possible parametrització és\n",
    "$$\n",
    "  \\mathbf{r}(t) = \\left(a\\cos\\left(\\theta_0+\\frac{vt}{a}\\right),a\\sin\\left(\\theta_0+\\frac{vt}{a}\\right)\\right)\\,,\n",
    "$$"
   ]
  },
  {
   "cell_type": "markdown",
   "metadata": {},
   "source": [
    "## Exercici 15"
   ]
  },
  {
   "cell_type": "markdown",
   "metadata": {},
   "source": [
    "La parametrització més senzilla d'aquesta paràbola s'obté prenent la $x$ com a paràmetre:\n",
    "$$\n",
    "  \\mathbf{r}(t) = \\big(t,4t^2+t+1\\big)\n",
    "$$\n",
    "i, si volem l'arc que va del punt $(1,6)$ al $(2,19)$, és evient que la $t$ ha de variar entre 1 i 2, és a dir, $t\\in [1,2]$.\n",
    "\n",
    "L'accelarió és $\\mathbf{r}''(t) = \\big(0,8)\\big)$, que és constant.\n",
    "\n",
    "Per a obtenir una altra parametrització hem de trobar, per exemple, una funció bijectiva $\\phi:[0,1]\\longrightarrow [1,2]$ (podríem canviar l'interval $[0,1]$ per quaselvol altre). Volem que amb la nova parametrització, l'acceleració no sigui constant."
   ]
  },
  {
   "cell_type": "markdown",
   "metadata": {},
   "source": [
    "Si escollim $t=\\phi(s)=s^3+1$, tindrem que"
   ]
  },
  {
   "cell_type": "code",
   "execution_count": null,
   "metadata": {},
   "outputs": [],
   "source": [
    "s, t = var('s t')\n",
    "p1 = vector((t,4*t^2+t+1))\n",
    "p2 = vector([expand(u) for u in p1.subs(t=s^3+1)])\n",
    "show(p2)"
   ]
  },
  {
   "cell_type": "markdown",
   "metadata": {},
   "source": [
    "Aquesta nova parametrització vé donada per\n",
    "$$\n",
    "  \\mathbf{p}(s) = \\big(s^3+1,4s^6+9s^3+6\\big)\\qquad\\text{amb}\\qquad s\\in[0,1]\n",
    "$$\n",
    "i la seva acceleració és"
   ]
  },
  {
   "cell_type": "code",
   "execution_count": null,
   "metadata": {},
   "outputs": [],
   "source": [
    "show(p2.diff(s,2))"
   ]
  },
  {
   "cell_type": "markdown",
   "metadata": {},
   "source": [
    "és a dir, $\\mathbf{p}''(s) = \\big(6s,120s^4+54s)\\big)$, que no és constant."
   ]
  },
  {
   "cell_type": "markdown",
   "metadata": {},
   "source": [
    "## Exercici 17"
   ]
  },
  {
   "cell_type": "markdown",
   "metadata": {},
   "source": [
    "Tenint en compte que $\\mathbf{r}'(t)=(1,2t,3t^2$, resulta que la l'instant $t=1$ la partícula està situada en el punt $\\mathbf{r}(1)=(1,1,1)$ amb una velocitat $\\mathbf{r}'(1)=(1,2,3)$. A partir d'aquesta moment segueix la trajectòria\n",
    "$$\n",
    "   \\mathbf{r}(t)=(1,1,1) + (t-1)(1,2,3)\\,.\n",
    "$$\n",
    "Per tant, la seva posició al cap d'un segon és\n",
    "$$\n",
    "   \\mathbf{r}(2)=(1,1,1) + (1,2,3) = (2,3,4)\\,.\n",
    "$$"
   ]
  },
  {
   "cell_type": "markdown",
   "metadata": {},
   "source": [
    "## Exercici 19"
   ]
  },
  {
   "cell_type": "markdown",
   "metadata": {},
   "source": [
    "La velocitat s'obté integrant l'accelaració:"
   ]
  },
  {
   "cell_type": "code",
   "execution_count": null,
   "metadata": {},
   "outputs": [],
   "source": [
    "t = var('t')\n",
    "c1, c2, c3 = var('c1 c2 c3')\n",
    "C = vector([c1,c2,c3])\n",
    "a = vector([2*e^t*cos(t),24*t^2,0])\n",
    "show(a)"
   ]
  },
  {
   "cell_type": "code",
   "execution_count": null,
   "metadata": {},
   "outputs": [],
   "source": [
    "v = a.integrate(t) + C\n",
    "show(v)"
   ]
  },
  {
   "cell_type": "markdown",
   "metadata": {},
   "source": [
    "Hem de trobar les constants $c_1$, $c_2$ i $c_3$ tenint en compte que a l'instant $t=0$, la velocitat és $(1,1,0)$."
   ]
  },
  {
   "cell_type": "code",
   "execution_count": null,
   "metadata": {},
   "outputs": [],
   "source": [
    "v0 = v.subs(t=0)\n",
    "w0 = vector([1,1,0])\n",
    "show(v0)"
   ]
  },
  {
   "cell_type": "code",
   "execution_count": null,
   "metadata": {},
   "outputs": [],
   "source": [
    "show(solve([v0[i] == w0[i] for i in range(3)],[c1,c2,c3]))"
   ]
  },
  {
   "cell_type": "markdown",
   "metadata": {},
   "source": [
    "Per tant, la velocitat ve donada per"
   ]
  },
  {
   "cell_type": "code",
   "execution_count": null,
   "metadata": {},
   "outputs": [],
   "source": [
    "v = v.subs(c1 = 0,c2 = 1,c3 = 0)\n",
    "show(v)"
   ]
  },
  {
   "cell_type": "markdown",
   "metadata": {},
   "source": [
    "Finalment, per a obtenir la posició, hem d'integrar la velocitat"
   ]
  },
  {
   "cell_type": "code",
   "execution_count": null,
   "metadata": {},
   "outputs": [],
   "source": [
    "r = vector([u.expand() for u in v.integrate(t) + C])\n",
    "show(r)"
   ]
  },
  {
   "cell_type": "markdown",
   "metadata": {},
   "source": [
    "Hem de trobar les noves constants $c_1$, $c_2$ i $c_3$ tenint en compte que a l'instant $t=0$, la posició és $(0,0,3)$."
   ]
  },
  {
   "cell_type": "code",
   "execution_count": null,
   "metadata": {},
   "outputs": [],
   "source": [
    "r0 = r.subs(t=0)\n",
    "p0 = vector([0,0,3])\n",
    "show(r0)"
   ]
  },
  {
   "cell_type": "code",
   "execution_count": null,
   "metadata": {},
   "outputs": [],
   "source": [
    "show(solve([r0[i] == p0[i] for i in range(3)],[c1,c2,c3]))"
   ]
  },
  {
   "cell_type": "markdown",
   "metadata": {},
   "source": [
    "Per tant, la posició ve donada per"
   ]
  },
  {
   "cell_type": "code",
   "execution_count": null,
   "metadata": {},
   "outputs": [],
   "source": [
    "r = r.subs(c1 = 0,c2 = 0,c3 = 3)\n",
    "show(r)"
   ]
  },
  {
   "cell_type": "markdown",
   "metadata": {},
   "source": [
    "Així doncs, la trajectòria de la partícula és\n",
    "$$\n",
    "  \\mathbf{r}(t) = \\left( e^t\\sin(t), 2t^4+t, 3 \\right)\\qquad\\text{amb}\\qquad t\\in[0,10]\\,.\n",
    "$$"
   ]
  },
  {
   "cell_type": "markdown",
   "metadata": {},
   "source": [
    "## Exercici 21"
   ]
  },
  {
   "cell_type": "markdown",
   "metadata": {},
   "source": [
    "Escrivim la parametrització de les dues corbes"
   ]
  },
  {
   "cell_type": "code",
   "execution_count": null,
   "metadata": {},
   "outputs": [],
   "source": [
    "t = var('t')\n",
    "c1 = vector([4*cos(t),2*sin(t)])\n",
    "c2 = vector([2*sin(2*t),3*cos(2*t)])\n",
    "show(c1)"
   ]
  },
  {
   "cell_type": "code",
   "execution_count": null,
   "metadata": {},
   "outputs": [],
   "source": [
    "show(c2)"
   ]
  },
  {
   "cell_type": "markdown",
   "metadata": {},
   "source": [
    "La distància entre els cossos és la longitud del vector que els uneix. Treballem amb la distància al quadrat: "
   ]
  },
  {
   "cell_type": "code",
   "execution_count": null,
   "metadata": {},
   "outputs": [],
   "source": [
    "v = (c2 - c1).simplify_full()\n",
    "D = (v[0]^2 + v[1]^2).simplify_full()\n",
    "show(D)"
   ]
  },
  {
   "cell_type": "markdown",
   "metadata": {},
   "source": [
    "La derivada de la distància al quadrat $D(t)=d(t)^2$ és $D'(t) = 2d(t)d'(t)$m per tant,\n",
    "$$\n",
    "  d'(t)=\\frac{D'(t)}{2d(t)}\\,.\n",
    "$$\n",
    "En particular,\n",
    "$$\n",
    "  d'(\\pi)=\\frac{D'(\\pi)}{2d(\\pi)}\\,.\n",
    "$$\n",
    "Aleshores, el resultat que busquem és"
   ]
  },
  {
   "cell_type": "code",
   "execution_count": null,
   "metadata": {},
   "outputs": [],
   "source": [
    "r = D.diff(t).subs(t=pi)/(2*v.subs(t=pi).norm())\n",
    "show(r)"
   ]
  },
  {
   "cell_type": "markdown",
   "metadata": {},
   "source": [
    "La raó és \n",
    "$$\n",
    "  r = \\frac{22}{5}\\,.\n",
    "$$"
   ]
  },
  {
   "cell_type": "markdown",
   "metadata": {},
   "source": [
    "## Exercici 23"
   ]
  },
  {
   "cell_type": "markdown",
   "metadata": {},
   "source": [
    "El gràfic d'aquesta corba és"
   ]
  },
  {
   "cell_type": "code",
   "execution_count": null,
   "metadata": {},
   "outputs": [],
   "source": [
    "%%asy --fmt svg\n",
    "import geometry;\n",
    "import coordenades;\n",
    "import graph;\n",
    "\n",
    "unitsize(1cm);\n",
    "\n",
    "real a = 5;\n",
    "\n",
    "pair ast(real t) {\n",
    "  return (a*cos(t)^3,a*sin(t)^3);   \n",
    "}\n",
    "\n",
    "Canonica((int)(-a-2),(int)(a+2),(int)(-a-2),(int)(a+2));    \n",
    "path g = graph(ast,0,2*pi);\n",
    "draw(g,red+linewidth(1.5bp));"
   ]
  },
  {
   "cell_type": "markdown",
   "metadata": {},
   "source": [
    "Recordem que la longitud d'una corba ve donada per\n",
    "$$\n",
    "   L = \\int_a^b || \\mathbf{r}'(t) ||\\,dt\\,.\n",
    "$$\n",
    "En aquest cas $\\mathbf{r}(t) = \\big(a\\cos^3 t,a\\sin^3 t\\big)$ amb $t\\in[0,2\\pi]$."
   ]
  },
  {
   "cell_type": "code",
   "execution_count": null,
   "metadata": {},
   "outputs": [],
   "source": [
    "a, t = var('a t')\n",
    "assume(a > 0)\n",
    "r = vector([a*cos(t)^3,a*sin(t)^3])\n",
    "show(r)"
   ]
  },
  {
   "cell_type": "markdown",
   "metadata": {},
   "source": [
    "La velocitat ve donada per"
   ]
  },
  {
   "cell_type": "code",
   "execution_count": null,
   "metadata": {},
   "outputs": [],
   "source": [
    "v = r.diff(t)\n",
    "V = (v[0]^2 + v[1]^2).simplify_full()\n",
    "V = sqrt(V)\n",
    "show(V)"
   ]
  },
  {
   "cell_type": "markdown",
   "metadata": {},
   "source": [
    "I la longitud de la corba situada en el primer quadrant és"
   ]
  },
  {
   "cell_type": "code",
   "execution_count": null,
   "metadata": {},
   "outputs": [],
   "source": [
    "L1 = V.integrate(t,0,pi/2)\n",
    "show(L1)"
   ]
  },
  {
   "cell_type": "markdown",
   "metadata": {},
   "source": [
    "Per tant, la longitud total és"
   ]
  },
  {
   "cell_type": "code",
   "execution_count": null,
   "metadata": {},
   "outputs": [],
   "source": [
    "L = 4*L1\n",
    "show(L)"
   ]
  },
  {
   "cell_type": "markdown",
   "metadata": {},
   "source": [
    "La longitud és $L=6a$."
   ]
  },
  {
   "cell_type": "markdown",
   "metadata": {},
   "source": [
    "## Exercici 25"
   ]
  },
  {
   "cell_type": "markdown",
   "metadata": {},
   "source": [
    "És molt semblant a l'exercici 23, per tant repetim el procediment"
   ]
  },
  {
   "cell_type": "code",
   "execution_count": null,
   "metadata": {},
   "outputs": [],
   "source": [
    "t = var('t')\n",
    "assume(t >= 0)\n",
    "r = vector([t^2/2 - t,4/3*t^(3/2)])\n",
    "show(r)"
   ]
  },
  {
   "cell_type": "code",
   "execution_count": null,
   "metadata": {},
   "outputs": [],
   "source": [
    "v = r.diff(t)\n",
    "V = (v[0]^2 + v[1]^2).simplify_full()\n",
    "V = sqrt(V)\n",
    "show(V)"
   ]
  },
  {
   "cell_type": "code",
   "execution_count": null,
   "metadata": {},
   "outputs": [],
   "source": [
    "d = V.integrate(t,0,2)\n",
    "show(d)"
   ]
  },
  {
   "cell_type": "markdown",
   "metadata": {},
   "source": [
    "La distància recorreguda és $d=4$."
   ]
  },
  {
   "cell_type": "markdown",
   "metadata": {},
   "source": [
    "## Exercici 27"
   ]
  },
  {
   "cell_type": "markdown",
   "metadata": {},
   "source": [
    "La parametrització d'aquesta corba es pot escriure com a\n",
    "$$\n",
    "  \\mathbf{r}(t)=\\big(bt\\cos t,bt\\sin t\\big)\\qquad\\text{amb}\\qquad t\\in[0,2\\pi]\\,.\n",
    "$$\n",
    "La seva representació gràfica és"
   ]
  },
  {
   "cell_type": "code",
   "execution_count": null,
   "metadata": {},
   "outputs": [],
   "source": [
    "%%asy --fmt svg\n",
    "import geometry;\n",
    "import coordenades;\n",
    "import graph;\n",
    "\n",
    "unitsize(1cm);\n",
    "\n",
    "real b = 1.5;\n",
    "\n",
    "pair ast(real t) {\n",
    "  return (b*t*cos(t),b*t*sin(t));   \n",
    "}\n",
    "\n",
    "Canonica(-10,10,-10,10);    \n",
    "path g = graph(ast,0,2*pi);\n",
    "draw(g,red+linewidth(1.5bp));"
   ]
  },
  {
   "cell_type": "markdown",
   "metadata": {},
   "source": [
    "Per calcular la longitud procedim com en exercicis anteriors"
   ]
  },
  {
   "cell_type": "code",
   "execution_count": null,
   "metadata": {},
   "outputs": [],
   "source": [
    "b, t = var('b t')\n",
    "assume(t >= 0)\n",
    "assume(b > 0)\n",
    "r = vector([b*t*cos(t),b*t*sin(t)])\n",
    "show(r)"
   ]
  },
  {
   "cell_type": "code",
   "execution_count": null,
   "metadata": {},
   "outputs": [],
   "source": [
    "v = r.diff(t)\n",
    "V = (v[0]^2 + v[1]^2).simplify_full()\n",
    "V = sqrt(V)\n",
    "show(V)"
   ]
  },
  {
   "cell_type": "code",
   "execution_count": null,
   "metadata": {},
   "outputs": [],
   "source": [
    "d = V.integrate(t,0,2*pi)\n",
    "show(d)"
   ]
  },
  {
   "cell_type": "markdown",
   "metadata": {},
   "source": [
    "La longitud és\n",
    "$$\n",
    "  L = b\\pi\\sqrt{1+4\\pi^2} + \\frac{b}{2}\\mathop{\\mathrm{arcsinh}}(2\\pi)\\,.\n",
    "$$"
   ]
  },
  {
   "cell_type": "markdown",
   "metadata": {},
   "source": [
    "## Exercici 29"
   ]
  },
  {
   "cell_type": "markdown",
   "metadata": {},
   "source": [
    "Escrivim en primer lloc la parametrització de la corba"
   ]
  },
  {
   "cell_type": "code",
   "execution_count": null,
   "metadata": {},
   "outputs": [],
   "source": [
    "t = var('t')\n",
    "assume(t >= 0)\n",
    "r = vector([e^t*cos(t),e^t*sin(t),e^t])\n",
    "show(r)"
   ]
  },
  {
   "cell_type": "markdown",
   "metadata": {},
   "source": [
    "El vector tangent en cada punt és"
   ]
  },
  {
   "cell_type": "code",
   "execution_count": null,
   "metadata": {},
   "outputs": [],
   "source": [
    "v = r.diff(t)\n",
    "show(v)"
   ]
  },
  {
   "cell_type": "code",
   "execution_count": null,
   "metadata": {},
   "outputs": [],
   "source": [
    "i la longitud del vector tangent"
   ]
  },
  {
   "cell_type": "code",
   "execution_count": null,
   "metadata": {},
   "outputs": [],
   "source": [
    "V = sqrt((v[0]^2+v[1]^2+v[2]^2).simplify_full())\n",
    "show(V)"
   ]
  },
  {
   "cell_type": "markdown",
   "metadata": {},
   "source": [
    "Com que la longitud del vector tangent no és constant i igual a 1, la corba no està parametritzada pel paràmetre arc."
   ]
  },
  {
   "cell_type": "markdown",
   "metadata": {},
   "source": [
    "El paràmetre arc $s$ vindrà donat per la la longitud de la corba des de l'inici fins a l'instant $t$: \n",
    "$$\n",
    "  s = \\int_0^t || \\mathbf{r}'(u) ||\\,du\n",
    "$$"
   ]
  },
  {
   "cell_type": "code",
   "execution_count": null,
   "metadata": {},
   "outputs": [],
   "source": [
    "s = var('s')\n",
    "S = V.integrate(t,0,t)\n",
    "show(S)"
   ]
  },
  {
   "cell_type": "markdown",
   "metadata": {},
   "source": [
    "Ara hem d'aillar $t$ en funció de $s$"
   ]
  },
  {
   "cell_type": "code",
   "execution_count": null,
   "metadata": {},
   "outputs": [],
   "source": [
    "sol = solve(S == s,t)\n",
    "show(sol)"
   ]
  },
  {
   "cell_type": "markdown",
   "metadata": {},
   "source": [
    "La parametrització mitjançant el paràmetre arc és"
   ]
  },
  {
   "cell_type": "code",
   "execution_count": null,
   "metadata": {},
   "outputs": [],
   "source": [
    "rs = r.subs(t=sol[0].rhs()).simplify_full()\n",
    "show(rs)"
   ]
  },
  {
   "cell_type": "markdown",
   "metadata": {},
   "source": [
    "o, escrit d'una altra manera, \n",
    "$$\n",
    "  \\left.\\begin{aligned}\n",
    "   x &= \\frac{s+\\sqrt{3}}{\\sqrt{3}}\\cos\\left(\\log\\left( \\frac{s+\\sqrt{3}}{\\sqrt{3}} \\right)\\right) \\\\[2mm]\n",
    "   y &= \\frac{s+\\sqrt{3}}{\\sqrt{3}}\\sin\\left(\\log\\left( \\frac{s+\\sqrt{3}}{\\sqrt{3}} \\right)\\right) \\\\[2mm]\n",
    "   z &= \\frac{s+\\sqrt{3}}{\\sqrt{3}}\n",
    "  \\end{aligned}\\,\\right\\}\\qquad\\text{amb}\\qquad s \\geq 0\\,.\n",
    "$$"
   ]
  },
  {
   "cell_type": "markdown",
   "metadata": {},
   "source": [
    "## Exercici 31"
   ]
  },
  {
   "cell_type": "markdown",
   "metadata": {},
   "source": [
    "Recordem qie la curvatura d'una corba $\\mathbf{r}(t)$  ve donada per\n",
    "$$\n",
    "   \\mathbf{\\kappa}(t) = \\frac{|| \\mathbf{r}'(t) \\times \\mathbf{r}''(t) ||}{|| \\mathbf{r}'(t) ||^3}\n",
    "$$"
   ]
  },
  {
   "cell_type": "markdown",
   "metadata": {},
   "source": [
    "En el primer apartat tenim que"
   ]
  },
  {
   "cell_type": "code",
   "execution_count": null,
   "metadata": {},
   "outputs": [],
   "source": [
    "t = var('t')\n",
    "r = vector([cos(3*t),sin(3*t),4*t])\n",
    "show(r)"
   ]
  },
  {
   "cell_type": "code",
   "execution_count": null,
   "metadata": {
    "tags": []
   },
   "outputs": [],
   "source": [
    "r1 = r.diff(t)\n",
    "show(r1)"
   ]
  },
  {
   "cell_type": "code",
   "execution_count": null,
   "metadata": {},
   "outputs": [],
   "source": [
    "r2 = r.diff(t,2)\n",
    "show(r2)"
   ]
  },
  {
   "cell_type": "code",
   "execution_count": null,
   "metadata": {},
   "outputs": [],
   "source": [
    "n = r1.cross_product(r2).simplify_full()\n",
    "show(n)"
   ]
  },
  {
   "cell_type": "code",
   "execution_count": null,
   "metadata": {},
   "outputs": [],
   "source": [
    "A = sqrt(sum([n[i]^2 for i in range(3)]).simplify_full())\n",
    "show(A)"
   ]
  },
  {
   "cell_type": "code",
   "execution_count": null,
   "metadata": {},
   "outputs": [],
   "source": [
    "B = sqrt(sum([r1[i]^2 for i in range(3)]).simplify_full())^3\n",
    "show(B)"
   ]
  },
  {
   "cell_type": "code",
   "execution_count": null,
   "metadata": {},
   "outputs": [],
   "source": [
    "kappa = A/B\n",
    "show(kappa)"
   ]
  },
  {
   "cell_type": "markdown",
   "metadata": {},
   "source": [
    "La curvatura és constant i és\n",
    "$$\n",
    "   \\mathbf{\\kappa}(t) =\\frac{9}{25}\\,.\n",
    "$$"
   ]
  },
  {
   "cell_type": "markdown",
   "metadata": {},
   "source": [
    "En el segon apartat tenim que"
   ]
  },
  {
   "cell_type": "code",
   "execution_count": null,
   "metadata": {},
   "outputs": [],
   "source": [
    "t = var('t')\n",
    "r = vector([1-cos(t),sin(t),0])\n",
    "show(r)"
   ]
  },
  {
   "cell_type": "code",
   "execution_count": null,
   "metadata": {},
   "outputs": [],
   "source": [
    "r1 = r.diff(t)\n",
    "show(r1)"
   ]
  },
  {
   "cell_type": "code",
   "execution_count": null,
   "metadata": {},
   "outputs": [],
   "source": [
    "r2 = r.diff(t,2)\n",
    "show(r2)"
   ]
  },
  {
   "cell_type": "code",
   "execution_count": null,
   "metadata": {},
   "outputs": [],
   "source": [
    "n = r1.cross_product(r2).simplify_full()\n",
    "show(n)"
   ]
  },
  {
   "cell_type": "code",
   "execution_count": null,
   "metadata": {},
   "outputs": [],
   "source": [
    "A = sqrt(sum([n[i]^2 for i in range(3)]).simplify_full())\n",
    "show(A)"
   ]
  },
  {
   "cell_type": "code",
   "execution_count": null,
   "metadata": {},
   "outputs": [],
   "source": [
    "B = sqrt(sum([r1[i]^2 for i in range(3)]).simplify_full())^3\n",
    "show(B)"
   ]
  },
  {
   "cell_type": "markdown",
   "metadata": {},
   "source": [
    "La curvatura és constant i és\n",
    "$$\n",
    "   \\mathbf{\\kappa}(t) = 1\\,.\n",
    "$$"
   ]
  },
  {
   "cell_type": "markdown",
   "metadata": {},
   "source": [
    "En el tercer apartat, podem utilitzar la parametrització\n",
    "$$\n",
    "  \\mathbf{r}(t)=  \\big( a\\cos t,b\\sin t, 0 \\big)\\,.\n",
    "$$"
   ]
  },
  {
   "cell_type": "code",
   "execution_count": null,
   "metadata": {},
   "outputs": [],
   "source": [
    "a, b, t = var('a b t')\n",
    "assume(a > 0)\n",
    "assume(b > 0)\n",
    "r = vector([a*cos(t),b*sin(t),0])\n",
    "show(r)"
   ]
  },
  {
   "cell_type": "code",
   "execution_count": null,
   "metadata": {},
   "outputs": [],
   "source": [
    "r1 = r.diff(t)\n",
    "show(r1)"
   ]
  },
  {
   "cell_type": "code",
   "execution_count": null,
   "metadata": {},
   "outputs": [],
   "source": [
    "r2 = r.diff(t,2)\n",
    "show(r2)"
   ]
  },
  {
   "cell_type": "code",
   "execution_count": null,
   "metadata": {},
   "outputs": [],
   "source": [
    "n = r1.cross_product(r2).simplify_full()\n",
    "show(n)"
   ]
  },
  {
   "cell_type": "code",
   "execution_count": null,
   "metadata": {},
   "outputs": [],
   "source": [
    "A = sqrt(sum([n[i]^2 for i in range(3)]).simplify_full())\n",
    "show(A)"
   ]
  },
  {
   "cell_type": "code",
   "execution_count": null,
   "metadata": {},
   "outputs": [],
   "source": [
    "B = sqrt(sum([r1[i]^2 for i in range(3)]).simplify_full())^3\n",
    "show(B)"
   ]
  },
  {
   "cell_type": "code",
   "execution_count": null,
   "metadata": {},
   "outputs": [],
   "source": [
    "kappa = A/B\n",
    "show(kappa)"
   ]
  },
  {
   "cell_type": "markdown",
   "metadata": {},
   "source": [
    "La curvatura en funció del paràmetre $t$ és\n",
    "$$\n",
    "   \\mathbf{\\kappa}(t) = \\frac{ab}{\\left(b^2\\cos^2 t+a^2\\sin^2 t \\right)^\\frac{3}{2}}\n",
    "$$"
   ]
  },
  {
   "cell_type": "markdown",
   "metadata": {},
   "source": [
    "Si volem expressar la curvatura en termes de les coordenades $x$ i $y$, hem de multiplicar i dividir per $a^3b^3$:\n",
    "$$\n",
    "   \\mathbf{\\kappa}(t) = \\frac{a^4b^2}{\\left(a^2b^2\\big(b^2\\cos^2 t+a^2\\sin^2 t\\big) \\right)^\\frac{3}{2}} =\n",
    "    \\frac{a^4b^2}{\\left(b^4a^2\\cos^2 t+a^4b^2\\sin^2 t \\right)^\\frac{3}{2}} \n",
    "$$"
   ]
  },
  {
   "cell_type": "markdown",
   "metadata": {},
   "source": [
    "i, en substituir $a\\cos t$ per $x$ i $b\\sin t$ per $y$, ens queda\n",
    "$$\n",
    "   \\mathbf{\\kappa}(x,y) = \\frac{a^4b^2}{\\left(b^4x^2+a^4y^2\\right)^\\frac{3}{2}} \n",
    "$$"
   ]
  },
  {
   "cell_type": "markdown",
   "metadata": {},
   "source": [
    "## Exercici 33"
   ]
  },
  {
   "cell_type": "markdown",
   "metadata": {},
   "source": [
    "La curvatura d'una corba pla expressada en coordenades cartesianes $y=f(x)$ ve donada per\n",
    "$$\n",
    " \\mathbf{\\kappa}(x) = \\left| \\frac{y''(x)}{\\big(1+y'(x)^2\\big)^\\frac{3}{2}} \\right|\\,.\n",
    "$$"
   ]
  },
  {
   "cell_type": "markdown",
   "metadata": {},
   "source": [
    "Per a la corba $y=e^x$, tenim que"
   ]
  },
  {
   "cell_type": "code",
   "execution_count": null,
   "metadata": {},
   "outputs": [],
   "source": [
    "x = var('x')\n",
    "y = e^(2*x)\n",
    "y1 = y.diff(x)\n",
    "y2 = y.diff(x,2)"
   ]
  },
  {
   "cell_type": "code",
   "execution_count": null,
   "metadata": {},
   "outputs": [],
   "source": [
    "expr = y2/((1+y1^2)^(3/2))\n",
    "show(expr)"
   ]
  },
  {
   "cell_type": "markdown",
   "metadata": {},
   "source": [
    "Tenint en compte que tant el numerador com el denominador són positius, tindrem que\n",
    "$$\n",
    "  \\mathbf{\\kappa}(x)=\\frac{4e^{2x}}{\\big( 1+4e^{4x}\\big)^\\frac{3}{2}}\n",
    "$$"
   ]
  },
  {
   "cell_type": "markdown",
   "metadata": {},
   "source": [
    "Per trobar el punt en que la curvatura és màxima, hem d'igualar a zero la seva derivada"
   ]
  },
  {
   "cell_type": "code",
   "execution_count": null,
   "metadata": {},
   "outputs": [],
   "source": [
    "k1 = expr.diff(x).simplify_full()\n",
    "show(k1)"
   ]
  },
  {
   "cell_type": "markdown",
   "metadata": {},
   "source": [
    "Com que denominador és sempre positiu i el factor $\\sqrt{4e^{4x}+1}$ també, les solucions de $\\mathbf{\\kappa}'(x)=0$ són les mateixes que les de l'equació\n",
    "$$\n",
    "  8e^{6x}-e^{2x}=0\n",
    "$$"
   ]
  },
  {
   "cell_type": "code",
   "execution_count": null,
   "metadata": {},
   "outputs": [],
   "source": [
    "show(solve(8*e^(6*x)-e^(2*x) == 0,x))"
   ]
  },
  {
   "cell_type": "markdown",
   "metadata": {},
   "source": [
    "L'única solució real és\n",
    "$$\n",
    "  x = -\\frac{3\\log(2)}{4}\\,.\n",
    "$$"
   ]
  },
  {
   "cell_type": "markdown",
   "metadata": {},
   "source": [
    "Per saber si es tracta d'un maxim o un mínim, substituim a la segona derivada:"
   ]
  },
  {
   "cell_type": "code",
   "execution_count": null,
   "metadata": {},
   "outputs": [],
   "source": [
    "k2 = expr.diff(x,2)\n",
    "show(simplificar_radicals(k2.subs(x = -3/4*log(2))))"
   ]
  },
  {
   "cell_type": "markdown",
   "metadata": {},
   "source": [
    "Com que és negatiu, el punt de la corba $y=e^{2x}$ en el que la curvatura és màxima és en el punt d'abscissa\n",
    "$$\n",
    "  x = -\\frac{3\\log(2)}{4}\\,.\n",
    "$$"
   ]
  },
  {
   "cell_type": "markdown",
   "metadata": {},
   "source": [
    "## Exercici 35"
   ]
  },
  {
   "cell_type": "markdown",
   "metadata": {},
   "source": [
    "Per calcular la curvatura, fem el mateix que a l'exercici 33"
   ]
  },
  {
   "cell_type": "code",
   "execution_count": null,
   "metadata": {},
   "outputs": [],
   "source": [
    "t = var('t')\n",
    "r = vector([cos(t),sin(t),sin(t)+cos(t)])\n",
    "show(r)"
   ]
  },
  {
   "cell_type": "code",
   "execution_count": null,
   "metadata": {
    "tags": []
   },
   "outputs": [],
   "source": [
    "r1 = r.diff(t)\n",
    "show(r1)"
   ]
  },
  {
   "cell_type": "code",
   "execution_count": null,
   "metadata": {},
   "outputs": [],
   "source": [
    "r2 = r.diff(t,2)\n",
    "show(r2)"
   ]
  },
  {
   "cell_type": "code",
   "execution_count": null,
   "metadata": {},
   "outputs": [],
   "source": [
    "n = r1.cross_product(r2).simplify_full()\n",
    "show(n)"
   ]
  },
  {
   "cell_type": "code",
   "execution_count": null,
   "metadata": {},
   "outputs": [],
   "source": [
    "A = sqrt(sum([n[i]^2 for i in range(3)]).simplify_full())\n",
    "show(A)"
   ]
  },
  {
   "cell_type": "code",
   "execution_count": null,
   "metadata": {},
   "outputs": [],
   "source": [
    "B = sqrt(sum([r1[i]^2 for i in range(3)]).simplify_full())^3\n",
    "show(B)"
   ]
  },
  {
   "cell_type": "code",
   "execution_count": null,
   "metadata": {},
   "outputs": [],
   "source": [
    "kappa = A/B\n",
    "show(kappa)"
   ]
  },
  {
   "cell_type": "markdown",
   "metadata": {},
   "source": [
    "La curvatura és \n",
    "$$\n",
    "  \\mathbf{\\kappa}(x) = \\frac{\\sqrt{3}}{\\big( 2 - 2\\sin(t)\\cos(t)\\big)^\\frac{3}{2}}=\\frac{\\sqrt{3}}{\\big( 2 - \\sin(2t) \\big)^\\frac{3}{2}} \\,.\n",
    "$$"
   ]
  },
  {
   "cell_type": "markdown",
   "metadata": {},
   "source": [
    "La torsió d'una corba en cada punt és\n",
    "$$\n",
    "  \\mathbf{\\tau}(x) = \\frac{\\det\\big(\\mathbf{r}'(t), \\mathbf{r}''(t), \\mathbf{r}'''(t) \\big)}{|| \\mathbf{r}'(t) \\times \\mathbf{r}''(t) ||^2}\\,.\n",
    "$$\n",
    "Aleshores,"
   ]
  },
  {
   "cell_type": "code",
   "execution_count": null,
   "metadata": {},
   "outputs": [],
   "source": [
    "r3 = r.diff(t,3)\n",
    "A = matrix([r1,r2,r3]).T.det().simplify_full()\n",
    "show(A)"
   ]
  },
  {
   "cell_type": "markdown",
   "metadata": {},
   "source": [
    "Com el numerador és zero, podem assegurar que $\\mathbf{\\tau}(x)=0$, és a dir, la corba està continguda en un pla."
   ]
  },
  {
   "cell_type": "code",
   "execution_count": null,
   "metadata": {},
   "outputs": [],
   "source": []
  }
 ],
 "metadata": {
  "kernelspec": {
   "display_name": "SageMath 9.4",
   "language": "sage",
   "name": "sagemath"
  },
  "language_info": {
   "codemirror_mode": {
    "name": "ipython",
    "version": 3
   },
   "file_extension": ".py",
   "mimetype": "text/x-python",
   "name": "python",
   "nbconvert_exporter": "python",
   "pygments_lexer": "ipython3",
   "version": "3.10.2"
  }
 },
 "nbformat": 4,
 "nbformat_minor": 4
}
