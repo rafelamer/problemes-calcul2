{
 "cells": [
  {
   "cell_type": "markdown",
   "metadata": {},
   "source": [
    "# Tema 3"
   ]
  },
  {
   "cell_type": "code",
   "execution_count": null,
   "metadata": {},
   "outputs": [],
   "source": [
    "%load_ext asymagic\n",
    "\n",
    "def simplificar_radicals(A):\n",
    "    \"\"\"\n",
    "    Simplifica les arrels quadrades en una matriu o en un vector\n",
    "    \"\"\"\n",
    "    try:\n",
    "        for i in range(A.nrows()):\n",
    "            for j in range(A.ncols()):\n",
    "                A[i,j] = A[i,j]._sympy_().simplify()._sage_()\n",
    "        return A\n",
    "    except:\n",
    "        pass\n",
    "    try:\n",
    "        for i in range(A.length()):\n",
    "            A[i] = A[i]._sympy_().simplify()._sage_()\n",
    "        return A\n",
    "    except:\n",
    "        pass\n",
    "    try:\n",
    "        return A._sympy_().simplify()._sage_()\n",
    "    except:\n",
    "        pass\n",
    "    if isinstance(A,list):\n",
    "        try:\n",
    "            return [simplificar_radicals(x) for x in A]\n",
    "        except:\n",
    "            pass\n",
    "    return None\n",
    "\n",
    "def normalize(v):\n",
    "    \"\"\"\n",
    "    Retorna el vector v dividit per la seva norma, és a dir, un vector unitari\n",
    "    amb la mateixa direcció i sentit que v\n",
    "    \"\"\"\n",
    "    return simplificar_radicals((v/v.norm()))\n",
    "\n",
    "def gradient(f,v):\n",
    "    \"\"\"\n",
    "    Retorna el gradient de la funció f resspecte a les variables v\n",
    "    \"\"\"\n",
    "    return vector([f.diff(u) for u in v])"
   ]
  },
  {
   "cell_type": "markdown",
   "metadata": {},
   "source": [
    "## Exercici 11"
   ]
  },
  {
   "cell_type": "code",
   "execution_count": null,
   "metadata": {},
   "outputs": [],
   "source": [
    "x, y, z = var('x y z')\n",
    "t = var('t')\n",
    "f = x^2-y^2+x*y*z^2-x*z\n",
    "show(f)"
   ]
  },
  {
   "cell_type": "code",
   "execution_count": null,
   "metadata": {},
   "outputs": [],
   "source": [
    "r = vector([1,2,3]) + t*normalize(vector([1,-1,0]))\n",
    "fd = f.subs(x=r[0],y=r[1],z=r[2]).expand()\n",
    "show(fd)"
   ]
  },
  {
   "cell_type": "markdown",
   "metadata": {},
   "source": [
    "La derivada direccional de $f$ en el punt $(1,2,3)$ seguint la direcció $(1,-1,0)$ és"
   ]
  },
  {
   "cell_type": "code",
   "execution_count": null,
   "metadata": {},
   "outputs": [],
   "source": [
    "show(fd.diff(t).subs(t=0))"
   ]
  },
  {
   "cell_type": "markdown",
   "metadata": {},
   "source": [
    "La derivada direccional màxima és la que s'obté seguint la direcció del gradient de $f$, que es representa $\\nabla f$."
   ]
  },
  {
   "cell_type": "code",
   "execution_count": null,
   "metadata": {},
   "outputs": [],
   "source": [
    "g = gradient(f,(x,y,z))\n",
    "show(g)"
   ]
  },
  {
   "cell_type": "markdown",
   "metadata": {},
   "source": [
    "El gradient en el punt $(1,2,3)$ és"
   ]
  },
  {
   "cell_type": "code",
   "execution_count": null,
   "metadata": {},
   "outputs": [],
   "source": [
    "g0 = g.subs(x=1,y=2,z=3)\n",
    "show(g0)"
   ]
  },
  {
   "cell_type": "markdown",
   "metadata": {},
   "source": [
    "La derivada direccional en el punt $(1,2,3)$ seguint la direcció $(17,5,11)$ és"
   ]
  },
  {
   "cell_type": "code",
   "execution_count": null,
   "metadata": {},
   "outputs": [],
   "source": [
    "r = vector([1,2,3]) + t*normalize(g0)\n",
    "fd = f.subs(x=r[0],y=r[1],z=r[2]).expand()\n",
    "show(fd.diff(t).subs(t=0))"
   ]
  },
  {
   "cell_type": "markdown",
   "metadata": {},
   "source": [
    "La derivada direccional màxima és $\\sqrt{435}$."
   ]
  },
  {
   "cell_type": "markdown",
   "metadata": {},
   "source": [
    "## Exercici 13"
   ]
  },
  {
   "cell_type": "markdown",
   "metadata": {},
   "source": [
    "Els pendents són les derivades parcials respecte a $x$ i respecte a $y$."
   ]
  },
  {
   "cell_type": "code",
   "execution_count": null,
   "metadata": {},
   "outputs": [],
   "source": [
    "x,y = var('x y')\n",
    "f = 25-x^2-2*y^2\n",
    "show(f)"
   ]
  },
  {
   "cell_type": "markdown",
   "metadata": {},
   "source": [
    "El pendent de la funció en la direccióp $OX$ és"
   ]
  },
  {
   "cell_type": "code",
   "execution_count": null,
   "metadata": {},
   "outputs": [],
   "source": [
    "show(f.diff(x).subs(x=1,y=2))"
   ]
  },
  {
   "cell_type": "markdown",
   "metadata": {},
   "source": [
    "El pendent de la funció en la direccióp $OY$ és"
   ]
  },
  {
   "cell_type": "code",
   "execution_count": null,
   "metadata": {},
   "outputs": [],
   "source": [
    "show(f.diff(y).subs(x=1,y=2))"
   ]
  },
  {
   "cell_type": "markdown",
   "metadata": {},
   "source": [
    "Per tant,\n",
    "$$\n",
    "  \\frac{\\partial f}{\\partial x}(1,2)=-2\n",
    "  \\qquad\\text{i}\\qquad\n",
    "  \\frac{\\partial f}{\\partial y}(1,2)=-8\n",
    "$$"
   ]
  },
  {
   "cell_type": "markdown",
   "metadata": {},
   "source": [
    "## Exerici 15"
   ]
  },
  {
   "cell_type": "markdown",
   "metadata": {},
   "source": [
    "Calculem en primer lloc el vector tangent a la corba en el punt $(1,2,-2)$, és a dir, per a $t=1$. "
   ]
  },
  {
   "cell_type": "code",
   "execution_count": null,
   "metadata": {},
   "outputs": [],
   "source": [
    "t = var('t')\n",
    "r = vector([t,2*t^2,-2*t^4])\n",
    "show(r)"
   ]
  },
  {
   "cell_type": "code",
   "execution_count": null,
   "metadata": {},
   "outputs": [],
   "source": [
    "r1 = r.diff(t)\n",
    "show(r1)"
   ]
  },
  {
   "cell_type": "code",
   "execution_count": null,
   "metadata": {},
   "outputs": [],
   "source": [
    "v = r1.subs(t=1)\n",
    "show(v)"
   ]
  },
  {
   "cell_type": "markdown",
   "metadata": {},
   "source": [
    "És a dir, hem de calcular la derivada direccional de $f$ en el punt $(1,2,-2)$ seguint la direcció del vector $(1,4,-8)$. Per això, trobem primer el gradient de $f$ en el punt $(1,2,-2)$."
   ]
  },
  {
   "cell_type": "code",
   "execution_count": null,
   "metadata": {},
   "outputs": [],
   "source": [
    "x, y, z = var('x y z')\n",
    "f = x/sqrt(x^2+y^2+z^2)\n",
    "show(f)"
   ]
  },
  {
   "cell_type": "code",
   "execution_count": null,
   "metadata": {},
   "outputs": [],
   "source": [
    "g = gradient(f,(x,y,z)).subs(x=1,y=2,z=-2)\n",
    "u = normalize(v)\n",
    "show(g*u)"
   ]
  },
  {
   "cell_type": "markdown",
   "metadata": {},
   "source": [
    "Per tant,\n",
    "$$\n",
    "  D_{\\vec v}f(1,2,-2)=-\\frac{16}{243}\\,.\n",
    "$$"
   ]
  },
  {
   "cell_type": "markdown",
   "metadata": {},
   "source": [
    "## Exercici 17"
   ]
  },
  {
   "cell_type": "markdown",
   "metadata": {},
   "source": [
    "La direcció i sentit serà $\\vec v=-\\nabla f(150,100)$. Calculem, doncs, el gradient de la funció $f$."
   ]
  },
  {
   "cell_type": "code",
   "execution_count": null,
   "metadata": {},
   "outputs": [],
   "source": [
    "x, y = var('x y')\n",
    "f = 1093 - 2*x^2/1000 - 5*y^2/1000\n",
    "show(f)"
   ]
  },
  {
   "cell_type": "code",
   "execution_count": null,
   "metadata": {},
   "outputs": [],
   "source": [
    "v = - gradient(f,(x,y)).subs(x=150,y=100)\n",
    "show(v)"
   ]
  },
  {
   "cell_type": "markdown",
   "metadata": {},
   "source": [
    "El ritme de descens serà la derivada direccional en la direcció del vector $\\vec v$:"
   ]
  },
  {
   "cell_type": "code",
   "execution_count": null,
   "metadata": {},
   "outputs": [],
   "source": [
    "p = gradient(f,(x,y)).subs(x=150,y=100) * normalize(v)\n",
    "show(p)"
   ]
  },
  {
   "cell_type": "markdown",
   "metadata": {},
   "source": [
    "## Exercici 19"
   ]
  },
  {
   "cell_type": "markdown",
   "metadata": {},
   "source": [
    "Les corbes de nivell seràn"
   ]
  },
  {
   "cell_type": "code",
   "execution_count": null,
   "metadata": {},
   "outputs": [],
   "source": [
    "x, y = var('x y')\n",
    "f = 1053 - 2*x^2/1000 - 5*y^2/1000\n",
    "contour_plot(f, (x,-300,300), (y,-200,200),fill=False,cmap='hsv',labels=True,contours=26,figsize=10)"
   ]
  },
  {
   "cell_type": "markdown",
   "metadata": {},
   "source": [
    "La direcció és la del gradient de $f$, és a dir, $\\nabla f(250,140)$."
   ]
  },
  {
   "cell_type": "code",
   "execution_count": null,
   "metadata": {},
   "outputs": [],
   "source": [
    "v = gradient(f,(x,y)).subs(x=250,y=140)\n",
    "show(v)"
   ]
  },
  {
   "cell_type": "markdown",
   "metadata": {},
   "source": [
    "El ritme d'ascensió serà la derivada direccional en la direcció del vector $\\vec v$:"
   ]
  },
  {
   "cell_type": "code",
   "execution_count": null,
   "metadata": {},
   "outputs": [],
   "source": [
    "p = v * normalize(v)\n",
    "show(p)"
   ]
  },
  {
   "cell_type": "markdown",
   "metadata": {},
   "source": [
    "Ara hem de calcular el vector tangent a la corba $\\mathbf{r}(x)=(x,-x^2+166x+21140)$:"
   ]
  },
  {
   "cell_type": "code",
   "execution_count": null,
   "metadata": {},
   "outputs": [],
   "source": [
    "r = vector([x,-x^2+166*x+21140])\n",
    "show(r)"
   ]
  },
  {
   "cell_type": "code",
   "execution_count": null,
   "metadata": {},
   "outputs": [],
   "source": [
    "r1 = r.diff(x)\n",
    "show(r1)"
   ]
  },
  {
   "cell_type": "code",
   "execution_count": null,
   "metadata": {},
   "outputs": [],
   "source": [
    "v = r1.subs(x=250)\n",
    "show(v)"
   ]
  },
  {
   "cell_type": "markdown",
   "metadata": {},
   "source": [
    "Ara hem de calcular la derivada direccional de $f$ en el punt $(250,140)$ seguint la direcció del vector $\\vec v$. "
   ]
  },
  {
   "cell_type": "code",
   "execution_count": null,
   "metadata": {},
   "outputs": [],
   "source": [
    "p = gradient(f,(x,y)).subs(x=250,y=140) * normalize(v)\n",
    "show(p)"
   ]
  },
  {
   "cell_type": "markdown",
   "metadata": {},
   "source": [
    "La parametrització de la trajectòria a l'espai seguida pel ciclista és"
   ]
  },
  {
   "cell_type": "code",
   "execution_count": null,
   "metadata": {},
   "outputs": [],
   "source": [
    "rt = r.subs(x=t)\n",
    "show(rt)"
   ]
  },
  {
   "cell_type": "code",
   "execution_count": null,
   "metadata": {},
   "outputs": [],
   "source": [
    "rt = vector([rt[0],rt[1],f.subs(x=rt[0],y=rt[1])]).simplify_full()\n",
    "show(rt)"
   ]
  },
  {
   "cell_type": "markdown",
   "metadata": {},
   "source": [
    "Calculem ara la curvatura d'aquesta trajectòria en el punt corresponent a $t=83$:"
   ]
  },
  {
   "cell_type": "code",
   "execution_count": null,
   "metadata": {},
   "outputs": [],
   "source": [
    "rt1 = rt.diff(t).subs(t=83)\n",
    "rt2 = rt.diff(t,2).subs(t=83)\n",
    "k = simplificar_radicals(rt1.cross_product(rt2).norm()/rt1.norm()^3)\n",
    "show(k.n(digits=6))"
   ]
  },
  {
   "cell_type": "code",
   "execution_count": null,
   "metadata": {},
   "outputs": [],
   "source": [
    "vmax = 32/(k^(1/3))\n",
    "show(vmax.n(digits=6))"
   ]
  },
  {
   "cell_type": "markdown",
   "metadata": {},
   "source": [
    "## Exercici 21"
   ]
  },
  {
   "cell_type": "code",
   "execution_count": null,
   "metadata": {},
   "outputs": [],
   "source": [
    "f = x/(x^2+y^2)\n",
    "show(f)"
   ]
  },
  {
   "cell_type": "code",
   "execution_count": null,
   "metadata": {},
   "outputs": [],
   "source": [
    "show(f.diff(x).simplify_full())"
   ]
  },
  {
   "cell_type": "code",
   "execution_count": null,
   "metadata": {},
   "outputs": [],
   "source": [
    "show(f.diff(y).simplify_full())"
   ]
  },
  {
   "cell_type": "code",
   "execution_count": null,
   "metadata": {},
   "outputs": [],
   "source": [
    "g = e^x*sin(x*y)\n",
    "show(g)"
   ]
  },
  {
   "cell_type": "code",
   "execution_count": null,
   "metadata": {},
   "outputs": [],
   "source": [
    "show(g.diff(x).simplify_full())"
   ]
  },
  {
   "cell_type": "code",
   "execution_count": null,
   "metadata": {},
   "outputs": [],
   "source": [
    "show(g.diff(y).simplify_full())"
   ]
  },
  {
   "cell_type": "markdown",
   "metadata": {},
   "source": [
    "Recordem del Càlcul I que si tenim una funció definida per\n",
    "$$\n",
    "  f(x)=\\int_{a}^x g(t)\\,dt \\,,\n",
    "$$\n",
    "aleshores\n",
    "$$\n",
    "  f'(x) = g(x)\n",
    "$$"
   ]
  },
  {
   "cell_type": "markdown",
   "metadata": {},
   "source": [
    "En el nostre cas, tenim que\n",
    "$$\n",
    "  f(x,y)=\\int_{x}^{y} \\sin(t^2)\\,dt = \\int_{0}^{y} \\sin(t^2)\\,dt - \\int_{0}^{x} \\sin(t^2)\\,dt\\,.\n",
    "$$\n",
    "Per tant,\n",
    "$$\n",
    "  \\frac{\\partial f}{\\partial x}(x,y)=-\\sin(x^2)\n",
    "  \\qquad\\text{i}\\qquad\n",
    "  \\frac{\\partial f}{\\partial y}(x,y)=\\sin(y^2)\n",
    "$$"
   ]
  },
  {
   "cell_type": "markdown",
   "metadata": {},
   "source": [
    "## Exercici 23"
   ]
  },
  {
   "cell_type": "markdown",
   "metadata": {},
   "source": [
    "Suposem que les derivades parcials de $f$ en el punt $(-1,3)$ son $a$ i $b$, respectivament. És a dir,\n",
    "$$\n",
    "  \\nabla f(-1,3)=(a,b)\\,.\n",
    "$$\n",
    "Aleshores s'ha de complir que\n",
    "$$\n",
    "  (a,b)\\cdot\\frac{1}{\\sqrt{2}}(1,1)=\\sqrt{2}\n",
    "  \\qquad\\text{i}\\qquad\n",
    "   (a,b)\\cdot\\frac{1}{5}(3,4)=1\n",
    "$$"
   ]
  },
  {
   "cell_type": "code",
   "execution_count": null,
   "metadata": {},
   "outputs": [],
   "source": [
    "a, b = var('a b')\n",
    "g = vector([a,b])\n",
    "u1 = normalize(vector([2,2]))\n",
    "u2 = normalize(vector([3,4]))"
   ]
  },
  {
   "cell_type": "code",
   "execution_count": null,
   "metadata": {},
   "outputs": [],
   "source": [
    "show(solve([g*u1 == sqrt(2),g*u2 == 1],[a,b]))"
   ]
  },
  {
   "cell_type": "code",
   "execution_count": null,
   "metadata": {},
   "outputs": [],
   "source": [
    "g = g.subs(a=3,b=-1)\n",
    "show(g)"
   ]
  },
  {
   "cell_type": "markdown",
   "metadata": {},
   "source": [
    "Aleshores, la derivada direccional de $f$ en el punt $(-1,3)$ seguint la direcció del vector $(-6,8)$ és"
   ]
  },
  {
   "cell_type": "code",
   "execution_count": null,
   "metadata": {},
   "outputs": [],
   "source": [
    "show(g * normalize(vector([-6,8])))"
   ]
  },
  {
   "cell_type": "markdown",
   "metadata": {},
   "source": [
    "Per tant, si $\\vec v=(-6,8)$, tindrem que\n",
    "$$\n",
    "  D_{\\vec v}f(-1,3)=-\\frac{13}{5}\\,.\n",
    "$$"
   ]
  },
  {
   "cell_type": "markdown",
   "metadata": {},
   "source": [
    "## Exercici 25"
   ]
  },
  {
   "cell_type": "markdown",
   "metadata": {},
   "source": [
    "El vector normal exterior a l'esfera d'equació $x^2+y^2+z^2=1$ en el punt $(x_0,y_0,z_0)$ és el vector $(x_0,y_0,z_0)$, que de fet ja és unitari. Com que el gradient de $f$ és\n",
    "$$\n",
    "  \\nabla f(x,y,z)=(1,1,1)\\,,\n",
    "$$\n",
    "tindrem que si $\\vec v$ és el vector unitari $(x_0,y_0,z_0)$,\n",
    "$$\n",
    "   D_{\\vec v}f(x_0,y_0,z_0)=(1,1,1)\\cdot(x_0,y_0,z_0)=x_0+y_0+z_0\\,.\n",
    "$$"
   ]
  },
  {
   "cell_type": "markdown",
   "metadata": {},
   "source": [
    "## Exercici 27"
   ]
  },
  {
   "cell_type": "code",
   "execution_count": null,
   "metadata": {},
   "outputs": [],
   "source": []
  }
 ],
 "metadata": {
  "kernelspec": {
   "display_name": "SageMath 9.4",
   "language": "sage",
   "name": "sagemath"
  },
  "language_info": {
   "codemirror_mode": {
    "name": "ipython",
    "version": 3
   },
   "file_extension": ".py",
   "mimetype": "text/x-python",
   "name": "python",
   "nbconvert_exporter": "python",
   "pygments_lexer": "ipython3",
   "version": "3.10.2"
  }
 },
 "nbformat": 4,
 "nbformat_minor": 4
}
