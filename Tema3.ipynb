{
 "cells": [
  {
   "cell_type": "markdown",
   "metadata": {},
   "source": [
    "# Tema 3"
   ]
  },
  {
   "cell_type": "code",
   "execution_count": null,
   "metadata": {},
   "outputs": [],
   "source": [
    "%load_ext asymagic\n",
    "\n",
    "def simplificar_radicals(A):\n",
    "    \"\"\"\n",
    "    Simplifica les arrels quadrades en una matriu o en un vector\n",
    "    \"\"\"\n",
    "    try:\n",
    "        for i in range(A.nrows()):\n",
    "            for j in range(A.ncols()):\n",
    "                A[i,j] = A[i,j]._sympy_().simplify()._sage_()\n",
    "        return A\n",
    "    except:\n",
    "        pass\n",
    "    try:\n",
    "        for i in range(A.length()):\n",
    "            A[i] = A[i]._sympy_().simplify()._sage_()\n",
    "        return A\n",
    "    except:\n",
    "        pass\n",
    "    try:\n",
    "        return A._sympy_().simplify()._sage_()\n",
    "    except:\n",
    "        pass\n",
    "    if isinstance(A,list):\n",
    "        try:\n",
    "            return [simplificar_radicals(x) for x in A]\n",
    "        except:\n",
    "            pass\n",
    "    return None\n",
    "\n",
    "def normalize(v):\n",
    "    \"\"\"\n",
    "    \n",
    "    Retorna el vector v dividit per la seva norma, és a dir, un vector unitari\n",
    "    amb la mateixa direcció i sentit que v\n",
    "    \"\"\"\n",
    "    return simplificar_radicals((v/v.norm()))\n",
    "\n",
    "def gradient(f,v):\n",
    "    \"\"\"\n",
    "    Retorna el gradient de la funció f resspecte a les variables v\n",
    "    \"\"\"\n",
    "    return vector([f.diff(u) for u in v])"
   ]
  },
  {
   "cell_type": "markdown",
   "metadata": {},
   "source": [
    "## Exercici 11"
   ]
  },
  {
   "cell_type": "code",
   "execution_count": null,
   "metadata": {},
   "outputs": [],
   "source": [
    "x, y, z = var('x y z')\n",
    "t = var('t')\n",
    "f = x^2-y^2+x*y*z^2-x*z\n",
    "show(f)"
   ]
  },
  {
   "cell_type": "code",
   "execution_count": null,
   "metadata": {},
   "outputs": [],
   "source": [
    "r = vector([1,2,3]) + t*normalize(vector([1,-1,0]))\n",
    "fd = f.subs(x=r[0],y=r[1],z=r[2]).expand()\n",
    "show(fd)"
   ]
  },
  {
   "cell_type": "markdown",
   "metadata": {},
   "source": [
    "La derivada direccional de $f$ en el punt $(1,2,3)$ seguint la direcció $(1,-1,0)$ és"
   ]
  },
  {
   "cell_type": "code",
   "execution_count": null,
   "metadata": {},
   "outputs": [],
   "source": [
    "show(fd.diff(t).subs(t=0))"
   ]
  },
  {
   "cell_type": "markdown",
   "metadata": {},
   "source": [
    "Una altra manera de calcular la derivada direccional de $f$ en el punt $(1,2,3)$ seguint la direcció $(1,-1,0)$ és\n",
    "$$\n",
    "  D_{\\vec u} f = \\nabla f\\cdot \\vec u\n",
    "$$\n",
    "on $\\vec u$ és un vector unitari."
   ]
  },
  {
   "cell_type": "code",
   "execution_count": null,
   "metadata": {},
   "outputs": [],
   "source": [
    "g = gradient(f,(x,y,z))\n",
    "show(g)"
   ]
  },
  {
   "cell_type": "code",
   "execution_count": null,
   "metadata": {},
   "outputs": [],
   "source": [
    "g0 = g.subs(x=1,y=2,z=3)\n",
    "show(g0*normalize(vector([1,-1,0])))"
   ]
  },
  {
   "cell_type": "markdown",
   "metadata": {},
   "source": [
    "La derivada direccional màxima és la que s'obté seguint la direcció del gradient de $f$, que es representa $\\nabla f$."
   ]
  },
  {
   "cell_type": "code",
   "execution_count": null,
   "metadata": {},
   "outputs": [],
   "source": [
    "g = gradient(f,(x,y,z))\n",
    "show(g)"
   ]
  },
  {
   "cell_type": "markdown",
   "metadata": {},
   "source": [
    "El gradient en el punt $(1,2,3)$ és"
   ]
  },
  {
   "cell_type": "code",
   "execution_count": null,
   "metadata": {},
   "outputs": [],
   "source": [
    "show(g0)"
   ]
  },
  {
   "cell_type": "markdown",
   "metadata": {},
   "source": [
    "La derivada direccional en el punt $(1,2,3)$ seguint la direcció $(17,5,11)$ és"
   ]
  },
  {
   "cell_type": "code",
   "execution_count": null,
   "metadata": {},
   "outputs": [],
   "source": [
    "show(g0*normalize(g0))"
   ]
  },
  {
   "cell_type": "markdown",
   "metadata": {},
   "source": [
    "La derivada direccional màxima és $\\sqrt{435}$."
   ]
  },
  {
   "cell_type": "markdown",
   "metadata": {},
   "source": [
    "## Exercici 13"
   ]
  },
  {
   "cell_type": "markdown",
   "metadata": {},
   "source": [
    "Els pendents són les derivades parcials respecte a $x$ i respecte a $y$."
   ]
  },
  {
   "cell_type": "code",
   "execution_count": null,
   "metadata": {},
   "outputs": [],
   "source": [
    "x,y = var('x y')\n",
    "f = 25-x^2-2*y^2\n",
    "show(f)"
   ]
  },
  {
   "cell_type": "markdown",
   "metadata": {},
   "source": [
    "El pendent de la funció en la direccióp $OX$ és"
   ]
  },
  {
   "cell_type": "code",
   "execution_count": null,
   "metadata": {},
   "outputs": [],
   "source": [
    "show(f.diff(x).subs(x=1,y=2))"
   ]
  },
  {
   "cell_type": "markdown",
   "metadata": {},
   "source": [
    "El pendent de la funció en la direccióp $OY$ és"
   ]
  },
  {
   "cell_type": "code",
   "execution_count": null,
   "metadata": {},
   "outputs": [],
   "source": [
    "show(f.diff(y).subs(x=1,y=2))"
   ]
  },
  {
   "cell_type": "markdown",
   "metadata": {},
   "source": [
    "Per tant,\n",
    "$$\n",
    "  \\frac{\\partial f}{\\partial x}(1,2)=-2\n",
    "  \\qquad\\text{i}\\qquad\n",
    "  \\frac{\\partial f}{\\partial y}(1,2)=-8\n",
    "$$"
   ]
  },
  {
   "cell_type": "markdown",
   "metadata": {},
   "source": [
    "## Exerici 15"
   ]
  },
  {
   "cell_type": "markdown",
   "metadata": {},
   "source": [
    "Calculem en primer lloc el vector tangent a la corba en el punt $(1,2,-2)$, és a dir, per a $t=1$. "
   ]
  },
  {
   "cell_type": "code",
   "execution_count": null,
   "metadata": {},
   "outputs": [],
   "source": [
    "t = var('t')\n",
    "r = vector([t,2*t^2,-2*t^4])\n",
    "show(r)"
   ]
  },
  {
   "cell_type": "code",
   "execution_count": null,
   "metadata": {},
   "outputs": [],
   "source": [
    "r1 = r.diff(t)\n",
    "show(r1)"
   ]
  },
  {
   "cell_type": "code",
   "execution_count": null,
   "metadata": {},
   "outputs": [],
   "source": [
    "v = r1.subs(t=1)\n",
    "show(v)"
   ]
  },
  {
   "cell_type": "markdown",
   "metadata": {},
   "source": [
    "És a dir, hem de calcular la derivada direccional de $f$ en el punt $(1,2,-2)$ seguint la direcció del vector $(1,4,-8)$. Per això, trobem primer el gradient de $f$ en el punt $(1,2,-2)$."
   ]
  },
  {
   "cell_type": "code",
   "execution_count": null,
   "metadata": {},
   "outputs": [],
   "source": [
    "x, y, z = var('x y z')\n",
    "f = x/sqrt(x^2+y^2+z^2)\n",
    "show(f)"
   ]
  },
  {
   "cell_type": "code",
   "execution_count": null,
   "metadata": {},
   "outputs": [],
   "source": [
    "g = gradient(f,(x,y,z)).subs(x=1,y=2,z=-2)\n",
    "u = normalize(v)\n",
    "show(g*u)"
   ]
  },
  {
   "cell_type": "markdown",
   "metadata": {},
   "source": [
    "Per tant,\n",
    "$$\n",
    "  D_{\\vec v}f(1,2,-2)=-\\frac{16}{243}\\,.\n",
    "$$"
   ]
  },
  {
   "cell_type": "markdown",
   "metadata": {},
   "source": [
    "## Exercici 17"
   ]
  },
  {
   "cell_type": "markdown",
   "metadata": {},
   "source": [
    "La direcció i sentit serà $\\vec v=-\\nabla f(150,100)$. Calculem, doncs, el gradient de la funció $f$."
   ]
  },
  {
   "cell_type": "code",
   "execution_count": null,
   "metadata": {},
   "outputs": [],
   "source": [
    "x, y = var('x y')\n",
    "f = 1093 - 2*x^2/1000 - 5*y^2/1000\n",
    "show(f)"
   ]
  },
  {
   "cell_type": "code",
   "execution_count": null,
   "metadata": {},
   "outputs": [],
   "source": [
    "v = - gradient(f,(x,y)).subs(x=150,y=100)\n",
    "show(v)"
   ]
  },
  {
   "cell_type": "markdown",
   "metadata": {},
   "source": [
    "El ritme de descens serà la derivada direccional en la direcció del vector $\\vec v$:"
   ]
  },
  {
   "cell_type": "code",
   "execution_count": null,
   "metadata": {},
   "outputs": [],
   "source": [
    "p = gradient(f,(x,y)).subs(x=150,y=100) * normalize(v)\n",
    "show(p)"
   ]
  },
  {
   "cell_type": "markdown",
   "metadata": {},
   "source": [
    "## Exercici 19"
   ]
  },
  {
   "cell_type": "markdown",
   "metadata": {},
   "source": [
    "Les corbes de nivell seràn"
   ]
  },
  {
   "cell_type": "code",
   "execution_count": null,
   "metadata": {},
   "outputs": [],
   "source": [
    "x, y = var('x y')\n",
    "f = 1053 - 2*x^2/1000 - 5*y^2/1000\n",
    "contour_plot(f, (x,-300,300), (y,-200,200),fill=False,cmap='hsv',labels=True,contours=26,figsize=10)"
   ]
  },
  {
   "cell_type": "markdown",
   "metadata": {},
   "source": [
    "La direcció és la del gradient de $f$, és a dir, $\\nabla f(250,140)$."
   ]
  },
  {
   "cell_type": "code",
   "execution_count": null,
   "metadata": {},
   "outputs": [],
   "source": [
    "v = gradient(f,(x,y)).subs(x=250,y=140)\n",
    "show(v)"
   ]
  },
  {
   "cell_type": "markdown",
   "metadata": {},
   "source": [
    "El ritme d'ascensió serà la derivada direccional en la direcció del vector $\\vec v$:"
   ]
  },
  {
   "cell_type": "code",
   "execution_count": null,
   "metadata": {},
   "outputs": [],
   "source": [
    "p = v * normalize(v)\n",
    "show(p)"
   ]
  },
  {
   "cell_type": "markdown",
   "metadata": {},
   "source": [
    "Ara hem de calcular el vector tangent a la corba $\\mathbf{r}(x)=(x,-x^2+166x+21140)$:"
   ]
  },
  {
   "cell_type": "code",
   "execution_count": null,
   "metadata": {},
   "outputs": [],
   "source": [
    "r = vector([x,-x^2+166*x+21140])\n",
    "show(r)"
   ]
  },
  {
   "cell_type": "code",
   "execution_count": null,
   "metadata": {},
   "outputs": [],
   "source": [
    "r1 = r.diff(x)\n",
    "show(r1)"
   ]
  },
  {
   "cell_type": "code",
   "execution_count": null,
   "metadata": {},
   "outputs": [],
   "source": [
    "v = r1.subs(x=250)\n",
    "show(v)"
   ]
  },
  {
   "cell_type": "markdown",
   "metadata": {},
   "source": [
    "Ara hem de calcular la derivada direccional de $f$ en el punt $(250,140)$ seguint la direcció del vector $\\vec v$. "
   ]
  },
  {
   "cell_type": "code",
   "execution_count": null,
   "metadata": {},
   "outputs": [],
   "source": [
    "p = gradient(f,(x,y)).subs(x=250,y=140) * normalize(v)\n",
    "show(p)"
   ]
  },
  {
   "cell_type": "markdown",
   "metadata": {},
   "source": [
    "Prenem la curvatura de la corba a l'espai"
   ]
  },
  {
   "cell_type": "markdown",
   "metadata": {},
   "source": [
    "La parametrització de la trajectòria a l'espai seguida pel ciclista és"
   ]
  },
  {
   "cell_type": "code",
   "execution_count": null,
   "metadata": {},
   "outputs": [],
   "source": [
    "t = var('t')\n",
    "rt = r.subs(x=t)\n",
    "show(rt)"
   ]
  },
  {
   "cell_type": "code",
   "execution_count": null,
   "metadata": {},
   "outputs": [],
   "source": [
    "rt = vector([rt[0],rt[1],f.subs(x=rt[0],y=rt[1])]).simplify_full()\n",
    "show(rt)"
   ]
  },
  {
   "cell_type": "markdown",
   "metadata": {},
   "source": [
    "Calculem ara la curvatura d'aquesta trajectòria en el punt corresponent a $t=83$:"
   ]
  },
  {
   "cell_type": "code",
   "execution_count": null,
   "metadata": {},
   "outputs": [],
   "source": [
    "rt1 = rt.diff(t).subs(t=83)\n",
    "rt2 = rt.diff(t,2).subs(t=83)\n",
    "k = simplificar_radicals(rt1.cross_product(rt2).norm()/rt1.norm()^3)\n",
    "show(k.n(digits=6))"
   ]
  },
  {
   "cell_type": "code",
   "execution_count": null,
   "metadata": {},
   "outputs": [],
   "source": [
    "vmax = 32/(k^(1/3))\n",
    "show(vmax.n(digits=6))"
   ]
  },
  {
   "cell_type": "markdown",
   "metadata": {},
   "source": [
    "Si agafem la curvatura de la corba en pla $XY$, tindrem que"
   ]
  },
  {
   "cell_type": "code",
   "execution_count": null,
   "metadata": {},
   "outputs": [],
   "source": [
    "t = var('t')\n",
    "rt = r.subs(x=t)\n",
    "show(rt)"
   ]
  },
  {
   "cell_type": "code",
   "execution_count": null,
   "metadata": {},
   "outputs": [],
   "source": [
    "rt = vector([rt[0],rt[1],0])\n",
    "show(rt)"
   ]
  },
  {
   "cell_type": "markdown",
   "metadata": {},
   "source": [
    "Calculem ara la curvatura d'aquesta trajectòria en el punt corresponent a $t=83$:"
   ]
  },
  {
   "cell_type": "code",
   "execution_count": null,
   "metadata": {},
   "outputs": [],
   "source": [
    "rt1 = rt.diff(t).subs(t=83)\n",
    "rt2 = rt.diff(t,2).subs(t=83)\n",
    "k = simplificar_radicals(rt1.cross_product(rt2).norm()/rt1.norm()^3)\n",
    "show(k.n(digits=6))"
   ]
  },
  {
   "cell_type": "code",
   "execution_count": null,
   "metadata": {},
   "outputs": [],
   "source": [
    "vmax = 32/(k^(1/3))\n",
    "show(vmax.n(digits=6))"
   ]
  },
  {
   "cell_type": "markdown",
   "metadata": {},
   "source": [
    "## Exercici 21"
   ]
  },
  {
   "cell_type": "code",
   "execution_count": null,
   "metadata": {},
   "outputs": [],
   "source": [
    "f = x/(x^2+y^2)\n",
    "show(f)"
   ]
  },
  {
   "cell_type": "code",
   "execution_count": null,
   "metadata": {},
   "outputs": [],
   "source": [
    "show(f.diff(x).simplify_full())"
   ]
  },
  {
   "cell_type": "code",
   "execution_count": null,
   "metadata": {},
   "outputs": [],
   "source": [
    "show(f.diff(y).simplify_full())"
   ]
  },
  {
   "cell_type": "code",
   "execution_count": null,
   "metadata": {},
   "outputs": [],
   "source": [
    "g = e^x*sin(x*y)\n",
    "show(g)"
   ]
  },
  {
   "cell_type": "code",
   "execution_count": null,
   "metadata": {},
   "outputs": [],
   "source": [
    "show(g.diff(x).simplify_full())"
   ]
  },
  {
   "cell_type": "code",
   "execution_count": null,
   "metadata": {},
   "outputs": [],
   "source": [
    "show(g.diff(y).simplify_full())"
   ]
  },
  {
   "cell_type": "markdown",
   "metadata": {},
   "source": [
    "Recordem del Càlcul I que si tenim una funció definida per\n",
    "$$\n",
    "  f(x)=\\int_{a}^x g(t)\\,dt \\,,\n",
    "$$\n",
    "aleshores\n",
    "$$\n",
    "  f'(x) = g(x)\n",
    "$$"
   ]
  },
  {
   "cell_type": "markdown",
   "metadata": {},
   "source": [
    "En el nostre cas, tenim que\n",
    "$$\n",
    "  f(x,y)=\\int_{x}^{y} \\sin(t^2)\\,dt = \\int_{0}^{y} \\sin(t^2)\\,dt - \\int_{0}^{x} \\sin(t^2)\\,dt\\,.\n",
    "$$\n",
    "Per tant,\n",
    "$$\n",
    "  \\frac{\\partial f}{\\partial x}(x,y)=-\\sin(x^2)\n",
    "  \\qquad\\text{i}\\qquad\n",
    "  \\frac{\\partial f}{\\partial y}(x,y)=\\sin(y^2)\n",
    "$$"
   ]
  },
  {
   "cell_type": "markdown",
   "metadata": {},
   "source": [
    "## Exercici 23"
   ]
  },
  {
   "cell_type": "markdown",
   "metadata": {},
   "source": [
    "Suposem que les derivades parcials de $f$ en el punt $(-1,3)$ son $a$ i $b$, respectivament. És a dir,\n",
    "$$\n",
    "  \\nabla f(-1,3)=(a,b)\\,.\n",
    "$$\n",
    "Aleshores s'ha de complir que\n",
    "$$\n",
    "  (a,b)\\cdot\\frac{1}{\\sqrt{2}}(1,1)=\\sqrt{2}\n",
    "  \\qquad\\text{i}\\qquad\n",
    "   (a,b)\\cdot\\frac{1}{5}(3,4)=1\n",
    "$$"
   ]
  },
  {
   "cell_type": "code",
   "execution_count": null,
   "metadata": {},
   "outputs": [],
   "source": [
    "a, b = var('a b')\n",
    "g = vector([a,b])\n",
    "u1 = normalize(vector([2,2]))\n",
    "u2 = normalize(vector([3,4]))"
   ]
  },
  {
   "cell_type": "code",
   "execution_count": null,
   "metadata": {},
   "outputs": [],
   "source": [
    "show(solve([g*u1 == sqrt(2),g*u2 == 1],[a,b]))"
   ]
  },
  {
   "cell_type": "code",
   "execution_count": null,
   "metadata": {},
   "outputs": [],
   "source": [
    "g = g.subs(a=3,b=-1)\n",
    "show(g)"
   ]
  },
  {
   "cell_type": "markdown",
   "metadata": {},
   "source": [
    "Aleshores, la derivada direccional de $f$ en el punt $(-1,3)$ seguint la direcció del vector $(-6,8)$ és"
   ]
  },
  {
   "cell_type": "code",
   "execution_count": null,
   "metadata": {},
   "outputs": [],
   "source": [
    "show(g * normalize(vector([-6,8])))"
   ]
  },
  {
   "cell_type": "markdown",
   "metadata": {},
   "source": [
    "Per tant, si $\\vec v=(-6,8)$, tindrem que\n",
    "$$\n",
    "  D_{\\vec v}f(-1,3)=-\\frac{13}{5}\\,.\n",
    "$$"
   ]
  },
  {
   "cell_type": "markdown",
   "metadata": {},
   "source": [
    "## Exercici 25"
   ]
  },
  {
   "cell_type": "markdown",
   "metadata": {},
   "source": [
    "El vector normal exterior a l'esfera d'equació $x^2+y^2+z^2=1$ en el punt $(x_0,y_0,z_0)$ és el vector $(x_0,y_0,z_0)$, que de fet ja és unitari. Com que el gradient de $f$ és\n",
    "$$\n",
    "  \\nabla f(x,y,z)=(1,1,1)\\,,\n",
    "$$\n",
    "tindrem que si $\\vec v$ és el vector unitari $(x_0,y_0,z_0)$,\n",
    "$$\n",
    "   D_{\\vec v}f(x_0,y_0,z_0)=(1,1,1)\\cdot(x_0,y_0,z_0)=x_0+y_0+z_0\\,.\n",
    "$$"
   ]
  },
  {
   "cell_type": "markdown",
   "metadata": {},
   "source": [
    "## Exercici 27"
   ]
  },
  {
   "cell_type": "markdown",
   "metadata": {},
   "source": [
    "La superfície $z=1-y^2$ és un cilindre parabòlic i les seves corbes de nivells són rectes de la forma\n",
    "$$\n",
    "   1-y^2=c \\qquad\\text{és a dir}\\qquad y = \\pm\\sqrt{1-c}\n",
    "$$\n",
    "per a $c<=1$."
   ]
  },
  {
   "cell_type": "code",
   "execution_count": null,
   "metadata": {},
   "outputs": [],
   "source": [
    "x, y = var('x y')\n",
    "f = 1 - y^2\n",
    "contour_plot(f, (x,-10,10), (y,-10,10),fill=False,cmap='hsv',labels=True,contours=16,figsize=8)"
   ]
  },
  {
   "cell_type": "markdown",
   "metadata": {},
   "source": [
    "Observem que cada punt de la superfície queda determinat per les seves coordenades $x$ i $y$. La temperatura en funció de $x$ i $y$ és"
   ]
  },
  {
   "cell_type": "code",
   "execution_count": null,
   "metadata": {},
   "outputs": [],
   "source": [
    "x, y, z = var('x y z')\n",
    "T = 13*(x^2+y^2)-(x^4+y^4)\n",
    "show(T)"
   ]
  },
  {
   "cell_type": "markdown",
   "metadata": {},
   "source": [
    "La direcció en la que la disminució de temperatura és màxim en cada punt és menys el gradient de $T$:"
   ]
  },
  {
   "cell_type": "code",
   "execution_count": null,
   "metadata": {},
   "outputs": [],
   "source": [
    "g = - gradient(T,(x,y,z))\n",
    "show(g)"
   ]
  },
  {
   "cell_type": "markdown",
   "metadata": {},
   "source": [
    "En el pla $XY$, la corba més senzilla que uneix els punts $(0,1)$ i $(0,2)$ és la recta que passa per $(0,1)$ i té vector director $(0,2)-(0,1)=(0,1)$, és a dir,\n",
    "$$\n",
    "  \\mathbf{r}(t)=(0,1)+t(0,1)=(0,1+t)\\qquad\\text{amb}\\qquad t\\in[0,1]\\,.\n",
    "$$\n",
    "Si ara imposem que la corba ha d'estar sobre el cilindre parabòlic, $z=1-y^2$, tindre que\n",
    "$$\n",
    "  \\mathbf{r}(t)=(0,1+t,1-(1+t)^2)=(0,1+t,-2t-t^2)\\qquad\\text{amb}\\qquad t\\in[0,1]\\,.\n",
    "$$"
   ]
  },
  {
   "cell_type": "markdown",
   "metadata": {},
   "source": [
    "## Exercici 29"
   ]
  },
  {
   "cell_type": "markdown",
   "metadata": {},
   "source": [
    "Observem que la funció $\\mathbf{F}$ té tres components, $\\mathbf{F}=(f_1,f_2,f_3)$ i que les podem escriure com a\n",
    "$$\n",
    "  \\begin{aligned}\n",
    "    f_1(x,y) &= e^{x+y} \\\\[0.3mm]\n",
    "    f_2(x,y) &= \\sin(x-y) \\\\[0.3mm]\n",
    "    f_3(x,y) &= \\begin{cases}\n",
    "                x^2\\sin\\frac{1}{x} & \\text{si $x\\neq 0$}   \\\\\n",
    "                0                  & \\text{si $x=0$}\n",
    "                \\end{cases}\n",
    "  \\end{aligned} \n",
    "$$"
   ]
  },
  {
   "cell_type": "markdown",
   "metadata": {},
   "source": [
    "És evident que les dues primeres són diferenciables a tot $\\mathbb{R}^2$. "
   ]
  },
  {
   "cell_type": "markdown",
   "metadata": {},
   "source": [
    "Pel que fa a la tercera, com que no depèn de $y$, podem assegurar que \n",
    "$$\n",
    "  \\frac{\\partial f_3}{\\partial y}(x,y)=0\n",
    "$$\n",
    "i que, si $x\\neq 0$, la seva derivada parcial respecte a $x$ és"
   ]
  },
  {
   "cell_type": "code",
   "execution_count": null,
   "metadata": {},
   "outputs": [],
   "source": [
    "x = var('x')\n",
    "f3 = x^2*sin(1/x)\n",
    "show(f3.diff(x).simplify_full())"
   ]
  },
  {
   "cell_type": "markdown",
   "metadata": {},
   "source": [
    "Finalment, la derivada parcial respecte a $x$ en els punts de la forma $(0,y)$ és\n",
    "$$\n",
    "  \\frac{\\partial f_3}{\\partial y}(0,y)=\\lim_{h\\to0}\\frac{f_3(0+h,y)-f_3(0,y)}{h} = \\lim_{h\\to0}\\frac{h^2\\sin\\frac{1}{h}}{h}\n",
    "       = \\lim_{h\\to0}h\\sin\\frac{1}{h}=0\n",
    "$$"
   ]
  },
  {
   "cell_type": "markdown",
   "metadata": {},
   "source": [
    "Per tant, la funció $\\mathbf{F}$ és diferenciable a tot $\\mathbb{R}^2$. "
   ]
  },
  {
   "cell_type": "markdown",
   "metadata": {},
   "source": [
    "## Exercici 31\n"
   ]
  },
  {
   "cell_type": "markdown",
   "metadata": {},
   "source": [
    "Recordem que si $h(x,y)=f(u,v)$, on $u$ i $v$ són funcions que depenen de $x$ i de $y$, aleshores les derivades parcials de $h$\n",
    "$$\n",
    "  \\begin{aligned}\n",
    "    \\frac{\\partial h}{\\partial x}(x,y) &= \\frac{\\partial f}{\\partial u}(u,v) \\frac{\\partial u}{\\partial x}(x,y) \n",
    "                                        + \\frac{\\partial f}{\\partial v}(u,v) \\frac{\\partial v}{\\partial x}(x,y)  \\\\[5mm]\n",
    "    \\frac{\\partial h}{\\partial y}(x,y) &= \\frac{\\partial f}{\\partial u}(u,v) \\frac{\\partial u}{\\partial y}(x,y) \n",
    "                                        + \\frac{\\partial f}{\\partial v}(u,v) \\frac{\\partial v}{\\partial y}(x,y)\n",
    "  \\end{aligned} \n",
    "$$"
   ]
  },
  {
   "cell_type": "markdown",
   "metadata": {},
   "source": [
    "En el nostre cas, tenim que $f(u,v)=u^2+uv+y^2$, on $u=x^2+y$ i $v=x+y$. Aleshores\n",
    "$$\n",
    "  \\frac{\\partial f}{\\partial u}=2u+v\\,,\\qquad\n",
    "  \\frac{\\partial f}{\\partial v}=u+2v\\,,\\qquad\n",
    "  \\frac{\\partial u}{\\partial x}=2x\\,,\\qquad\n",
    "  \\frac{\\partial u}{\\partial y}=1\\,,\\qquad\n",
    "  \\frac{\\partial v}{\\partial x}=1\\quad\\text{i}\\quad\n",
    "  \\frac{\\partial v}{\\partial y}=1\\,.\n",
    "$$"
   ]
  },
  {
   "cell_type": "markdown",
   "metadata": {},
   "source": [
    "Per tant,\n",
    "$$\n",
    "  \\begin{aligned}\n",
    "    \\frac{\\partial h}{\\partial x}(x,y) &= (2u+v)\\cdot2x+(u+2v)\\cdot1 = 2x\\Big(2(x^2+y)+x+y\\Big) + \\Big(x^2+y+2(x+y)\\Big) = 2x^3 + 3x^2 + 6xy + 2x + 3y\\\\[5mm]\n",
    "    \\frac{\\partial h}{\\partial y}(x,y) &= (2u+v)\\cdot1+(u+2v)\\cdot1 = \\Big(2(x^2+y)+x+y\\Big)+ \\Big(x^2+y+2(x+y)\\Big) = 3x^2 + 3x + 6y\n",
    "  \\end{aligned} \n",
    "$$"
   ]
  },
  {
   "cell_type": "code",
   "execution_count": null,
   "metadata": {},
   "outputs": [],
   "source": [
    "u, v = var ('u v')\n",
    "f = u^2 + u*v + v^2\n",
    "show(f)"
   ]
  },
  {
   "cell_type": "code",
   "execution_count": null,
   "metadata": {},
   "outputs": [],
   "source": [
    "fu = f.diff(u)\n",
    "show(fu)"
   ]
  },
  {
   "cell_type": "code",
   "execution_count": null,
   "metadata": {},
   "outputs": [],
   "source": [
    "fv = f.diff(v)\n",
    "show(fv)"
   ]
  },
  {
   "cell_type": "code",
   "execution_count": null,
   "metadata": {},
   "outputs": [],
   "source": [
    "x, y = var('x y')\n",
    "u = x^2 + y\n",
    "ux = u.diff(x)\n",
    "uy = u.diff(y)\n",
    "v = x + y\n",
    "vx = v.diff(x)\n",
    "vy = v.diff(y)"
   ]
  },
  {
   "cell_type": "markdown",
   "metadata": {},
   "source": [
    "Aleshores, la derivada parcial de $h$ respecte a $x$ és"
   ]
  },
  {
   "cell_type": "code",
   "execution_count": null,
   "metadata": {},
   "outputs": [],
   "source": [
    "hx = (fu*ux+fv*vx).subs(u=u,v=v).expand()\n",
    "show(hx)"
   ]
  },
  {
   "cell_type": "markdown",
   "metadata": {},
   "source": [
    "La derivada parcial de $h$ respecte a $y$ és"
   ]
  },
  {
   "cell_type": "code",
   "execution_count": null,
   "metadata": {},
   "outputs": [],
   "source": [
    "hy = (fu*uy+fv*vy).subs(u=u,v=v).expand()\n",
    "show(hy)"
   ]
  },
  {
   "cell_type": "markdown",
   "metadata": {},
   "source": [
    "## Exercici 33"
   ]
  },
  {
   "cell_type": "markdown",
   "metadata": {},
   "source": [
    "En general, tenim que si una funció vé donada per $z=h(u,v)$, aleshores\n",
    "$$\n",
    "  dz = \\frac{\\partial h}{\\partial u}\\,du + \\frac{\\partial h}{\\partial v}\\,dv\\,.\n",
    "$$\n",
    "Però, tenim que $z=f(x,y)$ i la $x$ i la $y$ depenen de $u$ i $v$, tindrem que\n",
    "$$\n",
    "  \\begin{aligned}\n",
    "   \\frac{\\partial f}{\\partial u} &= \\frac{\\partial f}{\\partial x}\\frac{\\partial x}{\\partial u} +  \\frac{\\partial f}{\\partial y}\\frac{\\partial y}{\\partial u}\\\\[5mm]\n",
    "   \\frac{\\partial f}{\\partial v} &= \\frac{\\partial f}{\\partial x}\\frac{\\partial x}{\\partial v} +  \\frac{\\partial f}{\\partial y}\\frac{\\partial y}{\\partial v}\\,.\n",
    "  \\end{aligned}\n",
    "$$"
   ]
  },
  {
   "cell_type": "markdown",
   "metadata": {},
   "source": [
    "Per tant, tindrem que\n",
    "$$\n",
    "  dz = \\Big(\\frac{\\partial f}{\\partial x}\\frac{\\partial x}{\\partial u} +  \\frac{\\partial f}{\\partial y}\\frac{\\partial y}{\\partial u}\\Big)\\,du + \n",
    "       \\Big(\\frac{\\partial f}{\\partial x}\\frac{\\partial x}{\\partial v} +  \\frac{\\partial f}{\\partial y}\\frac{\\partial y}{\\partial v}\\Big)\\,dv = \n",
    "       \\Big(v\\frac{\\partial f}{\\partial x} +  2u\\frac{\\partial f}{\\partial y}\\Big)\\,du + \n",
    "       \\Big(u\\frac{\\partial f}{\\partial x} +  2v\\frac{\\partial f}{\\partial y}\\Big)\\,dv\n",
    "$$"
   ]
  },
  {
   "cell_type": "markdown",
   "metadata": {},
   "source": [
    "## Exercici 35"
   ]
  },
  {
   "cell_type": "markdown",
   "metadata": {},
   "source": [
    "En aquest cas tenim una corba $\\mathbf{p}(t)=\\mathbf{F}(\\mathbf{r}(t))$, on $\\mathbf{r}(t)=(r_1(t),r_2(t))$ i $\\mathbf{F}=(f_1,f_2)$. Aleshores,\n",
    "$$\n",
    "   \\mathbf{p}(t)=(p_1(t),p_2(t))\\qquad\\text{on}\\qquad p_1(t) = f_1(\\mathbf{r}(t))\\quad\\text{i}\\quad p_2(t) = f_2(\\mathbf{r}(t))\n",
    "$$\n",
    "Per la regla de la cadena, tenim que\n",
    "$$\n",
    "  \\begin{aligned}\n",
    "   p_1'(t) &= \\frac{f_1}{\\partial x}(\\mathbf{r}(t))r_1'(t) + \\frac{\\partial f_1}{\\partial y}(\\mathbf{r}(t))r_2'(t) \\\\[2mm]\n",
    "   p_2'(t) &= \\frac{f_2}{\\partial x}(\\mathbf{r}(t))r_1'(t) + \\frac{\\partial f_2}{\\partial y}(\\mathbf{r}(t))r_2'(t)\n",
    "  \\end{aligned}\n",
    "$$"
   ]
  },
  {
   "cell_type": "markdown",
   "metadata": {},
   "source": [
    "Com que\n",
    "$$\n",
    "   \\frac{f_1}{\\partial x}=e^{x+y}\\,,\\qquad \\frac{f_1}{\\partial x}=e^{x+y}\\,,\\qquad\n",
    "   \\frac{f_2}{\\partial x}=e^{x-y}\\,,\\quad\\text{i}\\quad \\frac{f_2}{\\partial y}=-e^{x-y}\\,,\n",
    "$$"
   ]
  },
  {
   "cell_type": "markdown",
   "metadata": {},
   "source": [
    "i avaluades en el punt $(0,0)$ donen 1, les tres primeres i $-1$ la quarta,  resulta que\n",
    "$$\n",
    "   p_1'(0) = r_1'(0)+r_2'(0)=2\\qquad\\text{i}\\qquad  p_2'(0) = r_1'(0)-r_2'(0)=0\\,.\n",
    "$$\n",
    "Així doncs, el vector tangent a la corba $\\mathbf{p}(t)$ en el punt $t=0$ és $\\mathbf{p}'(0)=(2,0)$."
   ]
  },
  {
   "cell_type": "markdown",
   "metadata": {},
   "source": [
    "## Exercici 37"
   ]
  },
  {
   "cell_type": "markdown",
   "metadata": {},
   "source": [
    "Per la regla de la cadena, tenim que\n",
    "$$\n",
    "  \\begin{aligned}\n",
    "   \\frac{\\partial w}{\\partial x} &= \\frac{\\partial f}{\\partial u}\\frac{\\partial u}{\\partial x} +  \\frac{\\partial f}{\\partial v}\\frac{\\partial v}{\\partial x}\n",
    "               = 2x\\frac{\\partial f}{\\partial u} +  2z\\frac{\\partial f}{\\partial v}  \\\\[2mm]\n",
    "    \\frac{\\partial w}{\\partial y} &= \\frac{\\partial f}{\\partial u}\\frac{\\partial u}{\\partial y} +  \\frac{\\partial f}{\\partial v}\\frac{\\partial v}{\\partial y}\n",
    "               = 2z\\frac{\\partial f}{\\partial u} +  2y\\frac{\\partial f}{\\partial v}  \\\\[2mm]\n",
    "     \\frac{\\partial w}{\\partial z} &= \\frac{\\partial f}{\\partial u}\\frac{\\partial u}{\\partial z} +  \\frac{\\partial f}{\\partial v}\\frac{\\partial v}{\\partial z}\n",
    "               = 2y\\frac{\\partial f}{\\partial u} +  2x\\frac{\\partial f}{\\partial v}          \n",
    "  \\end{aligned}\n",
    "$$"
   ]
  },
  {
   "cell_type": "markdown",
   "metadata": {},
   "source": [
    "Si representem per _fu_ i _fv_ les derivades parcials de $f$ respecte a $u$ i a $v$, respectivament, tindrem que"
   ]
  },
  {
   "cell_type": "code",
   "execution_count": null,
   "metadata": {},
   "outputs": [],
   "source": [
    "fu, fv = var('fu fv')\n",
    "x, y, z = var('x y z')\n",
    "wx = 2*x*fu + 2*z*fv\n",
    "wy = 2*z*fu + 2*y*fv\n",
    "wz = 2*y*fu + 2*x*fv"
   ]
  },
  {
   "cell_type": "markdown",
   "metadata": {},
   "source": [
    "Aleshores,"
   ]
  },
  {
   "cell_type": "code",
   "execution_count": null,
   "metadata": {},
   "outputs": [],
   "source": [
    "exp = (y^2-x*z)*wx + (x^2-y*z)*wy + (z^2-x*y)*wz\n",
    "show(exp.expand())"
   ]
  },
  {
   "cell_type": "markdown",
   "metadata": {},
   "source": [
    "## Exercici 39"
   ]
  },
  {
   "cell_type": "markdown",
   "metadata": {},
   "source": [
    "Com en casos anteriors, tindrem que\n",
    "$$\n",
    "  \\begin{aligned}\n",
    "   \\frac{\\partial z}{\\partial u} &= \\frac{\\partial z}{\\partial x}\\frac{\\partial x}{\\partial u} +  \\frac{\\partial z}{\\partial y}\\frac{\\partial y}{\\partial u}\n",
    "               =  \\frac{\\partial z}{\\partial x}\\cosh v +  \\frac{\\partial z}{\\partial y}\\sinh v \\\\[2mm]\n",
    "   \\frac{\\partial z}{\\partial v} &= \\frac{\\partial z}{\\partial x}\\frac{\\partial x}{\\partial v} +  \\frac{\\partial z}{\\partial y}\\frac{\\partial y}{\\partial v}\n",
    "               =  \\frac{\\partial z}{\\partial x} u\\sinh v+  \\frac{\\partial z}{\\partial y}u\\cosh v      \n",
    "  \\end{aligned}\n",
    "$$"
   ]
  },
  {
   "cell_type": "markdown",
   "metadata": {},
   "source": [
    "D'aquestes equacions, podem aïllar $\\frac{\\partial z}{\\partial x}$ i $\\frac{\\partial z}{\\partial y}$. De fet, és un sistema d'equacions lineals amb dues incògnites:"
   ]
  },
  {
   "cell_type": "code",
   "execution_count": null,
   "metadata": {},
   "outputs": [],
   "source": [
    "u, v, zx, zy, zu, zv = var('u v zx zy zu zv')\n",
    "eq1 = zu == zx*cosh(v) + zy*sinh(v)\n",
    "eq2 = zv == zx*u*sinh(v) + zy*u*cosh(v)\n",
    "sol = solve([eq1,eq2],[zx,zy])\n",
    "show(sol)"
   ]
  },
  {
   "cell_type": "code",
   "execution_count": null,
   "metadata": {},
   "outputs": [],
   "source": [
    "zx = sol[0][0].rhs().trig_reduce()\n",
    "show(zx)"
   ]
  },
  {
   "cell_type": "code",
   "execution_count": null,
   "metadata": {},
   "outputs": [],
   "source": [
    "zy = sol[0][1].rhs().trig_reduce()\n",
    "show(zy)"
   ]
  },
  {
   "cell_type": "code",
   "execution_count": null,
   "metadata": {},
   "outputs": [],
   "source": [
    "eq = zx^2 - zy^2 == 0\n",
    "show(eq.trig_simplify())"
   ]
  },
  {
   "cell_type": "markdown",
   "metadata": {},
   "source": [
    "Si passem la $u^2$ del denominador a l'altra costant, ens queda l'equació\n",
    "$$\n",
    "  \\left(u\\frac{\\partial z}{\\partial u}\\right)^2 - \\left(\\frac{\\partial z}{\\partial v}\\right)^2 = 0\\,.\n",
    "$$"
   ]
  },
  {
   "cell_type": "markdown",
   "metadata": {},
   "source": [
    "## Exercici 41"
   ]
  },
  {
   "cell_type": "markdown",
   "metadata": {},
   "source": [
    "Recordem que si una superfície a l'espai està definida per l'equació $F(x,y,z)=0$ i $(x_0,y_0,z_0)$ és un punt de laq superfície, la recta que passa per aquest punt i té vector director $\\nabla F(x_0,y_0,z_0)$ és perpendicular a la superfície."
   ]
  },
  {
   "cell_type": "code",
   "execution_count": null,
   "metadata": {},
   "outputs": [],
   "source": [
    "x, y, z = var('x y z')\n",
    "F = z-x*y\n",
    "g = gradient(F,(x,y,z))\n",
    "gp = g.subs(x=2,y=2,z=4)\n",
    "show(gp)"
   ]
  },
  {
   "cell_type": "markdown",
   "metadata": {},
   "source": [
    "(a) L'equació contínua és\n",
    "$$\n",
    "  \\frac{x-2}{2}=\\frac{y-2}{2}=\\frac{z-4}{-1}\n",
    "$$"
   ]
  },
  {
   "cell_type": "code",
   "execution_count": null,
   "metadata": {},
   "outputs": [],
   "source": [
    "x, y, z = var('x y z')\n",
    "F = 2*x*y/(x^2+y) - z\n",
    "g = gradient(F,(x,y,z))\n",
    "gp = g.subs(x=2,y=-2,z=-4)\n",
    "show(gp)"
   ]
  },
  {
   "cell_type": "markdown",
   "metadata": {},
   "source": [
    "(b) L'equació contínua és\n",
    "$$\n",
    "  \\frac{x-2}{6}=\\frac{y+2}{4}=\\frac{z+4}{-1}\n",
    "$$"
   ]
  },
  {
   "cell_type": "code",
   "execution_count": null,
   "metadata": {},
   "outputs": [],
   "source": [
    "x, y, z = var('x y z')\n",
    "F = sin(x) + 2*cos(y) - z\n",
    "g = gradient(F,(x,y,z))\n",
    "gp = g.subs(x=pi/2,y=0,z=3)\n",
    "show(gp)"
   ]
  },
  {
   "cell_type": "markdown",
   "metadata": {},
   "source": [
    "(c) Les equacions implícites de la recta són\n",
    "$$\n",
    "  \\left.\\begin{aligned}\n",
    "  x &= \\frac{\\pi}{2} \\\\\n",
    "  y &= 0\n",
    "  \\end{aligned}\\right\\}\n",
    "$$\n",
    "i l'equació contínua\n",
    "$$\n",
    "  \\frac{2x-\\pi}{0}=\\frac{y}{0}=z-3\n",
    "$$"
   ]
  },
  {
   "cell_type": "code",
   "execution_count": null,
   "metadata": {},
   "outputs": [],
   "source": [
    "x, y, z = var('x y z')\n",
    "F = x^2/9 + y^2/4 + z^2 - 3\n",
    "g = gradient(F,(x,y,z))\n",
    "gp = g.subs(x=3,y=2,z=1)\n",
    "show(gp)"
   ]
  },
  {
   "cell_type": "markdown",
   "metadata": {},
   "source": [
    "(b) L'equació contínua és\n",
    "$$\n",
    "  \\frac{x-3}{2}=\\frac{y-2}{3}=\\frac{z-1}{6}\n",
    "$$"
   ]
  },
  {
   "cell_type": "markdown",
   "metadata": {},
   "source": [
    "## Exercici 43"
   ]
  },
  {
   "cell_type": "markdown",
   "metadata": {},
   "source": [
    "Calculem en primer lloc la direcció normal al pla:"
   ]
  },
  {
   "cell_type": "code",
   "execution_count": null,
   "metadata": {},
   "outputs": [],
   "source": [
    "x, y, z = var('x y z')\n",
    "F = x^2 + y^2 - z^2 + 1\n",
    "g = gradient(F,(x,y,z))\n",
    "gp = g.subs(x=1,y=1,z=sqrt(3))\n",
    "show(gp)"
   ]
  },
  {
   "cell_type": "markdown",
   "metadata": {},
   "source": [
    "El vector director de la recta normal és $(1,1,-\\sqrt{3})$ i l'equació de la recta perpendicular a l'hiperboloide de dues fulles que passa pel punt $(1,1,\\sqrt{3})$ és\n",
    "$$\n",
    "  (x,y,z) = (1,1,\\sqrt{3}) + t((1,1,-\\sqrt{3})\n",
    "$$\n",
    "És evident que aquesta recta talla el pla $XY$ a l'instant $t=1$ i que el punt de tall és $(2,2,0)$. "
   ]
  },
  {
   "cell_type": "markdown",
   "metadata": {},
   "source": [
    "## Exercici 45"
   ]
  },
  {
   "cell_type": "markdown",
   "metadata": {},
   "source": [
    "El vector normal o associat al pla tangent a la superfície definida per $F(x,y,z)=0$ en cada punt és $\\nabla F$."
   ]
  },
  {
   "cell_type": "code",
   "execution_count": null,
   "metadata": {},
   "outputs": [],
   "source": [
    "x, y, z = var('x y z')\n",
    "F = x^2 + 2*y^2 + z^2 - 1\n",
    "g = gradient(F,(x,y,z))\n",
    "show(g)"
   ]
  },
  {
   "cell_type": "markdown",
   "metadata": {},
   "source": [
    "Si volem que un pla sigui paral·lel al d'equació $x-y+2z=0$, els seus vectors associats han de ser proporcionals, és a dir,\n",
    "$$\n",
    "  \\frac{2x}{1}=\\frac{4y}{-1}=\\frac{2z}{2}\\,.\n",
    "$$"
   ]
  },
  {
   "cell_type": "markdown",
   "metadata": {},
   "source": [
    "Aquestes equacions són equivalents al sistema\n",
    "$$\n",
    "  \\left.\\begin{aligned}\n",
    "  x + 2y &= 0 \\\\\n",
    "  4y + z &= 0\n",
    "  \\end{aligned}\\right\\}\n",
    "$$\n",
    "Finalment, hem de trobar un punt de l'el·lipsoide, és a dir, que compleixi l'equació $x^2 + 2y^2 + z^2 - 1=0$ que també compleixi les condicions de proporcionalitat del vector associat."
   ]
  },
  {
   "cell_type": "code",
   "execution_count": null,
   "metadata": {},
   "outputs": [],
   "source": [
    "sol = solve([F==0,x+2*y==0,4*y+z==0],[x,y,z])\n",
    "show(simplificar_radicals(sol))"
   ]
  },
  {
   "cell_type": "markdown",
   "metadata": {},
   "source": [
    "Hi ha dos punts de l'el·lipsoide en el quals el pla tangent a l'el·lipsoide és paral·lel al pla $x-y+2z=0$. Aquests dos punts són"
   ]
  },
  {
   "cell_type": "code",
   "execution_count": null,
   "metadata": {},
   "outputs": [],
   "source": [
    "p1 = vector(simplificar_radicals([u.rhs() for u in sol[0]]))\n",
    "show(p1)"
   ]
  },
  {
   "cell_type": "code",
   "execution_count": null,
   "metadata": {},
   "outputs": [],
   "source": [
    "p2 = vector(simplificar_radicals([u.rhs() for u in sol[1]]))\n",
    "show(p2)"
   ]
  },
  {
   "cell_type": "markdown",
   "metadata": {},
   "source": [
    "Els dos plans seran de la forma $x-y+2z=D$ i, per calcular la $D$, només cal que fem"
   ]
  },
  {
   "cell_type": "code",
   "execution_count": null,
   "metadata": {},
   "outputs": [],
   "source": [
    "u = vector([1,-1,2])\n",
    "show(simplificar_radicals(u*p1))           "
   ]
  },
  {
   "cell_type": "code",
   "execution_count": null,
   "metadata": {},
   "outputs": [],
   "source": [
    "show(simplificar_radicals(u*p2))"
   ]
  },
  {
   "cell_type": "markdown",
   "metadata": {},
   "source": [
    "Per tant, les equacions dels dos plans són\n",
    "$$\n",
    "  2x - 2y + 4z = \\pm\\sqrt{22}\n",
    "$$"
   ]
  },
  {
   "cell_type": "markdown",
   "metadata": {},
   "source": [
    "## Exercici 47"
   ]
  },
  {
   "cell_type": "markdown",
   "metadata": {},
   "source": [
    "Calculem en primer lloc el gradient"
   ]
  },
  {
   "cell_type": "code",
   "execution_count": null,
   "metadata": {},
   "outputs": [],
   "source": [
    "x, y, z = var('x y z')\n",
    "F = x^2 + 2*y^2 + 3*z^2 + 2*x*y + 2*x*z + 4*y*z - 8 \n",
    "g = gradient(F,(x,y,z))\n",
    "show(g)"
   ]
  },
  {
   "cell_type": "markdown",
   "metadata": {},
   "source": [
    "Si el pla tangent ha de ser paral·lel al pla $XY$, el seu vector associat ha de ser proporcional al vector $(0,0,1)$. Per tant, s'haurà de complir que\n",
    "$$\n",
    "  \\left.\\begin{aligned}\n",
    "  2x + 2y + 2z &= 0 \\\\\n",
    "  2x + 4y + 4z &= 0\n",
    "  \\end{aligned}\\right\\}\n",
    "$$\n",
    "Com a l'exercici anterior, hem de probar els punts de la quàdrica que, a més, compleixin aquestes últimes equacions"
   ]
  },
  {
   "cell_type": "code",
   "execution_count": null,
   "metadata": {},
   "outputs": [],
   "source": [
    "sol = solve([F==0,x+y+z==0,x+2*y+2*z==0],[x,y,z])\n",
    "show(sol)"
   ]
  },
  {
   "cell_type": "markdown",
   "metadata": {},
   "source": [
    "Hi ha dos punts que ho compleixen"
   ]
  },
  {
   "cell_type": "code",
   "execution_count": null,
   "metadata": {},
   "outputs": [],
   "source": [
    "p1 = vector([u.rhs() for u in sol[0]])\n",
    "show(p1)"
   ]
  },
  {
   "cell_type": "code",
   "execution_count": null,
   "metadata": {},
   "outputs": [],
   "source": [
    "p2 = vector([u.rhs() for u in sol[1]])\n",
    "show(p2)"
   ]
  },
  {
   "cell_type": "markdown",
   "metadata": {},
   "source": [
    "Els punts són $\\big(0,2\\sqrt{2},-2\\sqrt{2}\\big)$ i $\\big(0,-2\\sqrt{2},2\\sqrt{2}\\big)$"
   ]
  },
  {
   "cell_type": "markdown",
   "metadata": {},
   "source": [
    "## Exercici 49"
   ]
  },
  {
   "cell_type": "markdown",
   "metadata": {},
   "source": [
    "El pla tangent a l'el·lipsoide en el punt $(2,3,-2)$ té vector associat"
   ]
  },
  {
   "cell_type": "code",
   "execution_count": null,
   "metadata": {},
   "outputs": [],
   "source": [
    "x, y, z = var('x y z')\n",
    "F = x^2 + y^2 + 3*z^2 - 25\n",
    "g = gradient(F,(x,y,z))\n",
    "w = g.subs(x=2,y=3,z=-2)\n",
    "show(w)"
   ]
  },
  {
   "cell_type": "markdown",
   "metadata": {},
   "source": [
    "Així doncs, el pla tangent té equació $2x+3y-6z=D$, on la $D$ és"
   ]
  },
  {
   "cell_type": "code",
   "execution_count": null,
   "metadata": {},
   "outputs": [],
   "source": [
    "w = vector([2,3,-6])\n",
    "p = vector([2,3,-2])\n",
    "D = w*p\n",
    "show(D)"
   ]
  },
  {
   "cell_type": "markdown",
   "metadata": {},
   "source": [
    "L'equació del pla tangent és $2x+3y-6z=25$."
   ]
  },
  {
   "cell_type": "markdown",
   "metadata": {},
   "source": [
    "Calculem ara el vector tangent a la corba $\\mathbf{r}(t)$ en el punt $t=1$, ja que $\\mathbf{r}(1)=(2,3,-2)$."
   ]
  },
  {
   "cell_type": "code",
   "execution_count": null,
   "metadata": {},
   "outputs": [],
   "source": [
    "t = var('t')\n",
    "r = vector([2*t,3/t,-2*t^2])\n",
    "show(r)"
   ]
  },
  {
   "cell_type": "code",
   "execution_count": null,
   "metadata": {},
   "outputs": [],
   "source": [
    "r1 = r.diff(t).subs(t=1)\n",
    "show(r1)"
   ]
  },
  {
   "cell_type": "markdown",
   "metadata": {},
   "source": [
    "L'angle que formen el vector associat al pla tangent a l'el·lipsoide en el punt $(2,3,-2)$ i el vector tangent a la corba $\\mathbf{r}(t)$ en el punt $t=1$ és"
   ]
  },
  {
   "cell_type": "code",
   "execution_count": null,
   "metadata": {},
   "outputs": [],
   "source": [
    "alfa = 180*acos(r1*w/(r1.norm()*w.norm()))/pi\n",
    "show(alfa.n(digits=5))"
   ]
  },
  {
   "cell_type": "markdown",
   "metadata": {},
   "source": [
    "L'angle entre l'el·lipsoide i la corba és el complentari de l'anterior, és a dir,\n",
    "$$\n",
    "  \\alpha=30.267^\\circ\n",
    "$$"
   ]
  },
  {
   "cell_type": "markdown",
   "metadata": {},
   "source": [
    "## Exercici 51"
   ]
  },
  {
   "cell_type": "markdown",
   "metadata": {},
   "source": [
    "El gràfic de les dues corbes són una paràbola i una circumferència"
   ]
  },
  {
   "cell_type": "code",
   "execution_count": null,
   "metadata": {},
   "outputs": [],
   "source": [
    "%%asy --fmt svg\n",
    "import geometry;\n",
    "import coordenades;\n",
    "import graph;\n",
    "\n",
    "unitsize(1.5cm);\n",
    "\n",
    "Canonica(-4,4,-3,4);    \n",
    "draw(circle((0,1),1),blue+linewidth(1.2bp));\n",
    "draw(parabola((0.25,0),(0,0)),red+linewidth(1.2bp));"
   ]
  },
  {
   "cell_type": "markdown",
   "metadata": {},
   "source": [
    "Calculem en primer lloc els punts d'intersecció de les dues corbes:"
   ]
  },
  {
   "cell_type": "code",
   "execution_count": null,
   "metadata": {},
   "outputs": [],
   "source": [
    "x, y = var('x y')\n",
    "show(solve([x==y^2,x^2+(y-1)^2==1],[x,y]))"
   ]
  },
  {
   "cell_type": "markdown",
   "metadata": {},
   "source": [
    "Ja es veu que les úniques solucions reals són els punts $(0,0)$ i $(1,1)$. Anem a calcular els vectors tangents a lues corbes en aquests dos punts."
   ]
  },
  {
   "cell_type": "markdown",
   "metadata": {},
   "source": [
    "La primer corba es pot parametritzar per $\\mathbf{r}(t)=(t^2,t)$ i la segona, com que es tracta de la circumferència de centre $(0,1)$ i radi 1, $\\mathbf{s}(t)=(\\cos r,1+\\sin t)$."
   ]
  },
  {
   "cell_type": "code",
   "execution_count": null,
   "metadata": {},
   "outputs": [],
   "source": [
    "t = var('t')\n",
    "r = vector([t^2,t])\n",
    "s = vector([cos(t),1+sin(t)])"
   ]
  },
  {
   "cell_type": "markdown",
   "metadata": {},
   "source": [
    "Els vectors tangents a les dues corbes són"
   ]
  },
  {
   "cell_type": "code",
   "execution_count": null,
   "metadata": {},
   "outputs": [],
   "source": [
    "r1 = r.diff(t)\n",
    "s1 = s.diff(t)"
   ]
  },
  {
   "cell_type": "markdown",
   "metadata": {},
   "source": [
    "El punt $(0,0)$ es correspon amb $\\mathbf{r}(0)$ i amb $\\mathbf{s}\\big(\\frac{3\\pi}{2}\\big)$, per tant, els vectors tangents en el punt $(0,0)$ i l'angle d'intersecció en aquest punt són"
   ]
  },
  {
   "cell_type": "code",
   "execution_count": null,
   "metadata": {},
   "outputs": [],
   "source": [
    "u0 = r1.subs(t=0)\n",
    "v0 = s1.subs(t=3*pi/2)\n",
    "alfa = 180*acos(u0*v0/(u0.norm()*v0.norm()))/pi\n",
    "show(alfa.n(digits=4))"
   ]
  },
  {
   "cell_type": "markdown",
   "metadata": {},
   "source": [
    "El punt $(1,1)$ es correspon amb $\\mathbf{r}(0)$ i amb $\\mathbf{s}(1)$, per tant, els vectors tangents en el punt $(1,1)$ i l'angle d'intersecció en aquest punt són"
   ]
  },
  {
   "cell_type": "code",
   "execution_count": null,
   "metadata": {},
   "outputs": [],
   "source": [
    "u0 = r1.subs(t=0)\n",
    "v0 = s1.subs(t=1)\n",
    "beta = 180*acos(u0*v0/(u0.norm()*v0.norm()))/pi\n",
    "show(beta.n(digits=5))"
   ]
  },
  {
   "cell_type": "markdown",
   "metadata": {},
   "source": [
    "L'angle d'intersecció és de $90^\\circ$ en el punt $(0,0)$ i de $57.296^\\circ$ en el punt $(1,1)$."
   ]
  },
  {
   "cell_type": "markdown",
   "metadata": {},
   "source": [
    "## Exercici 53"
   ]
  },
  {
   "cell_type": "markdown",
   "metadata": {},
   "source": [
    "Els plans tangents a la superfície $xy-z=0$ són els que tenen vectors associats $\\nabla F(x,y,z)$, on $F(x,y,z)=xy-z$."
   ]
  },
  {
   "cell_type": "code",
   "execution_count": null,
   "metadata": {},
   "outputs": [],
   "source": [
    "x, y, z = var('x y z')\n",
    "F = x*y - z\n",
    "g = gradient(F,(x,y,z))\n",
    "show(g)"
   ]
  },
  {
   "cell_type": "markdown",
   "metadata": {},
   "source": [
    "Si el pla tangent ha de ser perpendicular a la recta\n",
    "$$\n",
    "  \\frac{x+2}{4}=\\frac{y+2}{2}=\\frac{z-1}{1}\\,,\n",
    "$$\n",
    "el seu vector associat ha de ser proporcional al vector $(4,2,1)$, és a dir, s'haurà de complir que\n",
    "$$\n",
    "  \\frac{y}{4}=\\frac{x}{2}=\\frac{-1}{1}\\,.\n",
    "$$\n",
    "Per tant, d'aquí resulta que $y=-4$ i $x=-2$ i, evidentment, $z=8$."
   ]
  },
  {
   "cell_type": "markdown",
   "metadata": {},
   "source": [
    "Així doncs, el vector associat al pla ha de ser $(4,2,1)$ i ha de passar pel punt $(-2,-4,8)$. La seva equació serà\n",
    "$$\n",
    "  4x+2y+z=D\\,,\n",
    "$$\n",
    "on"
   ]
  },
  {
   "cell_type": "code",
   "execution_count": null,
   "metadata": {},
   "outputs": [],
   "source": [
    "u = vector([4,2,1])\n",
    "p = vector([-2,-4,8])\n",
    "D = u * p\n",
    "show(D)"
   ]
  },
  {
   "cell_type": "markdown",
   "metadata": {},
   "source": [
    "L'equació del pla és $4x+2y+z+8=0$."
   ]
  },
  {
   "cell_type": "markdown",
   "metadata": {},
   "source": [
    "## Exercici 55"
   ]
  },
  {
   "cell_type": "markdown",
   "metadata": {
    "tags": []
   },
   "source": [
    "Calculem ara els vectors normals a les dues superfícies"
   ]
  },
  {
   "cell_type": "code",
   "execution_count": null,
   "metadata": {},
   "outputs": [],
   "source": [
    "x, y, z, a = var('x y z a')\n",
    "F = x^2 + y^2 + z^2 - a^2\n",
    "G = x^2 + y^2 -z^2"
   ]
  },
  {
   "cell_type": "code",
   "execution_count": null,
   "metadata": {},
   "outputs": [],
   "source": [
    "g1 = gradient(F,(x,y,z))\n",
    "show(g1)"
   ]
  },
  {
   "cell_type": "code",
   "execution_count": null,
   "metadata": {},
   "outputs": [],
   "source": [
    "g2 = gradient(G,(x,y,z))\n",
    "show(g2)"
   ]
  },
  {
   "cell_type": "markdown",
   "metadata": {},
   "source": [
    "Només cal veure que per als punts de la intersecció, és a dir, aquells que compleixen\n",
    "$$\n",
    "  \\left.\\begin{aligned}\n",
    "  x^2 + y^2 + z^2 &= a^2\\\\\n",
    "  x^2 + y^2 &= z^2\n",
    "  \\end{aligned}\\right\\}\\,,\n",
    "$$\n",
    "els dos vecrors gradients són perpendiculars."
   ]
  },
  {
   "cell_type": "code",
   "execution_count": null,
   "metadata": {},
   "outputs": [],
   "source": [
    "p = g1 * g2\n",
    "show(p)"
   ]
  },
  {
   "cell_type": "markdown",
   "metadata": {},
   "source": [
    "i això és zero ja que $z^2=x^2+y^2$."
   ]
  },
  {
   "cell_type": "markdown",
   "metadata": {},
   "source": [
    "Si substituim al sistema anterior, tindrem que\n",
    "$$\n",
    "  \\left.\\begin{aligned}\n",
    "  x^2 + y^2 &= \\frac{a^2}{2}\\\\\n",
    "  z^2 &= \\frac{a^2}{2}\n",
    "  \\end{aligned}\\right\\}\n",
    " \\qquad\\text{o bé}\\qquad\n",
    " \\left.\\begin{aligned}\n",
    "  x^2 + y^2 &= \\frac{a^2}{2}\\\\\n",
    "  z &= \\frac{a}{\\sqrt{2}}\n",
    "  \\end{aligned}\\right\\}\\,.\n",
    "$$"
   ]
  },
  {
   "cell_type": "markdown",
   "metadata": {},
   "source": [
    "Es tracta doncs la circumferència de centre $\\big(0,0,\\frac{a}{\\sqrt{2}}\\big)$ i radi $r=\\frac{a}{\\sqrt{2}}$ situada en el pla\n",
    "$z=\\frac{a}{\\sqrt{2}}$. Per tant, la podem parametritzar com a \n",
    "$$\n",
    "  \\left.\\begin{aligned}\n",
    "  x &= \\frac{a\\cos t}{\\sqrt{2}} \\\\\n",
    "  y &= \\frac{a\\sin t}{\\sqrt{2}} \\\\\n",
    "  z &= \\frac{a}{\\sqrt{2}}\n",
    "  \\end{aligned}\\right\\}\n",
    "$$"
   ]
  },
  {
   "cell_type": "markdown",
   "metadata": {},
   "source": [
    "## Exercici 57"
   ]
  },
  {
   "cell_type": "markdown",
   "metadata": {},
   "source": [
    "(a) Per calcular l'angle d'intersecció entre questes dues superfícies, hem de trobar l'angle entre els vectors normals en els punts d'intersecció. El vector normal al pla $x+2y+z=4$ sempre és $(1,2,1)$."
   ]
  },
  {
   "cell_type": "code",
   "execution_count": null,
   "metadata": {},
   "outputs": [],
   "source": [
    "x, y, z = var('x y z')\n",
    "F = x^2 - y^2 + z^2 - 1\n",
    "g1 = gradient(F,(x,y,z))\n",
    "show(g1)"
   ]
  },
  {
   "cell_type": "code",
   "execution_count": null,
   "metadata": {},
   "outputs": [],
   "source": [
    "g2 = vector([1,2,1])\n",
    "g = g1 * g2\n",
    "show(g)"
   ]
  },
  {
   "cell_type": "markdown",
   "metadata": {},
   "source": [
    "En el punt $P=(1,1,1)$ és evident que els vectors normals a les dues superfícies són perpendiculars, per tant, l'angle d'intersecció en aquest punt és $\\alpha=90^\\circ$. "
   ]
  },
  {
   "cell_type": "markdown",
   "metadata": {},
   "source": [
    "(b) En el punt $(1,1,1)$ el vector normal al pla és $(1,2,1)$, mentre que el vector normal a l'hiperboloide d'una fulla és $(1,-1,1)$. El vector tangent a la corba intersecció ha de ser perpendicular als dos anteriors, és a dir, ha de ser el seu producte vectorial:"
   ]
  },
  {
   "cell_type": "code",
   "execution_count": null,
   "metadata": {},
   "outputs": [],
   "source": [
    "g1 = g1.subs(x=1,y=1,z=1)\n",
    "show(g1.cross_product(g2))"
   ]
  },
  {
   "cell_type": "markdown",
   "metadata": {},
   "source": [
    "L'equació contínua de la recta tangent a la corba intersecció és\n",
    "$$\n",
    "  x-1=\\frac{y-1}{0}=z-1\\,.\n",
    "$$"
   ]
  },
  {
   "cell_type": "markdown",
   "metadata": {},
   "source": [
    "## Exercici 59"
   ]
  },
  {
   "cell_type": "markdown",
   "metadata": {},
   "source": [
    "(a) El pla tangent ha de passar pel punt $(x_0,y_0,z_0)$ i el seu vector associat és el gradient de la funció\n",
    "$$\n",
    "  F(x,y,z)=x^2+y^2-z^2-4\\,.\n",
    "$$"
   ]
  },
  {
   "cell_type": "code",
   "execution_count": null,
   "metadata": {},
   "outputs": [],
   "source": [
    "x, y, z = var('x y z')\n",
    "x0, y0, z0 = var('x0 y0 z0')\n",
    "F = x^2 + y^2 - z^2 - 4\n",
    "g = gradient(F,(x,y,z))\n",
    "show(g)"
   ]
  },
  {
   "cell_type": "code",
   "execution_count": null,
   "metadata": {},
   "outputs": [],
   "source": [
    "w = g.subs(x=x0,y=y0,z=z0)\n",
    "show(w)"
   ]
  },
  {
   "cell_type": "markdown",
   "metadata": {},
   "source": [
    "És evident que el pla que passa pel punt $(x_0,y_0,z_0)$ i té vector associat $(x_0,y_0,-z_0)$ té equació"
   ]
  },
  {
   "cell_type": "code",
   "execution_count": null,
   "metadata": {},
   "outputs": [],
   "source": [
    "X = vector([x,y,z])\n",
    "p = vector([x0,y0,z0])\n",
    "eq = w*X == w*p\n",
    "show(eq)"
   ]
  },
  {
   "cell_type": "markdown",
   "metadata": {},
   "source": [
    "és a dir, $x_0\\,x+y_0\\,y-z_0\\,z=x_0^2+y_0^2-z_0^2$ i, com que el punt $(x_0,y_0,z_0)$ compleix l'equació $x^2+y^2-z^2=4$, ens queda que\n",
    "$$\n",
    "   x_0\\,x+y_0\\,y-z_0\\,z=4\\,.\n",
    "$$"
   ]
  },
  {
   "cell_type": "markdown",
   "metadata": {},
   "source": [
    "(b) En el punt d'equilibri, el centre de la pilota estarà situat en el punt $(0,0,a)$ i l'equació de la corresponent esfera serà\n",
    "$$\n",
    "  x^2 + y^2 + (z-a)^2 = r^2\\,.\n",
    "$$\n",
    "A més, l'esfera i l'hiperboloide hauran de ser tangents. Per això anem a trobar els punts de l'esfera i l'hiperboloide en els que els vectors normals són proporcionals: "
   ]
  },
  {
   "cell_type": "code",
   "execution_count": null,
   "metadata": {},
   "outputs": [],
   "source": [
    "x, y, z = var('x y z')\n",
    "a, r = var('a r')\n",
    "F = x^2 + y^2 - z^2 - 4\n",
    "g0 = gradient(F,(x,y,z))\n",
    "show(g0)"
   ]
  },
  {
   "cell_type": "code",
   "execution_count": null,
   "metadata": {},
   "outputs": [],
   "source": [
    "G = x^2 + y^2 + (z-a)^2 - r^2\n",
    "g1 = gradient(G,(x,y,z))\n",
    "show(g1)"
   ]
  },
  {
   "cell_type": "markdown",
   "metadata": {},
   "source": [
    "Per tal que aquests dos vectors siguin proporcionals, s'ha de complir que\n",
    "$$\n",
    "  \\frac{-2z}{2z-2a}=1\\qquad\\text{és a dir}\\qquad \\frac{-z}{z-a}=1\\,,\n",
    "$$\n",
    "d'on obtenim que $-z=z-a$, és a dir,\n",
    "$$\n",
    "  z = \\frac{a}{2}\\,. \n",
    "$$\n",
    "Si substituim aquesta expressió a les equacions de l'hiperboloide i de l'esfera, tindrem que\n",
    "$$\n",
    "  \\left.\\begin{aligned}\n",
    "   x^2 + y^2 - \\frac{a^2}{4} &= 4 \\\\[2mm]\n",
    "   x^2 + y^2 + \\frac{a^2}{4} &= r^2\n",
    "  \\end{aligned}\\right\\}\n",
    "$$\n",
    "i, quan restem les dues igualtats, obtenim\n",
    "$$\n",
    "  \\frac{a^2}{2} = r^2 - 4\\qquad\\text{és a dir}\\qquad a = \\sqrt{2r^2-8}\\,.\n",
    "$$"
   ]
  },
  {
   "cell_type": "markdown",
   "metadata": {},
   "source": [
    "## Exercici 63"
   ]
  },
  {
   "cell_type": "markdown",
   "metadata": {},
   "source": [
    "Per comprovar si són harmòniques, calculem el laplacià en cada cas."
   ]
  },
  {
   "cell_type": "markdown",
   "metadata": {},
   "source": [
    "(a) És una funció harmònica, ja que"
   ]
  },
  {
   "cell_type": "code",
   "execution_count": null,
   "metadata": {},
   "outputs": [],
   "source": [
    "x, y, z = var('x y z')\n",
    "f1 = x^3 - 3*x*y^2\n",
    "L1 = f1.diff(x,2) + f1.diff(y,2)\n",
    "show(L1.simplify_full())"
   ]
  },
  {
   "cell_type": "markdown",
   "metadata": {},
   "source": [
    "(b) També és una funció harmònica, ja que"
   ]
  },
  {
   "cell_type": "code",
   "execution_count": null,
   "metadata": {},
   "outputs": [],
   "source": [
    "f2 = sin(x)*cosh(y)\n",
    "L2 = f2.diff(x,2) + f2.diff(y,2)\n",
    "show(L2.simplify_full())"
   ]
  },
  {
   "cell_type": "markdown",
   "metadata": {},
   "source": [
    "(c) No és una funció harmònica, ja que"
   ]
  },
  {
   "cell_type": "code",
   "execution_count": null,
   "metadata": {},
   "outputs": [],
   "source": [
    "k = var('k')\n",
    "f3 = k - x^2 - y^2\n",
    "L3 = f3.diff(x,2) + f3.diff(y,2)\n",
    "show(L3.simplify_full())"
   ]
  },
  {
   "cell_type": "markdown",
   "metadata": {},
   "source": [
    "(d) És una funció harmònica, ja que"
   ]
  },
  {
   "cell_type": "code",
   "execution_count": null,
   "metadata": {},
   "outputs": [],
   "source": [
    "f4 = e^(-y)*cos(x)\n",
    "L4 = f4.diff(x,2) + f4.diff(y,2)\n",
    "show(L4.simplify_full())"
   ]
  },
  {
   "cell_type": "markdown",
   "metadata": {},
   "source": [
    "(e) És una funció harmònica, ja que"
   ]
  },
  {
   "cell_type": "code",
   "execution_count": null,
   "metadata": {},
   "outputs": [],
   "source": [
    "f5 = 1/sqrt(x^2+y^2+z^2)\n",
    "L5 = f5.diff(x,2) + f5.diff(y,2) + f5.diff(z,2)\n",
    "show(L5.simplify_full())"
   ]
  },
  {
   "cell_type": "markdown",
   "metadata": {},
   "source": [
    "(f) No és una funció harmònica, ja que"
   ]
  },
  {
   "cell_type": "code",
   "execution_count": null,
   "metadata": {},
   "outputs": [],
   "source": [
    "f6 = 2*x^3 - y^2 + 10*z\n",
    "L6 = f6.diff(x,2) + f6.diff(y,2) + f6.diff(z,2)\n",
    "show(L6.simplify_full())"
   ]
  },
  {
   "cell_type": "markdown",
   "metadata": {},
   "source": [
    "(g) És una funció harmònica, ja que"
   ]
  },
  {
   "cell_type": "code",
   "execution_count": null,
   "metadata": {},
   "outputs": [],
   "source": [
    "f7 = 50 + y^2 - z^2\n",
    "L = f7.diff(x,2) + f7.diff(y,2) + f7.diff(z,2)\n",
    "show(L7.simplify_full())"
   ]
  },
  {
   "cell_type": "markdown",
   "metadata": {},
   "source": [
    "Resumint, totes les funcions són harmòniques excepte la (c) i la (f)."
   ]
  },
  {
   "cell_type": "markdown",
   "metadata": {},
   "source": [
    "## Exercici 65"
   ]
  },
  {
   "cell_type": "markdown",
   "metadata": {},
   "source": [
    "Hem de calcular $\\frac{\\partial f}{\\partial t}$ i $\\frac{\\partial^2 f}{\\partial x^2}$ i comprovar que es compleix\n",
    "$$\n",
    "  \\frac{\\partial f}{\\partial t} - k \\frac{\\partial^2 f}{\\partial x^2} = 0\\,.\n",
    "$$"
   ]
  },
  {
   "cell_type": "code",
   "execution_count": null,
   "metadata": {},
   "outputs": [],
   "source": [
    "x, t, k = var('x t k')\n",
    "f = 2 + e^(-k*t)*sin(x)\n",
    "L = f.diff(t) - k*f.diff(x,2)\n",
    "show(L.simplify_full())"
   ]
  },
  {
   "cell_type": "markdown",
   "metadata": {},
   "source": [
    "És evident que\n",
    "$$\n",
    "  \\lim_{t\\to\\infty} e^{-kt}=0\n",
    "$$\n",
    "ja que $k$ és positiu i $\\sin x$ és una funció acotada, Per tant,\n",
    "$$\n",
    "  \\lim_{t\\to\\infty} 2 + e^{-kt}\\sin x=0\n",
    "$$\n",
    "per a tot $x$. És a dir, la temperatura de la vareta tendeix a ser homogènia igual a 2 en tots els punts de la vareta."
   ]
  },
  {
   "cell_type": "markdown",
   "metadata": {},
   "source": [
    "## Exercici 67"
   ]
  },
  {
   "cell_type": "markdown",
   "metadata": {},
   "source": [
    "Recordem que el polinomi de Taylor de grau 2 d'una funció $f(x,y)$ en el punt $(a,b)$ és\n",
    "$$\n",
    "  p(x,y)=f(a,b) + \\nabla f(a,b)\\left(\\begin{array}{c} x-a \\\\ y-b \\end{array}\\right)\n",
    "        + \\frac{1}{2}\\left(\\begin{array}{cc} x-a & y-b \\end{array}\\right)\n",
    "        Hf(a,b)\n",
    "        \\left(\\begin{array}{c} x-a \\\\ y-b \\end{array}\\right)\n",
    "$$\n",
    "i, en aquest cas, és immediat que $f(0,0)=0$."
   ]
  },
  {
   "cell_type": "markdown",
   "metadata": {},
   "source": [
    "D'altra banda, tenim que\n",
    "$$\n",
    "  \\begin{aligned}\n",
    "    \\frac{\\partial f}{\\partial x} &= e^{-(x+y^2)^2} \\\\[2mm]\n",
    "    \\frac{\\partial f}{\\partial y} &= 2ye^{-(x+y^2)^2}\n",
    "  \\end{aligned}\n",
    "$$\n",
    "Aleshores, podem escriure"
   ]
  },
  {
   "cell_type": "code",
   "execution_count": null,
   "metadata": {},
   "outputs": [],
   "source": [
    "x, y = var('x y')\n",
    "fx = e^(-(x+y^2)^2)\n",
    "fy = 2*y*e^(-(x+y^2)^2)"
   ]
  },
  {
   "cell_type": "markdown",
   "metadata": {},
   "source": [
    "i el gradient en el punt $(0,0)$ és"
   ]
  },
  {
   "cell_type": "code",
   "execution_count": null,
   "metadata": {},
   "outputs": [],
   "source": [
    "g = vector([fx.subs(x=0,y=0),fy.subs(x=0,y=0)])\n",
    "show(g)"
   ]
  },
  {
   "cell_type": "markdown",
   "metadata": {},
   "source": [
    "Per calcular el hessià en el punt $(0,0)$, hem de fer les segones derivades en aquest punt:"
   ]
  },
  {
   "cell_type": "code",
   "execution_count": null,
   "metadata": {},
   "outputs": [],
   "source": [
    "fxx = fx.diff(x) \n",
    "fxy = fx.diff(y)\n",
    "fyy = fy.diff(y)\n",
    "H = matrix([[fxx,fxy],[fxy,fyy]]).subs(x=0,y=0)\n",
    "show(H)"
   ]
  },
  {
   "cell_type": "markdown",
   "metadata": {},
   "source": [
    "Per tant, el polinomi de Taylor de grau 2 és"
   ]
  },
  {
   "cell_type": "code",
   "execution_count": null,
   "metadata": {},
   "outputs": [],
   "source": [
    "X = vector([x,y])\n",
    "p = g*X + 1/2*X*H*X\n",
    "show(p)"
   ]
  },
  {
   "cell_type": "markdown",
   "metadata": {},
   "source": [
    "El polinomi de Taylor de grau 2 és $p(x,y)=y^2+x$."
   ]
  },
  {
   "cell_type": "markdown",
   "metadata": {},
   "source": [
    "## Exercici 69"
   ]
  },
  {
   "cell_type": "markdown",
   "metadata": {},
   "source": [
    "És evident que $f(x,y)$ és la composició d'una funció diferenciable a tot $\\mathbb{R}^2$ i una funció derivable a tot $\\mathbb{R}$. Si\n",
    "$$\n",
    "   h(x) = \\int_0^x \\frac{t}{1+t^6}\\,dt\n",
    "   \\qquad\\text{i}\\qquad\n",
    "   g(x,y)=\\lambda x+y\n",
    "$$\n",
    "aleshores, $f(x,y) = h(g(x,y))$. Observem que $h$ derivable pel teorema fonamental del Càlcul"
   ]
  },
  {
   "cell_type": "markdown",
   "metadata": {},
   "source": [
    "En aquest cas tenim que \n",
    "$$\n",
    "  \\begin{aligned}\n",
    "    \\frac{\\partial f}{\\partial x} &= h'(g(x,y))\\frac{\\partial g}{\\partial x}=\\frac{\\lambda(\\lambda x+y)}{1+(\\lambda x+y)^6}\\\\[2mm]\n",
    "    \\frac{\\partial f}{\\partial y} &= h'(g(x,y))\\frac{\\partial g}{\\partial y}=\\frac{\\lambda x+y}{1+(\\lambda x+y)^6}\n",
    "  \\end{aligned}\n",
    "$$"
   ]
  },
  {
   "cell_type": "code",
   "execution_count": null,
   "metadata": {},
   "outputs": [],
   "source": [
    "x, y = var('x y')\n",
    "l = var('l', latex_name='\\\\lambda')\n",
    "fx = (l*(l*x+y))/(1+(l*x+y)^6)\n",
    "show(fx)"
   ]
  },
  {
   "cell_type": "code",
   "execution_count": null,
   "metadata": {},
   "outputs": [],
   "source": [
    "fy = ((l*x+y))/(1+(l*x+y)^6)\n",
    "show(fy)"
   ]
  },
  {
   "cell_type": "code",
   "execution_count": null,
   "metadata": {},
   "outputs": [],
   "source": [
    "fxx = fx.diff(x)\n",
    "fxy = fx.diff(y)\n",
    "fyy = fy.diff(y)"
   ]
  },
  {
   "cell_type": "markdown",
   "metadata": {},
   "source": [
    "El gradient i el hessià en el punt $(0,0)$ són"
   ]
  },
  {
   "cell_type": "code",
   "execution_count": null,
   "metadata": {},
   "outputs": [],
   "source": [
    "g = vector([fx,fy]).subs(x=0,y=0)\n",
    "show(g)"
   ]
  },
  {
   "cell_type": "code",
   "execution_count": null,
   "metadata": {},
   "outputs": [],
   "source": [
    "H = matrix([[fxx,fxy],[fxy,fyy]]).subs(x=0,y=0)\n",
    "show(H)"
   ]
  },
  {
   "cell_type": "markdown",
   "metadata": {},
   "source": [
    "Aleshores, el polinomi de Taylor de grau 2 en el punt $(0,0)$ és"
   ]
  },
  {
   "cell_type": "code",
   "execution_count": null,
   "metadata": {},
   "outputs": [],
   "source": [
    "X = vector([x,y])\n",
    "p = (g*X + 1/2*X*H*X).expand()\n",
    "show(p)"
   ]
  },
  {
   "cell_type": "markdown",
   "metadata": {},
   "source": [
    "El valor d'aquest polinomi en el punt $(1,0)$ és"
   ]
  },
  {
   "cell_type": "code",
   "execution_count": null,
   "metadata": {},
   "outputs": [],
   "source": [
    "v = p.subs(x=1,y=0)\n",
    "show(v)"
   ]
  },
  {
   "cell_type": "markdown",
   "metadata": {},
   "source": [
    "Finalment hem de trobar els valors de $\\lambda$ per als qual aquest valor és 4:"
   ]
  },
  {
   "cell_type": "code",
   "execution_count": null,
   "metadata": {},
   "outputs": [],
   "source": [
    "show(solve(v == 4,l))"
   ]
  },
  {
   "cell_type": "markdown",
   "metadata": {},
   "source": [
    "Per tant, els valors són $\\lambda=\\pm2\\sqrt{2}$."
   ]
  },
  {
   "cell_type": "markdown",
   "metadata": {},
   "source": [
    "## Exercici 71"
   ]
  },
  {
   "cell_type": "markdown",
   "metadata": {},
   "source": [
    "(a) Hem de calcular els punts on s'anul·la el gradient de la funció i a partir de hessià en cada un d'aquests punts podrem determinar el tipus d'extrem relatiu."
   ]
  },
  {
   "cell_type": "code",
   "execution_count": null,
   "metadata": {},
   "outputs": [],
   "source": [
    "x, y = var('x y')\n",
    "f = 9*y^2 + 2*x^2*y + x^4 - 1\n",
    "g = gradient(f,(x,y))\n",
    "show(g)"
   ]
  },
  {
   "cell_type": "code",
   "execution_count": null,
   "metadata": {},
   "outputs": [],
   "source": [
    "show(solve([g[i] == 0 for i in range(2)],[x,y]))"
   ]
  },
  {
   "cell_type": "markdown",
   "metadata": {},
   "source": [
    "Hi ha un únic punt crític en el punt $(0,0)$. El hessià d'aquesta funció en el punt $(0,0)$ és"
   ]
  },
  {
   "cell_type": "code",
   "execution_count": null,
   "metadata": {},
   "outputs": [],
   "source": [
    "fxx = f.diff(x,2)\n",
    "fxy = f.diff(y).diff(x)\n",
    "fyy = f.diff(y,2)\n",
    "H = matrix([[fxx,fxy],[fxy,fyy]]).subs(x=0,y=0)\n",
    "show(H)"
   ]
  },
  {
   "cell_type": "markdown",
   "metadata": {},
   "source": [
    "En aquest cas, el criteri de hessià no ens permet decidir. Tenint en compte que\n",
    "$$\n",
    "  f(x,y) = 9y^2 + 2x^2y + x^4 - 1 = -1 + (x^2+y)^2 + 8y^2\\,,\n",
    "$$\n",
    "resulta que el punt $(0,0)$ és un mínim absolut."
   ]
  },
  {
   "cell_type": "markdown",
   "metadata": {},
   "source": [
    "(b) Repetim el mateix procediment:"
   ]
  },
  {
   "cell_type": "code",
   "execution_count": null,
   "metadata": {},
   "outputs": [],
   "source": [
    "x, y = var('x y')\n",
    "f = x^3 + y^3 - 9*x*y + 1 \n",
    "g = gradient(f,(x,y))\n",
    "show(g)"
   ]
  },
  {
   "cell_type": "code",
   "execution_count": null,
   "metadata": {},
   "outputs": [],
   "source": [
    "show(solve([g[i] == 0 for i in range(2)],[x,y]))"
   ]
  },
  {
   "cell_type": "markdown",
   "metadata": {},
   "source": [
    "Hi ha dos punts crítics, el $(0,0)$ i el $(3,3)$ ja que les altres dues solucions són complexes. Calculem el hessià en el punt $(0,0)$:"
   ]
  },
  {
   "cell_type": "code",
   "execution_count": null,
   "metadata": {},
   "outputs": [],
   "source": [
    "fxx = f.diff(x,2)\n",
    "fxy = f.diff(y).diff(x)\n",
    "fyy = f.diff(y,2)\n",
    "H = matrix([[fxx,fxy],[fxy,fyy]]).subs(x=0,y=0)\n",
    "show(H)"
   ]
  },
  {
   "cell_type": "markdown",
   "metadata": {},
   "source": [
    "El punt $(0,0)$ és un punt de sella."
   ]
  },
  {
   "cell_type": "markdown",
   "metadata": {},
   "source": [
    "Calculem el hessià en el punt $(3,3)$:"
   ]
  },
  {
   "cell_type": "code",
   "execution_count": null,
   "metadata": {},
   "outputs": [],
   "source": [
    "H = matrix([[fxx,fxy],[fxy,fyy]]).subs(x=3,y=3)\n",
    "show(H)"
   ]
  },
  {
   "cell_type": "code",
   "execution_count": null,
   "metadata": {},
   "outputs": [],
   "source": [
    "show(H.det())"
   ]
  },
  {
   "cell_type": "markdown",
   "metadata": {},
   "source": [
    "Com que el primer coeficient és positiu i el determinant també, es tracta d'un mínim relatiu."
   ]
  },
  {
   "cell_type": "markdown",
   "metadata": {},
   "source": [
    "(c) Tornem a repetir el procediment:"
   ]
  },
  {
   "cell_type": "code",
   "execution_count": null,
   "metadata": {},
   "outputs": [],
   "source": [
    "x, y = var('x y')\n",
    "f = 9*x^2 + 6*x*y + y^2 + 12*x + 4*y \n",
    "g = gradient(f,(x,y))\n",
    "show(g)"
   ]
  },
  {
   "cell_type": "code",
   "execution_count": null,
   "metadata": {},
   "outputs": [],
   "source": [
    "show(solve([g[i] == 0 for i in range(2)],[x,y]))"
   ]
  },
  {
   "cell_type": "markdown",
   "metadata": {},
   "source": [
    "Tots els punts de la recta $3x+y+2=0$ són punts crítics de la funció $f$. Les equacions paramètriques d'aquesta recta són\n",
    "$$\n",
    "  \\left.\\begin{aligned}\n",
    "   x &= -1 + t \\\\\n",
    "   y &= 1 - 3t\n",
    "  \\end{aligned}\\right\\}\n",
    "$$\n",
    "ja que passa pel punt $(-1,1)$ i té vector director $(1,-3)$. Ara calculem el hessià en cada punt de la recta."
   ]
  },
  {
   "cell_type": "code",
   "execution_count": null,
   "metadata": {},
   "outputs": [],
   "source": [
    "t = var('t')\n",
    "fxx = f.diff(x,2)\n",
    "fxy = f.diff(y).diff(x)\n",
    "fyy = f.diff(y,2)\n",
    "H = matrix([[fxx,fxy],[fxy,fyy]]).subs(x=-1+t,y=1-3*t)\n",
    "show(H)"
   ]
  },
  {
   "cell_type": "code",
   "execution_count": null,
   "metadata": {},
   "outputs": [],
   "source": [
    "show(H.det())"
   ]
  },
  {
   "cell_type": "markdown",
   "metadata": {},
   "source": [
    "En aquest cas, el criteri de hessià no ens permet decidir. Tenint en compte que\n",
    "$$\n",
    "  f(x,y) = (3x+y+2)^2\n",
    "$$\n",
    "resulta que tots els punts de la recta $3x+y+2=0$ són mínims absoluts."
   ]
  },
  {
   "cell_type": "markdown",
   "metadata": {},
   "source": [
    "## Exercici 73"
   ]
  },
  {
   "cell_type": "markdown",
   "metadata": {},
   "source": [
    "(a) Les rectes que passen per l'origen es poden parametritzar per\n",
    "$$\n",
    "  (x,y)=(0,0)+t(\\cos\\alpha,\\sin\\alpha)\\qquad\\text{amb}\\qquad t\\in\\mathbb{R}\\,,\\quad\\alpha\\in [0,2\\pi]\\,.\n",
    "$$"
   ]
  },
  {
   "cell_type": "markdown",
   "metadata": {},
   "source": [
    "La restricció de la funció $f$ a una d'aquestes rectes és"
   ]
  },
  {
   "cell_type": "code",
   "execution_count": null,
   "metadata": {},
   "outputs": [],
   "source": [
    "x, y = var('x y')\n",
    "t, alpha = var('t alpha')\n",
    "f = x^2 - 5*x*y^2 + 4*y^4\n",
    "show(f)"
   ]
  },
  {
   "cell_type": "code",
   "execution_count": null,
   "metadata": {},
   "outputs": [],
   "source": [
    "fr = f.subs(x=t*cos(alpha),y=t*sin(alpha)).expand()\n",
    "show(fr)"
   ]
  },
  {
   "cell_type": "markdown",
   "metadata": {},
   "source": [
    "Per veure si cada una d'aquests funcions té un mínim en el punt $t=0$, hem de calcular les seves derivades en aquest punt."
   ]
  },
  {
   "cell_type": "markdown",
   "metadata": {},
   "source": [
    "Primera derivada:"
   ]
  },
  {
   "cell_type": "code",
   "execution_count": null,
   "metadata": {
    "tags": []
   },
   "outputs": [],
   "source": [
    "show(fr.diff(t).subs(t=0))"
   ]
  },
  {
   "cell_type": "markdown",
   "metadata": {},
   "source": [
    "Segona derivada:"
   ]
  },
  {
   "cell_type": "code",
   "execution_count": null,
   "metadata": {
    "tags": []
   },
   "outputs": [],
   "source": [
    "show(fr.diff(t,2).subs(t=0))"
   ]
  },
  {
   "cell_type": "markdown",
   "metadata": {},
   "source": [
    "Aquesta segona derivada és positiva si $\\alpha\\neq\\frac{\\pi}{2}$ i $\\alpha\\neq\\frac{3\\pi}{2}$, és a dir, la funció $f$ sobre cada recta que passa per l'orígen, excepte la recta $x=0$, té un mínim (primera derivada nul·la i segon derivada positiva)."
   ]
  },
  {
   "cell_type": "markdown",
   "metadata": {},
   "source": [
    "La restricció de la funció $f$ a la recta $x=0$ és una funció que depen de la $y$:"
   ]
  },
  {
   "cell_type": "code",
   "execution_count": null,
   "metadata": {},
   "outputs": [],
   "source": [
    "fy = f.subs(x=0)\n",
    "show(fy)"
   ]
  },
  {
   "cell_type": "markdown",
   "metadata": {},
   "source": [
    "Aquesta funció també té un mínim en el punt $y=0$."
   ]
  },
  {
   "cell_type": "markdown",
   "metadata": {},
   "source": [
    "(b) Com que la funció $f$ és pot escriure com\n",
    "$$\n",
    "  f(x,y) = (x-y^2)(x-4y^2)\\,,\n",
    "$$\n",
    "ja veiem que s'anul·la sobre les paràboles $x-y^2=0$ i $x-4y^2=0$. A més serà positiva a la regió de color verd i negativa a la regió de color blau."
   ]
  },
  {
   "cell_type": "code",
   "execution_count": null,
   "metadata": {},
   "outputs": [],
   "source": [
    "%%asy --fmt svg\n",
    "import geometry;\n",
    "import coordenades;\n",
    "import graph;\n",
    "\n",
    "unitsize(1cm);\n",
    "\n",
    "pair F(real t) {\n",
    "    return (t^2,t);\n",
    "}\n",
    "pair G(real t) {\n",
    "    return (4*t^2,t);\n",
    "}\n",
    "\n",
    "Canonica(-5,10,-6,6);\n",
    "\n",
    "path c1 = graph(G, -sqrt(2.5),sqrt(2.5))--cycle;\n",
    "filldraw(c1, green+opacity(.2), linewidth(0));\n",
    "\n",
    "path c2 = graph(F, -sqrt(10),sqrt(10))--(10,6)--(-5,6)--(-5,-6)--(10,-6)--cycle;\n",
    "filldraw(c2, green+opacity(.15), linewidth(0));\n",
    "\n",
    "path c3 = graph(F, -sqrt(10),sqrt(10))--graph(G, sqrt(2.5),-sqrt(2.5))--cycle;\n",
    "filldraw(c3, blue+opacity(.2), linewidth(0));\n",
    "\n",
    "draw(graph(F, -sqrt(10),sqrt(10)),blue+linewidth(1.5bp));\n",
    "draw(graph(G, -sqrt(2.5),sqrt(2.5)),red+linewidth(1.5bp));"
   ]
  },
  {
   "cell_type": "markdown",
   "metadata": {},
   "source": [
    "(c) Com que hi ha punts tan pròxims a $(0,0)$ com vulguem en els que funció és positiva i punts tan pròxims a $(0,0)$ com vulguem en els que funció és negativa, $f$ no té un mínim en aquest punt."
   ]
  },
  {
   "cell_type": "markdown",
   "metadata": {},
   "source": [
    "## Exercici 75"
   ]
  },
  {
   "cell_type": "markdown",
   "metadata": {},
   "source": [
    "Faré servir com a paràmetres $a$ i $b$, és a dir,\n",
    "$$\n",
    "  f(x,y) = e^{ax+y^2} +b\\sin(x^2+y^2)\n",
    "$$"
   ]
  },
  {
   "cell_type": "code",
   "execution_count": null,
   "metadata": {},
   "outputs": [],
   "source": [
    "x, y = var('x y')\n",
    "a, b = var('a b')\n",
    "f = e^(a*x+y^2) + b*sin(x^2+y^2)\n",
    "show(f)"
   ]
  },
  {
   "cell_type": "markdown",
   "metadata": {},
   "source": [
    "El gradient de $f$ en el punt $(0,0)$ ha de ser nul:"
   ]
  },
  {
   "cell_type": "code",
   "execution_count": null,
   "metadata": {},
   "outputs": [],
   "source": [
    "g = gradient(f,(x,y))\n",
    "show(g)"
   ]
  },
  {
   "cell_type": "code",
   "execution_count": null,
   "metadata": {},
   "outputs": [],
   "source": [
    "eqs = [u.subs(x=0,y=0) ==0 for u in g]\n",
    "show(eqs)"
   ]
  },
  {
   "cell_type": "markdown",
   "metadata": {},
   "source": [
    "Per tant, ja tenim que $a=0$. Calculem ara el polinomi de Taylor a partir del hessià."
   ]
  },
  {
   "cell_type": "code",
   "execution_count": null,
   "metadata": {},
   "outputs": [],
   "source": [
    "fxx = f.diff(x,2) \n",
    "fxy = f.diff(x).diff(y)\n",
    "fyy = f.diff(y,2)\n",
    "H = matrix([[fxx,fxy],[fxy,fyy]]).subs(x=0,y=0,a=0)\n",
    "show(H)"
   ]
  },
  {
   "cell_type": "markdown",
   "metadata": {},
   "source": [
    "El polinomi de Taylor serà"
   ]
  },
  {
   "cell_type": "code",
   "execution_count": null,
   "metadata": {},
   "outputs": [],
   "source": [
    "X = vector([x,y])\n",
    "p = 1 + 1/2*X*H*X\n",
    "show(p)"
   ]
  },
  {
   "cell_type": "markdown",
   "metadata": {},
   "source": [
    "Calculem ara la $b$ imposant que si avaluem aquest polinomi en el punt $(1,2)$ ha de donar 6:"
   ]
  },
  {
   "cell_type": "code",
   "execution_count": null,
   "metadata": {},
   "outputs": [],
   "source": [
    "show(solve(p.subs(x=1,y=2) == 6,b))"
   ]
  },
  {
   "cell_type": "markdown",
   "metadata": {},
   "source": [
    "Per tant $b=\\frac{1}{5}$. El hessià de la funció $f$ en el punt $(0,0)$ és  "
   ]
  },
  {
   "cell_type": "code",
   "execution_count": null,
   "metadata": {},
   "outputs": [],
   "source": [
    "show(H.subs(b=1/5))"
   ]
  },
  {
   "cell_type": "markdown",
   "metadata": {},
   "source": [
    "El punt $(0,0)$ és un mínim relatiu."
   ]
  },
  {
   "cell_type": "markdown",
   "metadata": {},
   "source": [
    "## Exercici 77"
   ]
  },
  {
   "cell_type": "markdown",
   "metadata": {},
   "source": [
    "En un màxim local, el gradient ha de ser zero, per tant, $b^2-1=0$, és a dir, $b=\\pm1$."
   ]
  },
  {
   "cell_type": "markdown",
   "metadata": {},
   "source": [
    "A més, el hessià ha de ser una matriu definida negativa. Per tant $c<0$."
   ]
  },
  {
   "cell_type": "markdown",
   "metadata": {},
   "source": [
    "## Exercici 79"
   ]
  },
  {
   "cell_type": "markdown",
   "metadata": {},
   "source": [
    "(a) En primer lloc hem de trobar els extrems relatius a l'interior del quadrat $[0,2]\\times[0,2]$:"
   ]
  },
  {
   "cell_type": "code",
   "execution_count": null,
   "metadata": {},
   "outputs": [],
   "source": [
    "x, y = var('x y')\n",
    "f = x*(1-y^2) + 1/2*x^2*(y-1)\n",
    "show(f)"
   ]
  },
  {
   "cell_type": "code",
   "execution_count": null,
   "metadata": {},
   "outputs": [],
   "source": [
    "g = gradient(f,(x,y))\n",
    "show(g)"
   ]
  },
  {
   "cell_type": "code",
   "execution_count": null,
   "metadata": {},
   "outputs": [],
   "source": [
    "show(solve([u == 0 for u in g],[x,y]))"
   ]
  },
  {
   "cell_type": "markdown",
   "metadata": {},
   "source": [
    "D'aquests quatre punts, n'hi ha tres que estan a l'interior del quadrat $[0,2]\\times[0,2]$, $(0,-1)$, $(0,1)$ i $\\left(\\frac{4}{3},\\frac{1}{3}\\right)$. "
   ]
  },
  {
   "cell_type": "markdown",
   "metadata": {},
   "source": [
    "La frontera del quadrat està continguda en les rectes $x=0$, $x=2$, $y=0$ i $y=2$. Mirem si la funció restringida a aquestes rectes té algun extrem relatiu:"
   ]
  },
  {
   "cell_type": "code",
   "execution_count": null,
   "metadata": {
    "tags": []
   },
   "outputs": [],
   "source": [
    "f1 = f.subs(x=0)\n",
    "show(f1)"
   ]
  },
  {
   "cell_type": "code",
   "execution_count": null,
   "metadata": {},
   "outputs": [],
   "source": [
    "f2 = f.subs(x=2)\n",
    "show(f2)"
   ]
  },
  {
   "cell_type": "code",
   "execution_count": null,
   "metadata": {},
   "outputs": [],
   "source": [
    "show(solve(f2.diff(y) == 0,y))"
   ]
  },
  {
   "cell_type": "markdown",
   "metadata": {},
   "source": [
    "El punt $\\left(2,\\frac{1}{2}\\right)$ és un mínim relatiu de la funció $f$ restringida a recta $x=2$ que esta a la frontera del quadrat."
   ]
  },
  {
   "cell_type": "code",
   "execution_count": null,
   "metadata": {
    "tags": []
   },
   "outputs": [],
   "source": [
    "f3 = f.subs(y=0)\n",
    "show(f3)"
   ]
  },
  {
   "cell_type": "code",
   "execution_count": null,
   "metadata": {},
   "outputs": [],
   "source": [
    "show(solve(f3.diff(x) == 0,x))"
   ]
  },
  {
   "cell_type": "markdown",
   "metadata": {},
   "source": [
    "El punt $(1,0)$ és un mínim relatiu de la funció $f$ restringida a recta $y=0$ que està a la frontera del quadrat."
   ]
  },
  {
   "cell_type": "code",
   "execution_count": null,
   "metadata": {},
   "outputs": [],
   "source": [
    "f4 = f.subs(y=2)\n",
    "show(f4)"
   ]
  },
  {
   "cell_type": "code",
   "execution_count": null,
   "metadata": {},
   "outputs": [],
   "source": [
    "show(solve(f4.diff(x) == 0,x))"
   ]
  },
  {
   "cell_type": "markdown",
   "metadata": {},
   "source": [
    "Aquest punt està fora del quadrat. Per tant, els punts que hem de considerar són els extrems relatius de l'interior del quadrat, $(0,-1)$, $(0,1)$ i $\\left(\\frac{4}{3},\\frac{1}{3}\\right)$, els estrems relatius de la restricció del la funció a la frontera del quadrat, $\\left(2,\\frac{1}{2}\\right)$ i $(1,0)$ i, finalment els vèrtexs del quadrat, $(0,0)$, $(2,0)$, $(2,2)$ i $(0,2)$. "
   ]
  },
  {
   "cell_type": "code",
   "execution_count": null,
   "metadata": {},
   "outputs": [],
   "source": [
    "punts = [vector([0,-1]),vector([0,1]),vector([4/3,1/3]),vector([2,1/2]),vector([1,0]),vector([0,0]),vector([2,0]),vector([2,2]),vector([0,2])]\n",
    "show(punts)"
   ]
  },
  {
   "cell_type": "markdown",
   "metadata": {},
   "source": [
    "Per acabar, hem de calcular el valor de la funció en cada un d'aquests punts:"
   ]
  },
  {
   "cell_type": "code",
   "execution_count": null,
   "metadata": {},
   "outputs": [],
   "source": [
    "valors = [f.subs(x=p[0],y=p[1]) for p in punts]\n",
    "show(valors)"
   ]
  },
  {
   "cell_type": "markdown",
   "metadata": {},
   "source": [
    "El màxim absolut de $f$ en el quadrat $[0,2]\\times[0,2]$ és $\\frac{16}{27}$ que s'obté en el punt $\\left(\\frac{4}{3},\\frac{1}{3}\\right)$, mentre que el mínim absolut és $-4$ i s'obté en el punt $(2,2)$."
   ]
  },
  {
   "cell_type": "code",
   "execution_count": null,
   "metadata": {},
   "outputs": [],
   "source": []
  }
 ],
 "metadata": {
  "kernelspec": {
   "display_name": "SageMath 9.4",
   "language": "sage",
   "name": "sagemath"
  },
  "language_info": {
   "codemirror_mode": {
    "name": "ipython",
    "version": 3
   },
   "file_extension": ".py",
   "mimetype": "text/x-python",
   "name": "python",
   "nbconvert_exporter": "python",
   "pygments_lexer": "ipython3",
   "version": "3.10.4"
  }
 },
 "nbformat": 4,
 "nbformat_minor": 4
}
