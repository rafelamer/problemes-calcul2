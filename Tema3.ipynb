{
 "cells": [
  {
   "cell_type": "markdown",
   "metadata": {},
   "source": [
    "# Tema 3"
   ]
  },
  {
   "cell_type": "code",
   "execution_count": null,
   "metadata": {},
   "outputs": [],
   "source": [
    "%load_ext asymagic\n",
    "\n",
    "def simplificar_radicals(A):\n",
    "    \"\"\"\n",
    "    Simplifica les arrels quadrades en una matriu o en un vector\n",
    "    \"\"\"\n",
    "    try:\n",
    "        for i in range(A.nrows()):\n",
    "            for j in range(A.ncols()):\n",
    "                A[i,j] = A[i,j]._sympy_().simplify()._sage_()\n",
    "        return A\n",
    "    except:\n",
    "        pass\n",
    "    try:\n",
    "        for i in range(A.length()):\n",
    "            A[i] = A[i]._sympy_().simplify()._sage_()\n",
    "        return A\n",
    "    except:\n",
    "        pass\n",
    "    try:\n",
    "        return A._sympy_().simplify()._sage_()\n",
    "    except:\n",
    "        pass\n",
    "    if isinstance(A,list):\n",
    "        try:\n",
    "            return [simplificar_radicals(x) for x in A]\n",
    "        except:\n",
    "            pass\n",
    "    return None\n",
    "\n",
    "def normalize(v):\n",
    "    \"\"\"\n",
    "    Retorna el vector v dividit per la seva norma, és a dir, un vector unitari\n",
    "    amb la mateixa direcció i sentit que v\n",
    "    \"\"\"\n",
    "    return simplificar_radicals((v/v.norm()))\n",
    "\n",
    "def gradient(f,v):\n",
    "    \"\"\"\n",
    "    Retorna el gradient de la funció f resspecte a les variables v\n",
    "    \"\"\"\n",
    "    return vector([f.diff(u) for u in v])"
   ]
  },
  {
   "cell_type": "markdown",
   "metadata": {},
   "source": [
    "## Exercici 11"
   ]
  },
  {
   "cell_type": "code",
   "execution_count": null,
   "metadata": {},
   "outputs": [],
   "source": [
    "x, y, z = var('x y z')\n",
    "t = var('t')\n",
    "f = x^2-y^2+x*y*z^2-x*z\n",
    "show(f)"
   ]
  },
  {
   "cell_type": "code",
   "execution_count": null,
   "metadata": {},
   "outputs": [],
   "source": [
    "r = vector([1,2,3]) + t*normalize(vector([1,-1,0]))\n",
    "fd = f.subs(x=r[0],y=r[1],z=r[2]).expand()\n",
    "show(fd)"
   ]
  },
  {
   "cell_type": "markdown",
   "metadata": {},
   "source": [
    "La derivada direccional de $f$ en el punt $(1,2,3)$ seguint la direcció $(1,-1,0)$ és"
   ]
  },
  {
   "cell_type": "code",
   "execution_count": null,
   "metadata": {},
   "outputs": [],
   "source": [
    "show(fd.diff(t).subs(t=0))"
   ]
  },
  {
   "cell_type": "markdown",
   "metadata": {},
   "source": [
    "La derivada direccional màxima és la que s'obté seguint la direcció del gradient de $f$, que es representa $\\nabla f$."
   ]
  },
  {
   "cell_type": "code",
   "execution_count": null,
   "metadata": {},
   "outputs": [],
   "source": [
    "g = gradient(f,(x,y,z))\n",
    "show(g)"
   ]
  },
  {
   "cell_type": "markdown",
   "metadata": {},
   "source": [
    "El gradient en el punt $(1,2,3)$ és"
   ]
  },
  {
   "cell_type": "code",
   "execution_count": null,
   "metadata": {},
   "outputs": [],
   "source": [
    "g0 = g.subs(x=1,y=2,z=3)\n",
    "show(g0)"
   ]
  },
  {
   "cell_type": "markdown",
   "metadata": {},
   "source": [
    "La derivada direccional en el punt $(1,2,3)$ seguint la direcció $(17,5,11)$ és"
   ]
  },
  {
   "cell_type": "code",
   "execution_count": null,
   "metadata": {},
   "outputs": [],
   "source": [
    "r = vector([1,2,3]) + t*normalize(g0)\n",
    "fd = f.subs(x=r[0],y=r[1],z=r[2]).expand()\n",
    "show(fd.diff(t).subs(t=0))"
   ]
  },
  {
   "cell_type": "markdown",
   "metadata": {},
   "source": [
    "La derivada direccional màxima és $\\sqrt{435}$."
   ]
  },
  {
   "cell_type": "markdown",
   "metadata": {},
   "source": [
    "## Exercici 13"
   ]
  },
  {
   "cell_type": "markdown",
   "metadata": {},
   "source": [
    "Els pendents són les derivades parcials respecte a $x$ i respecte a $y$."
   ]
  },
  {
   "cell_type": "code",
   "execution_count": null,
   "metadata": {},
   "outputs": [],
   "source": [
    "x,y = var('x y')\n",
    "f = 25-x^2-2*y^2\n",
    "show(f)"
   ]
  },
  {
   "cell_type": "markdown",
   "metadata": {},
   "source": [
    "El pendent de la funció en la direccióp $OX$ és"
   ]
  },
  {
   "cell_type": "code",
   "execution_count": null,
   "metadata": {},
   "outputs": [],
   "source": [
    "show(f.diff(x).subs(x=1,y=2))"
   ]
  },
  {
   "cell_type": "markdown",
   "metadata": {},
   "source": [
    "El pendent de la funció en la direccióp $OY$ és"
   ]
  },
  {
   "cell_type": "code",
   "execution_count": null,
   "metadata": {},
   "outputs": [],
   "source": [
    "show(f.diff(y).subs(x=1,y=2))"
   ]
  },
  {
   "cell_type": "markdown",
   "metadata": {},
   "source": [
    "Per tant,\n",
    "$$\n",
    "  \\frac{\\partial f}{\\partial x}(1,2)=-2\n",
    "  \\qquad\\text{i}\\qquad\n",
    "  \\frac{\\partial f}{\\partial y}(1,2)=-8\n",
    "$$"
   ]
  },
  {
   "cell_type": "markdown",
   "metadata": {},
   "source": [
    "## Exerici 15"
   ]
  },
  {
   "cell_type": "markdown",
   "metadata": {},
   "source": [
    "Calculem en primer lloc el vector tangent a la corba en el punt $(1,2,-2)$, és a dir, per a $t=1$. "
   ]
  },
  {
   "cell_type": "code",
   "execution_count": null,
   "metadata": {},
   "outputs": [],
   "source": [
    "t = var('t')\n",
    "r = vector([t,2*t^2,-2*t^4])\n",
    "show(r)"
   ]
  },
  {
   "cell_type": "code",
   "execution_count": null,
   "metadata": {},
   "outputs": [],
   "source": [
    "r1 = r.diff(t)\n",
    "show(r1)"
   ]
  },
  {
   "cell_type": "code",
   "execution_count": null,
   "metadata": {},
   "outputs": [],
   "source": [
    "v = r1.subs(t=1)\n",
    "show(v)"
   ]
  },
  {
   "cell_type": "markdown",
   "metadata": {},
   "source": [
    "És a dir, hem de calcular la derivada direccional de $f$ en el punt $(1,2,-2)$ seguint la direcció del vector $(1,4,-8)$. Per això, trobem primer el gradient de $f$ en el punt $(1,2,-2)$."
   ]
  },
  {
   "cell_type": "code",
   "execution_count": null,
   "metadata": {},
   "outputs": [],
   "source": [
    "x, y, z = var('x y z')\n",
    "f = x/sqrt(x^2+y^2+z^2)\n",
    "show(f)"
   ]
  },
  {
   "cell_type": "code",
   "execution_count": null,
   "metadata": {},
   "outputs": [],
   "source": [
    "g = gradient(f,(x,y,z)).subs(x=1,y=2,z=-2)\n",
    "u = normalize(v)\n",
    "show(g*u)"
   ]
  },
  {
   "cell_type": "markdown",
   "metadata": {},
   "source": [
    "Per tant,\n",
    "$$\n",
    "  D_{\\vec v}f(1,2,-2)=-\\frac{16}{243}\\,.\n",
    "$$"
   ]
  },
  {
   "cell_type": "markdown",
   "metadata": {},
   "source": [
    "## Exercici 17"
   ]
  },
  {
   "cell_type": "markdown",
   "metadata": {},
   "source": [
    "La direcció i sentit serà $\\vec v=-\\nabla f(150,100)$. Calculem, doncs, el gradient de la funció $f$."
   ]
  },
  {
   "cell_type": "code",
   "execution_count": null,
   "metadata": {},
   "outputs": [],
   "source": [
    "x, y = var('x y')\n",
    "f = 1093 - 2*x^2/1000 - 5*y^2/1000\n",
    "show(f)"
   ]
  },
  {
   "cell_type": "code",
   "execution_count": null,
   "metadata": {},
   "outputs": [],
   "source": [
    "v = - gradient(f,(x,y)).subs(x=150,y=100)\n",
    "show(v)"
   ]
  },
  {
   "cell_type": "markdown",
   "metadata": {},
   "source": [
    "El ritme de descens serà la derivada direccional en la direcció del vector $\\vec v$:"
   ]
  },
  {
   "cell_type": "code",
   "execution_count": null,
   "metadata": {},
   "outputs": [],
   "source": [
    "p = gradient(f,(x,y)).subs(x=150,y=100) * normalize(v)\n",
    "show(p)"
   ]
  },
  {
   "cell_type": "markdown",
   "metadata": {},
   "source": [
    "## Exercici 19"
   ]
  },
  {
   "cell_type": "markdown",
   "metadata": {},
   "source": [
    "Les corbes de nivell seràn"
   ]
  },
  {
   "cell_type": "code",
   "execution_count": null,
   "metadata": {},
   "outputs": [],
   "source": [
    "x, y = var('x y')\n",
    "f = 1053 - 2*x^2/1000 - 5*y^2/1000\n",
    "contour_plot(f, (x,-300,300), (y,-200,200),fill=False,cmap='hsv',labels=True,contours=26,figsize=10)"
   ]
  },
  {
   "cell_type": "markdown",
   "metadata": {},
   "source": [
    "La direcció és la del gradient de $f$, és a dir, $\\nabla f(250,140)$."
   ]
  },
  {
   "cell_type": "code",
   "execution_count": null,
   "metadata": {},
   "outputs": [],
   "source": [
    "v = gradient(f,(x,y)).subs(x=250,y=140)\n",
    "show(v)"
   ]
  },
  {
   "cell_type": "markdown",
   "metadata": {},
   "source": [
    "El ritme d'ascensió serà la derivada direccional en la direcció del vector $\\vec v$:"
   ]
  },
  {
   "cell_type": "code",
   "execution_count": null,
   "metadata": {},
   "outputs": [],
   "source": [
    "p = v * normalize(v)\n",
    "show(p)"
   ]
  },
  {
   "cell_type": "markdown",
   "metadata": {},
   "source": [
    "Ara hem de calcular el vector tangent a la corba $\\mathbf{r}(x)=(x,-x^2+166x+21140)$:"
   ]
  },
  {
   "cell_type": "code",
   "execution_count": null,
   "metadata": {},
   "outputs": [],
   "source": [
    "r = vector([x,-x^2+166*x+21140])\n",
    "show(r)"
   ]
  },
  {
   "cell_type": "code",
   "execution_count": null,
   "metadata": {},
   "outputs": [],
   "source": [
    "r1 = r.diff(x)\n",
    "show(r1)"
   ]
  },
  {
   "cell_type": "code",
   "execution_count": null,
   "metadata": {},
   "outputs": [],
   "source": [
    "v = r1.subs(x=250)\n",
    "show(v)"
   ]
  },
  {
   "cell_type": "markdown",
   "metadata": {},
   "source": [
    "Ara hem de calcular la derivada direccional de $f$ en el punt $(250,140)$ seguint la direcció del vector $\\vec v$. "
   ]
  },
  {
   "cell_type": "code",
   "execution_count": null,
   "metadata": {},
   "outputs": [],
   "source": [
    "p = gradient(f,(x,y)).subs(x=250,y=140) * normalize(v)\n",
    "show(p)"
   ]
  },
  {
   "cell_type": "markdown",
   "metadata": {},
   "source": [
    "La parametrització de la trajectòria a l'espai seguida pel ciclista és"
   ]
  },
  {
   "cell_type": "code",
   "execution_count": null,
   "metadata": {},
   "outputs": [],
   "source": [
    "rt = r.subs(x=t)\n",
    "show(rt)"
   ]
  },
  {
   "cell_type": "code",
   "execution_count": null,
   "metadata": {},
   "outputs": [],
   "source": [
    "rt = vector([rt[0],rt[1],f.subs(x=rt[0],y=rt[1])]).simplify_full()\n",
    "show(rt)"
   ]
  },
  {
   "cell_type": "markdown",
   "metadata": {},
   "source": [
    "Calculem ara la curvatura d'aquesta trajectòria en el punt corresponent a $t=83$:"
   ]
  },
  {
   "cell_type": "code",
   "execution_count": null,
   "metadata": {},
   "outputs": [],
   "source": [
    "rt1 = rt.diff(t).subs(t=83)\n",
    "rt2 = rt.diff(t,2).subs(t=83)\n",
    "k = simplificar_radicals(rt1.cross_product(rt2).norm()/rt1.norm()^3)\n",
    "show(k.n(digits=6))"
   ]
  },
  {
   "cell_type": "code",
   "execution_count": null,
   "metadata": {},
   "outputs": [],
   "source": [
    "vmax = 32/(k^(1/3))\n",
    "show(vmax.n(digits=6))"
   ]
  },
  {
   "cell_type": "markdown",
   "metadata": {},
   "source": [
    "## Exercici 21"
   ]
  },
  {
   "cell_type": "code",
   "execution_count": null,
   "metadata": {},
   "outputs": [],
   "source": [
    "f = x/(x^2+y^2)\n",
    "show(f)"
   ]
  },
  {
   "cell_type": "code",
   "execution_count": null,
   "metadata": {},
   "outputs": [],
   "source": [
    "show(f.diff(x).simplify_full())"
   ]
  },
  {
   "cell_type": "code",
   "execution_count": null,
   "metadata": {},
   "outputs": [],
   "source": [
    "show(f.diff(y).simplify_full())"
   ]
  },
  {
   "cell_type": "code",
   "execution_count": null,
   "metadata": {},
   "outputs": [],
   "source": [
    "g = e^x*sin(x*y)\n",
    "show(g)"
   ]
  },
  {
   "cell_type": "code",
   "execution_count": null,
   "metadata": {},
   "outputs": [],
   "source": [
    "show(g.diff(x).simplify_full())"
   ]
  },
  {
   "cell_type": "code",
   "execution_count": null,
   "metadata": {},
   "outputs": [],
   "source": [
    "show(g.diff(y).simplify_full())"
   ]
  },
  {
   "cell_type": "markdown",
   "metadata": {},
   "source": [
    "Recordem del Càlcul I que si tenim una funció definida per\n",
    "$$\n",
    "  f(x)=\\int_{a}^x g(t)\\,dt \\,,\n",
    "$$\n",
    "aleshores\n",
    "$$\n",
    "  f'(x) = g(x)\n",
    "$$"
   ]
  },
  {
   "cell_type": "markdown",
   "metadata": {},
   "source": [
    "En el nostre cas, tenim que\n",
    "$$\n",
    "  f(x,y)=\\int_{x}^{y} \\sin(t^2)\\,dt = \\int_{0}^{y} \\sin(t^2)\\,dt - \\int_{0}^{x} \\sin(t^2)\\,dt\\,.\n",
    "$$\n",
    "Per tant,\n",
    "$$\n",
    "  \\frac{\\partial f}{\\partial x}(x,y)=-\\sin(x^2)\n",
    "  \\qquad\\text{i}\\qquad\n",
    "  \\frac{\\partial f}{\\partial y}(x,y)=\\sin(y^2)\n",
    "$$"
   ]
  },
  {
   "cell_type": "markdown",
   "metadata": {},
   "source": [
    "## Exercici 23"
   ]
  },
  {
   "cell_type": "markdown",
   "metadata": {},
   "source": [
    "Suposem que les derivades parcials de $f$ en el punt $(-1,3)$ son $a$ i $b$, respectivament. És a dir,\n",
    "$$\n",
    "  \\nabla f(-1,3)=(a,b)\\,.\n",
    "$$\n",
    "Aleshores s'ha de complir que\n",
    "$$\n",
    "  (a,b)\\cdot\\frac{1}{\\sqrt{2}}(1,1)=\\sqrt{2}\n",
    "  \\qquad\\text{i}\\qquad\n",
    "   (a,b)\\cdot\\frac{1}{5}(3,4)=1\n",
    "$$"
   ]
  },
  {
   "cell_type": "code",
   "execution_count": null,
   "metadata": {},
   "outputs": [],
   "source": [
    "a, b = var('a b')\n",
    "g = vector([a,b])\n",
    "u1 = normalize(vector([2,2]))\n",
    "u2 = normalize(vector([3,4]))"
   ]
  },
  {
   "cell_type": "code",
   "execution_count": null,
   "metadata": {},
   "outputs": [],
   "source": [
    "show(solve([g*u1 == sqrt(2),g*u2 == 1],[a,b]))"
   ]
  },
  {
   "cell_type": "code",
   "execution_count": null,
   "metadata": {},
   "outputs": [],
   "source": [
    "g = g.subs(a=3,b=-1)\n",
    "show(g)"
   ]
  },
  {
   "cell_type": "markdown",
   "metadata": {},
   "source": [
    "Aleshores, la derivada direccional de $f$ en el punt $(-1,3)$ seguint la direcció del vector $(-6,8)$ és"
   ]
  },
  {
   "cell_type": "code",
   "execution_count": null,
   "metadata": {},
   "outputs": [],
   "source": [
    "show(g * normalize(vector([-6,8])))"
   ]
  },
  {
   "cell_type": "markdown",
   "metadata": {},
   "source": [
    "Per tant, si $\\vec v=(-6,8)$, tindrem que\n",
    "$$\n",
    "  D_{\\vec v}f(-1,3)=-\\frac{13}{5}\\,.\n",
    "$$"
   ]
  },
  {
   "cell_type": "markdown",
   "metadata": {},
   "source": [
    "## Exercici 25"
   ]
  },
  {
   "cell_type": "markdown",
   "metadata": {},
   "source": [
    "El vector normal exterior a l'esfera d'equació $x^2+y^2+z^2=1$ en el punt $(x_0,y_0,z_0)$ és el vector $(x_0,y_0,z_0)$, que de fet ja és unitari. Com que el gradient de $f$ és\n",
    "$$\n",
    "  \\nabla f(x,y,z)=(1,1,1)\\,,\n",
    "$$\n",
    "tindrem que si $\\vec v$ és el vector unitari $(x_0,y_0,z_0)$,\n",
    "$$\n",
    "   D_{\\vec v}f(x_0,y_0,z_0)=(1,1,1)\\cdot(x_0,y_0,z_0)=x_0+y_0+z_0\\,.\n",
    "$$"
   ]
  },
  {
   "cell_type": "markdown",
   "metadata": {},
   "source": [
    "## Exercici 27"
   ]
  },
  {
   "cell_type": "markdown",
   "metadata": {},
   "source": [
    "La superfície $z=1-y^2$ és un cilindre parabòlic i les seves corbes de nivells són rectes de la forma\n",
    "$$\n",
    "   1-y^2=c \\qquad\\text{és a dir}\\qquad y = \\pm\\sqrt{1-c}\n",
    "$$\n",
    "per a $c<=1$."
   ]
  },
  {
   "cell_type": "code",
   "execution_count": null,
   "metadata": {},
   "outputs": [],
   "source": [
    "x, y = var('x y')\n",
    "f = 1 - y^2\n",
    "contour_plot(f, (x,-10,10), (y,-10,10),fill=False,cmap='hsv',labels=True,contours=16,figsize=8)"
   ]
  },
  {
   "cell_type": "markdown",
   "metadata": {},
   "source": [
    "Observem que cada punt de la superfície queda determinat per les seves coordenades $x$ i $y$. La temperatura en funció de $x$ i $y$ és"
   ]
  },
  {
   "cell_type": "code",
   "execution_count": null,
   "metadata": {},
   "outputs": [],
   "source": [
    "x, y, z = var('x y z')\n",
    "T = 13*(x^2+y^2)-(x^4+y^4)\n",
    "show(T)"
   ]
  },
  {
   "cell_type": "markdown",
   "metadata": {},
   "source": [
    "La direcció en la que la disminució de temperatura és màxim en cada punt és menys el gradient de $T$:"
   ]
  },
  {
   "cell_type": "code",
   "execution_count": null,
   "metadata": {},
   "outputs": [],
   "source": [
    "g = - gradient(T,(x,y,z))\n",
    "show(g)"
   ]
  },
  {
   "cell_type": "markdown",
   "metadata": {},
   "source": [
    "En el pla $XY$, la corba més senzilla que uneix els punts $(0,1)$ i $(0,2)$ és la recta que passa per $(0,1)$ i té vector director $(0,2)-(0,1)=(0,1)$, és a dir,\n",
    "$$\n",
    "  \\mathbf{r}(t)=(0,1)+t(0,1)=(0,1+t)\\qquad\\text{amb}\\qquad t\\in[0,1]\\,.\n",
    "$$\n",
    "Si ara imposem que la corba ha d'estar sobre el cilindre parabòlic, $z=1-y^2$, tindre que\n",
    "$$\n",
    "  \\mathbf{r}(t)=(0,1+t,1-(1+t)^2)=(0,1+t,-2t-t^2)\\qquad\\text{amb}\\qquad t\\in[0,1]\\,.\n",
    "$$"
   ]
  },
  {
   "cell_type": "markdown",
   "metadata": {},
   "source": [
    "## Exercici 29"
   ]
  },
  {
   "cell_type": "markdown",
   "metadata": {},
   "source": [
    "Observem que la funció $\\mathbf{F}$ té tres components, $\\mathbf{F}=(f_1,f_2,f_3)$ i que les podem escriure com a\n",
    "$$\n",
    "  \\begin{aligned}\n",
    "    f_1(x,y) &= e^{x+y} \\\\[0.3mm]\n",
    "    f_2(x,y) &= \\sin(x-y) \\\\[0.3mm]\n",
    "    f_3(x,y) &= \\begin{cases}\n",
    "                x^2\\sin\\frac{1}{x} & \\text{si $x\\neq 0$}   \\\\\n",
    "                0                  & \\text{si $x=0$}\n",
    "                \\end{cases}\n",
    "  \\end{aligned} \n",
    "$$"
   ]
  },
  {
   "cell_type": "markdown",
   "metadata": {},
   "source": [
    "És evident que les dues primeres són diferenciables a tot $\\mathbb{R}^2$. "
   ]
  },
  {
   "cell_type": "markdown",
   "metadata": {},
   "source": [
    "Pel que fa a la tercera, com que no depèn de $y$, podem assegurar que \n",
    "$$\n",
    "  \\frac{\\partial f_3}{\\partial y}(x,y)=0\n",
    "$$\n",
    "i que, si $x\\neq 0$, la seva derivada parcial respecte a $x$ és"
   ]
  },
  {
   "cell_type": "code",
   "execution_count": null,
   "metadata": {},
   "outputs": [],
   "source": [
    "x = var('x')\n",
    "f3 = x^2*sin(1/x)\n",
    "show(f3.diff(x).simplify_full())"
   ]
  },
  {
   "cell_type": "markdown",
   "metadata": {},
   "source": [
    "Finalment, la derivada parcial respecte a $x$ en els punts de la forma $(0,y)$ és\n",
    "$$\n",
    "  \\frac{\\partial f_3}{\\partial y}(0,y)=\\lim_{h\\to0}\\frac{f_3(0+h,y)-f_3(0,y)}{h} = \\lim_{h\\to0}\\frac{h^2\\sin\\frac{1}{h}}{h}\n",
    "       = \\lim_{h\\to0}h\\sin\\frac{1}{h}=0\n",
    "$$"
   ]
  },
  {
   "cell_type": "markdown",
   "metadata": {},
   "source": [
    "Per tant, la funció $\\mathbf{F}$ és diferenciable a tot $\\mathbb{R}^2$. "
   ]
  },
  {
   "cell_type": "markdown",
   "metadata": {},
   "source": [
    "## Exercici 31\n"
   ]
  },
  {
   "cell_type": "markdown",
   "metadata": {},
   "source": [
    "Recordem que si $h(x,y)=f(u,v)$, on $u$ i $v$ són funcions que depenen de $x$ i de $y$, aleshores les derivades parcials de $h$\n",
    "$$\n",
    "  \\begin{aligned}\n",
    "    \\frac{\\partial h}{\\partial x}(x,y) &= \\frac{\\partial f}{\\partial u}(u,v) \\frac{\\partial u}{\\partial x}(x,y) \n",
    "                                        + \\frac{\\partial f}{\\partial v}(u,v) \\frac{\\partial v}{\\partial x}(x,y)  \\\\[5mm]\n",
    "    \\frac{\\partial h}{\\partial y}(x,y) &= \\frac{\\partial f}{\\partial u}(u,v) \\frac{\\partial u}{\\partial y}(x,y) \n",
    "                                        + \\frac{\\partial f}{\\partial v}(u,v) \\frac{\\partial v}{\\partial y}(x,y)\n",
    "  \\end{aligned} \n",
    "$$"
   ]
  },
  {
   "cell_type": "markdown",
   "metadata": {},
   "source": [
    "En el nostre cas, tenim que $f(u,v)=u^2+uv+y^2$, on $u=x^2+y$ i $v=x+y$. Aleshores\n",
    "$$\n",
    "  \\frac{\\partial f}{\\partial u}=2u+v\\,,\\qquad\n",
    "  \\frac{\\partial f}{\\partial v}=u+2v\\,,\\qquad\n",
    "  \\frac{\\partial u}{\\partial x}=2x\\,,\\qquad\n",
    "  \\frac{\\partial u}{\\partial y}=1\\,,\\qquad\n",
    "  \\frac{\\partial v}{\\partial x}=1\\quad\\text{i}\\quad\n",
    "  \\frac{\\partial v}{\\partial y}=1\\,.\n",
    "$$"
   ]
  },
  {
   "cell_type": "markdown",
   "metadata": {},
   "source": [
    "Per tant,\n",
    "$$\n",
    "  \\begin{aligned}\n",
    "    \\frac{\\partial h}{\\partial x}(x,y) &= (2u+v)\\cdot2x+(u+2v)\\cdot1 = 2x\\Big(2(x^2+y)+x+y\\Big) + \\Big(x^2+y+2(x+y)\\Big) = 2x^3 + 3x^2 + 6xy + 2x + 3y\\\\[5mm]\n",
    "    \\frac{\\partial h}{\\partial y}(x,y) &= (2u+v)\\cdot1+(u+2v)\\cdot1 = \\Big(2(x^2+y)+x+y\\Big)+ \\Big(x^2+y+2(x+y)\\Big) = 3x^2 + 3x + 6y\n",
    "  \\end{aligned} \n",
    "$$"
   ]
  },
  {
   "cell_type": "code",
   "execution_count": null,
   "metadata": {},
   "outputs": [],
   "source": [
    "u, v = var ('u v')\n",
    "f = u^2 + u*v + v^2\n",
    "show(f)"
   ]
  },
  {
   "cell_type": "code",
   "execution_count": null,
   "metadata": {},
   "outputs": [],
   "source": [
    "fu = f.diff(u)\n",
    "show(fu)"
   ]
  },
  {
   "cell_type": "code",
   "execution_count": null,
   "metadata": {},
   "outputs": [],
   "source": [
    "fv = f.diff(v)\n",
    "show(fv)"
   ]
  },
  {
   "cell_type": "code",
   "execution_count": null,
   "metadata": {},
   "outputs": [],
   "source": [
    "x, y = var('x y')\n",
    "u = x^2 + y\n",
    "ux = u.diff(x)\n",
    "uy = u.diff(y)\n",
    "v = x + y\n",
    "vx = v.diff(x)\n",
    "vy = v.diff(y)"
   ]
  },
  {
   "cell_type": "markdown",
   "metadata": {},
   "source": [
    "Aleshores, la derivada parcial de $h$ respecte a $x$ és"
   ]
  },
  {
   "cell_type": "code",
   "execution_count": null,
   "metadata": {},
   "outputs": [],
   "source": [
    "hx = (fu*ux+fv*vx).subs(u=u,v=v).expand()\n",
    "show(hx)"
   ]
  },
  {
   "cell_type": "markdown",
   "metadata": {},
   "source": [
    "La derivada parcial de $h$ respecte a $y$ és"
   ]
  },
  {
   "cell_type": "code",
   "execution_count": null,
   "metadata": {},
   "outputs": [],
   "source": [
    "hy = (fu*uy+fv*vy).subs(u=u,v=v).expand()\n",
    "show(hy)"
   ]
  },
  {
   "cell_type": "markdown",
   "metadata": {},
   "source": [
    "## Exercici 33"
   ]
  },
  {
   "cell_type": "markdown",
   "metadata": {},
   "source": [
    "En general, tenim que si una funció vé donada per $z=h(u,v)$, aleshores\n",
    "$$\n",
    "  dz = \\frac{\\partial h}{\\partial u}\\,du + \\frac{\\partial h}{\\partial v}\\,dv\\,.\n",
    "$$\n",
    "Però, tenim que $z=f(x,y)$ i la $x$ i la $y$ depenen de $u$ i $v$, tindrem que\n",
    "$$\n",
    "  \\begin{aligned}\n",
    "   \\frac{\\partial f}{\\partial u} &= \\frac{\\partial f}{\\partial x}\\frac{\\partial x}{\\partial u} +  \\frac{\\partial f}{\\partial y}\\frac{\\partial y}{\\partial u}\\\\[5mm]\n",
    "   \\frac{\\partial f}{\\partial v} &= \\frac{\\partial f}{\\partial x}\\frac{\\partial x}{\\partial v} +  \\frac{\\partial f}{\\partial y}\\frac{\\partial y}{\\partial v}\\,.\n",
    "  \\end{aligned}\n",
    "$$"
   ]
  },
  {
   "cell_type": "markdown",
   "metadata": {},
   "source": [
    "Per tant, tindrem que\n",
    "$$\n",
    "  dz = \\Big(\\frac{\\partial f}{\\partial x}\\frac{\\partial x}{\\partial u} +  \\frac{\\partial f}{\\partial y}\\frac{\\partial y}{\\partial u}\\Big)\\,du + \n",
    "       \\Big(\\frac{\\partial f}{\\partial x}\\frac{\\partial x}{\\partial v} +  \\frac{\\partial f}{\\partial y}\\frac{\\partial y}{\\partial v}\\Big)\\,dv = \n",
    "       \\Big(v\\frac{\\partial f}{\\partial x} +  2u\\frac{\\partial f}{\\partial y}\\Big)\\,du + \n",
    "       \\Big(u\\frac{\\partial f}{\\partial x} +  2v\\frac{\\partial f}{\\partial y}\\Big)\\,dv\n",
    "$$"
   ]
  },
  {
   "cell_type": "markdown",
   "metadata": {},
   "source": [
    "## Exercici 35"
   ]
  },
  {
   "cell_type": "markdown",
   "metadata": {},
   "source": [
    "En aquest cas tenim una corba $\\mathbf{p}(t)=\\mathbf{F}(\\mathbf{r}(t))$, on $\\mathbf{r}(t)=(r_1(t),r_2(t))$ i $\\mathbf{F}=(f_1,f_2)$. Aleshores,\n",
    "$$\n",
    "   \\mathbf{p}(t)=(p_1(t),p_2(t))\\qquad\\text{on}\\qquad p_1(t) = f_1(\\mathbf{r}(t))\\quad\\text{i}\\quad p_2(t) = f_2(\\mathbf{r}(t))\n",
    "$$\n",
    "Per la regla de la cadena, tenim que\n",
    "$$\n",
    "  \\begin{aligned}\n",
    "   p_1'(t) &= \\frac{f_1}{\\partial x}(\\mathbf{r}(t))r_1'(t) + \\frac{\\partial f_1}{\\partial y}(\\mathbf{r}(t))r_2'(t) \\\\[2mm]\n",
    "   p_2'(t) &= \\frac{f_2}{\\partial x}(\\mathbf{r}(t))r_1'(t) + \\frac{\\partial f_2}{\\partial y}(\\mathbf{r}(t))r_2'(t)\n",
    "  \\end{aligned}\n",
    "$$"
   ]
  },
  {
   "cell_type": "markdown",
   "metadata": {},
   "source": [
    "Com que\n",
    "$$\n",
    "   \\frac{f_1}{\\partial x}=e^{x+y}\\,,\\qquad \\frac{f_1}{\\partial x}=e^{x+y}\\,,\\qquad\n",
    "   \\frac{f_2}{\\partial x}=e^{x-y}\\,,\\quad\\text{i}\\quad \\frac{f_2}{\\partial y}=-e^{x-y}\\,,\n",
    "$$"
   ]
  },
  {
   "cell_type": "markdown",
   "metadata": {},
   "source": [
    "i avaluades en el punt $(0,0)$ donen 1, les tres primeres i $-1$ la quarta,  resulta que\n",
    "$$\n",
    "   p_1'(0) = r_1'(0)+r_2'(0)=2\\qquad\\text{i}\\qquad  p_2'(0) = r_1'(0)-r_2'(0)=0\\,.\n",
    "$$\n",
    "Així doncs, el vector tangent a la corba $\\mathbf{p}(t)$ en el punt $t=0$ és $\\mathbf{p}'(0)=(2,0)$."
   ]
  },
  {
   "cell_type": "markdown",
   "metadata": {},
   "source": [
    "## Exercici 37"
   ]
  },
  {
   "cell_type": "markdown",
   "metadata": {},
   "source": [
    "Per la regla de la cadena, tenim que\n",
    "$$\n",
    "  \\begin{aligned}\n",
    "   \\frac{\\partial w}{\\partial x} &= \\frac{\\partial f}{\\partial u}\\frac{\\partial u}{\\partial x} +  \\frac{\\partial f}{\\partial v}\\frac{\\partial v}{\\partial x}\n",
    "               = 2x\\frac{\\partial f}{\\partial u} +  2z\\frac{\\partial f}{\\partial v}  \\\\[2mm]\n",
    "    \\frac{\\partial w}{\\partial y} &= \\frac{\\partial f}{\\partial u}\\frac{\\partial u}{\\partial y} +  \\frac{\\partial f}{\\partial v}\\frac{\\partial v}{\\partial y}\n",
    "               = 2z\\frac{\\partial f}{\\partial u} +  2y\\frac{\\partial f}{\\partial v}  \\\\[2mm]\n",
    "     \\frac{\\partial w}{\\partial z} &= \\frac{\\partial f}{\\partial u}\\frac{\\partial u}{\\partial z} +  \\frac{\\partial f}{\\partial v}\\frac{\\partial v}{\\partial z}\n",
    "               = 2y\\frac{\\partial f}{\\partial u} +  2x\\frac{\\partial f}{\\partial v}          \n",
    "  \\end{aligned}\n",
    "$$"
   ]
  },
  {
   "cell_type": "markdown",
   "metadata": {},
   "source": [
    "Si representem per _fu_ i _fv_ les derivades parcials de $f$ respecte a $u$ i a $v$, respectivament, tindrem que"
   ]
  },
  {
   "cell_type": "code",
   "execution_count": null,
   "metadata": {},
   "outputs": [],
   "source": [
    "fu, fv = var('fu fv')\n",
    "x, y, z = var('x y z')\n",
    "wx = 2*x*fu + 2*z*fv\n",
    "wy = 2*z*fu + 2*y*fv\n",
    "wz = 2*y*fu + 2*x*fv"
   ]
  },
  {
   "cell_type": "markdown",
   "metadata": {},
   "source": [
    "Aleshores,"
   ]
  },
  {
   "cell_type": "code",
   "execution_count": null,
   "metadata": {},
   "outputs": [],
   "source": [
    "exp = (y^2-x*z)*wx + (x^2-y*z)*wy + (z^2-x*y)*wz\n",
    "show(exp.expand())"
   ]
  },
  {
   "cell_type": "markdown",
   "metadata": {},
   "source": [
    "## Exercici 39"
   ]
  },
  {
   "cell_type": "markdown",
   "metadata": {},
   "source": [
    "Com en casos anteriors, tindrem que\n",
    "$$\n",
    "  \\begin{aligned}\n",
    "   \\frac{\\partial z}{\\partial u} &= \\frac{\\partial z}{\\partial x}\\frac{\\partial x}{\\partial u} +  \\frac{\\partial z}{\\partial y}\\frac{\\partial y}{\\partial u}\n",
    "               =  \\frac{\\partial z}{\\partial x}\\cosh v +  \\frac{\\partial z}{\\partial y}\\sinh v \\\\[2mm]\n",
    "   \\frac{\\partial z}{\\partial v} &= \\frac{\\partial z}{\\partial x}\\frac{\\partial x}{\\partial v} +  \\frac{\\partial z}{\\partial y}\\frac{\\partial y}{\\partial v}\n",
    "               =  \\frac{\\partial z}{\\partial x} u\\sinh v+  \\frac{\\partial z}{\\partial y}u\\cosh v      \n",
    "  \\end{aligned}\n",
    "$$"
   ]
  },
  {
   "cell_type": "markdown",
   "metadata": {},
   "source": [
    "D'aquestes equacions, podem aïllar $\\frac{\\partial z}{\\partial x}$ i $\\frac{\\partial z}{\\partial y}$. De fet, és un sistema d'equacions lineals amb dues incògnites:"
   ]
  },
  {
   "cell_type": "code",
   "execution_count": null,
   "metadata": {},
   "outputs": [],
   "source": [
    "u, v, zx, zy, zu, zv = var('u v zx zy zu zv')\n",
    "eq1 = zu == zx*cosh(v) + zy*sinh(v)\n",
    "eq2 = zv == zx*u*sinh(v) + zy*u*cosh(v)\n",
    "sol = solve([eq1,eq2],[zx,zy])\n",
    "show(sol)"
   ]
  },
  {
   "cell_type": "code",
   "execution_count": null,
   "metadata": {},
   "outputs": [],
   "source": [
    "zx = sol[0][0].rhs().trig_reduce()\n",
    "show(zx)"
   ]
  },
  {
   "cell_type": "code",
   "execution_count": null,
   "metadata": {},
   "outputs": [],
   "source": [
    "zy = sol[0][1].rhs().trig_reduce()\n",
    "show(zy)"
   ]
  },
  {
   "cell_type": "code",
   "execution_count": null,
   "metadata": {},
   "outputs": [],
   "source": [
    "eq = zx^2 - zy^2 == 0\n",
    "show(eq.trig_simplify())"
   ]
  },
  {
   "cell_type": "markdown",
   "metadata": {},
   "source": [
    "Si passem la $u^2$ del denominador a l'altra costant, ens queda l'equació\n",
    "$$\n",
    "  \\left(u\\frac{\\partial z}{\\partial u}\\right)^2 - \\left(\\frac{\\partial z}{\\partial v}\\right)^2 = 0\\,.\n",
    "$$"
   ]
  },
  {
   "cell_type": "markdown",
   "metadata": {},
   "source": [
    "## Exercici 41"
   ]
  },
  {
   "cell_type": "markdown",
   "metadata": {},
   "source": [
    "Recordem que si una superfície a l'espai està definida per l'equació $F(x,y,z)=0$ i $(x_0,y_0,z_0)$ és un punt de laq superfície, la recta que passa per aquest punt i té vector director $\\nabla F(x_0,y_0,z_0)$ és perpendicular a la superfície."
   ]
  },
  {
   "cell_type": "code",
   "execution_count": null,
   "metadata": {},
   "outputs": [],
   "source": [
    "x, y, z = var('x y z')\n",
    "F = z-x*y\n",
    "g = gradient(F,(x,y,z))\n",
    "gp = g.subs(x=2,y=2,z=4)\n",
    "show(gp)"
   ]
  },
  {
   "cell_type": "markdown",
   "metadata": {},
   "source": [
    "(a) L'equació contínua és\n",
    "$$\n",
    "  \\frac{x-2}{2}=\\frac{y-2}{2}=\\frac{z-4}{-1}\n",
    "$$"
   ]
  },
  {
   "cell_type": "code",
   "execution_count": null,
   "metadata": {},
   "outputs": [],
   "source": [
    "x, y, z = var('x y z')\n",
    "F = 2*x*y/(x^2+y) - z\n",
    "g = gradient(F,(x,y,z))\n",
    "gp = g.subs(x=2,y=-2,z=-4)\n",
    "show(gp)"
   ]
  },
  {
   "cell_type": "markdown",
   "metadata": {},
   "source": [
    "(b) L'equació contínua és\n",
    "$$\n",
    "  \\frac{x-2}{6}=\\frac{y+2}{4}=\\frac{z+4}{-1}\n",
    "$$"
   ]
  },
  {
   "cell_type": "code",
   "execution_count": null,
   "metadata": {},
   "outputs": [],
   "source": [
    "x, y, z = var('x y z')\n",
    "F = sin(x) + 2*cos(y) - z\n",
    "g = gradient(F,(x,y,z))\n",
    "gp = g.subs(x=pi/2,y=0,z=3)\n",
    "show(gp)"
   ]
  },
  {
   "cell_type": "markdown",
   "metadata": {},
   "source": [
    "(c) Les equacions implícites de la recta són\n",
    "$$\n",
    "  \\left.\\begin{aligned}\n",
    "  x &= \\frac{\\pi}{2} \\\\\n",
    "  y &= 0\n",
    "  \\end{aligned}\\right\\}\n",
    "$$\n",
    "i l'equació contínua\n",
    "$$\n",
    "  \\frac{2x-\\pi}{0}=\\frac{y}{0}=z-3\n",
    "$$"
   ]
  },
  {
   "cell_type": "code",
   "execution_count": null,
   "metadata": {},
   "outputs": [],
   "source": [
    "x, y, z = var('x y z')\n",
    "F = x^2/9 + y^2/4 + z^2 - 3\n",
    "g = gradient(F,(x,y,z))\n",
    "gp = g.subs(x=3,y=2,z=1)\n",
    "show(gp)"
   ]
  },
  {
   "cell_type": "markdown",
   "metadata": {},
   "source": [
    "(b) L'equació contínua és\n",
    "$$\n",
    "  \\frac{x-3}{2}=\\frac{y-2}{3}=\\frac{z-1}{6}\n",
    "$$"
   ]
  },
  {
   "cell_type": "markdown",
   "metadata": {},
   "source": [
    "## Exercici 43"
   ]
  },
  {
   "cell_type": "markdown",
   "metadata": {},
   "source": [
    "Calculem en primer lloc la direcció normal al pla:"
   ]
  },
  {
   "cell_type": "code",
   "execution_count": null,
   "metadata": {},
   "outputs": [],
   "source": [
    "x, y, z = var('x y z')\n",
    "F = x^2 + y^2 - z^2 + 1\n",
    "g = gradient(F,(x,y,z))\n",
    "gp = g.subs(x=1,y=1,z=sqrt(3))\n",
    "show(gp)"
   ]
  },
  {
   "cell_type": "markdown",
   "metadata": {},
   "source": [
    "El vector director de la recta normal és $(1,1,-\\sqrt{3})$ i l'equació de la recta perpendicular a l'hiperboloide de dues fulles que passa pel punt $(1,1,\\sqrt{3})$ és\n",
    "$$\n",
    "  (x,y,z) = (1,1,\\sqrt{3}) + t((1,1,-\\sqrt{3})\n",
    "$$\n",
    "És evident que aquesta recta talla el pla $XY$ a l'instant $t=1$ i que el punt de tall és $(2,2,0)$. "
   ]
  },
  {
   "cell_type": "markdown",
   "metadata": {},
   "source": [
    "## Exercici 45"
   ]
  },
  {
   "cell_type": "markdown",
   "metadata": {},
   "source": [
    "El vector normal o associat al pla tangent a la superfície definida per $F(x,y,z)=0$ en cada punt és $\\nabla F$."
   ]
  },
  {
   "cell_type": "code",
   "execution_count": null,
   "metadata": {},
   "outputs": [],
   "source": [
    "x, y, z = var('x y z')\n",
    "F = x^2 + 2*y^2 + z^2 - 1\n",
    "g = gradient(F,(x,y,z))\n",
    "show(g)"
   ]
  },
  {
   "cell_type": "markdown",
   "metadata": {},
   "source": [
    "Si volem que un pla sigui paral·lel al d'equació $x-y+2z=0$, els seus vectors associats han de ser proporcionals, és a dir,\n",
    "$$\n",
    "  \\frac{2x}{1}=\\frac{4y}{-1}=\\frac{2z}{2}\\,.\n",
    "$$"
   ]
  },
  {
   "cell_type": "markdown",
   "metadata": {},
   "source": [
    "Aquestes equacions són equivalents al sistema\n",
    "$$\n",
    "  \\left.\\begin{aligned}\n",
    "  x + 2y &= 0 \\\\\n",
    "  4y + z &= 0\n",
    "  \\end{aligned}\\right\\}\n",
    "$$\n",
    "Finalment, hem de trobar un punt de l'el·lipsoide, és a dir, que compleixi l'equació $x^2 + 2y^2 + z^2 - 1=0$ que també compleixi les condicions de proporcionalitat del vector associat."
   ]
  },
  {
   "cell_type": "code",
   "execution_count": null,
   "metadata": {},
   "outputs": [],
   "source": [
    "sol = solve([F==0,x+2*y==0,4*y+z==0],[x,y,z])\n",
    "show(simplificar_radicals(sol))"
   ]
  },
  {
   "cell_type": "markdown",
   "metadata": {},
   "source": [
    "Hi ha dos punts de l'el·lipsoide en el quals el pla tangent a l'el·lipsoide és paral·lel al pla $x-y+2z=0$. Aquests dos punts són"
   ]
  },
  {
   "cell_type": "code",
   "execution_count": null,
   "metadata": {},
   "outputs": [],
   "source": [
    "p1 = vector(simplificar_radicals([u.rhs() for u in sol[0]]))\n",
    "show(p1)"
   ]
  },
  {
   "cell_type": "code",
   "execution_count": null,
   "metadata": {},
   "outputs": [],
   "source": [
    "p2 = vector(simplificar_radicals([u.rhs() for u in sol[1]]))\n",
    "show(p2)"
   ]
  },
  {
   "cell_type": "markdown",
   "metadata": {},
   "source": [
    "Els dos plans seran de la forma $x-y+2z=D$ i, per calcular la $D$, només cal que fem"
   ]
  },
  {
   "cell_type": "code",
   "execution_count": null,
   "metadata": {},
   "outputs": [],
   "source": [
    "u = vector([1,-1,2])\n",
    "show(simplificar_radicals(u*p1))           "
   ]
  },
  {
   "cell_type": "code",
   "execution_count": null,
   "metadata": {},
   "outputs": [],
   "source": [
    "show(simplificar_radicals(u*p2))"
   ]
  },
  {
   "cell_type": "markdown",
   "metadata": {},
   "source": [
    "Per tant, les equacions dels dos plans són\n",
    "$$\n",
    "  2x - 2y + 4z = \\pm\\sqrt{22}\n",
    "$$"
   ]
  },
  {
   "cell_type": "markdown",
   "metadata": {},
   "source": [
    "## Exercici 47"
   ]
  },
  {
   "cell_type": "markdown",
   "metadata": {},
   "source": [
    "Calculem en primer lloc el gradient"
   ]
  },
  {
   "cell_type": "code",
   "execution_count": null,
   "metadata": {},
   "outputs": [],
   "source": [
    "x, y, z = var('x y z')\n",
    "F = x^2 + 2*y^2 + 3*z^2 + 2*x*y + 2*x*z + 4*y*z - 8 \n",
    "g = gradient(F,(x,y,z))\n",
    "show(g)"
   ]
  },
  {
   "cell_type": "markdown",
   "metadata": {},
   "source": [
    "Si el pla tangent ha de ser paral·lel al pla $XY$, el seu vector associat ha de ser proporcional al vector $(0,0,1)$. Per tant, s'haurà de complir que\n",
    "$$\n",
    "  \\left.\\begin{aligned}\n",
    "  2x + 2y + 2z &= 0 \\\\\n",
    "  2x + 4y + 4z &= 0\n",
    "  \\end{aligned}\\right\\}\n",
    "$$\n",
    "Com a l'exercici anterior, hem de probar els punts de la quàdrica que, a més, compleixin aquestes últimes equacions"
   ]
  },
  {
   "cell_type": "code",
   "execution_count": null,
   "metadata": {},
   "outputs": [],
   "source": [
    "sol = solve([F==0,x+y+z==0,x+2*y+2*z==0],[x,y,z])\n",
    "show(sol)"
   ]
  },
  {
   "cell_type": "markdown",
   "metadata": {},
   "source": [
    "Hi ha dos punts que ho compleixen"
   ]
  },
  {
   "cell_type": "code",
   "execution_count": null,
   "metadata": {},
   "outputs": [],
   "source": [
    "p1 = vector([u.rhs() for u in sol[0]])\n",
    "show(p1)"
   ]
  },
  {
   "cell_type": "code",
   "execution_count": null,
   "metadata": {},
   "outputs": [],
   "source": [
    "p2 = vector([u.rhs() for u in sol[1]])\n",
    "show(p2)"
   ]
  },
  {
   "cell_type": "markdown",
   "metadata": {},
   "source": [
    "Els punts són $\\big(0,2\\sqrt{2},-2\\sqrt{2}\\big)$ i $\\big(0,-2\\sqrt{2},2\\sqrt{2}\\big)$"
   ]
  },
  {
   "cell_type": "markdown",
   "metadata": {},
   "source": [
    "## Exercici 49"
   ]
  },
  {
   "cell_type": "code",
   "execution_count": null,
   "metadata": {},
   "outputs": [],
   "source": []
  }
 ],
 "metadata": {
  "kernelspec": {
   "display_name": "SageMath 9.4",
   "language": "sage",
   "name": "sagemath"
  },
  "language_info": {
   "codemirror_mode": {
    "name": "ipython",
    "version": 3
   },
   "file_extension": ".py",
   "mimetype": "text/x-python",
   "name": "python",
   "nbconvert_exporter": "python",
   "pygments_lexer": "ipython3",
   "version": "3.10.2"
  }
 },
 "nbformat": 4,
 "nbformat_minor": 4
}
