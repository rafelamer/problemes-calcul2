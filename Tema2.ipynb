{
 "cells": [
  {
   "cell_type": "markdown",
   "metadata": {},
   "source": [
    "## Tema 2"
   ]
  },
  {
   "cell_type": "code",
   "execution_count": null,
   "metadata": {},
   "outputs": [],
   "source": [
    "%load_ext asymagic\n",
    "\n",
    "def simplificar_radicals(A):\n",
    "    \"\"\"\n",
    "    Simplifica les arrels quadrades en una matriu o en un vector\n",
    "    \"\"\"\n",
    "    try:\n",
    "        for i in range(A.nrows()):\n",
    "            for j in range(A.ncols()):\n",
    "                A[i,j] = A[i,j]._sympy_().simplify()._sage_()\n",
    "        return A\n",
    "    except:\n",
    "        pass\n",
    "    try:\n",
    "        for i in range(A.length()):\n",
    "            A[i] = A[i]._sympy_().simplify()._sage_()\n",
    "        return A\n",
    "    except:\n",
    "        pass\n",
    "    try:\n",
    "        return A._sympy_().simplify()._sage_()\n",
    "    except:\n",
    "        pass\n",
    "    if isinstance(A,list):\n",
    "        try:\n",
    "            return [simplificar_radicals(x) for x in A]\n",
    "        except:\n",
    "            pass\n",
    "    return None\n",
    "\n",
    "def normalize(v):\n",
    "    \"\"\"\n",
    "    Retorna el vector v dividit per la seva norma, és a dir, un vector unitari\n",
    "    amb la mateixa direcció i sentit que v\n",
    "    \"\"\"\n",
    "    return simplificar_radicals((v/v.norm()))"
   ]
  },
  {
   "cell_type": "markdown",
   "metadata": {},
   "source": [
    "## Exercici 1"
   ]
  },
  {
   "cell_type": "markdown",
   "metadata": {},
   "source": [
    "Representem el camp vectorial \n",
    "$$\n",
    "  F(x,y) = \\left(\\frac{2x}{15},\\frac{y}{15}\\right)\\,.\n",
    "$$\n",
    "És evident que el domini és $\\mathbb{R}^2$."
   ]
  },
  {
   "cell_type": "code",
   "execution_count": null,
   "metadata": {},
   "outputs": [],
   "source": [
    "%%asy --fmt svg\n",
    "import geometry;\n",
    "import coordenades;\n",
    "import graph;\n",
    "\n",
    "unitsize(1cm);\n",
    "\n",
    "pair F(real x,real y) {\n",
    "  return (2*x/15,y/15);\n",
    "}\n",
    "\n",
    "Canonica(-7,7,-7,7);    \n",
    "add(VectorField(F,(-6,-6),(6,6),25,blue+linewidth(0.9bp),Arrow(2)));"
   ]
  },
  {
   "cell_type": "markdown",
   "metadata": {},
   "source": [
    "Ara el camp\n",
    "$$\n",
    "  F(x,y) = \\left(-\\frac{y}{10},\\frac{x}{10}\\right)\\,.\n",
    "$$\n",
    "El domini també és $\\mathbb{R}^2$."
   ]
  },
  {
   "cell_type": "code",
   "execution_count": null,
   "metadata": {},
   "outputs": [],
   "source": [
    "%%asy --fmt svg\n",
    "import geometry;\n",
    "import coordenades;\n",
    "import graph;\n",
    "\n",
    "unitsize(1cm);\n",
    "\n",
    "pair F(real x,real y) {\n",
    "  return (-y/10,x/10);\n",
    "}\n",
    "\n",
    "Canonica(-7,7,-7,7);    \n",
    "add(VectorField(F,(-6,-6),(6,6),25,blue+linewidth(0.9bp),Arrow(2)));"
   ]
  },
  {
   "cell_type": "markdown",
   "metadata": {},
   "source": [
    "Ara el camp\n",
    "$$\n",
    "  F(x,y) = \\left(\\frac{x}{\\sqrt{x^2+y^2}},\\frac{y}{\\sqrt{x^2+y^2}}\\right)\\,.\n",
    "$$\n",
    "El domini és $\\mathbb{R}^2\\setminus \\{(0,0)\\}$."
   ]
  },
  {
   "cell_type": "code",
   "execution_count": null,
   "metadata": {},
   "outputs": [],
   "source": [
    "%%asy --fmt svg\n",
    "import geometry;\n",
    "import coordenades;\n",
    "import graph;\n",
    "\n",
    "unitsize(1cm);\n",
    "\n",
    "pair F(real x,real y) {\n",
    "  if(x^2+y^2 == 0.0)\n",
    "    return (0,0); \n",
    "  return (x/sqrt(x^2+y^2),y/sqrt(x^2+y^2));\n",
    "}\n",
    "\n",
    "Canonica(-7,7,-7,7);    \n",
    "add(VectorField(F,(-6,-6),(6,6),25,blue+linewidth(0.9bp),Arrow(2)));"
   ]
  },
  {
   "cell_type": "markdown",
   "metadata": {},
   "source": [
    "## Exercici 3"
   ]
  },
  {
   "cell_type": "markdown",
   "metadata": {},
   "source": [
    "El domini és $\\mathbb{R}^2$ menys els punts que compleixen $4y^2-x^2-16\\leq 0$. Com que podem escriure l'equació $4y^2-x^2-16=0$ com a\n",
    "$$\n",
    "  -x^2+4y^2=16\\qquad\\text{o bé}\\qquad -\\frac{x^2}{16}+\\frac{y^2}{4}=1\\,,\n",
    "$$\n",
    "la corba on s'anul·la el denominador és una hipèrbola de centre $(0,0)$, semieix real $a=2$, semieix imaginari $b=4$ i focus sobre l'eix de les $y$."
   ]
  },
  {
   "cell_type": "code",
   "execution_count": null,
   "metadata": {},
   "outputs": [],
   "source": [
    "%%asy --fmt svg\n",
    "import geometry;\n",
    "import coordenades;\n",
    "import graph;\n",
    "\n",
    "unitsize(1cm);\n",
    "\n",
    "pair F(real x) {\n",
    "  return (x,sqrt(x^2+16)/2);   \n",
    "}\n",
    "\n",
    "pair G(real x) {\n",
    "  return (x,-sqrt(x^2+16)/2);   \n",
    "}\n",
    "    \n",
    "path f = (-10,7)--graph(F,-10,10)--(10,7)--cycle;\n",
    "filldraw(f,palecyan,palecyan+linewidth(0pt));\n",
    "\n",
    "path g = (-10,-7)--graph(G,-10,10)--(10,-7)--cycle;\n",
    "filldraw(g,palecyan,palecyan+linewidth(0pt));\n",
    "\n",
    "picture p = Quadricula(-10,10,-7,7);\n",
    "add(p);\n",
    "Hiperbola((0,0),(0,1),4,16,x=7,y=10);"
   ]
  },
  {
   "cell_type": "markdown",
   "metadata": {},
   "source": [
    "El domini és la zona de color blau cel, excloent la hipèrbola.\n",
    "$$\n",
    "  D = \\left\\{(x,y)\\in \\mathbb{R}^2\\quad\\text{tals que}\\quad 4y^2-x^2 > 16\\right\\}\\,.\n",
    "$$\n",
    "El conjunt $D$ és obert, la seva frontera és la hipèrbola d'equació $4y^2-x^2=16$, la seva adherència és el conjunt\n",
    "$$\n",
    "  \\overline D = \\left\\{(x,y)\\in \\mathbb{R}^2\\quad\\text{tals que}\\quad 4y^2-x^2\\geq 16\\right\\}\\,,\n",
    "$$\n",
    "el seu interior coincideix amb $D$. Finalment, no és tancat, connex, convex, fitat ni compacte."
   ]
  },
  {
   "cell_type": "markdown",
   "metadata": {},
   "source": [
    "## Exercici 5"
   ]
  },
  {
   "cell_type": "markdown",
   "metadata": {},
   "source": [
    "Les coordenades $x$ i $y$ del conjunt $A$ han de complir que $25-x^2-y^2>0$, és a dir $x^2+y^2<5$. A més la $z$ ha de ser\n",
    "$$\n",
    "  z = \\frac{1}{\\sqrt{25-x^2-y^2}\\,,\n",
    "$$\n",
    "per tant, que $x$ i $y$ s'apropen a la circumferència de centre $(0,0)$ i radi 5, la $z$ tendeix a infinit.\n",
    "\n",
    "El conjunt $A$ és tancat, però no és fitat. Per tant, no és compacte."
   ]
  },
  {
   "cell_type": "markdown",
   "metadata": {},
   "source": [
    "## Exercici 7"
   ]
  },
  {
   "cell_type": "markdown",
   "metadata": {},
   "source": [
    "El primer és el quadrat de vètexs $(-1,-1)$, $(1,-1)$, $(1,1)$ i $(-1,1)$."
   ]
  },
  {
   "cell_type": "code",
   "execution_count": null,
   "metadata": {},
   "outputs": [],
   "source": [
    "%%asy --fmt svg\n",
    "import geometry;\n",
    "import coordenades;\n",
    "import graph;\n",
    "\n",
    "unitsize(2cm);\n",
    "\n",
    "filldraw((-1,-1)--(1,-1)--(1,1)--(-1,1)--cycle,cyan,blue+linewidth(1bp));\n",
    "Canonica(-4,4,-3,3);"
   ]
  },
  {
   "cell_type": "markdown",
   "metadata": {},
   "source": [
    "És evident que és tancat i fitat, per tant compacte. A més és connex i convex. El interior és el conjunt\n",
    "$$\n",
    "  \\overset{\\circ}{D} = \\left\\{(x,y)\\in \\mathbb{R}^2\\quad\\text{tals que}\\quad -1<x<1\\text{ i } -1<y<1\\right\\}\\,.\n",
    "$$\n",
    "La frontera està formada pels costats del quadrat, que estan dibuixats de color blau."
   ]
  },
  {
   "cell_type": "markdown",
   "metadata": {},
   "source": [
    "Els punts del segon conjunt són els que compleixen $|x+y|\\leq 1$, és a dir, $-1\\leq x+y \\leq 1$. Si aïllem la $y$, ens queda\n",
    "$$\n",
    "  D = \\left\\{(x,y)\\in \\mathbb{R}^2\\qquad\\text{tals que}\\qquad -1-x \\leq y\\leq 1-x \\right\\}\\,.\n",
    "$$\n",
    "És a dir, $D$ és el conjunt de punts que queden entre les rectes $y=-1-x$ i $y=1-x$, incloent-hi les rectes."
   ]
  },
  {
   "cell_type": "code",
   "execution_count": null,
   "metadata": {},
   "outputs": [],
   "source": [
    "%%asy --fmt svg\n",
    "import geometry;\n",
    "import coordenades;\n",
    "import graph;\n",
    "\n",
    "unitsize(1cm);\n",
    "\n",
    "filldraw((-8,7)--(-8,8)--(-7,8)--(8,-7)--(8,-8)--(7,-8)--cycle,cyan,blue+linewidth(0bp));\n",
    "Canonica(-8,8,-8,8);\n",
    "draw((-8,7)--(7,-8),blue+linewidth(1.5bp));\n",
    "draw((-7,8)--(8,-7),blue+linewidth(1.5bp));"
   ]
  },
  {
   "cell_type": "markdown",
   "metadata": {},
   "source": [
    "El conjunt és tancat, connex, convex i la seva frontera està formada per les rectes $x+y=1$ i $x+y=-1$. Com que no és fitat, tampoc és compacte. El seu interior és el conjunt\n",
    "$$\n",
    "  \\overset{\\circ}{D} = \\left\\{(x,y)\\in \\mathbb{R}^2\\quad\\text{tals que}\\quad -1 < x+y < 1\\right\\}\\,.\n",
    "$$"
   ]
  },
  {
   "cell_type": "markdown",
   "metadata": {},
   "source": [
    "La representació gràfica del tercer conjunt és"
   ]
  },
  {
   "cell_type": "code",
   "execution_count": null,
   "metadata": {},
   "outputs": [],
   "source": [
    "%%asy --fmt svg\n",
    "import geometry;\n",
    "import coordenades;\n",
    "import graph;\n",
    "\n",
    "unitsize(2cm);\n",
    "\n",
    "filldraw((1,0)--(0,1)--(-1,0)--(0,-1)--cycle,cyan,blue+linewidth(1bp));\n",
    "Canonica(-4,4,-3,3);"
   ]
  },
  {
   "cell_type": "markdown",
   "metadata": {},
   "source": [
    "El conjunt és tancat, connex, convex i la seva frontera està formada pels punts tals que $|x|+|y|=1$, és a dir, els costats del quadrat. Com que és fitat, també és compacte. El seu interior és el conjunt\n",
    "$$\n",
    "  \\overset{\\circ}{D} = \\left\\{(x,y)\\in \\mathbb{R}^2\\quad\\text{tals que}\\quad |x|+|y| < 1\\right\\}\\,.\n",
    "$$"
   ]
  },
  {
   "cell_type": "markdown",
   "metadata": {},
   "source": [
    "El gràfic de l'últim conjunt és"
   ]
  },
  {
   "cell_type": "code",
   "execution_count": null,
   "metadata": {},
   "outputs": [],
   "source": [
    "%%asy --fmt svg\n",
    "import geometry;\n",
    "import coordenades;\n",
    "import graph;\n",
    "\n",
    "unitsize(2cm);\n",
    "\n",
    "filldraw((-1,-1)--(1,-1)--(1,1)--(-1,1)--cycle,cyan,blue+linewidth(1.5bp));\n",
    "Canonica(-4,4,-3,3);\n",
    "draw((-4,0)--(-1,0),blue+linewidth(1.5bp));\n",
    "draw((1,0)--(4,0),blue+linewidth(1.5bp));"
   ]
  },
  {
   "cell_type": "markdown",
   "metadata": {},
   "source": [
    "El conjunt és tancat, és connex, però no convex. Tampoc és compacte ja que no és finat. La seva frontera éstà format pels costats del quadrat i els segmens $(-\\infty,-1]$ i $[1,+\\infty)$. No és obert i el seu interior és el mateix que el del primer apartat."
   ]
  },
  {
   "cell_type": "markdown",
   "metadata": {},
   "source": [
    "## Exercici 9"
   ]
  },
  {
   "cell_type": "markdown",
   "metadata": {},
   "source": [
    "En el primer apartat, les rectes de nivell són les corbes d'equació $x^2-x=c$, d'on tenim que $x^2-x-c=0$. És a dir,\n",
    "$$\n",
    "  x=\\frac{1\\pm\\sqrt{1+4c}}{2}\\,.\n",
    "$$\n",
    "Per tant, per a cada valor de l'alçada $c\\geq -\\frac{1}{4}$, la corba de nivell corresponent a aquesta alçada està formada per les rectes $x=\\frac{1\\pm\\sqrt{1+4c}}{2}$."
   ]
  },
  {
   "cell_type": "markdown",
   "metadata": {},
   "source": [
    "D'altra banda, també podem escriure la superfície $z=x^2-x$ com a \n",
    "$$\n",
    "  z+\\frac{1}{4} = \\left( x - \\frac{1}{2}\\right)^2\\,,\n",
    "$$\n",
    "és a dir, es tracta d'un cilindre parabòlic amb recta de vèrtexs\n",
    "$$\n",
    "  \\left.\\begin{aligned}\n",
    "    x &= \\frac{1}{2}\\\\[2mm] \n",
    "    z &=-\\frac{1}{4} \n",
    "  \\end{aligned}\\,\\right\\}\n",
    "$$"
   ]
  },
  {
   "cell_type": "code",
   "execution_count": null,
   "metadata": {},
   "outputs": [],
   "source": [
    "%%asy --fmt svg\n",
    "import geometry;\n",
    "import coordenades;\n",
    "import graph;\n",
    "import contour;\n",
    "\n",
    "unitsize(1cm);\n",
    "\n",
    "Canonica(-10,10,-10,10);\n",
    "\n",
    "int n=25;\n",
    "real[] c=new real[n];\n",
    "for(int i=0; i < n; ++i) c[i]=-1/4+4*i;\n",
    "\n",
    "pen[] p=sequence(new pen(int i) {\n",
    "    real x = i/20;\n",
    "    return rgb(x,0,1-x)+linewidth(0.8bp);\n",
    "  },c.length);\n",
    "\n",
    "real f(real x,real y) {\n",
    "    return x^2-x;\n",
    "}\n",
    "\n",
    "draw((1/2,-10)--(1/2,10),blue+linewidth(0.8bp));\n",
    "draw(contour(f,(-10,-10),(10,10),c),p);"
   ]
  },
  {
   "cell_type": "markdown",
   "metadata": {},
   "source": [
    "També podem representar les corbes de nivell directament amb el sagemath."
   ]
  },
  {
   "cell_type": "code",
   "execution_count": null,
   "metadata": {},
   "outputs": [],
   "source": [
    "x, y = var('x y')\n",
    "contour_plot(x^2-x, (x,-10,10), (y,-10,10),fill=False,cmap='hsv',labels=True,contours=20,figsize=12)"
   ]
  },
  {
   "cell_type": "markdown",
   "metadata": {},
   "source": [
    "En el segon apartat tenim"
   ]
  },
  {
   "cell_type": "code",
   "execution_count": null,
   "metadata": {},
   "outputs": [],
   "source": [
    "%%asy --fmt svg\n",
    "import geometry;\n",
    "import coordenades;\n",
    "import graph;\n",
    "import contour;\n",
    "\n",
    "unitsize(1cm);\n",
    "\n",
    "Canonica(-8,8,-8,8);\n",
    "\n",
    "int n=16;\n",
    "real[] c=new real[n];\n",
    "for(int i=0; i < n; ++i) c[i]=0.5*i;\n",
    "\n",
    "pen[] p=sequence(new pen(int i) {\n",
    "    real x = i/16;\n",
    "    return rgb(x,0,1-x)+linewidth(0.8bp);\n",
    "  },c.length);\n",
    "\n",
    "real f(real x,real y) {\n",
    "    return max(abs(x),abs(y));\n",
    "}\n",
    "\n",
    "draw(contour(f,(-8,-8),(8,8),c),p);"
   ]
  },
  {
   "cell_type": "markdown",
   "metadata": {},
   "source": [
    "En el tercer apartat tenim que"
   ]
  },
  {
   "cell_type": "code",
   "execution_count": null,
   "metadata": {},
   "outputs": [],
   "source": [
    "%%asy --fmt svg\n",
    "import geometry;\n",
    "import coordenades;\n",
    "import graph;\n",
    "import contour;\n",
    "\n",
    "unitsize(1cm);\n",
    "\n",
    "Canonica(-8,8,-8,8);\n",
    "\n",
    "int n=40;\n",
    "real[] c=new real[n];\n",
    "for(int i=0; i < n; ++i) c[i]=-40+2*i;\n",
    "\n",
    "pen[] p=sequence(new pen(int i) {\n",
    "    real x = i/n;\n",
    "    return rgb(x,0,1-x)+linewidth(0.8bp);\n",
    "  },c.length);\n",
    "\n",
    "real f(real x,real y) {\n",
    "    return x^2 - y^2;\n",
    "}\n",
    "\n",
    "draw(contour(f,(-8,-8),(8,8),c),p);"
   ]
  },
  {
   "cell_type": "code",
   "execution_count": null,
   "metadata": {},
   "outputs": [],
   "source": [
    "x, y = var('x y')\n",
    "f(x,y) = x^2-y^2\n",
    "contour_plot(f, (x,-8,8), (y,-8,8),fill=False,cmap='hsv',labels=True,contours=28,figsize=12)"
   ]
  },
  {
   "cell_type": "markdown",
   "metadata": {},
   "source": [
    "A l'ultim apartat, tenim que la gràfica de la funció\n",
    "$$\n",
    "  z=\\frac{1}{3}\\sqrt{36-9x^2-4y^2}\n",
    "$$\n",
    "és la part superior de l'el·lipsoide $9x^2+4y^2+9z^2=36$, que es pot escriure com a\n",
    "$$\n",
    "  \\frac{x^2}{4}+\\frac{y^2}{9}+\\frac{z^2}{4}=1\\,.\n",
    "$$\n",
    "Es tracta, doncs, de la part superior de l'el·lipsoide centrat a l'origen i semieixos $a=2$, $b=3$ i $c=2$."
   ]
  },
  {
   "cell_type": "markdown",
   "metadata": {},
   "source": [
    "Les seves corbes de nivell són el·lipses:"
   ]
  },
  {
   "cell_type": "code",
   "execution_count": null,
   "metadata": {},
   "outputs": [],
   "source": [
    "%%asy --fmt svg\n",
    "import geometry;\n",
    "import coordenades;\n",
    "import graph;\n",
    "import contour;\n",
    "\n",
    "unitsize(2cm);\n",
    "\n",
    "Canonica(-3,3,-5,5);\n",
    "\n",
    "int n=12;\n",
    "real[] c=new real[n];\n",
    "for(int i=0; i < n; ++i) c[i]=36/12*i;\n",
    "\n",
    "pen[] p=sequence(new pen(int i) {\n",
    "    real x = i/n;\n",
    "    return rgb(x,0,1-x)+linewidth(0.8bp);\n",
    "  },c.length);\n",
    "\n",
    "real f(real x,real y) {\n",
    "    return 36-9*x^2-4*y^2;\n",
    "}\n",
    "\n",
    "draw(contour(f,(-4,-6),(4,6),c),p);\n",
    "dot((0,0),red+linewidth(4bp));"
   ]
  },
  {
   "cell_type": "code",
   "execution_count": null,
   "metadata": {},
   "outputs": [],
   "source": [
    "x, y = var('x y')\n",
    "f(x,y) = 1/3*sqrt(36-9*x^2-4*y^2)\n",
    "contour_plot(f, (x,-3,3), (y,-4,4),fill=False,cmap='hsv',labels=True,contours=16,figsize=12)"
   ]
  },
  {
   "cell_type": "markdown",
   "metadata": {},
   "source": [
    "## Exercici 11"
   ]
  },
  {
   "cell_type": "markdown",
   "metadata": {},
   "source": [
    "Observem que la funció no està definida per als punts de la paràbola $x=-y^2$, que és la paràbola de vèrtex $(0,0)$ i focus $\\left(-\\frac{1}{4},0\\right)$.\n",
    "\n",
    "La corba de nivell per a l'alçada $c$ és la definida per\n",
    "$$\n",
    "  \\frac{x^2}{x+y^2}=c\\,.\n",
    "$$\n",
    "Si $c=0$ ens queda que $x^2=0$, és a dir, la corba de nivell per al valor $c=0$ és l'eix de les $x$ excepte el punt $(0,0)$."
   ]
  },
  {
   "cell_type": "markdown",
   "metadata": {},
   "source": [
    "Si $c\\neq 0$, podem escriure l'equació de la corba de nivell com a\n",
    "$$\n",
    "  x^2-c(x+y^2)=0\\,,\n",
    "$$\n",
    "que es transforma en\n",
    "$$\n",
    "  \\left(x-\\frac{c}{2}\\right)^2-cy^2=\\frac{c^2}{4}\\,,\n",
    "$$\n",
    "i també pot escriure's\n",
    "$$\n",
    "   \\frac{4\\left(x-\\frac{c}{2}\\right)^2}{c^2}-\\frac{4y^2}{c}=1\\,.\n",
    "$$"
   ]
  },
  {
   "cell_type": "markdown",
   "metadata": {},
   "source": [
    "Si $c>0$, es tracta de la hipèrbola de centre $\\left(\\frac{c}{2},0\\right)$, semieix real $a=\\frac{c}{2}$ i semieix imaginari $b=\\frac{\\sqrt{c}}{2}$. Un dels vèrtexs d'aquesta hipèrbola és el punt $(0,0)$ i l'altre, el punt $(c,0)$. El punt $(0,0)$ no està a la corba de nivell ja que la funció no està definida en aquest punt."
   ]
  },
  {
   "cell_type": "markdown",
   "metadata": {},
   "source": [
    "Si $c<0$, es tracta de l'el·lipse de centre $\\left(\\frac{c}{2},0\\right)$, semieix major $a=-\\frac{c}{2}$ i semieix menor $b=\\frac{\\sqrt{c}}{2}$. Un dels vèrtexs d'aquesta el·lipse és el punt $(0,0)$ i l'altre, el punt $(c,0)$. El punt $(0,0)$ no està a la corba de nivell ja que la funció no està definida en aquest punt."
   ]
  },
  {
   "cell_type": "code",
   "execution_count": null,
   "metadata": {},
   "outputs": [],
   "source": [
    "%%asy --fmt svg\n",
    "import geometry;\n",
    "import coordenades;\n",
    "import graph;\n",
    "import contour;\n",
    "\n",
    "unitsize(1cm);\n",
    "\n",
    "Canonica(-10,15,-10,10);\n",
    "\n",
    "for(real c=0.25; c<=25; c=c+1.0) {\n",
    "  real x = 0.5 + c/50;\n",
    "  draw(ellipse((-c/2,0),c/2,sqrt(c)/2),rgb(1-x,0,x)+linewidth(1.8bp));\n",
    "}\n",
    "\n",
    "for(real c=0.25; c<=25; c=c+1.0) {\n",
    "  real x = 0.5 + c/50;\n",
    "  draw(hyperbola((c/2,0),c/2,sqrt(c)/2),rgb(x,0,1-x)+linewidth(1.8bp));\n",
    "}\n",
    "\n",
    "draw((0,-10)--(0,10),rgb(0.5,0,0.5)+linewidth(1.8bp));\n",
    "\n",
    "draw(parabola((-0.25,0),(0,0)),green+linewidth(1.6bp));\n",
    "\n",
    "path cl = (-10,-10)--(15,-10)--(15,10)--(-10,10)--cycle;\n",
    "clip(cl);"
   ]
  },
  {
   "cell_type": "markdown",
   "metadata": {},
   "source": [
    "## Exercici 13"
   ]
  },
  {
   "cell_type": "markdown",
   "metadata": {},
   "source": [
    "Les superfícies de nivell són les que tenen equació\n",
    "$$\n",
    "  x^2+y^2-z^2 = c\\,.\n",
    "$$\n",
    "Si $c=0$, la superfície de nivell e'un con.\n",
    "\n",
    "Si $c>0$, és un hiperboloide d'una fulla.\n",
    "\n",
    "Si $c<0$, és un hiperboloide de dues fulles."
   ]
  },
  {
   "cell_type": "markdown",
   "metadata": {},
   "source": [
    "En aquest cas, les superfícies de nivell són les d'equació\n",
    "$$\n",
    "  x^2-2x+1=c\\qquad\\text{o bé}\\qquad (x-1)^2=c\\,.\n",
    "$$\n",
    "Si $c<0$ no hi ha corbes de nivell.\n",
    "\n",
    "Si  $c=0$, és un pla doble. De fet, és el pla $x=1$.\n",
    "\n",
    "Si  $c>0$ , la superfície de nivell està formada per dos plans paral·lels, els d'equacions $x=1\\pm\\sqrt{c}$."
   ]
  },
  {
   "cell_type": "markdown",
   "metadata": {},
   "source": [
    "## Exercici 15"
   ]
  },
  {
   "cell_type": "markdown",
   "metadata": {},
   "source": [
    "Les corbes de nivell són les d'equació $x^2+ky^2=c$ per a cada constant $c\\in\\mathbb{R}$."
   ]
  },
  {
   "cell_type": "markdown",
   "metadata": {},
   "source": [
    "Si $c>0$, les corbes de nivell són el·lipses si $k>0$, hipèrboles si $k<0$ i un parell de rectes paral·leles si $k=0$. L'apartat (a) no és cert."
   ]
  },
  {
   "cell_type": "markdown",
   "metadata": {},
   "source": [
    "Si $k=0$, la gràfica de la funció és la superfídie d'equació $z=x^2$, que és un cilindre parabòlic. L'apartat (b) tampoc és cert."
   ]
  },
  {
   "cell_type": "markdown",
   "metadata": {},
   "source": [
    "Si $c>0$ i $k<0$, les corbes de nivell cón hipèrboles. L'apartat (c) és correcte."
   ]
  },
  {
   "cell_type": "markdown",
   "metadata": {},
   "source": [
    "Evidentment, l'apartat (d) tampoc és cert."
   ]
  },
  {
   "cell_type": "markdown",
   "metadata": {},
   "source": [
    "## Exercici 17"
   ]
  },
  {
   "cell_type": "markdown",
   "metadata": {},
   "source": [
    "(a) Les corbes de nivell d'equació $x^2-y^2=c$ són hipèrboles si $c\\neq 0$ i el parell de rectes $x+y=0$ i $x-y=0$ si $c=0$. Li correspon el gràfic (4)."
   ]
  },
  {
   "cell_type": "markdown",
   "metadata": {},
   "source": [
    "(b) Les corbes de nivell d'equació $x-y-2=c$ són rectes paral·leles a la recta $x-y=0$. Li correspon el gràfic (1)."
   ]
  },
  {
   "cell_type": "markdown",
   "metadata": {},
   "source": [
    "(c) Les corbes de nivell d'equació $x^2+4y^2=c$ són el·lipses si $c>0$ i un punt, el $(0,0)$, si $c=0$. Si $c<0$ no hi ha corba de nivell. Com que l'equació si $c>0$ es pot escriure\n",
    "$$\n",
    "  \\frac{x^2}{c}+\\frac{y^2}{\\frac{c}{4}}=1\\,,\n",
    "$$\n",
    "el semieix major és $a=\\sqrt{c}$ (en la direcció de les $x$) i el semieix menor és $b=\\frac{\\sqrt{c}}{2}$ (en la direcció de les $y$). Li correspon la figura (2)."
   ]
  },
  {
   "cell_type": "markdown",
   "metadata": {},
   "source": [
    "(d) En primer lloc, la funció està definida només si $16-4x^2-y^2>0$, és a dir, a l'interior de l'el·lipse d'equació $4x^2+y^2=16$, o bé,\n",
    "$$\n",
    "   \\frac{x^2}{4}+\\frac{y^2}{16}=1\\,.\n",
    "$$\n",
    "Es tracta de l'el·lipse amb semieix major $a=4$ (en la direcció de les $y$) i semieix menor $b=2$ (en la direcció de les $x$). Les corbes de nivell tindran equació\n",
    "$$\n",
    "   \\frac{1}{\\sqrt{16-4x^2-y^2}}=c\\,,\n",
    "$$\n",
    "amb $c>0$, és a dir,\n",
    "$$\n",
    "  16-4x^2-y^2=\\frac{1}{c^2}\\qquad\\text{o}\\qquad 4c^2x^2+c^2y^2=16c^2-1\\,.\n",
    "$$\n",
    "Per tant, $c\\geq\\frac{1}{4}$. Quan $c=\\frac{1}{4}$, la corba de nivell es redueix al punt $(0,0)$ i quan $c>\\frac{1}{4}$ es tracta d'el·lipses amb semieix major en la direcció de les $y$. Li correspon el gràfic (3)."
   ]
  },
  {
   "cell_type": "code",
   "execution_count": null,
   "metadata": {},
   "outputs": [],
   "source": []
  }
 ],
 "metadata": {
  "kernelspec": {
   "display_name": "SageMath 9.4",
   "language": "sage",
   "name": "sagemath"
  },
  "language_info": {
   "codemirror_mode": {
    "name": "ipython",
    "version": 3
   },
   "file_extension": ".py",
   "mimetype": "text/x-python",
   "name": "python",
   "nbconvert_exporter": "python",
   "pygments_lexer": "ipython3",
   "version": "3.10.2"
  }
 },
 "nbformat": 4,
 "nbformat_minor": 4
}
